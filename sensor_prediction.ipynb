{
  "nbformat": 4,
  "nbformat_minor": 0,
  "metadata": {
    "colab": {
      "name": "sensor prediction.ipynb",
      "provenance": [],
      "collapsed_sections": [],
      "toc_visible": true,
      "authorship_tag": "ABX9TyPmyouJGgI7Gw2WNuON9HjX"
    },
    "kernelspec": {
      "name": "python3",
      "display_name": "Python 3"
    },
    "accelerator": "GPU"
  },
  "cells": [
    {
      "cell_type": "markdown",
      "metadata": {
        "id": "1-Vf2gp7ct9J"
      },
      "source": [
        "# **My electrophoresis sense is tingling. 🕷️ Predicting maintenance.**"
      ]
    },
    {
      "cell_type": "markdown",
      "metadata": {
        "id": "vNmDBQERHoQf"
      },
      "source": [
        "---\r\n",
        "## **Overview**\r\n",
        "* Dataset source : [E-coating ultrafiltration maintenance](https://www.kaggle.com/boyangs444/process-data-for-predictive-maintenance) sensors dataset for a 20 year old electrophoresis plant\r\n",
        "* Dataset type : multivariate time series\r\n",
        "* Goal : predict the flow rate (`FM1`) using sensor readings from the past 3 hours\r\n",
        "\r\n",
        "\\\r\n",
        "⚠️ **NOTE** : This is not an end to end project. It is an experiment to use neural networks to predict time series data.\r\n",
        "\r\n",
        "\r\n",
        "## **The problem**\r\n",
        "In manufacturing plants machinery will require maintenance over time. The problem is that if there is no maintenance then there will be failures, potential injuries and costs associated for repairs.\r\n",
        "\r\n",
        "The other downside is staffing. If you do not have predictive maintenance inplace and it is important to fix problems ASAP then you will require skilled staff available almost 24/7, that in inefficient use of budget and people's time. With predictive maintenance you may not be able to be 100% accurate but even if it's 80% accurate I see that as a win given the efficiency gains."
      ]
    },
    {
      "cell_type": "markdown",
      "metadata": {
        "id": "KilTj01xSLk0"
      },
      "source": [
        "## **Setup**\r\n",
        "`fast.ai` has a number of unofficial extensions that people have developed. I'm using `tsai` [repo here](https://github.com/timeseriesAI/tsai) which focuses on time series. It was created by *Ignacio Oguiza*.\r\n",
        "\r\n",
        "Some examples of uses/functions are:\r\n",
        "* Classification, regression and forecasting\r\n",
        "* Prepping time series data appropriately\r\n",
        "* Converting time series datasets into images\r\n",
        "\r\n",
        "Along with this library there are some other libraries used for plotting and data processing.\r\n"
      ]
    },
    {
      "cell_type": "code",
      "metadata": {
        "id": "Bom5nEE4BhLd",
        "colab": {
          "base_uri": "https://localhost:8080/",
          "height": 1000
        },
        "outputId": "55d3da35-46a6-4b54-94a5-a51abff435f4"
      },
      "source": [
        "!pip install tsai --upgrade # Colab was used hence the install"
      ],
      "execution_count": 1,
      "outputs": [
        {
          "output_type": "stream",
          "text": [
            "Collecting tsai\n",
            "\u001b[?25l  Downloading https://files.pythonhosted.org/packages/61/69/85fa29cf8f6b2c0170bd3ad6df87c4e65ac42fbf3377cbb9cfa67b749547/tsai-0.2.15-py3-none-any.whl (142kB)\n",
            "\u001b[K     |████████████████████████████████| 143kB 7.8MB/s \n",
            "\u001b[?25hCollecting numba>=0.52.0\n",
            "\u001b[?25l  Downloading https://files.pythonhosted.org/packages/7c/ae/207305b9f2e7468fc9d46d5277d84b758bdee70debdbed9f3ac9c978ca9f/numba-0.52.0-cp37-cp37m-manylinux2014_x86_64.whl (3.2MB)\n",
            "\u001b[K     |████████████████████████████████| 3.2MB 13.1MB/s \n",
            "\u001b[?25hCollecting statsmodels>=0.12.2\n",
            "\u001b[?25l  Downloading https://files.pythonhosted.org/packages/da/69/8eef30a6237c54f3c0b524140e2975f4b1eea3489b45eb3339574fc8acee/statsmodels-0.12.2-cp37-cp37m-manylinux1_x86_64.whl (9.5MB)\n",
            "\u001b[K     |████████████████████████████████| 9.5MB 48.3MB/s \n",
            "\u001b[?25hCollecting tsfresh>=0.17.0\n",
            "\u001b[?25l  Downloading https://files.pythonhosted.org/packages/35/b7/cbbfb02d50a93dbb710a730f168711eb343829e1cdea9f0d001d91aeefd6/tsfresh-0.17.0-py2.py3-none-any.whl (91kB)\n",
            "\u001b[K     |████████████████████████████████| 92kB 13.6MB/s \n",
            "\u001b[?25hCollecting scikit-learn>=0.24.1\n",
            "\u001b[?25l  Downloading https://files.pythonhosted.org/packages/f3/74/eb899f41d55f957e2591cde5528e75871f817d9fb46d4732423ecaca736d/scikit_learn-0.24.1-cp37-cp37m-manylinux2010_x86_64.whl (22.3MB)\n",
            "\u001b[K     |████████████████████████████████| 22.3MB 68.4MB/s \n",
            "\u001b[?25hCollecting fastai>=2.2.5\n",
            "\u001b[?25l  Downloading https://files.pythonhosted.org/packages/79/50/0b81742909d433ef5b67b4417597b41cd37b38a073714bc83dc150c81b2f/fastai-2.2.7-py3-none-any.whl (193kB)\n",
            "\u001b[K     |████████████████████████████████| 194kB 57.2MB/s \n",
            "\u001b[?25hCollecting pyunpack>=0.2.2\n",
            "  Downloading https://files.pythonhosted.org/packages/83/29/020436b1d8e96e5f26fa282b9c3c13a3b456a36b9ea2edc87c5fed008369/pyunpack-0.2.2-py2.py3-none-any.whl\n",
            "Collecting sktime>=0.5.3\n",
            "\u001b[?25l  Downloading https://files.pythonhosted.org/packages/cb/da/50152302ec50c4be412f028edd9173b66121ed7af80473cca47ef6eae65b/sktime-0.5.3-cp37-cp37m-manylinux2014_x86_64.whl (5.7MB)\n",
            "\u001b[K     |████████████████████████████████| 5.7MB 48.1MB/s \n",
            "\u001b[?25hCollecting dask==2021.2.0\n",
            "\u001b[?25l  Downloading https://files.pythonhosted.org/packages/6c/1f/df19d049556ced7ea46e0cae397c18efd1664501b2042da321b8df81f2bf/dask-2021.2.0-py3-none-any.whl (900kB)\n",
            "\u001b[K     |████████████████████████████████| 901kB 39.3MB/s \n",
            "\u001b[?25hCollecting imbalanced-learn>=0.7.0\n",
            "\u001b[?25l  Downloading https://files.pythonhosted.org/packages/80/98/dc784205a7e3034e84d41ac4781660c67ad6327f2f5a80c568df31673d1c/imbalanced_learn-0.8.0-py3-none-any.whl (206kB)\n",
            "\u001b[K     |████████████████████████████████| 215kB 55.3MB/s \n",
            "\u001b[?25hCollecting pyts>=0.11.0\n",
            "\u001b[?25l  Downloading https://files.pythonhosted.org/packages/b6/2b/1a62c0d32b40ee85daa8f6a6160828537b3d846c9fe93253b38846c6ec1f/pyts-0.11.0-py3-none-any.whl (2.5MB)\n",
            "\u001b[K     |████████████████████████████████| 2.5MB 46.6MB/s \n",
            "\u001b[?25hRequirement already satisfied, skipping upgrade: PyWavelets>=1.1.1 in /usr/local/lib/python3.7/dist-packages (from tsai) (1.1.1)\n",
            "Collecting argparse>=1.4.0\n",
            "  Downloading https://files.pythonhosted.org/packages/f2/94/3af39d34be01a24a6e65433d19e107099374224905f1e0cc6bbe1fd22a2f/argparse-1.4.0-py2.py3-none-any.whl\n",
            "Collecting llvmlite<0.36,>=0.35.0\n",
            "\u001b[?25l  Downloading https://files.pythonhosted.org/packages/d0/9e/3b6283c1c074bedc96df7741b04d3c2def90dc7f4e99442e127676c953ec/llvmlite-0.35.0-cp37-cp37m-manylinux2010_x86_64.whl (25.3MB)\n",
            "\u001b[K     |████████████████████████████████| 25.3MB 138kB/s \n",
            "\u001b[?25hRequirement already satisfied, skipping upgrade: numpy>=1.15 in /usr/local/lib/python3.7/dist-packages (from numba>=0.52.0->tsai) (1.19.5)\n",
            "Requirement already satisfied, skipping upgrade: setuptools in /usr/local/lib/python3.7/dist-packages (from numba>=0.52.0->tsai) (53.0.0)\n",
            "Requirement already satisfied, skipping upgrade: patsy>=0.5 in /usr/local/lib/python3.7/dist-packages (from statsmodels>=0.12.2->tsai) (0.5.1)\n",
            "Requirement already satisfied, skipping upgrade: scipy>=1.1 in /usr/local/lib/python3.7/dist-packages (from statsmodels>=0.12.2->tsai) (1.4.1)\n",
            "Requirement already satisfied, skipping upgrade: pandas>=0.21 in /usr/local/lib/python3.7/dist-packages (from statsmodels>=0.12.2->tsai) (1.1.5)\n",
            "Requirement already satisfied, skipping upgrade: tqdm>=4.10.0 in /usr/local/lib/python3.7/dist-packages (from tsfresh>=0.17.0->tsai) (4.41.1)\n",
            "Collecting distributed>=2.11.0\n",
            "\u001b[?25l  Downloading https://files.pythonhosted.org/packages/9d/21/25d2b3af5094cbe17e8eaacc7a55018ae673624782a955430521992ca4c2/distributed-2021.2.0-py3-none-any.whl (675kB)\n",
            "\u001b[K     |████████████████████████████████| 675kB 48.7MB/s \n",
            "\u001b[?25hRequirement already satisfied, skipping upgrade: requests>=2.9.1 in /usr/local/lib/python3.7/dist-packages (from tsfresh>=0.17.0->tsai) (2.23.0)\n",
            "Requirement already satisfied, skipping upgrade: joblib>=0.11 in /usr/local/lib/python3.7/dist-packages (from scikit-learn>=0.24.1->tsai) (1.0.1)\n",
            "Collecting threadpoolctl>=2.0.0\n",
            "  Downloading https://files.pythonhosted.org/packages/f7/12/ec3f2e203afa394a149911729357aa48affc59c20e2c1c8297a60f33f133/threadpoolctl-2.1.0-py3-none-any.whl\n",
            "Requirement already satisfied, skipping upgrade: pyyaml in /usr/local/lib/python3.7/dist-packages (from fastai>=2.2.5->tsai) (3.13)\n",
            "Requirement already satisfied, skipping upgrade: matplotlib in /usr/local/lib/python3.7/dist-packages (from fastai>=2.2.5->tsai) (3.2.2)\n",
            "Collecting fastcore<1.4,>=1.3.8\n",
            "\u001b[?25l  Downloading https://files.pythonhosted.org/packages/0c/98/60404e2817cff113a6ae4023bc1772e23179408fdf7857fa410551758dfe/fastcore-1.3.19-py3-none-any.whl (53kB)\n",
            "\u001b[K     |████████████████████████████████| 61kB 10.9MB/s \n",
            "\u001b[?25hRequirement already satisfied, skipping upgrade: torch<1.8,>=1.7.0 in /usr/local/lib/python3.7/dist-packages (from fastai>=2.2.5->tsai) (1.7.0+cu101)\n",
            "Requirement already satisfied, skipping upgrade: pip in /usr/local/lib/python3.7/dist-packages (from fastai>=2.2.5->tsai) (19.3.1)\n",
            "Requirement already satisfied, skipping upgrade: torchvision<0.9,>=0.8 in /usr/local/lib/python3.7/dist-packages (from fastai>=2.2.5->tsai) (0.8.1+cu101)\n",
            "Requirement already satisfied, skipping upgrade: spacy<3 in /usr/local/lib/python3.7/dist-packages (from fastai>=2.2.5->tsai) (2.2.4)\n",
            "Requirement already satisfied, skipping upgrade: pillow>6.0.0 in /usr/local/lib/python3.7/dist-packages (from fastai>=2.2.5->tsai) (7.0.0)\n",
            "Requirement already satisfied, skipping upgrade: fastprogress>=0.2.4 in /usr/local/lib/python3.7/dist-packages (from fastai>=2.2.5->tsai) (1.0.0)\n",
            "Requirement already satisfied, skipping upgrade: packaging in /usr/local/lib/python3.7/dist-packages (from fastai>=2.2.5->tsai) (20.9)\n",
            "Collecting entrypoint2\n",
            "  Downloading https://files.pythonhosted.org/packages/c2/ca/00c8767568924e5c2209da99b6abdeeed9d11cbae2a713d54d041b092a09/entrypoint2-0.2.3-py2.py3-none-any.whl\n",
            "Collecting easyprocess\n",
            "  Downloading https://files.pythonhosted.org/packages/48/3c/75573613641c90c6d094059ac28adb748560d99bd27ee6f80cce398f404e/EasyProcess-0.3-py2.py3-none-any.whl\n",
            "Requirement already satisfied, skipping upgrade: wheel in /usr/local/lib/python3.7/dist-packages (from sktime>=0.5.3->tsai) (0.36.2)\n",
            "Requirement already satisfied, skipping upgrade: six in /usr/local/lib/python3.7/dist-packages (from patsy>=0.5->statsmodels>=0.12.2->tsai) (1.15.0)\n",
            "Requirement already satisfied, skipping upgrade: pytz>=2017.2 in /usr/local/lib/python3.7/dist-packages (from pandas>=0.21->statsmodels>=0.12.2->tsai) (2018.9)\n",
            "Requirement already satisfied, skipping upgrade: python-dateutil>=2.7.3 in /usr/local/lib/python3.7/dist-packages (from pandas>=0.21->statsmodels>=0.12.2->tsai) (2.8.1)\n",
            "Requirement already satisfied, skipping upgrade: psutil>=5.0 in /usr/local/lib/python3.7/dist-packages (from distributed>=2.11.0->tsfresh>=0.17.0->tsai) (5.4.8)\n",
            "Requirement already satisfied, skipping upgrade: zict>=0.1.3 in /usr/local/lib/python3.7/dist-packages (from distributed>=2.11.0->tsfresh>=0.17.0->tsai) (2.0.0)\n",
            "Requirement already satisfied, skipping upgrade: msgpack>=0.6.0 in /usr/local/lib/python3.7/dist-packages (from distributed>=2.11.0->tsfresh>=0.17.0->tsai) (1.0.2)\n",
            "Requirement already satisfied, skipping upgrade: click>=6.6 in /usr/local/lib/python3.7/dist-packages (from distributed>=2.11.0->tsfresh>=0.17.0->tsai) (7.1.2)\n",
            "Requirement already satisfied, skipping upgrade: toolz>=0.8.2 in /usr/local/lib/python3.7/dist-packages (from distributed>=2.11.0->tsfresh>=0.17.0->tsai) (0.11.1)\n",
            "Requirement already satisfied, skipping upgrade: sortedcontainers!=2.0.0,!=2.0.1 in /usr/local/lib/python3.7/dist-packages (from distributed>=2.11.0->tsfresh>=0.17.0->tsai) (2.3.0)\n",
            "Requirement already satisfied, skipping upgrade: tornado>=5; python_version < \"3.8\" in /usr/local/lib/python3.7/dist-packages (from distributed>=2.11.0->tsfresh>=0.17.0->tsai) (5.1.1)\n",
            "Requirement already satisfied, skipping upgrade: tblib>=1.6.0 in /usr/local/lib/python3.7/dist-packages (from distributed>=2.11.0->tsfresh>=0.17.0->tsai) (1.7.0)\n",
            "Collecting cloudpickle>=1.5.0\n",
            "  Downloading https://files.pythonhosted.org/packages/e7/e3/898487e5dbeb612054cf2e0c188463acb358167fef749c53c8bb8918cea1/cloudpickle-1.6.0-py3-none-any.whl\n",
            "Requirement already satisfied, skipping upgrade: idna<3,>=2.5 in /usr/local/lib/python3.7/dist-packages (from requests>=2.9.1->tsfresh>=0.17.0->tsai) (2.10)\n",
            "Requirement already satisfied, skipping upgrade: chardet<4,>=3.0.2 in /usr/local/lib/python3.7/dist-packages (from requests>=2.9.1->tsfresh>=0.17.0->tsai) (3.0.4)\n",
            "Requirement already satisfied, skipping upgrade: certifi>=2017.4.17 in /usr/local/lib/python3.7/dist-packages (from requests>=2.9.1->tsfresh>=0.17.0->tsai) (2020.12.5)\n",
            "Requirement already satisfied, skipping upgrade: urllib3!=1.25.0,!=1.25.1,<1.26,>=1.21.1 in /usr/local/lib/python3.7/dist-packages (from requests>=2.9.1->tsfresh>=0.17.0->tsai) (1.24.3)\n",
            "Requirement already satisfied, skipping upgrade: pyparsing!=2.0.4,!=2.1.2,!=2.1.6,>=2.0.1 in /usr/local/lib/python3.7/dist-packages (from matplotlib->fastai>=2.2.5->tsai) (2.4.7)\n",
            "Requirement already satisfied, skipping upgrade: cycler>=0.10 in /usr/local/lib/python3.7/dist-packages (from matplotlib->fastai>=2.2.5->tsai) (0.10.0)\n",
            "Requirement already satisfied, skipping upgrade: kiwisolver>=1.0.1 in /usr/local/lib/python3.7/dist-packages (from matplotlib->fastai>=2.2.5->tsai) (1.3.1)\n",
            "Requirement already satisfied, skipping upgrade: future in /usr/local/lib/python3.7/dist-packages (from torch<1.8,>=1.7.0->fastai>=2.2.5->tsai) (0.16.0)\n",
            "Requirement already satisfied, skipping upgrade: dataclasses in /usr/local/lib/python3.7/dist-packages (from torch<1.8,>=1.7.0->fastai>=2.2.5->tsai) (0.6)\n",
            "Requirement already satisfied, skipping upgrade: typing-extensions in /usr/local/lib/python3.7/dist-packages (from torch<1.8,>=1.7.0->fastai>=2.2.5->tsai) (3.7.4.3)\n",
            "Requirement already satisfied, skipping upgrade: cymem<2.1.0,>=2.0.2 in /usr/local/lib/python3.7/dist-packages (from spacy<3->fastai>=2.2.5->tsai) (2.0.5)\n",
            "Requirement already satisfied, skipping upgrade: blis<0.5.0,>=0.4.0 in /usr/local/lib/python3.7/dist-packages (from spacy<3->fastai>=2.2.5->tsai) (0.4.1)\n",
            "Requirement already satisfied, skipping upgrade: preshed<3.1.0,>=3.0.2 in /usr/local/lib/python3.7/dist-packages (from spacy<3->fastai>=2.2.5->tsai) (3.0.5)\n",
            "Requirement already satisfied, skipping upgrade: srsly<1.1.0,>=1.0.2 in /usr/local/lib/python3.7/dist-packages (from spacy<3->fastai>=2.2.5->tsai) (1.0.5)\n",
            "Requirement already satisfied, skipping upgrade: murmurhash<1.1.0,>=0.28.0 in /usr/local/lib/python3.7/dist-packages (from spacy<3->fastai>=2.2.5->tsai) (1.0.5)\n",
            "Requirement already satisfied, skipping upgrade: plac<1.2.0,>=0.9.6 in /usr/local/lib/python3.7/dist-packages (from spacy<3->fastai>=2.2.5->tsai) (1.1.3)\n",
            "Requirement already satisfied, skipping upgrade: catalogue<1.1.0,>=0.0.7 in /usr/local/lib/python3.7/dist-packages (from spacy<3->fastai>=2.2.5->tsai) (1.0.0)\n",
            "Requirement already satisfied, skipping upgrade: wasabi<1.1.0,>=0.4.0 in /usr/local/lib/python3.7/dist-packages (from spacy<3->fastai>=2.2.5->tsai) (0.8.2)\n",
            "Requirement already satisfied, skipping upgrade: thinc==7.4.0 in /usr/local/lib/python3.7/dist-packages (from spacy<3->fastai>=2.2.5->tsai) (7.4.0)\n",
            "Requirement already satisfied, skipping upgrade: heapdict in /usr/local/lib/python3.7/dist-packages (from zict>=0.1.3->distributed>=2.11.0->tsfresh>=0.17.0->tsai) (1.0.1)\n",
            "Requirement already satisfied, skipping upgrade: importlib-metadata>=0.20; python_version < \"3.8\" in /usr/local/lib/python3.7/dist-packages (from catalogue<1.1.0,>=0.0.7->spacy<3->fastai>=2.2.5->tsai) (3.4.0)\n",
            "Requirement already satisfied, skipping upgrade: zipp>=0.5 in /usr/local/lib/python3.7/dist-packages (from importlib-metadata>=0.20; python_version < \"3.8\"->catalogue<1.1.0,>=0.0.7->spacy<3->fastai>=2.2.5->tsai) (3.4.0)\n",
            "Installing collected packages: llvmlite, numba, statsmodels, threadpoolctl, scikit-learn, dask, cloudpickle, distributed, tsfresh, fastcore, fastai, argparse, entrypoint2, easyprocess, pyunpack, sktime, imbalanced-learn, pyts, tsai\n",
            "  Found existing installation: llvmlite 0.34.0\n",
            "    Uninstalling llvmlite-0.34.0:\n",
            "      Successfully uninstalled llvmlite-0.34.0\n",
            "  Found existing installation: numba 0.51.2\n",
            "    Uninstalling numba-0.51.2:\n",
            "      Successfully uninstalled numba-0.51.2\n",
            "  Found existing installation: statsmodels 0.10.2\n",
            "    Uninstalling statsmodels-0.10.2:\n",
            "      Successfully uninstalled statsmodels-0.10.2\n",
            "  Found existing installation: scikit-learn 0.22.2.post1\n",
            "    Uninstalling scikit-learn-0.22.2.post1:\n",
            "      Successfully uninstalled scikit-learn-0.22.2.post1\n",
            "  Found existing installation: dask 2.12.0\n",
            "    Uninstalling dask-2.12.0:\n",
            "      Successfully uninstalled dask-2.12.0\n",
            "  Found existing installation: cloudpickle 1.3.0\n",
            "    Uninstalling cloudpickle-1.3.0:\n",
            "      Successfully uninstalled cloudpickle-1.3.0\n",
            "  Found existing installation: distributed 1.25.3\n",
            "    Uninstalling distributed-1.25.3:\n",
            "      Successfully uninstalled distributed-1.25.3\n",
            "  Found existing installation: fastai 1.0.61\n",
            "    Uninstalling fastai-1.0.61:\n",
            "      Successfully uninstalled fastai-1.0.61\n",
            "  Found existing installation: imbalanced-learn 0.4.3\n",
            "    Uninstalling imbalanced-learn-0.4.3:\n",
            "      Successfully uninstalled imbalanced-learn-0.4.3\n",
            "Successfully installed argparse-1.4.0 cloudpickle-1.6.0 dask-2021.2.0 distributed-2021.2.0 easyprocess-0.3 entrypoint2-0.2.3 fastai-2.2.7 fastcore-1.3.19 imbalanced-learn-0.8.0 llvmlite-0.35.0 numba-0.52.0 pyts-0.11.0 pyunpack-0.2.2 scikit-learn-0.24.1 sktime-0.5.3 statsmodels-0.12.2 threadpoolctl-2.1.0 tsai-0.2.15 tsfresh-0.17.0\n"
          ],
          "name": "stdout"
        },
        {
          "output_type": "display_data",
          "data": {
            "application/vnd.colab-display-data+json": {
              "pip_warning": {
                "packages": [
                  "argparse"
                ]
              }
            }
          },
          "metadata": {
            "tags": []
          }
        }
      ]
    },
    {
      "cell_type": "code",
      "metadata": {
        "id": "QrqXewrkBxQc",
        "colab": {
          "base_uri": "https://localhost:8080/"
        },
        "outputId": "67d480a1-d1bd-4ac4-d788-269c6a39c9ff"
      },
      "source": [
        "from tsai.all import * # tsai\r\n",
        "import pandas as pd # Data processing\r\n",
        "import plotly.express as px # Plots"
      ],
      "execution_count": 1,
      "outputs": [
        {
          "output_type": "stream",
          "text": [
            "/usr/local/lib/python3.7/dist-packages/numba/np/ufunc/parallel.py:363: NumbaWarning: The TBB threading layer requires TBB version 2019.5 or later i.e., TBB_INTERFACE_VERSION >= 11005. Found TBB_INTERFACE_VERSION = 9107. The TBB threading layer is disabled.\n",
            "  warnings.warn(problem)\n"
          ],
          "name": "stderr"
        }
      ]
    },
    {
      "cell_type": "markdown",
      "metadata": {
        "id": "PAv6XEDFSNO2"
      },
      "source": [
        "## **Data**\r\n",
        "The data is from a electrophoresis painting plant that is 20 years old. The dataset is for a 14 day period where sensors are used to log the following sensor values:\r\n",
        "* **Pressure** - `PE1`, `PE2`, `PE3`, `PE4`\r\n",
        "* **Temperature** - `TP1`, `TP2`\r\n",
        "* **Flow** - `FM1` (target)\r\n",
        "\r\n",
        "The data has already been normalised hence very little preprocess is required."
      ]
    },
    {
      "cell_type": "code",
      "metadata": {
        "id": "uG_FlPvoCIjg"
      },
      "source": [
        "iot = pd.read_csv(\"iiot_30min_norm.csv\") # Read in data\r\n",
        "\r\n",
        "iot[\"TIME\"] = pd.to_datetime(iot[\"TIME\"], infer_datetime_format = True) # Make sure TIME is in datetime format"
      ],
      "execution_count": 2,
      "outputs": []
    },
    {
      "cell_type": "code",
      "metadata": {
        "colab": {
          "base_uri": "https://localhost:8080/",
          "height": 197
        },
        "id": "x40NtoVGH4aX",
        "outputId": "fb3b7548-3718-45b5-9138-ce9c9d7c21b6"
      },
      "source": [
        "iot.head()"
      ],
      "execution_count": 3,
      "outputs": [
        {
          "output_type": "execute_result",
          "data": {
            "text/html": [
              "<div>\n",
              "<style scoped>\n",
              "    .dataframe tbody tr th:only-of-type {\n",
              "        vertical-align: middle;\n",
              "    }\n",
              "\n",
              "    .dataframe tbody tr th {\n",
              "        vertical-align: top;\n",
              "    }\n",
              "\n",
              "    .dataframe thead th {\n",
              "        text-align: right;\n",
              "    }\n",
              "</style>\n",
              "<table border=\"1\" class=\"dataframe\">\n",
              "  <thead>\n",
              "    <tr style=\"text-align: right;\">\n",
              "      <th></th>\n",
              "      <th>TIME</th>\n",
              "      <th>FM1</th>\n",
              "      <th>PE1</th>\n",
              "      <th>PE2</th>\n",
              "      <th>PE3</th>\n",
              "      <th>PE4</th>\n",
              "      <th>TP1</th>\n",
              "      <th>TP2</th>\n",
              "      <th>EPOCH</th>\n",
              "    </tr>\n",
              "  </thead>\n",
              "  <tbody>\n",
              "    <tr>\n",
              "      <th>0</th>\n",
              "      <td>2020-07-05 21:00:00+00:00</td>\n",
              "      <td>0.291841</td>\n",
              "      <td>0.944212</td>\n",
              "      <td>0.969845</td>\n",
              "      <td>0.909817</td>\n",
              "      <td>0.752879</td>\n",
              "      <td>0.128703</td>\n",
              "      <td>0.729592</td>\n",
              "      <td>1593982800</td>\n",
              "    </tr>\n",
              "    <tr>\n",
              "      <th>1</th>\n",
              "      <td>2020-07-05 21:30:00+00:00</td>\n",
              "      <td>0.290384</td>\n",
              "      <td>0.947971</td>\n",
              "      <td>0.971459</td>\n",
              "      <td>0.913576</td>\n",
              "      <td>0.753741</td>\n",
              "      <td>0.117572</td>\n",
              "      <td>0.723905</td>\n",
              "      <td>1593984600</td>\n",
              "    </tr>\n",
              "    <tr>\n",
              "      <th>2</th>\n",
              "      <td>2020-07-05 22:00:00+00:00</td>\n",
              "      <td>0.279458</td>\n",
              "      <td>0.944138</td>\n",
              "      <td>0.968994</td>\n",
              "      <td>0.912516</td>\n",
              "      <td>0.753187</td>\n",
              "      <td>0.111242</td>\n",
              "      <td>0.720671</td>\n",
              "      <td>1593986400</td>\n",
              "    </tr>\n",
              "    <tr>\n",
              "      <th>3</th>\n",
              "      <td>2020-07-05 22:30:00+00:00</td>\n",
              "      <td>0.288927</td>\n",
              "      <td>0.950337</td>\n",
              "      <td>0.976253</td>\n",
              "      <td>0.915991</td>\n",
              "      <td>0.756699</td>\n",
              "      <td>0.102464</td>\n",
              "      <td>0.716186</td>\n",
              "      <td>1593988200</td>\n",
              "    </tr>\n",
              "    <tr>\n",
              "      <th>4</th>\n",
              "      <td>2020-07-05 23:00:00+00:00</td>\n",
              "      <td>0.299610</td>\n",
              "      <td>0.950226</td>\n",
              "      <td>0.975747</td>\n",
              "      <td>0.916188</td>\n",
              "      <td>0.756563</td>\n",
              "      <td>0.093201</td>\n",
              "      <td>0.711454</td>\n",
              "      <td>1593990000</td>\n",
              "    </tr>\n",
              "  </tbody>\n",
              "</table>\n",
              "</div>"
            ],
            "text/plain": [
              "                       TIME       FM1       PE1  ...       TP1       TP2       EPOCH\n",
              "0 2020-07-05 21:00:00+00:00  0.291841  0.944212  ...  0.128703  0.729592  1593982800\n",
              "1 2020-07-05 21:30:00+00:00  0.290384  0.947971  ...  0.117572  0.723905  1593984600\n",
              "2 2020-07-05 22:00:00+00:00  0.279458  0.944138  ...  0.111242  0.720671  1593986400\n",
              "3 2020-07-05 22:30:00+00:00  0.288927  0.950337  ...  0.102464  0.716186  1593988200\n",
              "4 2020-07-05 23:00:00+00:00  0.299610  0.950226  ...  0.093201  0.711454  1593990000\n",
              "\n",
              "[5 rows x 9 columns]"
            ]
          },
          "metadata": {
            "tags": []
          },
          "execution_count": 3
        }
      ]
    },
    {
      "cell_type": "markdown",
      "metadata": {
        "id": "zYzNoufgSQuw"
      },
      "source": [
        "## **Plots**\r\n"
      ]
    },
    {
      "cell_type": "markdown",
      "metadata": {
        "id": "uQPiYEObnFoE"
      },
      "source": [
        "Before plotting and modelling I need to see if all data points have the same duration between them (they do)."
      ]
    },
    {
      "cell_type": "code",
      "metadata": {
        "id": "vmt_CjIhIa_9",
        "colab": {
          "base_uri": "https://localhost:8080/"
        },
        "outputId": "53858fb1-f56d-49e2-ef07-849b4048d1e8"
      },
      "source": [
        "time_diff = iot[\"TIME\"] - iot[\"TIME\"].shift() # Take the current row and subtract the adjacent row\r\n",
        "time_diff.unique() # All dates are 30 mins apart"
      ],
      "execution_count": null,
      "outputs": [
        {
          "output_type": "execute_result",
          "data": {
            "text/plain": [
              "array([        'NaT', 1800000000000], dtype='timedelta64[ns]')"
            ]
          },
          "metadata": {
            "tags": []
          },
          "execution_count": 4
        }
      ]
    },
    {
      "cell_type": "markdown",
      "metadata": {
        "id": "b84mdIWKjvBs"
      },
      "source": [
        "The data can be plotted as such."
      ]
    },
    {
      "cell_type": "code",
      "metadata": {
        "colab": {
          "base_uri": "https://localhost:8080/",
          "height": 542
        },
        "id": "3m466dV1F2wA",
        "outputId": "8b8989a6-9c0d-42c3-fbd0-1a3393c424a9"
      },
      "source": [
        "fig = px.line(iot, x = \"TIME\", y = \"FM1\")\r\n",
        "for col in [\"PE2\", \"PE1\",\t\"PE2\", \"PE3\", \"PE4\", \"TP1\", \"TP2\"]:\r\n",
        "  fig.add_scatter(x = iot['TIME'], y = iot[col], mode = 'lines', name = col)\r\n",
        "fig.show()"
      ],
      "execution_count": null,
      "outputs": [
        {
          "output_type": "display_data",
          "data": {
            "text/html": [
              "<html>\n",
              "<head><meta charset=\"utf-8\" /></head>\n",
              "<body>\n",
              "    <div>\n",
              "            <script src=\"https://cdnjs.cloudflare.com/ajax/libs/mathjax/2.7.5/MathJax.js?config=TeX-AMS-MML_SVG\"></script><script type=\"text/javascript\">if (window.MathJax) {MathJax.Hub.Config({SVG: {font: \"STIX-Web\"}});}</script>\n",
              "                <script type=\"text/javascript\">window.PlotlyConfig = {MathJaxConfig: 'local'};</script>\n",
              "        <script src=\"https://cdn.plot.ly/plotly-latest.min.js\"></script>    \n",
              "            <div id=\"3dcf81d2-42ce-4d94-bedc-00175533a16d\" class=\"plotly-graph-div\" style=\"height:525px; width:100%;\"></div>\n",
              "            <script type=\"text/javascript\">\n",
              "                \n",
              "                    window.PLOTLYENV=window.PLOTLYENV || {};\n",
              "                    \n",
              "                if (document.getElementById(\"3dcf81d2-42ce-4d94-bedc-00175533a16d\")) {\n",
              "                    Plotly.newPlot(\n",
              "                        '3dcf81d2-42ce-4d94-bedc-00175533a16d',\n",
              "                        [{\"hoverlabel\": {\"namelength\": 0}, \"hovertemplate\": \"TIME=%{x}<br>FM1=%{y}\", \"legendgroup\": \"\", \"line\": {\"color\": \"#636efa\", \"dash\": \"solid\"}, \"mode\": \"lines\", \"name\": \"\", \"showlegend\": false, \"type\": \"scatter\", \"x\": [\"2020-07-05T21:00:00\", \"2020-07-05T21:30:00\", \"2020-07-05T22:00:00\", \"2020-07-05T22:30:00\", \"2020-07-05T23:00:00\", \"2020-07-05T23:30:00\", \"2020-07-06T00:00:00\", \"2020-07-06T00:30:00\", \"2020-07-06T01:00:00\", \"2020-07-06T01:30:00\", \"2020-07-06T02:00:00\", \"2020-07-06T02:30:00\", \"2020-07-06T03:00:00\", \"2020-07-06T03:30:00\", \"2020-07-06T04:00:00\", \"2020-07-06T04:30:00\", \"2020-07-06T05:00:00\", \"2020-07-06T05:30:00\", \"2020-07-06T06:00:00\", \"2020-07-06T06:30:00\", \"2020-07-06T07:00:00\", \"2020-07-06T07:30:00\", \"2020-07-06T08:00:00\", \"2020-07-06T08:30:00\", \"2020-07-06T09:00:00\", \"2020-07-06T09:30:00\", \"2020-07-06T10:00:00\", \"2020-07-06T10:30:00\", \"2020-07-06T11:00:00\", \"2020-07-06T11:30:00\", \"2020-07-06T12:00:00\", \"2020-07-06T12:30:00\", \"2020-07-06T13:00:00\", \"2020-07-06T13:30:00\", \"2020-07-06T14:00:00\", \"2020-07-06T14:30:00\", \"2020-07-06T15:00:00\", \"2020-07-06T15:30:00\", \"2020-07-06T16:00:00\", \"2020-07-06T16:30:00\", \"2020-07-06T17:00:00\", \"2020-07-06T17:30:00\", \"2020-07-06T18:00:00\", \"2020-07-06T18:30:00\", \"2020-07-06T19:00:00\", \"2020-07-06T19:30:00\", \"2020-07-06T20:00:00\", \"2020-07-06T20:30:00\", \"2020-07-06T21:00:00\", \"2020-07-06T21:30:00\", \"2020-07-06T22:00:00\", \"2020-07-06T22:30:00\", \"2020-07-06T23:00:00\", \"2020-07-06T23:30:00\", \"2020-07-07T00:00:00\", \"2020-07-07T00:30:00\", \"2020-07-07T01:00:00\", \"2020-07-07T01:30:00\", \"2020-07-07T02:00:00\", \"2020-07-07T02:30:00\", \"2020-07-07T03:00:00\", \"2020-07-07T03:30:00\", \"2020-07-07T04:00:00\", \"2020-07-07T04:30:00\", \"2020-07-07T05:00:00\", \"2020-07-07T05:30:00\", \"2020-07-07T06:00:00\", \"2020-07-07T06:30:00\", \"2020-07-07T07:00:00\", \"2020-07-07T07:30:00\", \"2020-07-07T08:00:00\", \"2020-07-07T08:30:00\", \"2020-07-07T09:00:00\", \"2020-07-07T09:30:00\", \"2020-07-07T10:00:00\", \"2020-07-07T10:30:00\", \"2020-07-07T11:00:00\", \"2020-07-07T11:30:00\", \"2020-07-07T12:00:00\", \"2020-07-07T12:30:00\", \"2020-07-07T13:00:00\", \"2020-07-07T13:30:00\", \"2020-07-07T14:00:00\", \"2020-07-07T14:30:00\", \"2020-07-07T15:00:00\", \"2020-07-07T15:30:00\", \"2020-07-07T16:00:00\", \"2020-07-07T16:30:00\", \"2020-07-07T17:00:00\", \"2020-07-07T17:30:00\", \"2020-07-07T18:00:00\", \"2020-07-07T18:30:00\", \"2020-07-07T19:00:00\", \"2020-07-07T19:30:00\", \"2020-07-07T20:00:00\", \"2020-07-07T20:30:00\", \"2020-07-07T21:00:00\", \"2020-07-07T21:30:00\", \"2020-07-07T22:00:00\", \"2020-07-07T22:30:00\", \"2020-07-07T23:00:00\", \"2020-07-07T23:30:00\", \"2020-07-08T00:00:00\", \"2020-07-08T00:30:00\", \"2020-07-08T01:00:00\", \"2020-07-08T01:30:00\", \"2020-07-08T02:00:00\", \"2020-07-08T02:30:00\", \"2020-07-08T03:00:00\", \"2020-07-08T03:30:00\", \"2020-07-08T04:00:00\", \"2020-07-08T04:30:00\", \"2020-07-08T05:00:00\", \"2020-07-08T05:30:00\", \"2020-07-08T06:00:00\", \"2020-07-08T06:30:00\", \"2020-07-08T07:00:00\", \"2020-07-08T07:30:00\", \"2020-07-08T08:00:00\", \"2020-07-08T08:30:00\", \"2020-07-08T09:00:00\", \"2020-07-08T09:30:00\", \"2020-07-08T10:00:00\", \"2020-07-08T10:30:00\", \"2020-07-08T11:00:00\", \"2020-07-08T11:30:00\", \"2020-07-08T12:00:00\", \"2020-07-08T12:30:00\", \"2020-07-08T13:00:00\", \"2020-07-08T13:30:00\", \"2020-07-08T14:00:00\", \"2020-07-08T14:30:00\", \"2020-07-08T15:00:00\", \"2020-07-08T15:30:00\", \"2020-07-08T16:00:00\", \"2020-07-08T16:30:00\", \"2020-07-08T17:00:00\", \"2020-07-08T17:30:00\", \"2020-07-08T18:00:00\", \"2020-07-08T18:30:00\", \"2020-07-08T19:00:00\", \"2020-07-08T19:30:00\", \"2020-07-08T20:00:00\", \"2020-07-08T20:30:00\", \"2020-07-08T21:00:00\", \"2020-07-08T21:30:00\", \"2020-07-08T22:00:00\", \"2020-07-08T22:30:00\", \"2020-07-08T23:00:00\", \"2020-07-08T23:30:00\", \"2020-07-09T00:00:00\", \"2020-07-09T00:30:00\", \"2020-07-09T01:00:00\", \"2020-07-09T01:30:00\", \"2020-07-09T02:00:00\", \"2020-07-09T02:30:00\", \"2020-07-09T03:00:00\", \"2020-07-09T03:30:00\", \"2020-07-09T04:00:00\", \"2020-07-09T04:30:00\", \"2020-07-09T05:00:00\", \"2020-07-09T05:30:00\", \"2020-07-09T06:00:00\", \"2020-07-09T06:30:00\", \"2020-07-09T07:00:00\", \"2020-07-09T07:30:00\", \"2020-07-09T08:00:00\", \"2020-07-09T08:30:00\", \"2020-07-09T09:00:00\", \"2020-07-09T09:30:00\", \"2020-07-09T10:00:00\", \"2020-07-09T10:30:00\", \"2020-07-09T11:00:00\", \"2020-07-09T11:30:00\", \"2020-07-09T12:00:00\", \"2020-07-09T12:30:00\", \"2020-07-09T13:00:00\", \"2020-07-09T13:30:00\", \"2020-07-09T14:00:00\", \"2020-07-09T14:30:00\", \"2020-07-09T15:00:00\", \"2020-07-09T15:30:00\", \"2020-07-09T16:00:00\", \"2020-07-09T16:30:00\", \"2020-07-09T17:00:00\", \"2020-07-09T17:30:00\", \"2020-07-09T18:00:00\", \"2020-07-09T18:30:00\", \"2020-07-09T19:00:00\", \"2020-07-09T19:30:00\", \"2020-07-09T20:00:00\", \"2020-07-09T20:30:00\", \"2020-07-09T21:00:00\", \"2020-07-09T21:30:00\", \"2020-07-09T22:00:00\", \"2020-07-09T22:30:00\", \"2020-07-09T23:00:00\", \"2020-07-09T23:30:00\", \"2020-07-10T00:00:00\", \"2020-07-10T00:30:00\", \"2020-07-10T01:00:00\", \"2020-07-10T01:30:00\", \"2020-07-10T02:00:00\", \"2020-07-10T02:30:00\", \"2020-07-10T03:00:00\", \"2020-07-10T03:30:00\", \"2020-07-10T04:00:00\", \"2020-07-10T04:30:00\", \"2020-07-10T05:00:00\", \"2020-07-10T05:30:00\", \"2020-07-10T06:00:00\", \"2020-07-10T06:30:00\", \"2020-07-10T07:00:00\", \"2020-07-10T07:30:00\", \"2020-07-10T08:00:00\", \"2020-07-10T08:30:00\", \"2020-07-10T09:00:00\", \"2020-07-10T09:30:00\", \"2020-07-10T10:00:00\", \"2020-07-10T10:30:00\", \"2020-07-10T11:00:00\", \"2020-07-10T11:30:00\", \"2020-07-10T12:00:00\", \"2020-07-10T12:30:00\", \"2020-07-10T13:00:00\", \"2020-07-10T13:30:00\", \"2020-07-10T14:00:00\", \"2020-07-10T14:30:00\", \"2020-07-10T15:00:00\", \"2020-07-10T15:30:00\", \"2020-07-10T16:00:00\", \"2020-07-10T16:30:00\", \"2020-07-10T17:00:00\", \"2020-07-10T17:30:00\", \"2020-07-10T18:00:00\", \"2020-07-10T18:30:00\", \"2020-07-10T19:00:00\", \"2020-07-10T19:30:00\", \"2020-07-10T20:00:00\", \"2020-07-10T20:30:00\", \"2020-07-10T21:00:00\", \"2020-07-10T21:30:00\", \"2020-07-10T22:00:00\", \"2020-07-10T22:30:00\", \"2020-07-10T23:00:00\", \"2020-07-10T23:30:00\", \"2020-07-11T00:00:00\", \"2020-07-11T00:30:00\", \"2020-07-11T01:00:00\", \"2020-07-11T01:30:00\", \"2020-07-11T02:00:00\", \"2020-07-11T02:30:00\", \"2020-07-11T03:00:00\", \"2020-07-11T03:30:00\", \"2020-07-11T04:00:00\", \"2020-07-11T04:30:00\", \"2020-07-11T05:00:00\", \"2020-07-11T05:30:00\", \"2020-07-11T06:00:00\", \"2020-07-11T06:30:00\", \"2020-07-11T07:00:00\", \"2020-07-11T07:30:00\", \"2020-07-11T08:00:00\", \"2020-07-11T08:30:00\", \"2020-07-11T09:00:00\", \"2020-07-11T09:30:00\", \"2020-07-11T10:00:00\", \"2020-07-11T10:30:00\", \"2020-07-11T11:00:00\", \"2020-07-11T11:30:00\", \"2020-07-11T12:00:00\", \"2020-07-11T12:30:00\", \"2020-07-11T13:00:00\", \"2020-07-11T13:30:00\", \"2020-07-11T14:00:00\", \"2020-07-11T14:30:00\", \"2020-07-11T15:00:00\", \"2020-07-11T15:30:00\", \"2020-07-11T16:00:00\", \"2020-07-11T16:30:00\", \"2020-07-11T17:00:00\", \"2020-07-11T17:30:00\", \"2020-07-11T18:00:00\", \"2020-07-11T18:30:00\", \"2020-07-11T19:00:00\", \"2020-07-11T19:30:00\", \"2020-07-11T20:00:00\", \"2020-07-11T20:30:00\", \"2020-07-11T21:00:00\", \"2020-07-11T21:30:00\", \"2020-07-11T22:00:00\", \"2020-07-11T22:30:00\", \"2020-07-11T23:00:00\", \"2020-07-11T23:30:00\", \"2020-07-12T00:00:00\", \"2020-07-12T00:30:00\", \"2020-07-12T01:00:00\", \"2020-07-12T01:30:00\", \"2020-07-12T02:00:00\", \"2020-07-12T02:30:00\", \"2020-07-12T03:00:00\", \"2020-07-12T03:30:00\", \"2020-07-12T04:00:00\", \"2020-07-12T04:30:00\", \"2020-07-12T05:00:00\", \"2020-07-12T05:30:00\", \"2020-07-12T06:00:00\", \"2020-07-12T06:30:00\", \"2020-07-12T07:00:00\", \"2020-07-12T07:30:00\", \"2020-07-12T08:00:00\", \"2020-07-12T08:30:00\", \"2020-07-12T09:00:00\", \"2020-07-12T09:30:00\", \"2020-07-12T10:00:00\", \"2020-07-12T10:30:00\", \"2020-07-12T11:00:00\", \"2020-07-12T11:30:00\", \"2020-07-12T12:00:00\", \"2020-07-12T12:30:00\", \"2020-07-12T13:00:00\", \"2020-07-12T13:30:00\", \"2020-07-12T14:00:00\", \"2020-07-12T14:30:00\", \"2020-07-12T15:00:00\", \"2020-07-12T15:30:00\", \"2020-07-12T16:00:00\", \"2020-07-12T16:30:00\", \"2020-07-12T17:00:00\", \"2020-07-12T17:30:00\", \"2020-07-12T18:00:00\", \"2020-07-12T18:30:00\", \"2020-07-12T19:00:00\", \"2020-07-12T19:30:00\", \"2020-07-12T20:00:00\", \"2020-07-12T20:30:00\", \"2020-07-12T21:00:00\", \"2020-07-12T21:30:00\", \"2020-07-12T22:00:00\", \"2020-07-12T22:30:00\", \"2020-07-12T23:00:00\", \"2020-07-12T23:30:00\", \"2020-07-13T00:00:00\", \"2020-07-13T00:30:00\", \"2020-07-13T01:00:00\", \"2020-07-13T01:30:00\", \"2020-07-13T02:00:00\", \"2020-07-13T02:30:00\", \"2020-07-13T03:00:00\", \"2020-07-13T03:30:00\", \"2020-07-13T04:00:00\", \"2020-07-13T04:30:00\", \"2020-07-13T05:00:00\", \"2020-07-13T05:30:00\", \"2020-07-13T06:00:00\", \"2020-07-13T06:30:00\", \"2020-07-13T07:00:00\", \"2020-07-13T07:30:00\", \"2020-07-13T08:00:00\", \"2020-07-13T08:30:00\", \"2020-07-13T09:00:00\", \"2020-07-13T09:30:00\", \"2020-07-13T10:00:00\", \"2020-07-13T10:30:00\", \"2020-07-13T11:00:00\", \"2020-07-13T11:30:00\", \"2020-07-13T12:00:00\", \"2020-07-13T12:30:00\", \"2020-07-13T13:00:00\", \"2020-07-13T13:30:00\", \"2020-07-13T14:00:00\", \"2020-07-13T14:30:00\", \"2020-07-13T15:00:00\", \"2020-07-13T15:30:00\", \"2020-07-13T16:00:00\", \"2020-07-13T16:30:00\", \"2020-07-13T17:00:00\", \"2020-07-13T17:30:00\", \"2020-07-13T18:00:00\", \"2020-07-13T18:30:00\", \"2020-07-13T19:00:00\", \"2020-07-13T19:30:00\", \"2020-07-13T20:00:00\", \"2020-07-13T20:30:00\", \"2020-07-13T21:00:00\", \"2020-07-13T21:30:00\", \"2020-07-13T22:00:00\", \"2020-07-13T22:30:00\", \"2020-07-13T23:00:00\", \"2020-07-13T23:30:00\", \"2020-07-14T00:00:00\", \"2020-07-14T00:30:00\", \"2020-07-14T01:00:00\", \"2020-07-14T01:30:00\", \"2020-07-14T02:00:00\", \"2020-07-14T02:30:00\", \"2020-07-14T03:00:00\", \"2020-07-14T03:30:00\", \"2020-07-14T04:00:00\", \"2020-07-14T04:30:00\", \"2020-07-14T05:00:00\", \"2020-07-14T05:30:00\", \"2020-07-14T06:00:00\", \"2020-07-14T06:30:00\", \"2020-07-14T07:00:00\", \"2020-07-14T07:30:00\", \"2020-07-14T08:00:00\", \"2020-07-14T08:30:00\", \"2020-07-14T09:00:00\", \"2020-07-14T09:30:00\", \"2020-07-14T10:00:00\", \"2020-07-14T10:30:00\", \"2020-07-14T11:00:00\", \"2020-07-14T11:30:00\", \"2020-07-14T12:00:00\", \"2020-07-14T12:30:00\", \"2020-07-14T13:00:00\", \"2020-07-14T13:30:00\", \"2020-07-14T14:00:00\", \"2020-07-14T14:30:00\", \"2020-07-14T15:00:00\", \"2020-07-14T15:30:00\", \"2020-07-14T16:00:00\", \"2020-07-14T16:30:00\", \"2020-07-14T17:00:00\", \"2020-07-14T17:30:00\", \"2020-07-14T18:00:00\", \"2020-07-14T18:30:00\", \"2020-07-14T19:00:00\", \"2020-07-14T19:30:00\", \"2020-07-14T20:00:00\", \"2020-07-14T20:30:00\", \"2020-07-14T21:00:00\", \"2020-07-14T21:30:00\", \"2020-07-14T22:00:00\", \"2020-07-14T22:30:00\", \"2020-07-14T23:00:00\", \"2020-07-14T23:30:00\", \"2020-07-15T00:00:00\", \"2020-07-15T00:30:00\", \"2020-07-15T01:00:00\", \"2020-07-15T01:30:00\", \"2020-07-15T02:00:00\", \"2020-07-15T02:30:00\", \"2020-07-15T03:00:00\", \"2020-07-15T03:30:00\", \"2020-07-15T04:00:00\", \"2020-07-15T04:30:00\", \"2020-07-15T05:00:00\", \"2020-07-15T05:30:00\", \"2020-07-15T06:00:00\", \"2020-07-15T06:30:00\", \"2020-07-15T07:00:00\", \"2020-07-15T07:30:00\", \"2020-07-15T08:00:00\", \"2020-07-15T08:30:00\", \"2020-07-15T09:00:00\", \"2020-07-15T09:30:00\", \"2020-07-15T10:00:00\", \"2020-07-15T10:30:00\", \"2020-07-15T11:00:00\", \"2020-07-15T11:30:00\", \"2020-07-15T12:00:00\", \"2020-07-15T12:30:00\", \"2020-07-15T13:00:00\", \"2020-07-15T13:30:00\", \"2020-07-15T14:00:00\", \"2020-07-15T14:30:00\", \"2020-07-15T15:00:00\", \"2020-07-15T15:30:00\", \"2020-07-15T16:00:00\", \"2020-07-15T16:30:00\", \"2020-07-15T17:00:00\", \"2020-07-15T17:30:00\", \"2020-07-15T18:00:00\", \"2020-07-15T18:30:00\", \"2020-07-15T19:00:00\", \"2020-07-15T19:30:00\", \"2020-07-15T20:00:00\", \"2020-07-15T20:30:00\", \"2020-07-15T21:00:00\", \"2020-07-15T21:30:00\", \"2020-07-15T22:00:00\", \"2020-07-15T22:30:00\", \"2020-07-15T23:00:00\", \"2020-07-15T23:30:00\", \"2020-07-16T00:00:00\", \"2020-07-16T00:30:00\", \"2020-07-16T01:00:00\", \"2020-07-16T01:30:00\", \"2020-07-16T02:00:00\", \"2020-07-16T02:30:00\", \"2020-07-16T03:00:00\", \"2020-07-16T03:30:00\", \"2020-07-16T04:00:00\", \"2020-07-16T04:30:00\", \"2020-07-16T05:00:00\", \"2020-07-16T05:30:00\", \"2020-07-16T06:00:00\", \"2020-07-16T06:30:00\", \"2020-07-16T07:00:00\", \"2020-07-16T07:30:00\", \"2020-07-16T08:00:00\", \"2020-07-16T08:30:00\", \"2020-07-16T09:00:00\", \"2020-07-16T09:30:00\", \"2020-07-16T10:00:00\", \"2020-07-16T10:30:00\", \"2020-07-16T11:00:00\", \"2020-07-16T11:30:00\", \"2020-07-16T12:00:00\", \"2020-07-16T12:30:00\", \"2020-07-16T13:00:00\", \"2020-07-16T13:30:00\", \"2020-07-16T14:00:00\", \"2020-07-16T14:30:00\", \"2020-07-16T15:00:00\", \"2020-07-16T15:30:00\", \"2020-07-16T16:00:00\", \"2020-07-16T16:30:00\", \"2020-07-16T17:00:00\", \"2020-07-16T17:30:00\", \"2020-07-16T18:00:00\", \"2020-07-16T18:30:00\", \"2020-07-16T19:00:00\", \"2020-07-16T19:30:00\", \"2020-07-16T20:00:00\", \"2020-07-16T20:30:00\", \"2020-07-16T21:00:00\", \"2020-07-16T21:30:00\", \"2020-07-16T22:00:00\", \"2020-07-16T22:30:00\", \"2020-07-16T23:00:00\", \"2020-07-16T23:30:00\", \"2020-07-17T00:00:00\", \"2020-07-17T00:30:00\", \"2020-07-17T01:00:00\", \"2020-07-17T01:30:00\", \"2020-07-17T02:00:00\", \"2020-07-17T02:30:00\", \"2020-07-17T03:00:00\", \"2020-07-17T03:30:00\", \"2020-07-17T04:00:00\", \"2020-07-17T04:30:00\", \"2020-07-17T05:00:00\", \"2020-07-17T05:30:00\", \"2020-07-17T06:00:00\", \"2020-07-17T06:30:00\", \"2020-07-17T07:00:00\", \"2020-07-17T07:30:00\", \"2020-07-17T08:00:00\", \"2020-07-17T08:30:00\", \"2020-07-17T09:00:00\", \"2020-07-17T09:30:00\", \"2020-07-17T10:00:00\", \"2020-07-17T10:30:00\", \"2020-07-17T11:00:00\", \"2020-07-17T11:30:00\", \"2020-07-17T12:00:00\", \"2020-07-17T12:30:00\", \"2020-07-17T13:00:00\", \"2020-07-17T13:30:00\", \"2020-07-17T14:00:00\", \"2020-07-17T14:30:00\", \"2020-07-17T15:00:00\", \"2020-07-17T15:30:00\", \"2020-07-17T16:00:00\", \"2020-07-17T16:30:00\", \"2020-07-17T17:00:00\", \"2020-07-17T17:30:00\", \"2020-07-17T18:00:00\", \"2020-07-17T18:30:00\", \"2020-07-17T19:00:00\", \"2020-07-17T19:30:00\", \"2020-07-17T20:00:00\", \"2020-07-17T20:30:00\", \"2020-07-17T21:00:00\", \"2020-07-17T21:30:00\", \"2020-07-17T22:00:00\", \"2020-07-17T22:30:00\", \"2020-07-17T23:00:00\", \"2020-07-17T23:30:00\", \"2020-07-18T00:00:00\", \"2020-07-18T00:30:00\", \"2020-07-18T01:00:00\", \"2020-07-18T01:30:00\", \"2020-07-18T02:00:00\", \"2020-07-18T02:30:00\", \"2020-07-18T03:00:00\", \"2020-07-18T03:30:00\", \"2020-07-18T04:00:00\", \"2020-07-18T04:30:00\", \"2020-07-18T05:00:00\", \"2020-07-18T05:30:00\", \"2020-07-18T06:00:00\", \"2020-07-18T06:30:00\", \"2020-07-18T07:00:00\", \"2020-07-18T07:30:00\", \"2020-07-18T08:00:00\", \"2020-07-18T08:30:00\", \"2020-07-18T09:00:00\", \"2020-07-18T09:30:00\", \"2020-07-18T10:00:00\", \"2020-07-18T10:30:00\", \"2020-07-18T11:00:00\", \"2020-07-18T11:30:00\", \"2020-07-18T12:00:00\", \"2020-07-18T12:30:00\", \"2020-07-18T13:00:00\", \"2020-07-18T13:30:00\", \"2020-07-18T14:00:00\", \"2020-07-18T14:30:00\", \"2020-07-18T15:00:00\", \"2020-07-18T15:30:00\", \"2020-07-18T16:00:00\", \"2020-07-18T16:30:00\", \"2020-07-18T17:00:00\", \"2020-07-18T17:30:00\", \"2020-07-18T18:00:00\", \"2020-07-18T18:30:00\", \"2020-07-18T19:00:00\", \"2020-07-18T19:30:00\", \"2020-07-18T20:00:00\", \"2020-07-18T20:30:00\", \"2020-07-18T21:00:00\", \"2020-07-18T21:30:00\", \"2020-07-18T22:00:00\", \"2020-07-18T22:30:00\", \"2020-07-18T23:00:00\", \"2020-07-18T23:30:00\", \"2020-07-19T00:00:00\", \"2020-07-19T00:30:00\", \"2020-07-19T01:00:00\", \"2020-07-19T01:30:00\", \"2020-07-19T02:00:00\", \"2020-07-19T02:30:00\", \"2020-07-19T03:00:00\", \"2020-07-19T03:30:00\", \"2020-07-19T04:00:00\", \"2020-07-19T04:30:00\", \"2020-07-19T05:00:00\", \"2020-07-19T05:30:00\", \"2020-07-19T06:00:00\", \"2020-07-19T06:30:00\", \"2020-07-19T07:00:00\", \"2020-07-19T07:30:00\", \"2020-07-19T08:00:00\", \"2020-07-19T08:30:00\", \"2020-07-19T09:00:00\", \"2020-07-19T09:30:00\", \"2020-07-19T10:00:00\", \"2020-07-19T10:30:00\", \"2020-07-19T11:00:00\", \"2020-07-19T11:30:00\", \"2020-07-19T12:00:00\", \"2020-07-19T12:30:00\", \"2020-07-19T13:00:00\", \"2020-07-19T13:30:00\", \"2020-07-19T14:00:00\", \"2020-07-19T14:30:00\", \"2020-07-19T15:00:00\", \"2020-07-19T15:30:00\", \"2020-07-19T16:00:00\", \"2020-07-19T16:30:00\", \"2020-07-19T17:00:00\", \"2020-07-19T17:30:00\", \"2020-07-19T18:00:00\", \"2020-07-19T18:30:00\", \"2020-07-19T19:00:00\", \"2020-07-19T19:30:00\", \"2020-07-19T20:00:00\", \"2020-07-19T20:30:00\", \"2020-07-19T21:00:00\", \"2020-07-19T21:30:00\", \"2020-07-19T22:00:00\", \"2020-07-19T22:30:00\", \"2020-07-19T23:00:00\", \"2020-07-19T23:30:00\", \"2020-07-20T00:00:00\", \"2020-07-20T00:30:00\", \"2020-07-20T01:00:00\", \"2020-07-20T01:30:00\", \"2020-07-20T02:00:00\", \"2020-07-20T02:30:00\", \"2020-07-20T03:00:00\", \"2020-07-20T03:30:00\", \"2020-07-20T04:00:00\", \"2020-07-20T04:30:00\", \"2020-07-20T05:00:00\", \"2020-07-20T05:30:00\", \"2020-07-20T06:00:00\", \"2020-07-20T06:30:00\", \"2020-07-20T07:00:00\", \"2020-07-20T07:30:00\", \"2020-07-20T08:00:00\", \"2020-07-20T08:30:00\", \"2020-07-20T09:00:00\", \"2020-07-20T09:30:00\", \"2020-07-20T10:00:00\", \"2020-07-20T10:30:00\", \"2020-07-20T11:00:00\", \"2020-07-20T11:30:00\", \"2020-07-20T12:00:00\", \"2020-07-20T12:30:00\", \"2020-07-20T13:00:00\", \"2020-07-20T13:30:00\", \"2020-07-20T14:00:00\", \"2020-07-20T14:30:00\", \"2020-07-20T15:00:00\", \"2020-07-20T15:30:00\", \"2020-07-20T16:00:00\", \"2020-07-20T16:30:00\", \"2020-07-20T17:00:00\", \"2020-07-20T17:30:00\", \"2020-07-20T18:00:00\", \"2020-07-20T18:30:00\", \"2020-07-20T19:00:00\", \"2020-07-20T19:30:00\", \"2020-07-20T20:00:00\", \"2020-07-20T20:30:00\"], \"xaxis\": \"x\", \"y\": [0.29184058, 0.29038382, 0.27945802, 0.28892702, 0.29961005, 0.2963323, 0.2741165, 0.27994359999999996, 0.2957051, 0.29681793, 0.27824405, 0.28504232, 0.29354015, 0.27628142, 0.27581608, 0.28751075, 0.28759167, 0.27798098, 0.29086940000000006, 0.30640832, 0.2973035, 0.27496627, 0.277111, 0.2816027, 0.29402575, 0.28722748, 0.27057570000000003, 0.27921522, 0.27751562, 0.26792517, 0.27897242, 0.27703005, 0.27096015, 0.28880559999999994, 0.27836540000000004, 0.27002943, 0.28176457, 0.27460209999999996, 0.26288718, 0.28127897, 0.27798098, 0.2676824, 0.26845124, 0.28309992, 0.28067195, 0.27314532, 0.29111218, 0.28164318, 0.2738737, 0.28471857, 0.2935199, 0.27787983, 0.28212875, 0.29693928, 0.27638257, 0.27520907, 0.29596812, 0.28892702, 0.26574000000000003, 0.27229553, 0.28285715, 0.29147637, 0.2583348, 0.26658982, 0.27484486, 0.27338812, 0.27096015, 0.28929123, 0.28977683, 0.2671968, 0.26513305, 0.27545187, 0.28577068, 0.268775, 0.26571977, 0.28309992, 0.27666584, 0.25930595, 0.26986757, 0.28394973, 0.27921522, 0.26175416, 0.27618024, 0.27593747, 0.26646844, 0.27927592, 0.28710607, 0.27023172, 0.28057963, 0.2875512, 0.26464745, 0.27800122, 0.0, 0.7071429, 0.81542975, 0.78289515, 0.7513316999999999, 0.70216554, 0.69773453, 0.6897829000000001, 0.6817707, 0.6539706000000001, 0.6335757, 0.62799144, 0.6350325, 0.6110564, 0.59302884, 0.5950926, 0.59090436, 0.5717842, 0.57057023, 0.57846105, 0.5711771999999999, 0.55448496, 0.5589767, 0.5558811, 0.5426486999999999, 0.5283237, 0.5334224, 0.53876394, 0.5273525, 0.5186119, 0.5153342000000001, 0.5176205, 0.49773145, 0.4934825, 0.49724585, 0.51047826, 0.5120564000000001, 0.49032617, 0.49044758, 0.49748865, 0.49311835, 0.47806498, 0.48996195, 0.48996195, 0.47284487, 0.47648679999999993, 0.47976455, 0.45973387, 0.46240464, 0.4717523, 0.45896503, 0.45817596, 0.46586448, 0.45722502, 0.4489295, 0.45936972, 0.4660465999999999, 0.44820109999999996, 0.44164562, 0.45160022, 0.4526928, 0.4353329000000001, 0.44443777, 0.44480196, 0.42671368, 0.44358796, 0.4297486, 0.42877743, 0.43800366, 0.4485653, 0.43545429999999996, 0.4296272, 0.4370325, 0.44540897, 0.42634946, 0.42683509999999997, 0.43339056, 0.42622808, 0.41032496, 0.42270753, 0.43181238, 0.41821579999999997, 0.40753278, 0.41712323, 0.42173636, 0.4009773, 0.40559042, 0.42161494, 0.4126315, 0.39769956, 0.40874678, 0.40692583, 0.39345062, 0.39709255, 0.40631880000000004, 0.39964193, 0.38993007, 0.4009773, 0.41335988, 0.4009773, 0.39017290000000004, 0.39794236, 0.40716863, 0.38823053, 0.37961125, 0.38689515, 0.39867076, 0.4004917, 0.38483140000000005, 0.37985405, 0.38555977, 0.39721397, 0.37912568, 0.38288903, 0.38920170000000004, 0.39733538, 0.38725936, 0.37402695, 0.4095966, 0.6211932, 0.5892654, 0.56219375, 0.5613439, 0.546412, 0.5181263, 0.52103984, 0.51448435, 0.49578905, 0.5116922, 0.4995524, 0.48097852, 0.4876554, 0.48194972, 0.46094787, 0.46216184, 0.4719951, 0.46896014, 0.44504476, 0.45135745, 0.45912692, 0.43861067, 0.43933904, 0.44832247, 0.43290493, 0.44116000000000005, 0.44188842, 0.42634946, 0.4240429, 0.44358796, 0.4314482, 0.41493806, 0.42634946, 0.42719924, 0.406683, 0.41554505, 0.42853463, 0.41578785, 0.40158427, 0.40376946, 0.41639486, 0.40996075, 0.39102270000000006, 0.39466462, 0.40401223, 0.40376946, 0.39102270000000006, 0.40583324, 0.417973, 0.4111747, 0.38653094, 0.39854935, 0.41166034, 0.4003703, 0.38386020000000004, 0.39915636, 0.40510482, 0.39442185, 0.3787615, 0.39757818, 0.39381483, 0.37366277, 0.3732986, 0.38665235, 0.38434577, 0.3658933, 0.36370814, 0.38058245, 0.36710727, 0.37475538, 0.38604537, 0.36989945, 0.35678846, 0.36735009999999996, 0.37706193, 0.3555745, 0.34780502, 0.35848805, 0.36977807, 0.35326794, 0.35933784, 0.36807847, 0.35096136, 0.34404168, 0.3488976, 0.35909504, 0.35181114, 0.33602944, 0.34477007, 0.35338932, 0.36249417, 0.34379888, 0.3445273, 0.34574124, 0.60855556, 0.6006769000000001, 0.57858247, 0.57093436, 0.5547885, 0.5342722, 0.5371858, 0.5286879, 0.5045297000000001, 0.5070791, 0.51594114, 0.50198036, 0.48219252, 0.48911220000000005, 0.48425627, 0.46956712, 0.46034090000000005, 0.45791292, 0.46908152, 0.46034090000000005, 0.44722992, 0.43836787, 0.4296272, 0.45050764, 0.44686570000000003, 0.431691, 0.42732066, 0.41056776, 0.43096260000000003, 0.4236787, 0.41663763, 0.41590926, 0.42537829999999993, 0.40619740000000004, 0.41105333, 0.42295033, 0.41178173, 0.3950288, 0.40741137, 0.40243408, 0.38993007, 0.3964856, 0.40194848, 0.38386020000000004, 0.38677374, 0.399644, 0.38361740000000005, 0.37357685, 1.0, 0.8507565999999999, 0.7882366999999999, 0.77160513, 0.73324347, 0.7089638, 0.7065359, 0.6926965, 0.6608903, 0.66052604, 0.65045, 0.62884116, 0.61330223, 0.6179154, 0.6054114, 0.5954568, 0.5956996, 0.57785404, 0.5624365, 0.5753047, 0.58295274, 0.5681423000000001, 0.5536959, 0.5532103, 0.5575806, 0.5417989000000001, 0.5309944999999999, 0.5376713000000001, 0.5341508, 0.51958305, 0.5212826, 0.5292949, 0.50792885, 0.5035586, 0.51484853, 0.5011306, 0.49809563, 0.4991882, 0.48668423, 0.49421093, 0.49506068, 0.48801962, 0.49251133, 0.49587929999999997, 0.4717523, 0.47223788, 0.48619866, 0.47333047, 0.46289027, 0.47333047, 0.47685102, 0.45111465, 0.46301165, 0.47551563, 0.46325442, 0.45062906, 0.45560637, 0.45657754, 0.42914164, 0.44225258, 0.44917226, 0.4342403, 0.43193376, 0.4486867, 0.43909624, 0.42768484, 0.44600642, 0.44152420000000003, 0.42707783, 0.43047702, 0.43581852, 0.42319313, 0.44055304, 0.4314482, 0.42137215, 0.43375474, 0.43496874, 0.41530228, 0.42501408, 0.43011279999999996, 0.41748744, 0.40983933, 0.41882282, 0.40474066, 0.40911096, 0.41979399999999994, 0.41578785, 0.40729, 0.41578785, 0.40486205, 0.40243408, 0.41287429999999997, 0.39782098, 0.4004917, 0.41105333, 0.40279827, 0.38118944, 0.38762352, 0.39733538, 0.39903495, 0.38349602, 0.39672840000000004, 0.38968733, 0.39150828, 0.39138687, 0.38118944, 0.3909013, 0.38191783, 0.37184182, 0.38058245, 0.37147759999999996, 0.37232742, 0.38725936, 0.39466462, 0.3775475, 0.38920170000000004, 0.39345062, 0.37985405, 0.36735009999999996, 0.36819986, 0.38774493, 0.39272225, 0.37669772, 0.38313179999999997, 0.38349602, 0.36953524, 0.37973267, 0.38701653, 0.36540774, 0.3599448, 0.37475538, 0.37706193, 0.36297977, 0.3658933, 0.36989945, 0.35933784, 0.35751686, 0.36977807, 0.3614016, 0.35059717, 0.3655291, 0.35436052, 0.35132557, 0.36115879999999995, 0.34986880000000004, 0.36310118, 0.36917105, 0.35788104, 0.37087062, 0.37111345, 0.35897362, 0.34962597, 0.35690987, 0.36832127, 0.35678846, 0.35217535, 0.36904964, 0.36455792, 0.35181114, 0.35314652, 0.36807847, 0.35351074, 0.3387002, 0.34052116, 0.36237276, 0.34901902, 0.34528688, 0.3369362, 0.33020234, 0.3482906, 0.34901902, 0.3445273, 0.3355438, 0.34450490000000006, 0.34513426, 0.33432984, 0.33008093, 0.34173512, 0.3423421, 0.33311588, 0.34464866, 0.34064254, 0.32777438, 0.34537706, 0.33760759999999995, 0.335301, 0.34161374, 0.3367578, 0.32607478, 0.3423421, 0.33153772, 0.31575596, 0.32668179999999997, 0.33954996, 0.32741016, 0.32595342, 0.34222072, 0.3374862, 0.31502759999999996, 0.32717007, 0.33469406, 0.32983813, 0.31709135, 0.33275170000000004, 0.3297167, 0.3261962, 0.32182586, 0.32765296, 0.3495046, 0.3442845, 0.34088534, 0.33481544, 0.32789576, 0.32182586, 0.31866953, 0.31017166, 0.30725813, 0.32291844, 0.32935256, 0.33032373, 0.31917027, 0.31917873, 0.31918716, 0.31919557, 0.31920403, 0.31921244, 0.31922087, 0.3192293, 0.31923774, 0.31924614, 0.3192546, 0.31926304, 0.31927145, 0.31927990000000006, 0.31928829999999997, 0.31929675, 0.31930518, 0.31931362, 0.31932202, 0.31933048, 0.31933890000000004, 0.31934732, 0.3193558, 0.31936420000000004, 0.31937262, 0.31938103, 0.3193895, 0.3193979, 0.31824020000000003, 0.31708246, 0.31592473, 0.314767, 0.3136093, 0.31245154, 0.31129384, 0.31013609999999997, 0.30897838, 0.30782068, 0.30666295, 0.30550525, 0.3043475, 0.30318978, 0.30203202, 0.30087432, 0.29971659999999994, 0.2985589, 0.29740113, 0.29624343, 0.29508567, 0.29392797, 0.29277024, 0.29161254, 0.29045479999999996, 0.28929707, 0.29946312, 0.29888168, 0.2841925, 0.29426855, 0.29924583, 0.28455672, 0.29256895, 0.29888168, 0.27957937, 0.28097853, 0.29982859999999995, 0.30222875, 0.30130383, 0.30037892, 0.29945397, 0.29852903, 0.2976041, 0.29667917, 0.29575422, 0.29482928, 0.29390433, 0.28965542, 0.27751562, 0.28285715, 0.29536113, 0.3037796, 0.30318072, 0.30258188, 0.301983, 0.30138412, 0.30078524, 0.3001864, 0.29958752, 0.29898864, 0.29329738, 0.28479952, 0.278851, 0.27715147, 0.30203800000000003, 0.29900306, 0.28358552, 0.2790938, 0.29621090000000005, 0.2803078, 0.26440462, 0.2844353, 0.2900196, 0.27278109999999994, 0.2922048, 0.27800122, 0.26440462, 0.26051992, 0.2715671, 0.28079337, 0.27824405, 0.27071735, 0.2851637, 0.27545187, 0.26938197, 0.27687475, 0.28749537, 0.26054677, 0.88134885, 0.81142366, 0.77621824, 0.72608095, 0.7037437, 0.6888118000000001, 0.674851, 0.64401597, 0.63721764, 0.6386744000000001, 0.6152446, 0.59582096, 0.5914507, 0.59667075, 0.57421213, 0.5390067, 0.5506609, 0.5428915, 0.53172284, 0.53682154, 0.5330581999999999, 0.51545554, 0.5086572, 0.5188547, 0.50792885, 0.49991660000000004, 0.50987124, 0.49469650000000004, 0.48304227, 0.49538246, 0.49513024], \"yaxis\": \"y\"}, {\"mode\": \"lines\", \"name\": \"PE2\", \"type\": \"scatter\", \"x\": [\"2020-07-05T21:00:00+00:00\", \"2020-07-05T21:30:00+00:00\", \"2020-07-05T22:00:00+00:00\", \"2020-07-05T22:30:00+00:00\", \"2020-07-05T23:00:00+00:00\", \"2020-07-05T23:30:00+00:00\", \"2020-07-06T00:00:00+00:00\", \"2020-07-06T00:30:00+00:00\", \"2020-07-06T01:00:00+00:00\", \"2020-07-06T01:30:00+00:00\", \"2020-07-06T02:00:00+00:00\", \"2020-07-06T02:30:00+00:00\", \"2020-07-06T03:00:00+00:00\", \"2020-07-06T03:30:00+00:00\", \"2020-07-06T04:00:00+00:00\", \"2020-07-06T04:30:00+00:00\", \"2020-07-06T05:00:00+00:00\", \"2020-07-06T05:30:00+00:00\", \"2020-07-06T06:00:00+00:00\", \"2020-07-06T06:30:00+00:00\", \"2020-07-06T07:00:00+00:00\", \"2020-07-06T07:30:00+00:00\", \"2020-07-06T08:00:00+00:00\", \"2020-07-06T08:30:00+00:00\", \"2020-07-06T09:00:00+00:00\", \"2020-07-06T09:30:00+00:00\", \"2020-07-06T10:00:00+00:00\", \"2020-07-06T10:30:00+00:00\", \"2020-07-06T11:00:00+00:00\", \"2020-07-06T11:30:00+00:00\", \"2020-07-06T12:00:00+00:00\", \"2020-07-06T12:30:00+00:00\", \"2020-07-06T13:00:00+00:00\", \"2020-07-06T13:30:00+00:00\", \"2020-07-06T14:00:00+00:00\", \"2020-07-06T14:30:00+00:00\", \"2020-07-06T15:00:00+00:00\", \"2020-07-06T15:30:00+00:00\", \"2020-07-06T16:00:00+00:00\", \"2020-07-06T16:30:00+00:00\", \"2020-07-06T17:00:00+00:00\", \"2020-07-06T17:30:00+00:00\", \"2020-07-06T18:00:00+00:00\", \"2020-07-06T18:30:00+00:00\", \"2020-07-06T19:00:00+00:00\", \"2020-07-06T19:30:00+00:00\", \"2020-07-06T20:00:00+00:00\", \"2020-07-06T20:30:00+00:00\", \"2020-07-06T21:00:00+00:00\", \"2020-07-06T21:30:00+00:00\", \"2020-07-06T22:00:00+00:00\", \"2020-07-06T22:30:00+00:00\", \"2020-07-06T23:00:00+00:00\", \"2020-07-06T23:30:00+00:00\", \"2020-07-07T00:00:00+00:00\", \"2020-07-07T00:30:00+00:00\", \"2020-07-07T01:00:00+00:00\", \"2020-07-07T01:30:00+00:00\", \"2020-07-07T02:00:00+00:00\", \"2020-07-07T02:30:00+00:00\", \"2020-07-07T03:00:00+00:00\", \"2020-07-07T03:30:00+00:00\", \"2020-07-07T04:00:00+00:00\", \"2020-07-07T04:30:00+00:00\", \"2020-07-07T05:00:00+00:00\", \"2020-07-07T05:30:00+00:00\", \"2020-07-07T06:00:00+00:00\", \"2020-07-07T06:30:00+00:00\", \"2020-07-07T07:00:00+00:00\", \"2020-07-07T07:30:00+00:00\", \"2020-07-07T08:00:00+00:00\", \"2020-07-07T08:30:00+00:00\", \"2020-07-07T09:00:00+00:00\", \"2020-07-07T09:30:00+00:00\", \"2020-07-07T10:00:00+00:00\", \"2020-07-07T10:30:00+00:00\", \"2020-07-07T11:00:00+00:00\", \"2020-07-07T11:30:00+00:00\", \"2020-07-07T12:00:00+00:00\", \"2020-07-07T12:30:00+00:00\", \"2020-07-07T13:00:00+00:00\", \"2020-07-07T13:30:00+00:00\", \"2020-07-07T14:00:00+00:00\", \"2020-07-07T14:30:00+00:00\", \"2020-07-07T15:00:00+00:00\", \"2020-07-07T15:30:00+00:00\", \"2020-07-07T16:00:00+00:00\", \"2020-07-07T16:30:00+00:00\", \"2020-07-07T17:00:00+00:00\", \"2020-07-07T17:30:00+00:00\", \"2020-07-07T18:00:00+00:00\", \"2020-07-07T18:30:00+00:00\", \"2020-07-07T19:00:00+00:00\", \"2020-07-07T19:30:00+00:00\", \"2020-07-07T20:00:00+00:00\", \"2020-07-07T20:30:00+00:00\", \"2020-07-07T21:00:00+00:00\", \"2020-07-07T21:30:00+00:00\", \"2020-07-07T22:00:00+00:00\", \"2020-07-07T22:30:00+00:00\", \"2020-07-07T23:00:00+00:00\", \"2020-07-07T23:30:00+00:00\", \"2020-07-08T00:00:00+00:00\", \"2020-07-08T00:30:00+00:00\", \"2020-07-08T01:00:00+00:00\", \"2020-07-08T01:30:00+00:00\", \"2020-07-08T02:00:00+00:00\", \"2020-07-08T02:30:00+00:00\", \"2020-07-08T03:00:00+00:00\", \"2020-07-08T03:30:00+00:00\", \"2020-07-08T04:00:00+00:00\", \"2020-07-08T04:30:00+00:00\", \"2020-07-08T05:00:00+00:00\", \"2020-07-08T05:30:00+00:00\", \"2020-07-08T06:00:00+00:00\", \"2020-07-08T06:30:00+00:00\", \"2020-07-08T07:00:00+00:00\", \"2020-07-08T07:30:00+00:00\", \"2020-07-08T08:00:00+00:00\", \"2020-07-08T08:30:00+00:00\", \"2020-07-08T09:00:00+00:00\", \"2020-07-08T09:30:00+00:00\", \"2020-07-08T10:00:00+00:00\", \"2020-07-08T10:30:00+00:00\", \"2020-07-08T11:00:00+00:00\", \"2020-07-08T11:30:00+00:00\", \"2020-07-08T12:00:00+00:00\", \"2020-07-08T12:30:00+00:00\", \"2020-07-08T13:00:00+00:00\", \"2020-07-08T13:30:00+00:00\", \"2020-07-08T14:00:00+00:00\", \"2020-07-08T14:30:00+00:00\", \"2020-07-08T15:00:00+00:00\", \"2020-07-08T15:30:00+00:00\", \"2020-07-08T16:00:00+00:00\", \"2020-07-08T16:30:00+00:00\", \"2020-07-08T17:00:00+00:00\", \"2020-07-08T17:30:00+00:00\", \"2020-07-08T18:00:00+00:00\", \"2020-07-08T18:30:00+00:00\", \"2020-07-08T19:00:00+00:00\", \"2020-07-08T19:30:00+00:00\", \"2020-07-08T20:00:00+00:00\", \"2020-07-08T20:30:00+00:00\", \"2020-07-08T21:00:00+00:00\", \"2020-07-08T21:30:00+00:00\", \"2020-07-08T22:00:00+00:00\", \"2020-07-08T22:30:00+00:00\", \"2020-07-08T23:00:00+00:00\", \"2020-07-08T23:30:00+00:00\", \"2020-07-09T00:00:00+00:00\", \"2020-07-09T00:30:00+00:00\", \"2020-07-09T01:00:00+00:00\", \"2020-07-09T01:30:00+00:00\", \"2020-07-09T02:00:00+00:00\", \"2020-07-09T02:30:00+00:00\", \"2020-07-09T03:00:00+00:00\", \"2020-07-09T03:30:00+00:00\", \"2020-07-09T04:00:00+00:00\", \"2020-07-09T04:30:00+00:00\", \"2020-07-09T05:00:00+00:00\", \"2020-07-09T05:30:00+00:00\", \"2020-07-09T06:00:00+00:00\", \"2020-07-09T06:30:00+00:00\", \"2020-07-09T07:00:00+00:00\", \"2020-07-09T07:30:00+00:00\", \"2020-07-09T08:00:00+00:00\", \"2020-07-09T08:30:00+00:00\", \"2020-07-09T09:00:00+00:00\", \"2020-07-09T09:30:00+00:00\", \"2020-07-09T10:00:00+00:00\", \"2020-07-09T10:30:00+00:00\", \"2020-07-09T11:00:00+00:00\", \"2020-07-09T11:30:00+00:00\", \"2020-07-09T12:00:00+00:00\", \"2020-07-09T12:30:00+00:00\", \"2020-07-09T13:00:00+00:00\", \"2020-07-09T13:30:00+00:00\", \"2020-07-09T14:00:00+00:00\", \"2020-07-09T14:30:00+00:00\", \"2020-07-09T15:00:00+00:00\", \"2020-07-09T15:30:00+00:00\", \"2020-07-09T16:00:00+00:00\", \"2020-07-09T16:30:00+00:00\", \"2020-07-09T17:00:00+00:00\", \"2020-07-09T17:30:00+00:00\", \"2020-07-09T18:00:00+00:00\", \"2020-07-09T18:30:00+00:00\", \"2020-07-09T19:00:00+00:00\", \"2020-07-09T19:30:00+00:00\", \"2020-07-09T20:00:00+00:00\", \"2020-07-09T20:30:00+00:00\", \"2020-07-09T21:00:00+00:00\", \"2020-07-09T21:30:00+00:00\", \"2020-07-09T22:00:00+00:00\", \"2020-07-09T22:30:00+00:00\", \"2020-07-09T23:00:00+00:00\", \"2020-07-09T23:30:00+00:00\", \"2020-07-10T00:00:00+00:00\", \"2020-07-10T00:30:00+00:00\", \"2020-07-10T01:00:00+00:00\", \"2020-07-10T01:30:00+00:00\", \"2020-07-10T02:00:00+00:00\", \"2020-07-10T02:30:00+00:00\", \"2020-07-10T03:00:00+00:00\", \"2020-07-10T03:30:00+00:00\", \"2020-07-10T04:00:00+00:00\", \"2020-07-10T04:30:00+00:00\", \"2020-07-10T05:00:00+00:00\", \"2020-07-10T05:30:00+00:00\", \"2020-07-10T06:00:00+00:00\", \"2020-07-10T06:30:00+00:00\", \"2020-07-10T07:00:00+00:00\", \"2020-07-10T07:30:00+00:00\", \"2020-07-10T08:00:00+00:00\", \"2020-07-10T08:30:00+00:00\", \"2020-07-10T09:00:00+00:00\", \"2020-07-10T09:30:00+00:00\", \"2020-07-10T10:00:00+00:00\", \"2020-07-10T10:30:00+00:00\", \"2020-07-10T11:00:00+00:00\", \"2020-07-10T11:30:00+00:00\", \"2020-07-10T12:00:00+00:00\", \"2020-07-10T12:30:00+00:00\", \"2020-07-10T13:00:00+00:00\", \"2020-07-10T13:30:00+00:00\", \"2020-07-10T14:00:00+00:00\", \"2020-07-10T14:30:00+00:00\", \"2020-07-10T15:00:00+00:00\", \"2020-07-10T15:30:00+00:00\", \"2020-07-10T16:00:00+00:00\", \"2020-07-10T16:30:00+00:00\", \"2020-07-10T17:00:00+00:00\", \"2020-07-10T17:30:00+00:00\", \"2020-07-10T18:00:00+00:00\", \"2020-07-10T18:30:00+00:00\", \"2020-07-10T19:00:00+00:00\", \"2020-07-10T19:30:00+00:00\", \"2020-07-10T20:00:00+00:00\", \"2020-07-10T20:30:00+00:00\", \"2020-07-10T21:00:00+00:00\", \"2020-07-10T21:30:00+00:00\", \"2020-07-10T22:00:00+00:00\", \"2020-07-10T22:30:00+00:00\", \"2020-07-10T23:00:00+00:00\", \"2020-07-10T23:30:00+00:00\", \"2020-07-11T00:00:00+00:00\", \"2020-07-11T00:30:00+00:00\", \"2020-07-11T01:00:00+00:00\", \"2020-07-11T01:30:00+00:00\", \"2020-07-11T02:00:00+00:00\", \"2020-07-11T02:30:00+00:00\", \"2020-07-11T03:00:00+00:00\", \"2020-07-11T03:30:00+00:00\", \"2020-07-11T04:00:00+00:00\", \"2020-07-11T04:30:00+00:00\", \"2020-07-11T05:00:00+00:00\", \"2020-07-11T05:30:00+00:00\", \"2020-07-11T06:00:00+00:00\", \"2020-07-11T06:30:00+00:00\", \"2020-07-11T07:00:00+00:00\", \"2020-07-11T07:30:00+00:00\", \"2020-07-11T08:00:00+00:00\", \"2020-07-11T08:30:00+00:00\", \"2020-07-11T09:00:00+00:00\", \"2020-07-11T09:30:00+00:00\", \"2020-07-11T10:00:00+00:00\", \"2020-07-11T10:30:00+00:00\", \"2020-07-11T11:00:00+00:00\", \"2020-07-11T11:30:00+00:00\", \"2020-07-11T12:00:00+00:00\", \"2020-07-11T12:30:00+00:00\", \"2020-07-11T13:00:00+00:00\", \"2020-07-11T13:30:00+00:00\", \"2020-07-11T14:00:00+00:00\", \"2020-07-11T14:30:00+00:00\", \"2020-07-11T15:00:00+00:00\", \"2020-07-11T15:30:00+00:00\", \"2020-07-11T16:00:00+00:00\", \"2020-07-11T16:30:00+00:00\", \"2020-07-11T17:00:00+00:00\", \"2020-07-11T17:30:00+00:00\", \"2020-07-11T18:00:00+00:00\", \"2020-07-11T18:30:00+00:00\", \"2020-07-11T19:00:00+00:00\", \"2020-07-11T19:30:00+00:00\", \"2020-07-11T20:00:00+00:00\", \"2020-07-11T20:30:00+00:00\", \"2020-07-11T21:00:00+00:00\", \"2020-07-11T21:30:00+00:00\", \"2020-07-11T22:00:00+00:00\", \"2020-07-11T22:30:00+00:00\", \"2020-07-11T23:00:00+00:00\", \"2020-07-11T23:30:00+00:00\", \"2020-07-12T00:00:00+00:00\", \"2020-07-12T00:30:00+00:00\", \"2020-07-12T01:00:00+00:00\", \"2020-07-12T01:30:00+00:00\", \"2020-07-12T02:00:00+00:00\", \"2020-07-12T02:30:00+00:00\", \"2020-07-12T03:00:00+00:00\", \"2020-07-12T03:30:00+00:00\", \"2020-07-12T04:00:00+00:00\", \"2020-07-12T04:30:00+00:00\", \"2020-07-12T05:00:00+00:00\", \"2020-07-12T05:30:00+00:00\", \"2020-07-12T06:00:00+00:00\", \"2020-07-12T06:30:00+00:00\", \"2020-07-12T07:00:00+00:00\", \"2020-07-12T07:30:00+00:00\", \"2020-07-12T08:00:00+00:00\", \"2020-07-12T08:30:00+00:00\", \"2020-07-12T09:00:00+00:00\", \"2020-07-12T09:30:00+00:00\", \"2020-07-12T10:00:00+00:00\", \"2020-07-12T10:30:00+00:00\", \"2020-07-12T11:00:00+00:00\", \"2020-07-12T11:30:00+00:00\", \"2020-07-12T12:00:00+00:00\", \"2020-07-12T12:30:00+00:00\", \"2020-07-12T13:00:00+00:00\", \"2020-07-12T13:30:00+00:00\", \"2020-07-12T14:00:00+00:00\", \"2020-07-12T14:30:00+00:00\", \"2020-07-12T15:00:00+00:00\", \"2020-07-12T15:30:00+00:00\", \"2020-07-12T16:00:00+00:00\", \"2020-07-12T16:30:00+00:00\", \"2020-07-12T17:00:00+00:00\", \"2020-07-12T17:30:00+00:00\", \"2020-07-12T18:00:00+00:00\", \"2020-07-12T18:30:00+00:00\", \"2020-07-12T19:00:00+00:00\", \"2020-07-12T19:30:00+00:00\", \"2020-07-12T20:00:00+00:00\", \"2020-07-12T20:30:00+00:00\", \"2020-07-12T21:00:00+00:00\", \"2020-07-12T21:30:00+00:00\", \"2020-07-12T22:00:00+00:00\", \"2020-07-12T22:30:00+00:00\", \"2020-07-12T23:00:00+00:00\", \"2020-07-12T23:30:00+00:00\", \"2020-07-13T00:00:00+00:00\", \"2020-07-13T00:30:00+00:00\", \"2020-07-13T01:00:00+00:00\", \"2020-07-13T01:30:00+00:00\", \"2020-07-13T02:00:00+00:00\", \"2020-07-13T02:30:00+00:00\", \"2020-07-13T03:00:00+00:00\", \"2020-07-13T03:30:00+00:00\", \"2020-07-13T04:00:00+00:00\", \"2020-07-13T04:30:00+00:00\", \"2020-07-13T05:00:00+00:00\", \"2020-07-13T05:30:00+00:00\", \"2020-07-13T06:00:00+00:00\", \"2020-07-13T06:30:00+00:00\", \"2020-07-13T07:00:00+00:00\", \"2020-07-13T07:30:00+00:00\", \"2020-07-13T08:00:00+00:00\", \"2020-07-13T08:30:00+00:00\", \"2020-07-13T09:00:00+00:00\", \"2020-07-13T09:30:00+00:00\", \"2020-07-13T10:00:00+00:00\", \"2020-07-13T10:30:00+00:00\", \"2020-07-13T11:00:00+00:00\", \"2020-07-13T11:30:00+00:00\", \"2020-07-13T12:00:00+00:00\", \"2020-07-13T12:30:00+00:00\", \"2020-07-13T13:00:00+00:00\", \"2020-07-13T13:30:00+00:00\", \"2020-07-13T14:00:00+00:00\", \"2020-07-13T14:30:00+00:00\", \"2020-07-13T15:00:00+00:00\", \"2020-07-13T15:30:00+00:00\", \"2020-07-13T16:00:00+00:00\", \"2020-07-13T16:30:00+00:00\", \"2020-07-13T17:00:00+00:00\", \"2020-07-13T17:30:00+00:00\", \"2020-07-13T18:00:00+00:00\", \"2020-07-13T18:30:00+00:00\", \"2020-07-13T19:00:00+00:00\", \"2020-07-13T19:30:00+00:00\", \"2020-07-13T20:00:00+00:00\", \"2020-07-13T20:30:00+00:00\", \"2020-07-13T21:00:00+00:00\", \"2020-07-13T21:30:00+00:00\", \"2020-07-13T22:00:00+00:00\", \"2020-07-13T22:30:00+00:00\", \"2020-07-13T23:00:00+00:00\", \"2020-07-13T23:30:00+00:00\", \"2020-07-14T00:00:00+00:00\", \"2020-07-14T00:30:00+00:00\", \"2020-07-14T01:00:00+00:00\", \"2020-07-14T01:30:00+00:00\", \"2020-07-14T02:00:00+00:00\", \"2020-07-14T02:30:00+00:00\", \"2020-07-14T03:00:00+00:00\", \"2020-07-14T03:30:00+00:00\", \"2020-07-14T04:00:00+00:00\", \"2020-07-14T04:30:00+00:00\", \"2020-07-14T05:00:00+00:00\", \"2020-07-14T05:30:00+00:00\", \"2020-07-14T06:00:00+00:00\", \"2020-07-14T06:30:00+00:00\", \"2020-07-14T07:00:00+00:00\", \"2020-07-14T07:30:00+00:00\", \"2020-07-14T08:00:00+00:00\", \"2020-07-14T08:30:00+00:00\", \"2020-07-14T09:00:00+00:00\", \"2020-07-14T09:30:00+00:00\", \"2020-07-14T10:00:00+00:00\", \"2020-07-14T10:30:00+00:00\", \"2020-07-14T11:00:00+00:00\", \"2020-07-14T11:30:00+00:00\", \"2020-07-14T12:00:00+00:00\", \"2020-07-14T12:30:00+00:00\", \"2020-07-14T13:00:00+00:00\", \"2020-07-14T13:30:00+00:00\", \"2020-07-14T14:00:00+00:00\", \"2020-07-14T14:30:00+00:00\", \"2020-07-14T15:00:00+00:00\", \"2020-07-14T15:30:00+00:00\", \"2020-07-14T16:00:00+00:00\", \"2020-07-14T16:30:00+00:00\", \"2020-07-14T17:00:00+00:00\", \"2020-07-14T17:30:00+00:00\", \"2020-07-14T18:00:00+00:00\", \"2020-07-14T18:30:00+00:00\", \"2020-07-14T19:00:00+00:00\", \"2020-07-14T19:30:00+00:00\", \"2020-07-14T20:00:00+00:00\", \"2020-07-14T20:30:00+00:00\", \"2020-07-14T21:00:00+00:00\", \"2020-07-14T21:30:00+00:00\", \"2020-07-14T22:00:00+00:00\", \"2020-07-14T22:30:00+00:00\", \"2020-07-14T23:00:00+00:00\", \"2020-07-14T23:30:00+00:00\", \"2020-07-15T00:00:00+00:00\", \"2020-07-15T00:30:00+00:00\", \"2020-07-15T01:00:00+00:00\", \"2020-07-15T01:30:00+00:00\", \"2020-07-15T02:00:00+00:00\", \"2020-07-15T02:30:00+00:00\", \"2020-07-15T03:00:00+00:00\", \"2020-07-15T03:30:00+00:00\", \"2020-07-15T04:00:00+00:00\", \"2020-07-15T04:30:00+00:00\", \"2020-07-15T05:00:00+00:00\", \"2020-07-15T05:30:00+00:00\", \"2020-07-15T06:00:00+00:00\", \"2020-07-15T06:30:00+00:00\", \"2020-07-15T07:00:00+00:00\", \"2020-07-15T07:30:00+00:00\", \"2020-07-15T08:00:00+00:00\", \"2020-07-15T08:30:00+00:00\", \"2020-07-15T09:00:00+00:00\", \"2020-07-15T09:30:00+00:00\", \"2020-07-15T10:00:00+00:00\", \"2020-07-15T10:30:00+00:00\", \"2020-07-15T11:00:00+00:00\", \"2020-07-15T11:30:00+00:00\", \"2020-07-15T12:00:00+00:00\", \"2020-07-15T12:30:00+00:00\", \"2020-07-15T13:00:00+00:00\", \"2020-07-15T13:30:00+00:00\", \"2020-07-15T14:00:00+00:00\", \"2020-07-15T14:30:00+00:00\", \"2020-07-15T15:00:00+00:00\", \"2020-07-15T15:30:00+00:00\", \"2020-07-15T16:00:00+00:00\", \"2020-07-15T16:30:00+00:00\", \"2020-07-15T17:00:00+00:00\", \"2020-07-15T17:30:00+00:00\", \"2020-07-15T18:00:00+00:00\", \"2020-07-15T18:30:00+00:00\", \"2020-07-15T19:00:00+00:00\", \"2020-07-15T19:30:00+00:00\", \"2020-07-15T20:00:00+00:00\", \"2020-07-15T20:30:00+00:00\", \"2020-07-15T21:00:00+00:00\", \"2020-07-15T21:30:00+00:00\", \"2020-07-15T22:00:00+00:00\", \"2020-07-15T22:30:00+00:00\", \"2020-07-15T23:00:00+00:00\", \"2020-07-15T23:30:00+00:00\", \"2020-07-16T00:00:00+00:00\", \"2020-07-16T00:30:00+00:00\", \"2020-07-16T01:00:00+00:00\", \"2020-07-16T01:30:00+00:00\", \"2020-07-16T02:00:00+00:00\", \"2020-07-16T02:30:00+00:00\", \"2020-07-16T03:00:00+00:00\", \"2020-07-16T03:30:00+00:00\", \"2020-07-16T04:00:00+00:00\", \"2020-07-16T04:30:00+00:00\", \"2020-07-16T05:00:00+00:00\", \"2020-07-16T05:30:00+00:00\", \"2020-07-16T06:00:00+00:00\", \"2020-07-16T06:30:00+00:00\", \"2020-07-16T07:00:00+00:00\", \"2020-07-16T07:30:00+00:00\", \"2020-07-16T08:00:00+00:00\", \"2020-07-16T08:30:00+00:00\", \"2020-07-16T09:00:00+00:00\", \"2020-07-16T09:30:00+00:00\", \"2020-07-16T10:00:00+00:00\", \"2020-07-16T10:30:00+00:00\", \"2020-07-16T11:00:00+00:00\", \"2020-07-16T11:30:00+00:00\", \"2020-07-16T12:00:00+00:00\", \"2020-07-16T12:30:00+00:00\", \"2020-07-16T13:00:00+00:00\", \"2020-07-16T13:30:00+00:00\", \"2020-07-16T14:00:00+00:00\", \"2020-07-16T14:30:00+00:00\", \"2020-07-16T15:00:00+00:00\", \"2020-07-16T15:30:00+00:00\", \"2020-07-16T16:00:00+00:00\", \"2020-07-16T16:30:00+00:00\", \"2020-07-16T17:00:00+00:00\", \"2020-07-16T17:30:00+00:00\", \"2020-07-16T18:00:00+00:00\", \"2020-07-16T18:30:00+00:00\", \"2020-07-16T19:00:00+00:00\", \"2020-07-16T19:30:00+00:00\", \"2020-07-16T20:00:00+00:00\", \"2020-07-16T20:30:00+00:00\", \"2020-07-16T21:00:00+00:00\", \"2020-07-16T21:30:00+00:00\", \"2020-07-16T22:00:00+00:00\", \"2020-07-16T22:30:00+00:00\", \"2020-07-16T23:00:00+00:00\", \"2020-07-16T23:30:00+00:00\", \"2020-07-17T00:00:00+00:00\", \"2020-07-17T00:30:00+00:00\", \"2020-07-17T01:00:00+00:00\", \"2020-07-17T01:30:00+00:00\", \"2020-07-17T02:00:00+00:00\", \"2020-07-17T02:30:00+00:00\", \"2020-07-17T03:00:00+00:00\", \"2020-07-17T03:30:00+00:00\", \"2020-07-17T04:00:00+00:00\", \"2020-07-17T04:30:00+00:00\", \"2020-07-17T05:00:00+00:00\", \"2020-07-17T05:30:00+00:00\", \"2020-07-17T06:00:00+00:00\", \"2020-07-17T06:30:00+00:00\", \"2020-07-17T07:00:00+00:00\", \"2020-07-17T07:30:00+00:00\", \"2020-07-17T08:00:00+00:00\", \"2020-07-17T08:30:00+00:00\", \"2020-07-17T09:00:00+00:00\", \"2020-07-17T09:30:00+00:00\", \"2020-07-17T10:00:00+00:00\", \"2020-07-17T10:30:00+00:00\", \"2020-07-17T11:00:00+00:00\", \"2020-07-17T11:30:00+00:00\", \"2020-07-17T12:00:00+00:00\", \"2020-07-17T12:30:00+00:00\", \"2020-07-17T13:00:00+00:00\", \"2020-07-17T13:30:00+00:00\", \"2020-07-17T14:00:00+00:00\", \"2020-07-17T14:30:00+00:00\", \"2020-07-17T15:00:00+00:00\", \"2020-07-17T15:30:00+00:00\", \"2020-07-17T16:00:00+00:00\", \"2020-07-17T16:30:00+00:00\", \"2020-07-17T17:00:00+00:00\", \"2020-07-17T17:30:00+00:00\", \"2020-07-17T18:00:00+00:00\", \"2020-07-17T18:30:00+00:00\", \"2020-07-17T19:00:00+00:00\", \"2020-07-17T19:30:00+00:00\", \"2020-07-17T20:00:00+00:00\", \"2020-07-17T20:30:00+00:00\", \"2020-07-17T21:00:00+00:00\", \"2020-07-17T21:30:00+00:00\", \"2020-07-17T22:00:00+00:00\", \"2020-07-17T22:30:00+00:00\", \"2020-07-17T23:00:00+00:00\", \"2020-07-17T23:30:00+00:00\", \"2020-07-18T00:00:00+00:00\", \"2020-07-18T00:30:00+00:00\", \"2020-07-18T01:00:00+00:00\", \"2020-07-18T01:30:00+00:00\", \"2020-07-18T02:00:00+00:00\", \"2020-07-18T02:30:00+00:00\", \"2020-07-18T03:00:00+00:00\", \"2020-07-18T03:30:00+00:00\", \"2020-07-18T04:00:00+00:00\", \"2020-07-18T04:30:00+00:00\", \"2020-07-18T05:00:00+00:00\", \"2020-07-18T05:30:00+00:00\", \"2020-07-18T06:00:00+00:00\", \"2020-07-18T06:30:00+00:00\", \"2020-07-18T07:00:00+00:00\", \"2020-07-18T07:30:00+00:00\", \"2020-07-18T08:00:00+00:00\", \"2020-07-18T08:30:00+00:00\", \"2020-07-18T09:00:00+00:00\", \"2020-07-18T09:30:00+00:00\", \"2020-07-18T10:00:00+00:00\", \"2020-07-18T10:30:00+00:00\", \"2020-07-18T11:00:00+00:00\", \"2020-07-18T11:30:00+00:00\", \"2020-07-18T12:00:00+00:00\", \"2020-07-18T12:30:00+00:00\", \"2020-07-18T13:00:00+00:00\", \"2020-07-18T13:30:00+00:00\", \"2020-07-18T14:00:00+00:00\", \"2020-07-18T14:30:00+00:00\", \"2020-07-18T15:00:00+00:00\", \"2020-07-18T15:30:00+00:00\", \"2020-07-18T16:00:00+00:00\", \"2020-07-18T16:30:00+00:00\", \"2020-07-18T17:00:00+00:00\", \"2020-07-18T17:30:00+00:00\", \"2020-07-18T18:00:00+00:00\", \"2020-07-18T18:30:00+00:00\", \"2020-07-18T19:00:00+00:00\", \"2020-07-18T19:30:00+00:00\", \"2020-07-18T20:00:00+00:00\", \"2020-07-18T20:30:00+00:00\", \"2020-07-18T21:00:00+00:00\", \"2020-07-18T21:30:00+00:00\", \"2020-07-18T22:00:00+00:00\", \"2020-07-18T22:30:00+00:00\", \"2020-07-18T23:00:00+00:00\", \"2020-07-18T23:30:00+00:00\", \"2020-07-19T00:00:00+00:00\", \"2020-07-19T00:30:00+00:00\", \"2020-07-19T01:00:00+00:00\", \"2020-07-19T01:30:00+00:00\", \"2020-07-19T02:00:00+00:00\", \"2020-07-19T02:30:00+00:00\", \"2020-07-19T03:00:00+00:00\", \"2020-07-19T03:30:00+00:00\", \"2020-07-19T04:00:00+00:00\", \"2020-07-19T04:30:00+00:00\", \"2020-07-19T05:00:00+00:00\", \"2020-07-19T05:30:00+00:00\", \"2020-07-19T06:00:00+00:00\", \"2020-07-19T06:30:00+00:00\", \"2020-07-19T07:00:00+00:00\", \"2020-07-19T07:30:00+00:00\", \"2020-07-19T08:00:00+00:00\", \"2020-07-19T08:30:00+00:00\", \"2020-07-19T09:00:00+00:00\", \"2020-07-19T09:30:00+00:00\", \"2020-07-19T10:00:00+00:00\", \"2020-07-19T10:30:00+00:00\", \"2020-07-19T11:00:00+00:00\", \"2020-07-19T11:30:00+00:00\", \"2020-07-19T12:00:00+00:00\", \"2020-07-19T12:30:00+00:00\", \"2020-07-19T13:00:00+00:00\", \"2020-07-19T13:30:00+00:00\", \"2020-07-19T14:00:00+00:00\", \"2020-07-19T14:30:00+00:00\", \"2020-07-19T15:00:00+00:00\", \"2020-07-19T15:30:00+00:00\", \"2020-07-19T16:00:00+00:00\", \"2020-07-19T16:30:00+00:00\", \"2020-07-19T17:00:00+00:00\", \"2020-07-19T17:30:00+00:00\", \"2020-07-19T18:00:00+00:00\", \"2020-07-19T18:30:00+00:00\", \"2020-07-19T19:00:00+00:00\", \"2020-07-19T19:30:00+00:00\", \"2020-07-19T20:00:00+00:00\", \"2020-07-19T20:30:00+00:00\", \"2020-07-19T21:00:00+00:00\", \"2020-07-19T21:30:00+00:00\", \"2020-07-19T22:00:00+00:00\", \"2020-07-19T22:30:00+00:00\", \"2020-07-19T23:00:00+00:00\", \"2020-07-19T23:30:00+00:00\", \"2020-07-20T00:00:00+00:00\", \"2020-07-20T00:30:00+00:00\", \"2020-07-20T01:00:00+00:00\", \"2020-07-20T01:30:00+00:00\", \"2020-07-20T02:00:00+00:00\", \"2020-07-20T02:30:00+00:00\", \"2020-07-20T03:00:00+00:00\", \"2020-07-20T03:30:00+00:00\", \"2020-07-20T04:00:00+00:00\", \"2020-07-20T04:30:00+00:00\", \"2020-07-20T05:00:00+00:00\", \"2020-07-20T05:30:00+00:00\", \"2020-07-20T06:00:00+00:00\", \"2020-07-20T06:30:00+00:00\", \"2020-07-20T07:00:00+00:00\", \"2020-07-20T07:30:00+00:00\", \"2020-07-20T08:00:00+00:00\", \"2020-07-20T08:30:00+00:00\", \"2020-07-20T09:00:00+00:00\", \"2020-07-20T09:30:00+00:00\", \"2020-07-20T10:00:00+00:00\", \"2020-07-20T10:30:00+00:00\", \"2020-07-20T11:00:00+00:00\", \"2020-07-20T11:30:00+00:00\", \"2020-07-20T12:00:00+00:00\", \"2020-07-20T12:30:00+00:00\", \"2020-07-20T13:00:00+00:00\", \"2020-07-20T13:30:00+00:00\", \"2020-07-20T14:00:00+00:00\", \"2020-07-20T14:30:00+00:00\", \"2020-07-20T15:00:00+00:00\", \"2020-07-20T15:30:00+00:00\", \"2020-07-20T16:00:00+00:00\", \"2020-07-20T16:30:00+00:00\", \"2020-07-20T17:00:00+00:00\", \"2020-07-20T17:30:00+00:00\", \"2020-07-20T18:00:00+00:00\", \"2020-07-20T18:30:00+00:00\", \"2020-07-20T19:00:00+00:00\", \"2020-07-20T19:30:00+00:00\", \"2020-07-20T20:00:00+00:00\", \"2020-07-20T20:30:00+00:00\"], \"y\": [0.9698446, 0.97145903, 0.9689941999999999, 0.9762528, 0.97574747, 0.97476155, 0.97091264, 0.97242016, 0.9768565999999999, 0.9740469, 0.9707771000000001, 0.9695056000000001, 0.96453315, 0.9744411000000001, 0.9686615, 0.9686821, 0.96519864, 0.9661126, 0.9674538, 0.9662091, 0.9635145, 0.96219176, 0.9650631, 0.96464825, 0.9660244, 0.9639171000000001, 0.95367014, 0.9455181999999999, 0.9515565999999999, 0.9525179, 0.9500779, 0.95103896, 0.9535796999999999, 0.9540213, 0.9524912, 0.9504351999999999, 0.94989294, 0.9534667, 0.9525302, 0.9490550999999999, 0.95302516, 0.9535551, 0.95493335, 0.94991547, 0.9530231, 0.9575254000000001, 0.9562539000000001, 0.9566708, 0.96331316, 0.9597906999999999, 0.9617726999999999, 0.9613640999999999, 0.9588767, 0.96544504, 0.96083623, 0.9585316999999999, 0.96144205, 0.9614646000000001, 0.9554754000000001, 0.95792794, 0.9553398999999999, 0.9619082, 0.9594559000000001, 0.96204394, 0.9657901, 0.9640032, 0.9620931, 0.9654574, 0.96312827, 0.96530956, 0.96570396, 0.9688587, 0.9680576999999999, 0.9610949000000001, 0.9671209999999999, 0.9649768, 0.9613044, 0.962734, 0.96737576, 0.9697214, 0.9647571, 0.96389234, 0.9636665000000001, 0.96298045, 0.9699555000000001, 0.9671479, 0.9660244, 0.9680331, 0.97085804, 0.9669117, 0.9680576999999999, 0.9743427, 0.47826764, 0.7404893, 0.95590675, 0.96249986, 0.9578539, 0.95299846, 0.9571021999999999, 0.9573734, 0.9555863000000001, 0.96280384, 0.95816207, 0.9537379, 0.9637937, 0.9629926999999999, 0.96033084, 0.9615242, 0.9535653000000001, 0.95408297, 0.956794, 0.9604212999999999, 0.96008444, 0.96229035, 0.96210754, 0.9591869000000001, 0.96270937, 0.96095943, 0.9588274999999999, 0.9612715000000001, 0.9637568000000001, 0.9662091, 0.95787853, 0.9584577, 0.9587104, 0.9614894, 0.9626476999999999, 0.96068823, 0.9615754999999999, 0.9596696, 0.9603063000000001, 0.9553461, 0.95732397, 0.9611443000000001, 0.962734, 0.96368694, 0.965975, 0.96244234, 0.9634241, 0.96447563, 0.9566093000000001, 0.95790315, 0.9586549000000001, 0.9596530999999999, 0.9598545, 0.95736086, 0.95620257, 0.9576238000000001, 0.957743, 0.9577061, 0.9604295, 0.9571021999999999, 0.95784163, 0.95688033, 0.96001047, 0.95948064, 0.9546252000000001, 0.9568926, 0.95596844, 0.95916027, 0.9678604999999999, 0.96338713, 0.9648658999999999, 0.96640635, 0.9656916999999999, 0.9619453000000001, 0.96869856, 0.96755236, 0.9646318000000002, 0.9652603000000001, 0.9597025, 0.96458256, 0.9630298, 0.9676018, 0.9658886999999999, 0.9617726999999999, 0.96337485, 0.96249986, 0.9613571, 0.9630666999999999, 0.9643360000000001, 0.96337485, 0.9639663, 0.9599366, 0.9645455, 0.9626971, 0.9607745000000001, 0.9556849000000001, 0.96139073, 0.957817, 0.9615263000000001, 0.961514, 0.9600351999999999, 0.96135366, 0.9635473, 0.95727473, 0.9622164000000001, 0.9596654, 0.9648167, 0.9596408000000001, 0.96750313, 0.9576321, 0.9584084999999999, 0.95833445, 0.9551921, 0.9598871999999999, 0.961514, 0.96423733, 0.9597148000000001, 0.95911086, 0.9578908000000002, 0.95742255, 0.9585809000000001, 0.9627709000000001, 0.961933, 0.9566339, 0.95792794, 0.95626426, 0.95725, 0.9554507999999999, 0.96323913, 0.9605280999999999, 0.9576566999999999, 0.9647919, 0.9604295, 0.9564613000000001, 0.9638431000000001, 0.9592463999999999, 0.961859, 0.95914793, 0.9585809000000001, 0.95877814, 0.9546375, 0.9536761999999999, 0.9599118000000001, 0.95702815, 0.9615754999999999, 0.9618220999999999, 0.96320224, 0.95932037, 0.96667737, 0.96449625, 0.9637199000000001, 0.9656423000000001, 0.9673306, 0.95939434, 0.9641511999999999, 0.96673906, 0.9639786, 0.9650508, 0.9574471999999999, 0.9598749, 0.96029395, 0.9581373, 0.9638677, 0.95593154, 0.96630776, 0.9599489, 0.9611812, 0.9605158000000001, 0.9671458, 0.9588521000000001, 0.96025705, 0.9616126, 0.9608116, 0.957398, 0.96208084, 0.9611318999999999, 0.96867377, 0.96427447, 0.9689204, 0.9682917999999999, 0.9633008, 0.96582717, 0.9615263000000001, 0.9662091, 0.96765095, 0.96301734, 0.9613414, 0.9574471999999999, 0.9676264000000001, 0.964299, 0.9579402, 0.9605158000000001, 0.9650014000000001, 0.9669854999999999, 0.9609470999999999, 0.96327627, 0.9639416999999999, 0.96740454, 0.96619684, 0.96335006, 0.9639046, 0.9629064, 0.9659258, 0.96316534, 0.96358436, 0.96231496, 0.9619453000000001, 0.9627462999999999, 0.96023226, 0.96123046, 0.9626723, 0.9630544, 0.96010906, 0.96724445, 0.9699677999999999, 0.9687601, 0.9713480999999999, 0.9678482, 0.9690681999999999, 0.9678851, 0.96383077, 0.9658641, 0.96401554, 0.9681192, 0.9735908999999999, 0.9731595999999999, 0.9663816999999999, 0.970091, 0.9647181, 0.9681316999999999, 0.9641389000000001, 0.96416354, 0.9659135, 0.9673553, 0.9731841999999998, 0.9658886999999999, 0.96427447, 0.9658148999999999, 0.9654574, 0.9684149999999999, 0.9648536, 0.96879715, 0.9664556000000001, 0.96929, 0.9761911, 0.9678728000000001, 0.96495223, 0.9739851999999999, 0.9709783000000001, 0.97250646, 0.9707688, 0.9695365, 0.96432364, 0.9720011000000001, 0.97290087, 0.96746624, 0.96539587, 0.96259844, 0.9637388000000001, 0.9703251, 0.9435123, 0.27706966, 0.96550673, 0.9635473, 0.9637814, 0.9617235000000001, 0.96320224, 0.9614031, 0.9638184999999999, 0.95892614, 0.96198225, 0.9636828000000002, 0.9629435, 0.96038026, 0.9607498999999999, 0.96559304, 0.96162486, 0.95738566, 0.9590985000000001, 0.96243817, 0.96358436, 0.96110725, 0.9634858000000001, 0.9628203000000002, 0.96495223, 0.96125525, 0.9641389000000001, 0.96050346, 0.95929575, 0.96339947, 0.96028167, 0.96204394, 0.96915454, 0.97036225, 0.9594559000000001, 0.9581866, 0.96310365, 0.96468097, 0.96389234, 0.9637322, 0.9666899, 0.9635473, 0.9691421999999998, 0.9608730999999999, 0.96492606, 0.96008444, 0.9645209000000001, 0.9692037, 0.96404034, 0.95800173, 0.9557097, 0.95702815, 0.9538610999999999, 0.9554139000000001, 0.9587658000000001, 0.95602995, 0.9599489, 0.9546744, 0.96241355, 0.95669544, 0.95466214, 0.9606513000000001, 0.96041715, 0.95948064, 0.9568310999999999, 0.9620685, 0.9580388000000001, 0.9598278, 0.9623360999999999, 0.9637690999999999, 0.96123046, 0.9616372, 0.95712674, 0.9622164000000001, 0.96010906, 0.9636582, 0.96501374, 0.97185326, 0.9620562, 0.9607498999999999, 0.9640280000000001, 0.9670472, 0.96111953, 0.9589506999999999, 0.96773726, 0.96558076, 0.9693269, 0.96453315, 0.9660613000000001, 0.963609, 0.9604295, 0.9616741, 0.96222866, 0.9649399, 0.96680075, 0.96931463, 0.9639663, 0.960565, 0.95551246, 0.95902455, 0.9661721999999999, 0.9598749, 0.9619082, 0.96539587, 0.96852595, 0.9642127, 0.96332544, 0.95912313, 0.96323913, 0.9556603000000001, 0.95933264, 0.9636582, 0.9608608000000001, 0.9596162, 0.9626723, 0.9630666999999999, 0.9634858000000001, 0.9583716, 0.9598626, 0.9600351999999999, 0.9600351999999999, 0.96247524, 0.9633625, 0.9647919, 0.9608116, 0.96327627, 0.96201915, 0.96019536, 0.9624013000000001, 0.95798945, 0.9656054000000001, 0.9629312, 0.96410185, 0.9613044, 0.96447164, 0.95847, 0.96537125, 0.96311593, 0.96867377, 0.9605404000000001, 0.96322685, 0.9682301, 0.96410185, 0.96410185, 0.9661721999999999, 0.96002275, 0.9598871999999999, 0.96362126, 0.9618220999999999, 0.96537125, 0.9564613000000001, 0.9618713, 0.9659258, 0.9662954, 0.96649265, 0.9646440999999999, 0.9666405, 0.9659873, 0.963461, 0.9616372, 0.9535899, 0.9595545, 0.95826066, 0.9546744, 0.95309705, 0.9574471999999999, 0.9538365, 0.95783055, 0.9538242, 0.96153855, 0.9589384, 0.9540460999999999, 0.9596162, 0.9641949000000001, 0.9645455, 0.9629681000000001, 0.96639407, 0.9680208, 0.96301734, 0.96383077, 0.96730596, 0.96537125, 0.966924, 0.96211773, 0.9636336, 0.9677619000000001, 0.9697706, 0.964299, 0.96461946, 0.9712618000000001, 0.9720504999999999, 0.9650508, 0.96449625, 0.96062666, 0.95819896, 0.959764, 0.9553398999999999, 0.9585193999999999, 0.96550673, 0.9566339, 0.96004355, 0.9563504, 0.9606144, 0.9609716999999999, 0.9569789000000001, 0.96012133, 0.9668623, 0.97033745, 0.9661721999999999, 0.96516174, 0.96089774, 0.9619699, 0.9643360000000001, 0.9641758, 0.9592835, 0.9632639000000001, 0.96017075, 0.95708984, 0.964484, 0.9627462999999999, 0.96730596, 0.96447027, 0.9646884, 0.96490663, 0.9651248, 0.9653431999999998, 0.96556133, 0.96577954, 0.9659976999999998, 0.9662159, 0.96643424, 0.96665245, 0.9668706, 0.9670888000000001, 0.96730715, 0.96752536, 0.9677435, 0.9679617, 0.9681799000000001, 0.9683982, 0.9686164, 0.9688346, 0.9690528, 0.9692710999999999, 0.96948934, 0.9697075000000001, 0.9699257, 0.97014385, 0.97036225, 0.97011685, 0.96987146, 0.96962625, 0.96938086, 0.96913564, 0.96889025, 0.96864486, 0.96839964, 0.96815425, 0.96790886, 0.96766365, 0.96741825, 0.96717286, 0.96692765, 0.96668226, 0.96643704, 0.96619165, 0.96594626, 0.96570104, 0.96545565, 0.96521026, 0.96496505, 0.96471965, 0.96447444, 0.96422905, 0.96398365, 0.9619261999999998, 0.96249986, 0.9687478, 0.9682549000000001, 0.96734285, 0.96673906, 0.96964735, 0.966776, 0.97081816, 0.9708643, 0.9716143, 0.96249276, 0.96036255, 0.9582324000000001, 0.95610225, 0.95397204, 0.9518419, 0.9497117, 0.9475815000000001, 0.9454513000000001, 0.94332117, 0.9699924000000001, 0.96927774, 0.96750313, 0.96225345, 0.96721256, 0.96657777, 0.9659428, 0.9653079999999999, 0.96467304, 0.96403825, 0.9634033000000001, 0.9627684999999999, 0.9621334999999999, 0.96295583, 0.96651727, 0.9630913000000001, 0.9670472, 0.96931463, 0.9692283000000002, 0.96948725, 0.9652603000000001, 0.96809465, 0.96634465, 0.9632146, 0.96534646, 0.9671209999999999, 0.9614523000000001, 0.9672318999999999, 0.9648044, 0.96427447, 0.96111953, 0.9661476000000001, 0.9661353000000001, 0.9670472, 0.96553135, 0.9667268, 0.96150166, 0.9646564000000001, 0.969189, 0.96607864, 0.41048568, 0.96709645, 0.99514455, 0.9936164000000001, 0.99666035, 1.0, 0.9917063, 0.99435586, 0.9927662, 0.99244577, 0.9979418999999999, 0.99242115, 0.99344397, 0.9949473, 0.99281543, 0.99105316, 0.9537747999999999, 0.9525671, 0.9517415000000001, 0.95805115, 0.9556849000000001, 0.95079255, 0.95058304, 0.95451427, 0.95285064, 0.9537133, 0.95609164, 0.9549825000000001, 0.95285064, 0.9534298000000001, 0.95284563, 0.9489934000000001]}, {\"mode\": \"lines\", \"name\": \"PE1\", \"type\": \"scatter\", \"x\": [\"2020-07-05T21:00:00+00:00\", \"2020-07-05T21:30:00+00:00\", \"2020-07-05T22:00:00+00:00\", \"2020-07-05T22:30:00+00:00\", \"2020-07-05T23:00:00+00:00\", \"2020-07-05T23:30:00+00:00\", \"2020-07-06T00:00:00+00:00\", \"2020-07-06T00:30:00+00:00\", \"2020-07-06T01:00:00+00:00\", \"2020-07-06T01:30:00+00:00\", \"2020-07-06T02:00:00+00:00\", \"2020-07-06T02:30:00+00:00\", \"2020-07-06T03:00:00+00:00\", \"2020-07-06T03:30:00+00:00\", \"2020-07-06T04:00:00+00:00\", \"2020-07-06T04:30:00+00:00\", \"2020-07-06T05:00:00+00:00\", \"2020-07-06T05:30:00+00:00\", \"2020-07-06T06:00:00+00:00\", \"2020-07-06T06:30:00+00:00\", \"2020-07-06T07:00:00+00:00\", \"2020-07-06T07:30:00+00:00\", \"2020-07-06T08:00:00+00:00\", \"2020-07-06T08:30:00+00:00\", \"2020-07-06T09:00:00+00:00\", \"2020-07-06T09:30:00+00:00\", \"2020-07-06T10:00:00+00:00\", \"2020-07-06T10:30:00+00:00\", \"2020-07-06T11:00:00+00:00\", \"2020-07-06T11:30:00+00:00\", \"2020-07-06T12:00:00+00:00\", \"2020-07-06T12:30:00+00:00\", \"2020-07-06T13:00:00+00:00\", \"2020-07-06T13:30:00+00:00\", \"2020-07-06T14:00:00+00:00\", \"2020-07-06T14:30:00+00:00\", \"2020-07-06T15:00:00+00:00\", \"2020-07-06T15:30:00+00:00\", \"2020-07-06T16:00:00+00:00\", \"2020-07-06T16:30:00+00:00\", \"2020-07-06T17:00:00+00:00\", \"2020-07-06T17:30:00+00:00\", \"2020-07-06T18:00:00+00:00\", \"2020-07-06T18:30:00+00:00\", \"2020-07-06T19:00:00+00:00\", \"2020-07-06T19:30:00+00:00\", \"2020-07-06T20:00:00+00:00\", \"2020-07-06T20:30:00+00:00\", \"2020-07-06T21:00:00+00:00\", \"2020-07-06T21:30:00+00:00\", \"2020-07-06T22:00:00+00:00\", \"2020-07-06T22:30:00+00:00\", \"2020-07-06T23:00:00+00:00\", \"2020-07-06T23:30:00+00:00\", \"2020-07-07T00:00:00+00:00\", \"2020-07-07T00:30:00+00:00\", \"2020-07-07T01:00:00+00:00\", \"2020-07-07T01:30:00+00:00\", \"2020-07-07T02:00:00+00:00\", \"2020-07-07T02:30:00+00:00\", \"2020-07-07T03:00:00+00:00\", \"2020-07-07T03:30:00+00:00\", \"2020-07-07T04:00:00+00:00\", \"2020-07-07T04:30:00+00:00\", \"2020-07-07T05:00:00+00:00\", \"2020-07-07T05:30:00+00:00\", \"2020-07-07T06:00:00+00:00\", \"2020-07-07T06:30:00+00:00\", \"2020-07-07T07:00:00+00:00\", \"2020-07-07T07:30:00+00:00\", \"2020-07-07T08:00:00+00:00\", \"2020-07-07T08:30:00+00:00\", \"2020-07-07T09:00:00+00:00\", \"2020-07-07T09:30:00+00:00\", \"2020-07-07T10:00:00+00:00\", \"2020-07-07T10:30:00+00:00\", \"2020-07-07T11:00:00+00:00\", \"2020-07-07T11:30:00+00:00\", \"2020-07-07T12:00:00+00:00\", \"2020-07-07T12:30:00+00:00\", \"2020-07-07T13:00:00+00:00\", \"2020-07-07T13:30:00+00:00\", \"2020-07-07T14:00:00+00:00\", \"2020-07-07T14:30:00+00:00\", \"2020-07-07T15:00:00+00:00\", \"2020-07-07T15:30:00+00:00\", \"2020-07-07T16:00:00+00:00\", \"2020-07-07T16:30:00+00:00\", \"2020-07-07T17:00:00+00:00\", \"2020-07-07T17:30:00+00:00\", \"2020-07-07T18:00:00+00:00\", \"2020-07-07T18:30:00+00:00\", \"2020-07-07T19:00:00+00:00\", \"2020-07-07T19:30:00+00:00\", \"2020-07-07T20:00:00+00:00\", \"2020-07-07T20:30:00+00:00\", \"2020-07-07T21:00:00+00:00\", \"2020-07-07T21:30:00+00:00\", \"2020-07-07T22:00:00+00:00\", \"2020-07-07T22:30:00+00:00\", \"2020-07-07T23:00:00+00:00\", \"2020-07-07T23:30:00+00:00\", \"2020-07-08T00:00:00+00:00\", \"2020-07-08T00:30:00+00:00\", \"2020-07-08T01:00:00+00:00\", \"2020-07-08T01:30:00+00:00\", \"2020-07-08T02:00:00+00:00\", \"2020-07-08T02:30:00+00:00\", \"2020-07-08T03:00:00+00:00\", \"2020-07-08T03:30:00+00:00\", \"2020-07-08T04:00:00+00:00\", \"2020-07-08T04:30:00+00:00\", \"2020-07-08T05:00:00+00:00\", \"2020-07-08T05:30:00+00:00\", \"2020-07-08T06:00:00+00:00\", \"2020-07-08T06:30:00+00:00\", \"2020-07-08T07:00:00+00:00\", \"2020-07-08T07:30:00+00:00\", \"2020-07-08T08:00:00+00:00\", \"2020-07-08T08:30:00+00:00\", \"2020-07-08T09:00:00+00:00\", \"2020-07-08T09:30:00+00:00\", \"2020-07-08T10:00:00+00:00\", \"2020-07-08T10:30:00+00:00\", \"2020-07-08T11:00:00+00:00\", \"2020-07-08T11:30:00+00:00\", \"2020-07-08T12:00:00+00:00\", \"2020-07-08T12:30:00+00:00\", \"2020-07-08T13:00:00+00:00\", \"2020-07-08T13:30:00+00:00\", \"2020-07-08T14:00:00+00:00\", \"2020-07-08T14:30:00+00:00\", \"2020-07-08T15:00:00+00:00\", \"2020-07-08T15:30:00+00:00\", \"2020-07-08T16:00:00+00:00\", \"2020-07-08T16:30:00+00:00\", \"2020-07-08T17:00:00+00:00\", \"2020-07-08T17:30:00+00:00\", \"2020-07-08T18:00:00+00:00\", \"2020-07-08T18:30:00+00:00\", \"2020-07-08T19:00:00+00:00\", \"2020-07-08T19:30:00+00:00\", \"2020-07-08T20:00:00+00:00\", \"2020-07-08T20:30:00+00:00\", \"2020-07-08T21:00:00+00:00\", \"2020-07-08T21:30:00+00:00\", \"2020-07-08T22:00:00+00:00\", \"2020-07-08T22:30:00+00:00\", \"2020-07-08T23:00:00+00:00\", \"2020-07-08T23:30:00+00:00\", \"2020-07-09T00:00:00+00:00\", \"2020-07-09T00:30:00+00:00\", \"2020-07-09T01:00:00+00:00\", \"2020-07-09T01:30:00+00:00\", \"2020-07-09T02:00:00+00:00\", \"2020-07-09T02:30:00+00:00\", \"2020-07-09T03:00:00+00:00\", \"2020-07-09T03:30:00+00:00\", \"2020-07-09T04:00:00+00:00\", \"2020-07-09T04:30:00+00:00\", \"2020-07-09T05:00:00+00:00\", \"2020-07-09T05:30:00+00:00\", \"2020-07-09T06:00:00+00:00\", \"2020-07-09T06:30:00+00:00\", \"2020-07-09T07:00:00+00:00\", \"2020-07-09T07:30:00+00:00\", \"2020-07-09T08:00:00+00:00\", \"2020-07-09T08:30:00+00:00\", \"2020-07-09T09:00:00+00:00\", \"2020-07-09T09:30:00+00:00\", \"2020-07-09T10:00:00+00:00\", \"2020-07-09T10:30:00+00:00\", \"2020-07-09T11:00:00+00:00\", \"2020-07-09T11:30:00+00:00\", \"2020-07-09T12:00:00+00:00\", \"2020-07-09T12:30:00+00:00\", \"2020-07-09T13:00:00+00:00\", \"2020-07-09T13:30:00+00:00\", \"2020-07-09T14:00:00+00:00\", \"2020-07-09T14:30:00+00:00\", \"2020-07-09T15:00:00+00:00\", \"2020-07-09T15:30:00+00:00\", \"2020-07-09T16:00:00+00:00\", \"2020-07-09T16:30:00+00:00\", \"2020-07-09T17:00:00+00:00\", \"2020-07-09T17:30:00+00:00\", \"2020-07-09T18:00:00+00:00\", \"2020-07-09T18:30:00+00:00\", \"2020-07-09T19:00:00+00:00\", \"2020-07-09T19:30:00+00:00\", \"2020-07-09T20:00:00+00:00\", \"2020-07-09T20:30:00+00:00\", \"2020-07-09T21:00:00+00:00\", \"2020-07-09T21:30:00+00:00\", \"2020-07-09T22:00:00+00:00\", \"2020-07-09T22:30:00+00:00\", \"2020-07-09T23:00:00+00:00\", \"2020-07-09T23:30:00+00:00\", \"2020-07-10T00:00:00+00:00\", \"2020-07-10T00:30:00+00:00\", \"2020-07-10T01:00:00+00:00\", \"2020-07-10T01:30:00+00:00\", \"2020-07-10T02:00:00+00:00\", \"2020-07-10T02:30:00+00:00\", \"2020-07-10T03:00:00+00:00\", \"2020-07-10T03:30:00+00:00\", \"2020-07-10T04:00:00+00:00\", \"2020-07-10T04:30:00+00:00\", \"2020-07-10T05:00:00+00:00\", \"2020-07-10T05:30:00+00:00\", \"2020-07-10T06:00:00+00:00\", \"2020-07-10T06:30:00+00:00\", \"2020-07-10T07:00:00+00:00\", \"2020-07-10T07:30:00+00:00\", \"2020-07-10T08:00:00+00:00\", \"2020-07-10T08:30:00+00:00\", \"2020-07-10T09:00:00+00:00\", \"2020-07-10T09:30:00+00:00\", \"2020-07-10T10:00:00+00:00\", \"2020-07-10T10:30:00+00:00\", \"2020-07-10T11:00:00+00:00\", \"2020-07-10T11:30:00+00:00\", \"2020-07-10T12:00:00+00:00\", \"2020-07-10T12:30:00+00:00\", \"2020-07-10T13:00:00+00:00\", \"2020-07-10T13:30:00+00:00\", \"2020-07-10T14:00:00+00:00\", \"2020-07-10T14:30:00+00:00\", \"2020-07-10T15:00:00+00:00\", \"2020-07-10T15:30:00+00:00\", \"2020-07-10T16:00:00+00:00\", \"2020-07-10T16:30:00+00:00\", \"2020-07-10T17:00:00+00:00\", \"2020-07-10T17:30:00+00:00\", \"2020-07-10T18:00:00+00:00\", \"2020-07-10T18:30:00+00:00\", \"2020-07-10T19:00:00+00:00\", \"2020-07-10T19:30:00+00:00\", \"2020-07-10T20:00:00+00:00\", \"2020-07-10T20:30:00+00:00\", \"2020-07-10T21:00:00+00:00\", \"2020-07-10T21:30:00+00:00\", \"2020-07-10T22:00:00+00:00\", \"2020-07-10T22:30:00+00:00\", \"2020-07-10T23:00:00+00:00\", \"2020-07-10T23:30:00+00:00\", \"2020-07-11T00:00:00+00:00\", \"2020-07-11T00:30:00+00:00\", \"2020-07-11T01:00:00+00:00\", \"2020-07-11T01:30:00+00:00\", \"2020-07-11T02:00:00+00:00\", \"2020-07-11T02:30:00+00:00\", \"2020-07-11T03:00:00+00:00\", \"2020-07-11T03:30:00+00:00\", \"2020-07-11T04:00:00+00:00\", \"2020-07-11T04:30:00+00:00\", \"2020-07-11T05:00:00+00:00\", \"2020-07-11T05:30:00+00:00\", \"2020-07-11T06:00:00+00:00\", \"2020-07-11T06:30:00+00:00\", \"2020-07-11T07:00:00+00:00\", \"2020-07-11T07:30:00+00:00\", \"2020-07-11T08:00:00+00:00\", \"2020-07-11T08:30:00+00:00\", \"2020-07-11T09:00:00+00:00\", \"2020-07-11T09:30:00+00:00\", \"2020-07-11T10:00:00+00:00\", \"2020-07-11T10:30:00+00:00\", \"2020-07-11T11:00:00+00:00\", \"2020-07-11T11:30:00+00:00\", \"2020-07-11T12:00:00+00:00\", \"2020-07-11T12:30:00+00:00\", \"2020-07-11T13:00:00+00:00\", \"2020-07-11T13:30:00+00:00\", \"2020-07-11T14:00:00+00:00\", \"2020-07-11T14:30:00+00:00\", \"2020-07-11T15:00:00+00:00\", \"2020-07-11T15:30:00+00:00\", \"2020-07-11T16:00:00+00:00\", \"2020-07-11T16:30:00+00:00\", \"2020-07-11T17:00:00+00:00\", \"2020-07-11T17:30:00+00:00\", \"2020-07-11T18:00:00+00:00\", \"2020-07-11T18:30:00+00:00\", \"2020-07-11T19:00:00+00:00\", \"2020-07-11T19:30:00+00:00\", \"2020-07-11T20:00:00+00:00\", \"2020-07-11T20:30:00+00:00\", \"2020-07-11T21:00:00+00:00\", \"2020-07-11T21:30:00+00:00\", \"2020-07-11T22:00:00+00:00\", \"2020-07-11T22:30:00+00:00\", \"2020-07-11T23:00:00+00:00\", \"2020-07-11T23:30:00+00:00\", \"2020-07-12T00:00:00+00:00\", \"2020-07-12T00:30:00+00:00\", \"2020-07-12T01:00:00+00:00\", \"2020-07-12T01:30:00+00:00\", \"2020-07-12T02:00:00+00:00\", \"2020-07-12T02:30:00+00:00\", \"2020-07-12T03:00:00+00:00\", \"2020-07-12T03:30:00+00:00\", \"2020-07-12T04:00:00+00:00\", \"2020-07-12T04:30:00+00:00\", \"2020-07-12T05:00:00+00:00\", \"2020-07-12T05:30:00+00:00\", \"2020-07-12T06:00:00+00:00\", \"2020-07-12T06:30:00+00:00\", \"2020-07-12T07:00:00+00:00\", \"2020-07-12T07:30:00+00:00\", \"2020-07-12T08:00:00+00:00\", \"2020-07-12T08:30:00+00:00\", \"2020-07-12T09:00:00+00:00\", \"2020-07-12T09:30:00+00:00\", \"2020-07-12T10:00:00+00:00\", \"2020-07-12T10:30:00+00:00\", \"2020-07-12T11:00:00+00:00\", \"2020-07-12T11:30:00+00:00\", \"2020-07-12T12:00:00+00:00\", \"2020-07-12T12:30:00+00:00\", \"2020-07-12T13:00:00+00:00\", \"2020-07-12T13:30:00+00:00\", \"2020-07-12T14:00:00+00:00\", \"2020-07-12T14:30:00+00:00\", \"2020-07-12T15:00:00+00:00\", \"2020-07-12T15:30:00+00:00\", \"2020-07-12T16:00:00+00:00\", \"2020-07-12T16:30:00+00:00\", \"2020-07-12T17:00:00+00:00\", \"2020-07-12T17:30:00+00:00\", \"2020-07-12T18:00:00+00:00\", \"2020-07-12T18:30:00+00:00\", \"2020-07-12T19:00:00+00:00\", \"2020-07-12T19:30:00+00:00\", \"2020-07-12T20:00:00+00:00\", \"2020-07-12T20:30:00+00:00\", \"2020-07-12T21:00:00+00:00\", \"2020-07-12T21:30:00+00:00\", \"2020-07-12T22:00:00+00:00\", \"2020-07-12T22:30:00+00:00\", \"2020-07-12T23:00:00+00:00\", \"2020-07-12T23:30:00+00:00\", \"2020-07-13T00:00:00+00:00\", \"2020-07-13T00:30:00+00:00\", \"2020-07-13T01:00:00+00:00\", \"2020-07-13T01:30:00+00:00\", \"2020-07-13T02:00:00+00:00\", \"2020-07-13T02:30:00+00:00\", \"2020-07-13T03:00:00+00:00\", \"2020-07-13T03:30:00+00:00\", \"2020-07-13T04:00:00+00:00\", \"2020-07-13T04:30:00+00:00\", \"2020-07-13T05:00:00+00:00\", \"2020-07-13T05:30:00+00:00\", \"2020-07-13T06:00:00+00:00\", \"2020-07-13T06:30:00+00:00\", \"2020-07-13T07:00:00+00:00\", \"2020-07-13T07:30:00+00:00\", \"2020-07-13T08:00:00+00:00\", \"2020-07-13T08:30:00+00:00\", \"2020-07-13T09:00:00+00:00\", \"2020-07-13T09:30:00+00:00\", \"2020-07-13T10:00:00+00:00\", \"2020-07-13T10:30:00+00:00\", \"2020-07-13T11:00:00+00:00\", \"2020-07-13T11:30:00+00:00\", \"2020-07-13T12:00:00+00:00\", \"2020-07-13T12:30:00+00:00\", \"2020-07-13T13:00:00+00:00\", \"2020-07-13T13:30:00+00:00\", \"2020-07-13T14:00:00+00:00\", \"2020-07-13T14:30:00+00:00\", \"2020-07-13T15:00:00+00:00\", \"2020-07-13T15:30:00+00:00\", \"2020-07-13T16:00:00+00:00\", \"2020-07-13T16:30:00+00:00\", \"2020-07-13T17:00:00+00:00\", \"2020-07-13T17:30:00+00:00\", \"2020-07-13T18:00:00+00:00\", \"2020-07-13T18:30:00+00:00\", \"2020-07-13T19:00:00+00:00\", \"2020-07-13T19:30:00+00:00\", \"2020-07-13T20:00:00+00:00\", \"2020-07-13T20:30:00+00:00\", \"2020-07-13T21:00:00+00:00\", \"2020-07-13T21:30:00+00:00\", \"2020-07-13T22:00:00+00:00\", \"2020-07-13T22:30:00+00:00\", \"2020-07-13T23:00:00+00:00\", \"2020-07-13T23:30:00+00:00\", \"2020-07-14T00:00:00+00:00\", \"2020-07-14T00:30:00+00:00\", \"2020-07-14T01:00:00+00:00\", \"2020-07-14T01:30:00+00:00\", \"2020-07-14T02:00:00+00:00\", \"2020-07-14T02:30:00+00:00\", \"2020-07-14T03:00:00+00:00\", \"2020-07-14T03:30:00+00:00\", \"2020-07-14T04:00:00+00:00\", \"2020-07-14T04:30:00+00:00\", \"2020-07-14T05:00:00+00:00\", \"2020-07-14T05:30:00+00:00\", \"2020-07-14T06:00:00+00:00\", \"2020-07-14T06:30:00+00:00\", \"2020-07-14T07:00:00+00:00\", \"2020-07-14T07:30:00+00:00\", \"2020-07-14T08:00:00+00:00\", \"2020-07-14T08:30:00+00:00\", \"2020-07-14T09:00:00+00:00\", \"2020-07-14T09:30:00+00:00\", \"2020-07-14T10:00:00+00:00\", \"2020-07-14T10:30:00+00:00\", \"2020-07-14T11:00:00+00:00\", \"2020-07-14T11:30:00+00:00\", \"2020-07-14T12:00:00+00:00\", \"2020-07-14T12:30:00+00:00\", \"2020-07-14T13:00:00+00:00\", \"2020-07-14T13:30:00+00:00\", \"2020-07-14T14:00:00+00:00\", \"2020-07-14T14:30:00+00:00\", \"2020-07-14T15:00:00+00:00\", \"2020-07-14T15:30:00+00:00\", \"2020-07-14T16:00:00+00:00\", \"2020-07-14T16:30:00+00:00\", \"2020-07-14T17:00:00+00:00\", \"2020-07-14T17:30:00+00:00\", \"2020-07-14T18:00:00+00:00\", \"2020-07-14T18:30:00+00:00\", \"2020-07-14T19:00:00+00:00\", \"2020-07-14T19:30:00+00:00\", \"2020-07-14T20:00:00+00:00\", \"2020-07-14T20:30:00+00:00\", \"2020-07-14T21:00:00+00:00\", \"2020-07-14T21:30:00+00:00\", \"2020-07-14T22:00:00+00:00\", \"2020-07-14T22:30:00+00:00\", \"2020-07-14T23:00:00+00:00\", \"2020-07-14T23:30:00+00:00\", \"2020-07-15T00:00:00+00:00\", \"2020-07-15T00:30:00+00:00\", \"2020-07-15T01:00:00+00:00\", \"2020-07-15T01:30:00+00:00\", \"2020-07-15T02:00:00+00:00\", \"2020-07-15T02:30:00+00:00\", \"2020-07-15T03:00:00+00:00\", \"2020-07-15T03:30:00+00:00\", \"2020-07-15T04:00:00+00:00\", \"2020-07-15T04:30:00+00:00\", \"2020-07-15T05:00:00+00:00\", \"2020-07-15T05:30:00+00:00\", \"2020-07-15T06:00:00+00:00\", \"2020-07-15T06:30:00+00:00\", \"2020-07-15T07:00:00+00:00\", \"2020-07-15T07:30:00+00:00\", \"2020-07-15T08:00:00+00:00\", \"2020-07-15T08:30:00+00:00\", \"2020-07-15T09:00:00+00:00\", \"2020-07-15T09:30:00+00:00\", \"2020-07-15T10:00:00+00:00\", \"2020-07-15T10:30:00+00:00\", \"2020-07-15T11:00:00+00:00\", \"2020-07-15T11:30:00+00:00\", \"2020-07-15T12:00:00+00:00\", \"2020-07-15T12:30:00+00:00\", \"2020-07-15T13:00:00+00:00\", \"2020-07-15T13:30:00+00:00\", \"2020-07-15T14:00:00+00:00\", \"2020-07-15T14:30:00+00:00\", \"2020-07-15T15:00:00+00:00\", \"2020-07-15T15:30:00+00:00\", \"2020-07-15T16:00:00+00:00\", \"2020-07-15T16:30:00+00:00\", \"2020-07-15T17:00:00+00:00\", \"2020-07-15T17:30:00+00:00\", \"2020-07-15T18:00:00+00:00\", \"2020-07-15T18:30:00+00:00\", \"2020-07-15T19:00:00+00:00\", \"2020-07-15T19:30:00+00:00\", \"2020-07-15T20:00:00+00:00\", \"2020-07-15T20:30:00+00:00\", \"2020-07-15T21:00:00+00:00\", \"2020-07-15T21:30:00+00:00\", \"2020-07-15T22:00:00+00:00\", \"2020-07-15T22:30:00+00:00\", \"2020-07-15T23:00:00+00:00\", \"2020-07-15T23:30:00+00:00\", \"2020-07-16T00:00:00+00:00\", \"2020-07-16T00:30:00+00:00\", \"2020-07-16T01:00:00+00:00\", \"2020-07-16T01:30:00+00:00\", \"2020-07-16T02:00:00+00:00\", \"2020-07-16T02:30:00+00:00\", \"2020-07-16T03:00:00+00:00\", \"2020-07-16T03:30:00+00:00\", \"2020-07-16T04:00:00+00:00\", \"2020-07-16T04:30:00+00:00\", \"2020-07-16T05:00:00+00:00\", \"2020-07-16T05:30:00+00:00\", \"2020-07-16T06:00:00+00:00\", \"2020-07-16T06:30:00+00:00\", \"2020-07-16T07:00:00+00:00\", \"2020-07-16T07:30:00+00:00\", \"2020-07-16T08:00:00+00:00\", \"2020-07-16T08:30:00+00:00\", \"2020-07-16T09:00:00+00:00\", \"2020-07-16T09:30:00+00:00\", \"2020-07-16T10:00:00+00:00\", \"2020-07-16T10:30:00+00:00\", \"2020-07-16T11:00:00+00:00\", \"2020-07-16T11:30:00+00:00\", \"2020-07-16T12:00:00+00:00\", \"2020-07-16T12:30:00+00:00\", \"2020-07-16T13:00:00+00:00\", \"2020-07-16T13:30:00+00:00\", \"2020-07-16T14:00:00+00:00\", \"2020-07-16T14:30:00+00:00\", \"2020-07-16T15:00:00+00:00\", \"2020-07-16T15:30:00+00:00\", \"2020-07-16T16:00:00+00:00\", \"2020-07-16T16:30:00+00:00\", \"2020-07-16T17:00:00+00:00\", \"2020-07-16T17:30:00+00:00\", \"2020-07-16T18:00:00+00:00\", \"2020-07-16T18:30:00+00:00\", \"2020-07-16T19:00:00+00:00\", \"2020-07-16T19:30:00+00:00\", \"2020-07-16T20:00:00+00:00\", \"2020-07-16T20:30:00+00:00\", \"2020-07-16T21:00:00+00:00\", \"2020-07-16T21:30:00+00:00\", \"2020-07-16T22:00:00+00:00\", \"2020-07-16T22:30:00+00:00\", \"2020-07-16T23:00:00+00:00\", \"2020-07-16T23:30:00+00:00\", \"2020-07-17T00:00:00+00:00\", \"2020-07-17T00:30:00+00:00\", \"2020-07-17T01:00:00+00:00\", \"2020-07-17T01:30:00+00:00\", \"2020-07-17T02:00:00+00:00\", \"2020-07-17T02:30:00+00:00\", \"2020-07-17T03:00:00+00:00\", \"2020-07-17T03:30:00+00:00\", \"2020-07-17T04:00:00+00:00\", \"2020-07-17T04:30:00+00:00\", \"2020-07-17T05:00:00+00:00\", \"2020-07-17T05:30:00+00:00\", \"2020-07-17T06:00:00+00:00\", \"2020-07-17T06:30:00+00:00\", \"2020-07-17T07:00:00+00:00\", \"2020-07-17T07:30:00+00:00\", \"2020-07-17T08:00:00+00:00\", \"2020-07-17T08:30:00+00:00\", \"2020-07-17T09:00:00+00:00\", \"2020-07-17T09:30:00+00:00\", \"2020-07-17T10:00:00+00:00\", \"2020-07-17T10:30:00+00:00\", \"2020-07-17T11:00:00+00:00\", \"2020-07-17T11:30:00+00:00\", \"2020-07-17T12:00:00+00:00\", \"2020-07-17T12:30:00+00:00\", \"2020-07-17T13:00:00+00:00\", \"2020-07-17T13:30:00+00:00\", \"2020-07-17T14:00:00+00:00\", \"2020-07-17T14:30:00+00:00\", \"2020-07-17T15:00:00+00:00\", \"2020-07-17T15:30:00+00:00\", \"2020-07-17T16:00:00+00:00\", \"2020-07-17T16:30:00+00:00\", \"2020-07-17T17:00:00+00:00\", \"2020-07-17T17:30:00+00:00\", \"2020-07-17T18:00:00+00:00\", \"2020-07-17T18:30:00+00:00\", \"2020-07-17T19:00:00+00:00\", \"2020-07-17T19:30:00+00:00\", \"2020-07-17T20:00:00+00:00\", \"2020-07-17T20:30:00+00:00\", \"2020-07-17T21:00:00+00:00\", \"2020-07-17T21:30:00+00:00\", \"2020-07-17T22:00:00+00:00\", \"2020-07-17T22:30:00+00:00\", \"2020-07-17T23:00:00+00:00\", \"2020-07-17T23:30:00+00:00\", \"2020-07-18T00:00:00+00:00\", \"2020-07-18T00:30:00+00:00\", \"2020-07-18T01:00:00+00:00\", \"2020-07-18T01:30:00+00:00\", \"2020-07-18T02:00:00+00:00\", \"2020-07-18T02:30:00+00:00\", \"2020-07-18T03:00:00+00:00\", \"2020-07-18T03:30:00+00:00\", \"2020-07-18T04:00:00+00:00\", \"2020-07-18T04:30:00+00:00\", \"2020-07-18T05:00:00+00:00\", \"2020-07-18T05:30:00+00:00\", \"2020-07-18T06:00:00+00:00\", \"2020-07-18T06:30:00+00:00\", \"2020-07-18T07:00:00+00:00\", \"2020-07-18T07:30:00+00:00\", \"2020-07-18T08:00:00+00:00\", \"2020-07-18T08:30:00+00:00\", \"2020-07-18T09:00:00+00:00\", \"2020-07-18T09:30:00+00:00\", \"2020-07-18T10:00:00+00:00\", \"2020-07-18T10:30:00+00:00\", \"2020-07-18T11:00:00+00:00\", \"2020-07-18T11:30:00+00:00\", \"2020-07-18T12:00:00+00:00\", \"2020-07-18T12:30:00+00:00\", \"2020-07-18T13:00:00+00:00\", \"2020-07-18T13:30:00+00:00\", \"2020-07-18T14:00:00+00:00\", \"2020-07-18T14:30:00+00:00\", \"2020-07-18T15:00:00+00:00\", \"2020-07-18T15:30:00+00:00\", \"2020-07-18T16:00:00+00:00\", \"2020-07-18T16:30:00+00:00\", \"2020-07-18T17:00:00+00:00\", \"2020-07-18T17:30:00+00:00\", \"2020-07-18T18:00:00+00:00\", \"2020-07-18T18:30:00+00:00\", \"2020-07-18T19:00:00+00:00\", \"2020-07-18T19:30:00+00:00\", \"2020-07-18T20:00:00+00:00\", \"2020-07-18T20:30:00+00:00\", \"2020-07-18T21:00:00+00:00\", \"2020-07-18T21:30:00+00:00\", \"2020-07-18T22:00:00+00:00\", \"2020-07-18T22:30:00+00:00\", \"2020-07-18T23:00:00+00:00\", \"2020-07-18T23:30:00+00:00\", \"2020-07-19T00:00:00+00:00\", \"2020-07-19T00:30:00+00:00\", \"2020-07-19T01:00:00+00:00\", \"2020-07-19T01:30:00+00:00\", \"2020-07-19T02:00:00+00:00\", \"2020-07-19T02:30:00+00:00\", \"2020-07-19T03:00:00+00:00\", \"2020-07-19T03:30:00+00:00\", \"2020-07-19T04:00:00+00:00\", \"2020-07-19T04:30:00+00:00\", \"2020-07-19T05:00:00+00:00\", \"2020-07-19T05:30:00+00:00\", \"2020-07-19T06:00:00+00:00\", \"2020-07-19T06:30:00+00:00\", \"2020-07-19T07:00:00+00:00\", \"2020-07-19T07:30:00+00:00\", \"2020-07-19T08:00:00+00:00\", \"2020-07-19T08:30:00+00:00\", \"2020-07-19T09:00:00+00:00\", \"2020-07-19T09:30:00+00:00\", \"2020-07-19T10:00:00+00:00\", \"2020-07-19T10:30:00+00:00\", \"2020-07-19T11:00:00+00:00\", \"2020-07-19T11:30:00+00:00\", \"2020-07-19T12:00:00+00:00\", \"2020-07-19T12:30:00+00:00\", \"2020-07-19T13:00:00+00:00\", \"2020-07-19T13:30:00+00:00\", \"2020-07-19T14:00:00+00:00\", \"2020-07-19T14:30:00+00:00\", \"2020-07-19T15:00:00+00:00\", \"2020-07-19T15:30:00+00:00\", \"2020-07-19T16:00:00+00:00\", \"2020-07-19T16:30:00+00:00\", \"2020-07-19T17:00:00+00:00\", \"2020-07-19T17:30:00+00:00\", \"2020-07-19T18:00:00+00:00\", \"2020-07-19T18:30:00+00:00\", \"2020-07-19T19:00:00+00:00\", \"2020-07-19T19:30:00+00:00\", \"2020-07-19T20:00:00+00:00\", \"2020-07-19T20:30:00+00:00\", \"2020-07-19T21:00:00+00:00\", \"2020-07-19T21:30:00+00:00\", \"2020-07-19T22:00:00+00:00\", \"2020-07-19T22:30:00+00:00\", \"2020-07-19T23:00:00+00:00\", \"2020-07-19T23:30:00+00:00\", \"2020-07-20T00:00:00+00:00\", \"2020-07-20T00:30:00+00:00\", \"2020-07-20T01:00:00+00:00\", \"2020-07-20T01:30:00+00:00\", \"2020-07-20T02:00:00+00:00\", \"2020-07-20T02:30:00+00:00\", \"2020-07-20T03:00:00+00:00\", \"2020-07-20T03:30:00+00:00\", \"2020-07-20T04:00:00+00:00\", \"2020-07-20T04:30:00+00:00\", \"2020-07-20T05:00:00+00:00\", \"2020-07-20T05:30:00+00:00\", \"2020-07-20T06:00:00+00:00\", \"2020-07-20T06:30:00+00:00\", \"2020-07-20T07:00:00+00:00\", \"2020-07-20T07:30:00+00:00\", \"2020-07-20T08:00:00+00:00\", \"2020-07-20T08:30:00+00:00\", \"2020-07-20T09:00:00+00:00\", \"2020-07-20T09:30:00+00:00\", \"2020-07-20T10:00:00+00:00\", \"2020-07-20T10:30:00+00:00\", \"2020-07-20T11:00:00+00:00\", \"2020-07-20T11:30:00+00:00\", \"2020-07-20T12:00:00+00:00\", \"2020-07-20T12:30:00+00:00\", \"2020-07-20T13:00:00+00:00\", \"2020-07-20T13:30:00+00:00\", \"2020-07-20T14:00:00+00:00\", \"2020-07-20T14:30:00+00:00\", \"2020-07-20T15:00:00+00:00\", \"2020-07-20T15:30:00+00:00\", \"2020-07-20T16:00:00+00:00\", \"2020-07-20T16:30:00+00:00\", \"2020-07-20T17:00:00+00:00\", \"2020-07-20T17:30:00+00:00\", \"2020-07-20T18:00:00+00:00\", \"2020-07-20T18:30:00+00:00\", \"2020-07-20T19:00:00+00:00\", \"2020-07-20T19:30:00+00:00\", \"2020-07-20T20:00:00+00:00\", \"2020-07-20T20:30:00+00:00\"], \"y\": [0.9442119000000001, 0.94797057, 0.9441379000000001, 0.9503366, 0.9502257, 0.94583863, 0.9464546999999999, 0.94694775, 0.9515074, 0.9487653, 0.9450006, 0.94399005, 0.9430411, 0.9485620000000001, 0.9439757, 0.9456043, 0.94290763, 0.94166094, 0.9429424999999999, 0.9414883, 0.9405888000000001, 0.9404040000000001, 0.93941814, 0.9411064, 0.94145143, 0.9395536, 0.93109983, 0.9252461999999999, 0.9247779, 0.927908, 0.9239501, 0.9276964, 0.9278382, 0.93045896, 0.92614573, 0.9285241, 0.9279325999999999, 0.9307794, 0.9268112, 0.92417395, 0.9254803, 0.9309293, 0.9296332, 0.92792445, 0.9276121999999999, 0.9317405000000001, 0.93055755, 0.93406963, 0.93917155, 0.9332316999999999, 0.9390854, 0.93641126, 0.9339095, 0.93745863, 0.93653446, 0.9341436, 0.9345873, 0.93739694, 0.9322334999999999, 0.93239367, 0.9283044, 0.938617, 0.93437773, 0.9369164000000001, 0.9409832, 0.9413651, 0.9370767, 0.94081056, 0.9371013000000001, 0.9380871999999999, 0.9404306999999998, 0.9445446, 0.9422278000000001, 0.93954134, 0.9433123, 0.93887585, 0.9381261999999999, 0.9363783000000001, 0.9430699, 0.94426113, 0.9384322, 0.93872786, 0.9411002, 0.9364049999999999, 0.9453950000000001, 0.9458693000000001, 0.94098717, 0.9471181000000001, 0.9438365, 0.9468738000000001, 0.94274753, 0.94975746, 0.9595421999999999, 0.9463069, 0.9284009, 0.93227047, 0.9299044, 0.9252051, 0.9298058000000001, 0.9296703000000002, 0.93064386, 0.93376166, 0.92949766, 0.9257761, 0.93318856, 0.9341313, 0.9319008, 0.9334781999999999, 0.9259116, 0.9274889999999999, 0.9296332, 0.93195003, 0.9349323, 0.93558544, 0.9325992000000001, 0.93031114, 0.9355609, 0.93240595, 0.9316667, 0.9326771999999999, 0.93553627, 0.9393072, 0.9318514000000001, 0.93106276, 0.9347332, 0.93449074, 0.9321349, 0.9343531999999999, 0.9330099000000001, 0.9333549999999999, 0.9313832000000001, 0.92883223, 0.93261546, 0.93561006, 0.9358648, 0.9365693000000002, 0.9365220999999999, 0.9365159, 0.93702734, 0.93789, 0.9283701999999999, 0.92883223, 0.93124557, 0.93303454, 0.9319622999999999, 0.92985505, 0.93246764, 0.93234444, 0.9305411, 0.9286023000000001, 0.93243074, 0.92828995, 0.9315681, 0.9296085999999999, 0.93340415, 0.9316296000000001, 0.9264785, 0.9281174999999999, 0.928364, 0.9334781999999999, 0.94077367, 0.93687946, 0.9373476999999999, 0.93744636, 0.9380501, 0.93765587, 0.94050246, 0.9378654000000001, 0.9377668, 0.93653446, 0.93687946, 0.93862945, 0.9361030999999999, 0.9430042, 0.9356841, 0.9361277, 0.9342299000000001, 0.93406963, 0.936214, 0.9363741, 0.93750787, 0.934846, 0.9389251000000001, 0.9307671000000001, 0.9366454, 0.9349816999999999, 0.9318761999999999, 0.9307917, 0.9337494000000001, 0.9280189, 0.93394643, 0.93445176, 0.9340821, 0.9340081, 0.93658364, 0.92958397, 0.93503094, 0.9319377000000001, 0.9360908000000001, 0.9303604, 0.9380378, 0.9319254000000001, 0.9320857, 0.9288076, 0.92912805, 0.9328373, 0.9368424000000001, 0.9381980999999999, 0.93533903, 0.9308040000000001, 0.9310504000000001, 0.9318145, 0.9300521999999999, 0.93754494, 0.93317, 0.9297440999999999, 0.93122303, 0.9285735, 0.92931294, 0.9266634, 0.93763125, 0.9338972, 0.93007684, 0.934846, 0.9319748, 0.92800665, 0.9327264000000001, 0.93243074, 0.93403274, 0.9305329999999999, 0.9309395, 0.9311120999999999, 0.92721796, 0.92743975, 0.92910343, 0.93195003, 0.93457496, 0.9307423, 0.9346242, 0.9318390999999999, 0.93835825, 0.9342914000000001, 0.93802553, 0.9389745, 0.9377421999999999, 0.93341666, 0.9361277, 0.93835825, 0.9349816999999999, 0.9393687, 0.9277725, 0.9326032, 0.9328004000000001, 0.93321943, 0.9341436, 0.9312353000000001, 0.9356472, 0.93128455, 0.9329235999999999, 0.931679, 0.93917155, 0.9306068000000001, 0.9339835, 0.9327757999999999, 0.93249226, 0.93116134, 0.93127227, 0.9326278, 0.93839514, 0.9393440999999999, 0.93960285, 0.93758184, 0.9336508, 0.93658364, 0.9334413, 0.93775445, 0.9405148999999999, 0.9360785, 0.93333036, 0.93006456, 0.9406380999999999, 0.9364728000000001, 0.9309026, 0.9338232, 0.93406963, 0.93956596, 0.9337369000000001, 0.9350803, 0.9349446, 0.9390854, 0.93996036, 0.9357209999999999, 0.9338109, 0.93317, 0.9389128000000001, 0.9354745999999999, 0.9361277, 0.93220896, 0.93424225, 0.93453807, 0.9310504000000001, 0.93557316, 0.93702734, 0.93236905, 0.9313832000000001, 0.9411187, 0.9411556000000001, 0.94355875, 0.94159925, 0.93750787, 0.9430042, 0.94172245, 0.93726146, 0.9381364, 0.9409091999999999, 0.94307816, 0.94495136, 0.9459125, 0.93754494, 0.94135284, 0.93817335, 0.9420552, 0.9374955, 0.9388264999999999, 0.9403669, 0.9369904, 0.94465554, 0.9382473, 0.9380378, 0.93923324, 0.9399479, 0.9402068000000001, 0.9369533000000001, 0.9411927, 0.9384691999999999, 0.94129133, 0.9472927999999999, 0.93975085, 0.93650967, 0.9470216, 0.943226, 0.9461589, 0.94313973, 0.94081056, 0.936744, 0.9448280000000001, 0.9448774, 0.9403669, 0.9369040999999999, 0.93424225, 0.9355349000000001, 0.9404286000000001, 0.94688606, 0.9744536, 0.93639874, 0.93415594, 0.9337245999999999, 0.9318639000000001, 0.93533903, 0.934846, 0.9354745999999999, 0.93031114, 0.93143255, 0.9316173000000001, 0.93641126, 0.93453807, 0.93527734, 0.9349940000000001, 0.9320857, 0.93114907, 0.9284872, 0.93461186, 0.93775445, 0.93406963, 0.9369287000000001, 0.9339218, 0.93653446, 0.933774, 0.9338972, 0.9332316999999999, 0.9318885, 0.9342299000000001, 0.9306562, 0.9334781999999999, 0.9389745, 0.94159925, 0.93034804, 0.93024945, 0.93567175, 0.93814874, 0.93307143, 0.9347721999999999, 0.9380132, 0.9330839, 0.93975085, 0.9342914000000001, 0.936362, 0.9309641, 0.935795, 0.9431768, 0.9343162, 0.93043435, 0.922572, 0.93022484, 0.9244329, 0.9293621999999999, 0.9303234, 0.92438346, 0.9308903000000001, 0.9290911000000001, 0.9339835, 0.93130934, 0.92833936, 0.9307671000000001, 0.9307423, 0.9277970999999999, 0.93058217, 0.9304466999999998, 0.9269066999999999, 0.9341809000000001, 0.9305329999999999, 0.93542534, 0.9328127, 0.9325663000000001, 0.93114907, 0.9347721999999999, 0.93214726, 0.9366206, 0.9360908000000001, 0.94162405, 0.93627554, 0.93243074, 0.936744, 0.9378530999999999, 0.93027407, 0.9339958, 0.9399726999999999, 0.93739694, 0.93881416, 0.9373723, 0.9374955, 0.93506783, 0.9319008, 0.9298427, 0.93355215, 0.9367931999999999, 0.9362263000000001, 0.93927014, 0.93669456, 0.9289062, 0.9284503000000001, 0.9288199, 0.93553627, 0.93453807, 0.9319008, 0.9359921999999998, 0.9377174, 0.9348708, 0.93432856, 0.93254167, 0.9318885, 0.93236905, 0.9315064000000001, 0.93642354, 0.93330574, 0.93303454, 0.9342053, 0.9351049000000001, 0.9347228000000001, 0.9286966999999998, 0.93241847, 0.9360045, 0.9313585999999999, 0.9317776, 0.9371259, 0.9357458000000001, 0.93434083, 0.9335891, 0.93264025, 0.9342299000000001, 0.93446404, 0.9298427, 0.9384937, 0.9355239, 0.93255395, 0.9371259, 0.93421763, 0.9316667, 0.936214, 0.9343162, 0.9403176999999999, 0.9320485999999999, 0.9338726, 0.93923324, 0.9361277, 0.9370149999999999, 0.9391963, 0.9319748, 0.92831475, 0.93517876, 0.9318885, 0.9372121999999999, 0.9300276, 0.93432856, 0.93866634, 0.93542534, 0.9338972, 0.937434, 0.9424495999999999, 0.9380624, 0.93615234, 0.93403274, 0.9267620000000001, 0.93121076, 0.93000305, 0.92480254, 0.92313886, 0.9295100000000001, 0.9256774999999999, 0.93150514, 0.9263676, 0.9305945, 0.9291156999999999, 0.9245066999999999, 0.9304466999999998, 0.93631226, 0.9354572, 0.9377174, 0.93702734, 0.94193196, 0.9361154, 0.9350431999999999, 0.94084764, 0.93736005, 0.9378654000000001, 0.93340415, 0.9371381999999999, 0.9394304, 0.94226474, 0.93666995, 0.93727374, 0.9420923000000001, 0.9438791999999999, 0.93789, 0.9328373, 0.9327386999999999, 0.92758757, 0.9313585999999999, 0.9290911000000001, 0.92904174, 0.9355609, 0.92715627, 0.9274519, 0.92870903, 0.9313832000000001, 0.93403274, 0.92891854, 0.9301385, 0.93642354, 0.9417101999999999, 0.93845683, 0.9380132, 0.9332563, 0.93206096, 0.93827194, 0.93606603, 0.93176526, 0.93415594, 0.93124765, 0.93028635, 0.93558544, 0.9359181999999999, 0.94062585, 0.93995416, 0.9395604, 0.93916684, 0.9387731, 0.9383795, 0.93798584, 0.9375921, 0.9371985, 0.9368048000000001, 0.93641126, 0.9360175, 0.93562376, 0.9352302, 0.93483645, 0.93444294, 0.9340492, 0.93365544, 0.9332619000000001, 0.9328681999999999, 0.9324745999999999, 0.93208086, 0.9316870999999999, 0.93129355, 0.93089986, 0.9305061, 0.93011254, 0.9297188, 0.9293252000000001, 0.92949474, 0.9296644000000001, 0.92983407, 0.9300037, 0.9301732, 0.93034285, 0.9305125, 0.9306822, 0.93085164, 0.93102133, 0.93119097, 0.93136066, 0.9315300999999999, 0.93169975, 0.93186945, 0.9320391, 0.9322085999999999, 0.93237823, 0.9325479, 0.93271756, 0.9328871999999999, 0.9330567, 0.93322635, 0.93339604, 0.9335656999999999, 0.9337351999999999, 0.9348363000000001, 0.93665767, 0.9404286000000001, 0.93939334, 0.94052726, 0.9376435, 0.9395905999999999, 0.9392578000000001, 0.9413405, 0.9395201999999999, 0.9364038, 0.9293252000000001, 0.9299649, 0.9306045000000001, 0.9312441999999999, 0.9318837999999999, 0.9325235000000001, 0.9331630999999999, 0.9338027, 0.9344424000000001, 0.935082, 0.9369040999999999, 0.93947965, 0.9367686, 0.93753266, 0.9370535, 0.936544, 0.9360344999999999, 0.935525, 0.9350156999999999, 0.9345062, 0.9339966999999999, 0.93348736, 0.93297786, 0.939184, 0.93614, 0.93650967, 0.9405888000000001, 0.94228953, 0.93962765, 0.93996036, 0.93875265, 0.93739694, 0.9376188, 0.93249226, 0.93841994, 0.93845683, 0.93353987, 0.9389496999999999, 0.9357827, 0.9343531999999999, 0.93212265, 0.9382103999999999, 0.937089, 0.93975085, 0.9347228000000001, 0.9378654000000001, 0.932024, 0.9335645, 0.9399431999999999, 0.941009, 0.96107036, 0.94253594, 0.9668869000000001, 0.96724445, 0.9720996999999999, 0.9734430000000001, 0.96461946, 0.96827954, 0.96383077, 0.96709645, 0.9697706, 0.9648658999999999, 0.9621424999999999, 0.9652726, 0.96447164, 0.9680331, 0.9269960999999999, 0.9243094999999999, 0.92338526, 0.93042207, 0.92594856, 0.92403847, 0.9252091999999998, 0.9252461999999999, 0.9249011, 0.92592394, 0.92737806, 0.92609656, 0.92544335, 0.927908, 0.9258208, 0.9247632]}, {\"mode\": \"lines\", \"name\": \"PE2\", \"type\": \"scatter\", \"x\": [\"2020-07-05T21:00:00+00:00\", \"2020-07-05T21:30:00+00:00\", \"2020-07-05T22:00:00+00:00\", \"2020-07-05T22:30:00+00:00\", \"2020-07-05T23:00:00+00:00\", \"2020-07-05T23:30:00+00:00\", \"2020-07-06T00:00:00+00:00\", \"2020-07-06T00:30:00+00:00\", \"2020-07-06T01:00:00+00:00\", \"2020-07-06T01:30:00+00:00\", \"2020-07-06T02:00:00+00:00\", \"2020-07-06T02:30:00+00:00\", \"2020-07-06T03:00:00+00:00\", \"2020-07-06T03:30:00+00:00\", \"2020-07-06T04:00:00+00:00\", \"2020-07-06T04:30:00+00:00\", \"2020-07-06T05:00:00+00:00\", \"2020-07-06T05:30:00+00:00\", \"2020-07-06T06:00:00+00:00\", \"2020-07-06T06:30:00+00:00\", \"2020-07-06T07:00:00+00:00\", \"2020-07-06T07:30:00+00:00\", \"2020-07-06T08:00:00+00:00\", \"2020-07-06T08:30:00+00:00\", \"2020-07-06T09:00:00+00:00\", \"2020-07-06T09:30:00+00:00\", \"2020-07-06T10:00:00+00:00\", \"2020-07-06T10:30:00+00:00\", \"2020-07-06T11:00:00+00:00\", \"2020-07-06T11:30:00+00:00\", \"2020-07-06T12:00:00+00:00\", \"2020-07-06T12:30:00+00:00\", \"2020-07-06T13:00:00+00:00\", \"2020-07-06T13:30:00+00:00\", \"2020-07-06T14:00:00+00:00\", \"2020-07-06T14:30:00+00:00\", \"2020-07-06T15:00:00+00:00\", \"2020-07-06T15:30:00+00:00\", \"2020-07-06T16:00:00+00:00\", \"2020-07-06T16:30:00+00:00\", \"2020-07-06T17:00:00+00:00\", \"2020-07-06T17:30:00+00:00\", \"2020-07-06T18:00:00+00:00\", \"2020-07-06T18:30:00+00:00\", \"2020-07-06T19:00:00+00:00\", \"2020-07-06T19:30:00+00:00\", \"2020-07-06T20:00:00+00:00\", \"2020-07-06T20:30:00+00:00\", \"2020-07-06T21:00:00+00:00\", \"2020-07-06T21:30:00+00:00\", \"2020-07-06T22:00:00+00:00\", \"2020-07-06T22:30:00+00:00\", \"2020-07-06T23:00:00+00:00\", \"2020-07-06T23:30:00+00:00\", \"2020-07-07T00:00:00+00:00\", \"2020-07-07T00:30:00+00:00\", \"2020-07-07T01:00:00+00:00\", \"2020-07-07T01:30:00+00:00\", \"2020-07-07T02:00:00+00:00\", \"2020-07-07T02:30:00+00:00\", \"2020-07-07T03:00:00+00:00\", \"2020-07-07T03:30:00+00:00\", \"2020-07-07T04:00:00+00:00\", \"2020-07-07T04:30:00+00:00\", \"2020-07-07T05:00:00+00:00\", \"2020-07-07T05:30:00+00:00\", \"2020-07-07T06:00:00+00:00\", \"2020-07-07T06:30:00+00:00\", \"2020-07-07T07:00:00+00:00\", \"2020-07-07T07:30:00+00:00\", \"2020-07-07T08:00:00+00:00\", \"2020-07-07T08:30:00+00:00\", \"2020-07-07T09:00:00+00:00\", \"2020-07-07T09:30:00+00:00\", \"2020-07-07T10:00:00+00:00\", \"2020-07-07T10:30:00+00:00\", \"2020-07-07T11:00:00+00:00\", \"2020-07-07T11:30:00+00:00\", \"2020-07-07T12:00:00+00:00\", \"2020-07-07T12:30:00+00:00\", \"2020-07-07T13:00:00+00:00\", \"2020-07-07T13:30:00+00:00\", \"2020-07-07T14:00:00+00:00\", \"2020-07-07T14:30:00+00:00\", \"2020-07-07T15:00:00+00:00\", \"2020-07-07T15:30:00+00:00\", \"2020-07-07T16:00:00+00:00\", \"2020-07-07T16:30:00+00:00\", \"2020-07-07T17:00:00+00:00\", \"2020-07-07T17:30:00+00:00\", \"2020-07-07T18:00:00+00:00\", \"2020-07-07T18:30:00+00:00\", \"2020-07-07T19:00:00+00:00\", \"2020-07-07T19:30:00+00:00\", \"2020-07-07T20:00:00+00:00\", \"2020-07-07T20:30:00+00:00\", \"2020-07-07T21:00:00+00:00\", \"2020-07-07T21:30:00+00:00\", \"2020-07-07T22:00:00+00:00\", \"2020-07-07T22:30:00+00:00\", \"2020-07-07T23:00:00+00:00\", \"2020-07-07T23:30:00+00:00\", \"2020-07-08T00:00:00+00:00\", \"2020-07-08T00:30:00+00:00\", \"2020-07-08T01:00:00+00:00\", \"2020-07-08T01:30:00+00:00\", \"2020-07-08T02:00:00+00:00\", \"2020-07-08T02:30:00+00:00\", \"2020-07-08T03:00:00+00:00\", \"2020-07-08T03:30:00+00:00\", \"2020-07-08T04:00:00+00:00\", \"2020-07-08T04:30:00+00:00\", \"2020-07-08T05:00:00+00:00\", \"2020-07-08T05:30:00+00:00\", \"2020-07-08T06:00:00+00:00\", \"2020-07-08T06:30:00+00:00\", \"2020-07-08T07:00:00+00:00\", \"2020-07-08T07:30:00+00:00\", \"2020-07-08T08:00:00+00:00\", \"2020-07-08T08:30:00+00:00\", \"2020-07-08T09:00:00+00:00\", \"2020-07-08T09:30:00+00:00\", \"2020-07-08T10:00:00+00:00\", \"2020-07-08T10:30:00+00:00\", \"2020-07-08T11:00:00+00:00\", \"2020-07-08T11:30:00+00:00\", \"2020-07-08T12:00:00+00:00\", \"2020-07-08T12:30:00+00:00\", \"2020-07-08T13:00:00+00:00\", \"2020-07-08T13:30:00+00:00\", \"2020-07-08T14:00:00+00:00\", \"2020-07-08T14:30:00+00:00\", \"2020-07-08T15:00:00+00:00\", \"2020-07-08T15:30:00+00:00\", \"2020-07-08T16:00:00+00:00\", \"2020-07-08T16:30:00+00:00\", \"2020-07-08T17:00:00+00:00\", \"2020-07-08T17:30:00+00:00\", \"2020-07-08T18:00:00+00:00\", \"2020-07-08T18:30:00+00:00\", \"2020-07-08T19:00:00+00:00\", \"2020-07-08T19:30:00+00:00\", \"2020-07-08T20:00:00+00:00\", \"2020-07-08T20:30:00+00:00\", \"2020-07-08T21:00:00+00:00\", \"2020-07-08T21:30:00+00:00\", \"2020-07-08T22:00:00+00:00\", \"2020-07-08T22:30:00+00:00\", \"2020-07-08T23:00:00+00:00\", \"2020-07-08T23:30:00+00:00\", \"2020-07-09T00:00:00+00:00\", \"2020-07-09T00:30:00+00:00\", \"2020-07-09T01:00:00+00:00\", \"2020-07-09T01:30:00+00:00\", \"2020-07-09T02:00:00+00:00\", \"2020-07-09T02:30:00+00:00\", \"2020-07-09T03:00:00+00:00\", \"2020-07-09T03:30:00+00:00\", \"2020-07-09T04:00:00+00:00\", \"2020-07-09T04:30:00+00:00\", \"2020-07-09T05:00:00+00:00\", \"2020-07-09T05:30:00+00:00\", \"2020-07-09T06:00:00+00:00\", \"2020-07-09T06:30:00+00:00\", \"2020-07-09T07:00:00+00:00\", \"2020-07-09T07:30:00+00:00\", \"2020-07-09T08:00:00+00:00\", \"2020-07-09T08:30:00+00:00\", \"2020-07-09T09:00:00+00:00\", \"2020-07-09T09:30:00+00:00\", \"2020-07-09T10:00:00+00:00\", \"2020-07-09T10:30:00+00:00\", \"2020-07-09T11:00:00+00:00\", \"2020-07-09T11:30:00+00:00\", \"2020-07-09T12:00:00+00:00\", \"2020-07-09T12:30:00+00:00\", \"2020-07-09T13:00:00+00:00\", \"2020-07-09T13:30:00+00:00\", \"2020-07-09T14:00:00+00:00\", \"2020-07-09T14:30:00+00:00\", \"2020-07-09T15:00:00+00:00\", \"2020-07-09T15:30:00+00:00\", \"2020-07-09T16:00:00+00:00\", \"2020-07-09T16:30:00+00:00\", \"2020-07-09T17:00:00+00:00\", \"2020-07-09T17:30:00+00:00\", \"2020-07-09T18:00:00+00:00\", \"2020-07-09T18:30:00+00:00\", \"2020-07-09T19:00:00+00:00\", \"2020-07-09T19:30:00+00:00\", \"2020-07-09T20:00:00+00:00\", \"2020-07-09T20:30:00+00:00\", \"2020-07-09T21:00:00+00:00\", \"2020-07-09T21:30:00+00:00\", \"2020-07-09T22:00:00+00:00\", \"2020-07-09T22:30:00+00:00\", \"2020-07-09T23:00:00+00:00\", \"2020-07-09T23:30:00+00:00\", \"2020-07-10T00:00:00+00:00\", \"2020-07-10T00:30:00+00:00\", \"2020-07-10T01:00:00+00:00\", \"2020-07-10T01:30:00+00:00\", \"2020-07-10T02:00:00+00:00\", \"2020-07-10T02:30:00+00:00\", \"2020-07-10T03:00:00+00:00\", \"2020-07-10T03:30:00+00:00\", \"2020-07-10T04:00:00+00:00\", \"2020-07-10T04:30:00+00:00\", \"2020-07-10T05:00:00+00:00\", \"2020-07-10T05:30:00+00:00\", \"2020-07-10T06:00:00+00:00\", \"2020-07-10T06:30:00+00:00\", \"2020-07-10T07:00:00+00:00\", \"2020-07-10T07:30:00+00:00\", \"2020-07-10T08:00:00+00:00\", \"2020-07-10T08:30:00+00:00\", \"2020-07-10T09:00:00+00:00\", \"2020-07-10T09:30:00+00:00\", \"2020-07-10T10:00:00+00:00\", \"2020-07-10T10:30:00+00:00\", \"2020-07-10T11:00:00+00:00\", \"2020-07-10T11:30:00+00:00\", \"2020-07-10T12:00:00+00:00\", \"2020-07-10T12:30:00+00:00\", \"2020-07-10T13:00:00+00:00\", \"2020-07-10T13:30:00+00:00\", \"2020-07-10T14:00:00+00:00\", \"2020-07-10T14:30:00+00:00\", \"2020-07-10T15:00:00+00:00\", \"2020-07-10T15:30:00+00:00\", \"2020-07-10T16:00:00+00:00\", \"2020-07-10T16:30:00+00:00\", \"2020-07-10T17:00:00+00:00\", \"2020-07-10T17:30:00+00:00\", \"2020-07-10T18:00:00+00:00\", \"2020-07-10T18:30:00+00:00\", \"2020-07-10T19:00:00+00:00\", \"2020-07-10T19:30:00+00:00\", \"2020-07-10T20:00:00+00:00\", \"2020-07-10T20:30:00+00:00\", \"2020-07-10T21:00:00+00:00\", \"2020-07-10T21:30:00+00:00\", \"2020-07-10T22:00:00+00:00\", \"2020-07-10T22:30:00+00:00\", \"2020-07-10T23:00:00+00:00\", \"2020-07-10T23:30:00+00:00\", \"2020-07-11T00:00:00+00:00\", \"2020-07-11T00:30:00+00:00\", \"2020-07-11T01:00:00+00:00\", \"2020-07-11T01:30:00+00:00\", \"2020-07-11T02:00:00+00:00\", \"2020-07-11T02:30:00+00:00\", \"2020-07-11T03:00:00+00:00\", \"2020-07-11T03:30:00+00:00\", \"2020-07-11T04:00:00+00:00\", \"2020-07-11T04:30:00+00:00\", \"2020-07-11T05:00:00+00:00\", \"2020-07-11T05:30:00+00:00\", \"2020-07-11T06:00:00+00:00\", \"2020-07-11T06:30:00+00:00\", \"2020-07-11T07:00:00+00:00\", \"2020-07-11T07:30:00+00:00\", \"2020-07-11T08:00:00+00:00\", \"2020-07-11T08:30:00+00:00\", \"2020-07-11T09:00:00+00:00\", \"2020-07-11T09:30:00+00:00\", \"2020-07-11T10:00:00+00:00\", \"2020-07-11T10:30:00+00:00\", \"2020-07-11T11:00:00+00:00\", \"2020-07-11T11:30:00+00:00\", \"2020-07-11T12:00:00+00:00\", \"2020-07-11T12:30:00+00:00\", \"2020-07-11T13:00:00+00:00\", \"2020-07-11T13:30:00+00:00\", \"2020-07-11T14:00:00+00:00\", \"2020-07-11T14:30:00+00:00\", \"2020-07-11T15:00:00+00:00\", \"2020-07-11T15:30:00+00:00\", \"2020-07-11T16:00:00+00:00\", \"2020-07-11T16:30:00+00:00\", \"2020-07-11T17:00:00+00:00\", \"2020-07-11T17:30:00+00:00\", \"2020-07-11T18:00:00+00:00\", \"2020-07-11T18:30:00+00:00\", \"2020-07-11T19:00:00+00:00\", \"2020-07-11T19:30:00+00:00\", \"2020-07-11T20:00:00+00:00\", \"2020-07-11T20:30:00+00:00\", \"2020-07-11T21:00:00+00:00\", \"2020-07-11T21:30:00+00:00\", \"2020-07-11T22:00:00+00:00\", \"2020-07-11T22:30:00+00:00\", \"2020-07-11T23:00:00+00:00\", \"2020-07-11T23:30:00+00:00\", \"2020-07-12T00:00:00+00:00\", \"2020-07-12T00:30:00+00:00\", \"2020-07-12T01:00:00+00:00\", \"2020-07-12T01:30:00+00:00\", \"2020-07-12T02:00:00+00:00\", \"2020-07-12T02:30:00+00:00\", \"2020-07-12T03:00:00+00:00\", \"2020-07-12T03:30:00+00:00\", \"2020-07-12T04:00:00+00:00\", \"2020-07-12T04:30:00+00:00\", \"2020-07-12T05:00:00+00:00\", \"2020-07-12T05:30:00+00:00\", \"2020-07-12T06:00:00+00:00\", \"2020-07-12T06:30:00+00:00\", \"2020-07-12T07:00:00+00:00\", \"2020-07-12T07:30:00+00:00\", \"2020-07-12T08:00:00+00:00\", \"2020-07-12T08:30:00+00:00\", \"2020-07-12T09:00:00+00:00\", \"2020-07-12T09:30:00+00:00\", \"2020-07-12T10:00:00+00:00\", \"2020-07-12T10:30:00+00:00\", \"2020-07-12T11:00:00+00:00\", \"2020-07-12T11:30:00+00:00\", \"2020-07-12T12:00:00+00:00\", \"2020-07-12T12:30:00+00:00\", \"2020-07-12T13:00:00+00:00\", \"2020-07-12T13:30:00+00:00\", \"2020-07-12T14:00:00+00:00\", \"2020-07-12T14:30:00+00:00\", \"2020-07-12T15:00:00+00:00\", \"2020-07-12T15:30:00+00:00\", \"2020-07-12T16:00:00+00:00\", \"2020-07-12T16:30:00+00:00\", \"2020-07-12T17:00:00+00:00\", \"2020-07-12T17:30:00+00:00\", \"2020-07-12T18:00:00+00:00\", \"2020-07-12T18:30:00+00:00\", \"2020-07-12T19:00:00+00:00\", \"2020-07-12T19:30:00+00:00\", \"2020-07-12T20:00:00+00:00\", \"2020-07-12T20:30:00+00:00\", \"2020-07-12T21:00:00+00:00\", \"2020-07-12T21:30:00+00:00\", \"2020-07-12T22:00:00+00:00\", \"2020-07-12T22:30:00+00:00\", \"2020-07-12T23:00:00+00:00\", \"2020-07-12T23:30:00+00:00\", \"2020-07-13T00:00:00+00:00\", \"2020-07-13T00:30:00+00:00\", \"2020-07-13T01:00:00+00:00\", \"2020-07-13T01:30:00+00:00\", \"2020-07-13T02:00:00+00:00\", \"2020-07-13T02:30:00+00:00\", \"2020-07-13T03:00:00+00:00\", \"2020-07-13T03:30:00+00:00\", \"2020-07-13T04:00:00+00:00\", \"2020-07-13T04:30:00+00:00\", \"2020-07-13T05:00:00+00:00\", \"2020-07-13T05:30:00+00:00\", \"2020-07-13T06:00:00+00:00\", \"2020-07-13T06:30:00+00:00\", \"2020-07-13T07:00:00+00:00\", \"2020-07-13T07:30:00+00:00\", \"2020-07-13T08:00:00+00:00\", \"2020-07-13T08:30:00+00:00\", \"2020-07-13T09:00:00+00:00\", \"2020-07-13T09:30:00+00:00\", \"2020-07-13T10:00:00+00:00\", \"2020-07-13T10:30:00+00:00\", \"2020-07-13T11:00:00+00:00\", \"2020-07-13T11:30:00+00:00\", \"2020-07-13T12:00:00+00:00\", \"2020-07-13T12:30:00+00:00\", \"2020-07-13T13:00:00+00:00\", \"2020-07-13T13:30:00+00:00\", \"2020-07-13T14:00:00+00:00\", \"2020-07-13T14:30:00+00:00\", \"2020-07-13T15:00:00+00:00\", \"2020-07-13T15:30:00+00:00\", \"2020-07-13T16:00:00+00:00\", \"2020-07-13T16:30:00+00:00\", \"2020-07-13T17:00:00+00:00\", \"2020-07-13T17:30:00+00:00\", \"2020-07-13T18:00:00+00:00\", \"2020-07-13T18:30:00+00:00\", \"2020-07-13T19:00:00+00:00\", \"2020-07-13T19:30:00+00:00\", \"2020-07-13T20:00:00+00:00\", \"2020-07-13T20:30:00+00:00\", \"2020-07-13T21:00:00+00:00\", \"2020-07-13T21:30:00+00:00\", \"2020-07-13T22:00:00+00:00\", \"2020-07-13T22:30:00+00:00\", \"2020-07-13T23:00:00+00:00\", \"2020-07-13T23:30:00+00:00\", \"2020-07-14T00:00:00+00:00\", \"2020-07-14T00:30:00+00:00\", \"2020-07-14T01:00:00+00:00\", \"2020-07-14T01:30:00+00:00\", \"2020-07-14T02:00:00+00:00\", \"2020-07-14T02:30:00+00:00\", \"2020-07-14T03:00:00+00:00\", \"2020-07-14T03:30:00+00:00\", \"2020-07-14T04:00:00+00:00\", \"2020-07-14T04:30:00+00:00\", \"2020-07-14T05:00:00+00:00\", \"2020-07-14T05:30:00+00:00\", \"2020-07-14T06:00:00+00:00\", \"2020-07-14T06:30:00+00:00\", \"2020-07-14T07:00:00+00:00\", \"2020-07-14T07:30:00+00:00\", \"2020-07-14T08:00:00+00:00\", \"2020-07-14T08:30:00+00:00\", \"2020-07-14T09:00:00+00:00\", \"2020-07-14T09:30:00+00:00\", \"2020-07-14T10:00:00+00:00\", \"2020-07-14T10:30:00+00:00\", \"2020-07-14T11:00:00+00:00\", \"2020-07-14T11:30:00+00:00\", \"2020-07-14T12:00:00+00:00\", \"2020-07-14T12:30:00+00:00\", \"2020-07-14T13:00:00+00:00\", \"2020-07-14T13:30:00+00:00\", \"2020-07-14T14:00:00+00:00\", \"2020-07-14T14:30:00+00:00\", \"2020-07-14T15:00:00+00:00\", \"2020-07-14T15:30:00+00:00\", \"2020-07-14T16:00:00+00:00\", \"2020-07-14T16:30:00+00:00\", \"2020-07-14T17:00:00+00:00\", \"2020-07-14T17:30:00+00:00\", \"2020-07-14T18:00:00+00:00\", \"2020-07-14T18:30:00+00:00\", \"2020-07-14T19:00:00+00:00\", \"2020-07-14T19:30:00+00:00\", \"2020-07-14T20:00:00+00:00\", \"2020-07-14T20:30:00+00:00\", \"2020-07-14T21:00:00+00:00\", \"2020-07-14T21:30:00+00:00\", \"2020-07-14T22:00:00+00:00\", \"2020-07-14T22:30:00+00:00\", \"2020-07-14T23:00:00+00:00\", \"2020-07-14T23:30:00+00:00\", \"2020-07-15T00:00:00+00:00\", \"2020-07-15T00:30:00+00:00\", \"2020-07-15T01:00:00+00:00\", \"2020-07-15T01:30:00+00:00\", \"2020-07-15T02:00:00+00:00\", \"2020-07-15T02:30:00+00:00\", \"2020-07-15T03:00:00+00:00\", \"2020-07-15T03:30:00+00:00\", \"2020-07-15T04:00:00+00:00\", \"2020-07-15T04:30:00+00:00\", \"2020-07-15T05:00:00+00:00\", \"2020-07-15T05:30:00+00:00\", \"2020-07-15T06:00:00+00:00\", \"2020-07-15T06:30:00+00:00\", \"2020-07-15T07:00:00+00:00\", \"2020-07-15T07:30:00+00:00\", \"2020-07-15T08:00:00+00:00\", \"2020-07-15T08:30:00+00:00\", \"2020-07-15T09:00:00+00:00\", \"2020-07-15T09:30:00+00:00\", \"2020-07-15T10:00:00+00:00\", \"2020-07-15T10:30:00+00:00\", \"2020-07-15T11:00:00+00:00\", \"2020-07-15T11:30:00+00:00\", \"2020-07-15T12:00:00+00:00\", \"2020-07-15T12:30:00+00:00\", \"2020-07-15T13:00:00+00:00\", \"2020-07-15T13:30:00+00:00\", \"2020-07-15T14:00:00+00:00\", \"2020-07-15T14:30:00+00:00\", \"2020-07-15T15:00:00+00:00\", \"2020-07-15T15:30:00+00:00\", \"2020-07-15T16:00:00+00:00\", \"2020-07-15T16:30:00+00:00\", \"2020-07-15T17:00:00+00:00\", \"2020-07-15T17:30:00+00:00\", \"2020-07-15T18:00:00+00:00\", \"2020-07-15T18:30:00+00:00\", \"2020-07-15T19:00:00+00:00\", \"2020-07-15T19:30:00+00:00\", \"2020-07-15T20:00:00+00:00\", \"2020-07-15T20:30:00+00:00\", \"2020-07-15T21:00:00+00:00\", \"2020-07-15T21:30:00+00:00\", \"2020-07-15T22:00:00+00:00\", \"2020-07-15T22:30:00+00:00\", \"2020-07-15T23:00:00+00:00\", \"2020-07-15T23:30:00+00:00\", \"2020-07-16T00:00:00+00:00\", \"2020-07-16T00:30:00+00:00\", \"2020-07-16T01:00:00+00:00\", \"2020-07-16T01:30:00+00:00\", \"2020-07-16T02:00:00+00:00\", \"2020-07-16T02:30:00+00:00\", \"2020-07-16T03:00:00+00:00\", \"2020-07-16T03:30:00+00:00\", \"2020-07-16T04:00:00+00:00\", \"2020-07-16T04:30:00+00:00\", \"2020-07-16T05:00:00+00:00\", \"2020-07-16T05:30:00+00:00\", \"2020-07-16T06:00:00+00:00\", \"2020-07-16T06:30:00+00:00\", \"2020-07-16T07:00:00+00:00\", \"2020-07-16T07:30:00+00:00\", \"2020-07-16T08:00:00+00:00\", \"2020-07-16T08:30:00+00:00\", \"2020-07-16T09:00:00+00:00\", \"2020-07-16T09:30:00+00:00\", \"2020-07-16T10:00:00+00:00\", \"2020-07-16T10:30:00+00:00\", \"2020-07-16T11:00:00+00:00\", \"2020-07-16T11:30:00+00:00\", \"2020-07-16T12:00:00+00:00\", \"2020-07-16T12:30:00+00:00\", \"2020-07-16T13:00:00+00:00\", \"2020-07-16T13:30:00+00:00\", \"2020-07-16T14:00:00+00:00\", \"2020-07-16T14:30:00+00:00\", \"2020-07-16T15:00:00+00:00\", \"2020-07-16T15:30:00+00:00\", \"2020-07-16T16:00:00+00:00\", \"2020-07-16T16:30:00+00:00\", \"2020-07-16T17:00:00+00:00\", \"2020-07-16T17:30:00+00:00\", \"2020-07-16T18:00:00+00:00\", \"2020-07-16T18:30:00+00:00\", \"2020-07-16T19:00:00+00:00\", \"2020-07-16T19:30:00+00:00\", \"2020-07-16T20:00:00+00:00\", \"2020-07-16T20:30:00+00:00\", \"2020-07-16T21:00:00+00:00\", \"2020-07-16T21:30:00+00:00\", \"2020-07-16T22:00:00+00:00\", \"2020-07-16T22:30:00+00:00\", \"2020-07-16T23:00:00+00:00\", \"2020-07-16T23:30:00+00:00\", \"2020-07-17T00:00:00+00:00\", \"2020-07-17T00:30:00+00:00\", \"2020-07-17T01:00:00+00:00\", \"2020-07-17T01:30:00+00:00\", \"2020-07-17T02:00:00+00:00\", \"2020-07-17T02:30:00+00:00\", \"2020-07-17T03:00:00+00:00\", \"2020-07-17T03:30:00+00:00\", \"2020-07-17T04:00:00+00:00\", \"2020-07-17T04:30:00+00:00\", \"2020-07-17T05:00:00+00:00\", \"2020-07-17T05:30:00+00:00\", \"2020-07-17T06:00:00+00:00\", \"2020-07-17T06:30:00+00:00\", \"2020-07-17T07:00:00+00:00\", \"2020-07-17T07:30:00+00:00\", \"2020-07-17T08:00:00+00:00\", \"2020-07-17T08:30:00+00:00\", \"2020-07-17T09:00:00+00:00\", \"2020-07-17T09:30:00+00:00\", \"2020-07-17T10:00:00+00:00\", \"2020-07-17T10:30:00+00:00\", \"2020-07-17T11:00:00+00:00\", \"2020-07-17T11:30:00+00:00\", \"2020-07-17T12:00:00+00:00\", \"2020-07-17T12:30:00+00:00\", \"2020-07-17T13:00:00+00:00\", \"2020-07-17T13:30:00+00:00\", \"2020-07-17T14:00:00+00:00\", \"2020-07-17T14:30:00+00:00\", \"2020-07-17T15:00:00+00:00\", \"2020-07-17T15:30:00+00:00\", \"2020-07-17T16:00:00+00:00\", \"2020-07-17T16:30:00+00:00\", \"2020-07-17T17:00:00+00:00\", \"2020-07-17T17:30:00+00:00\", \"2020-07-17T18:00:00+00:00\", \"2020-07-17T18:30:00+00:00\", \"2020-07-17T19:00:00+00:00\", \"2020-07-17T19:30:00+00:00\", \"2020-07-17T20:00:00+00:00\", \"2020-07-17T20:30:00+00:00\", \"2020-07-17T21:00:00+00:00\", \"2020-07-17T21:30:00+00:00\", \"2020-07-17T22:00:00+00:00\", \"2020-07-17T22:30:00+00:00\", \"2020-07-17T23:00:00+00:00\", \"2020-07-17T23:30:00+00:00\", \"2020-07-18T00:00:00+00:00\", \"2020-07-18T00:30:00+00:00\", \"2020-07-18T01:00:00+00:00\", \"2020-07-18T01:30:00+00:00\", \"2020-07-18T02:00:00+00:00\", \"2020-07-18T02:30:00+00:00\", \"2020-07-18T03:00:00+00:00\", \"2020-07-18T03:30:00+00:00\", \"2020-07-18T04:00:00+00:00\", \"2020-07-18T04:30:00+00:00\", \"2020-07-18T05:00:00+00:00\", \"2020-07-18T05:30:00+00:00\", \"2020-07-18T06:00:00+00:00\", \"2020-07-18T06:30:00+00:00\", \"2020-07-18T07:00:00+00:00\", \"2020-07-18T07:30:00+00:00\", \"2020-07-18T08:00:00+00:00\", \"2020-07-18T08:30:00+00:00\", \"2020-07-18T09:00:00+00:00\", \"2020-07-18T09:30:00+00:00\", \"2020-07-18T10:00:00+00:00\", \"2020-07-18T10:30:00+00:00\", \"2020-07-18T11:00:00+00:00\", \"2020-07-18T11:30:00+00:00\", \"2020-07-18T12:00:00+00:00\", \"2020-07-18T12:30:00+00:00\", \"2020-07-18T13:00:00+00:00\", \"2020-07-18T13:30:00+00:00\", \"2020-07-18T14:00:00+00:00\", \"2020-07-18T14:30:00+00:00\", \"2020-07-18T15:00:00+00:00\", \"2020-07-18T15:30:00+00:00\", \"2020-07-18T16:00:00+00:00\", \"2020-07-18T16:30:00+00:00\", \"2020-07-18T17:00:00+00:00\", \"2020-07-18T17:30:00+00:00\", \"2020-07-18T18:00:00+00:00\", \"2020-07-18T18:30:00+00:00\", \"2020-07-18T19:00:00+00:00\", \"2020-07-18T19:30:00+00:00\", \"2020-07-18T20:00:00+00:00\", \"2020-07-18T20:30:00+00:00\", \"2020-07-18T21:00:00+00:00\", \"2020-07-18T21:30:00+00:00\", \"2020-07-18T22:00:00+00:00\", \"2020-07-18T22:30:00+00:00\", \"2020-07-18T23:00:00+00:00\", \"2020-07-18T23:30:00+00:00\", \"2020-07-19T00:00:00+00:00\", \"2020-07-19T00:30:00+00:00\", \"2020-07-19T01:00:00+00:00\", \"2020-07-19T01:30:00+00:00\", \"2020-07-19T02:00:00+00:00\", \"2020-07-19T02:30:00+00:00\", \"2020-07-19T03:00:00+00:00\", \"2020-07-19T03:30:00+00:00\", \"2020-07-19T04:00:00+00:00\", \"2020-07-19T04:30:00+00:00\", \"2020-07-19T05:00:00+00:00\", \"2020-07-19T05:30:00+00:00\", \"2020-07-19T06:00:00+00:00\", \"2020-07-19T06:30:00+00:00\", \"2020-07-19T07:00:00+00:00\", \"2020-07-19T07:30:00+00:00\", \"2020-07-19T08:00:00+00:00\", \"2020-07-19T08:30:00+00:00\", \"2020-07-19T09:00:00+00:00\", \"2020-07-19T09:30:00+00:00\", \"2020-07-19T10:00:00+00:00\", \"2020-07-19T10:30:00+00:00\", \"2020-07-19T11:00:00+00:00\", \"2020-07-19T11:30:00+00:00\", \"2020-07-19T12:00:00+00:00\", \"2020-07-19T12:30:00+00:00\", \"2020-07-19T13:00:00+00:00\", \"2020-07-19T13:30:00+00:00\", \"2020-07-19T14:00:00+00:00\", \"2020-07-19T14:30:00+00:00\", \"2020-07-19T15:00:00+00:00\", \"2020-07-19T15:30:00+00:00\", \"2020-07-19T16:00:00+00:00\", \"2020-07-19T16:30:00+00:00\", \"2020-07-19T17:00:00+00:00\", \"2020-07-19T17:30:00+00:00\", \"2020-07-19T18:00:00+00:00\", \"2020-07-19T18:30:00+00:00\", \"2020-07-19T19:00:00+00:00\", \"2020-07-19T19:30:00+00:00\", \"2020-07-19T20:00:00+00:00\", \"2020-07-19T20:30:00+00:00\", \"2020-07-19T21:00:00+00:00\", \"2020-07-19T21:30:00+00:00\", \"2020-07-19T22:00:00+00:00\", \"2020-07-19T22:30:00+00:00\", \"2020-07-19T23:00:00+00:00\", \"2020-07-19T23:30:00+00:00\", \"2020-07-20T00:00:00+00:00\", \"2020-07-20T00:30:00+00:00\", \"2020-07-20T01:00:00+00:00\", \"2020-07-20T01:30:00+00:00\", \"2020-07-20T02:00:00+00:00\", \"2020-07-20T02:30:00+00:00\", \"2020-07-20T03:00:00+00:00\", \"2020-07-20T03:30:00+00:00\", \"2020-07-20T04:00:00+00:00\", \"2020-07-20T04:30:00+00:00\", \"2020-07-20T05:00:00+00:00\", \"2020-07-20T05:30:00+00:00\", \"2020-07-20T06:00:00+00:00\", \"2020-07-20T06:30:00+00:00\", \"2020-07-20T07:00:00+00:00\", \"2020-07-20T07:30:00+00:00\", \"2020-07-20T08:00:00+00:00\", \"2020-07-20T08:30:00+00:00\", \"2020-07-20T09:00:00+00:00\", \"2020-07-20T09:30:00+00:00\", \"2020-07-20T10:00:00+00:00\", \"2020-07-20T10:30:00+00:00\", \"2020-07-20T11:00:00+00:00\", \"2020-07-20T11:30:00+00:00\", \"2020-07-20T12:00:00+00:00\", \"2020-07-20T12:30:00+00:00\", \"2020-07-20T13:00:00+00:00\", \"2020-07-20T13:30:00+00:00\", \"2020-07-20T14:00:00+00:00\", \"2020-07-20T14:30:00+00:00\", \"2020-07-20T15:00:00+00:00\", \"2020-07-20T15:30:00+00:00\", \"2020-07-20T16:00:00+00:00\", \"2020-07-20T16:30:00+00:00\", \"2020-07-20T17:00:00+00:00\", \"2020-07-20T17:30:00+00:00\", \"2020-07-20T18:00:00+00:00\", \"2020-07-20T18:30:00+00:00\", \"2020-07-20T19:00:00+00:00\", \"2020-07-20T19:30:00+00:00\", \"2020-07-20T20:00:00+00:00\", \"2020-07-20T20:30:00+00:00\"], \"y\": [0.9698446, 0.97145903, 0.9689941999999999, 0.9762528, 0.97574747, 0.97476155, 0.97091264, 0.97242016, 0.9768565999999999, 0.9740469, 0.9707771000000001, 0.9695056000000001, 0.96453315, 0.9744411000000001, 0.9686615, 0.9686821, 0.96519864, 0.9661126, 0.9674538, 0.9662091, 0.9635145, 0.96219176, 0.9650631, 0.96464825, 0.9660244, 0.9639171000000001, 0.95367014, 0.9455181999999999, 0.9515565999999999, 0.9525179, 0.9500779, 0.95103896, 0.9535796999999999, 0.9540213, 0.9524912, 0.9504351999999999, 0.94989294, 0.9534667, 0.9525302, 0.9490550999999999, 0.95302516, 0.9535551, 0.95493335, 0.94991547, 0.9530231, 0.9575254000000001, 0.9562539000000001, 0.9566708, 0.96331316, 0.9597906999999999, 0.9617726999999999, 0.9613640999999999, 0.9588767, 0.96544504, 0.96083623, 0.9585316999999999, 0.96144205, 0.9614646000000001, 0.9554754000000001, 0.95792794, 0.9553398999999999, 0.9619082, 0.9594559000000001, 0.96204394, 0.9657901, 0.9640032, 0.9620931, 0.9654574, 0.96312827, 0.96530956, 0.96570396, 0.9688587, 0.9680576999999999, 0.9610949000000001, 0.9671209999999999, 0.9649768, 0.9613044, 0.962734, 0.96737576, 0.9697214, 0.9647571, 0.96389234, 0.9636665000000001, 0.96298045, 0.9699555000000001, 0.9671479, 0.9660244, 0.9680331, 0.97085804, 0.9669117, 0.9680576999999999, 0.9743427, 0.47826764, 0.7404893, 0.95590675, 0.96249986, 0.9578539, 0.95299846, 0.9571021999999999, 0.9573734, 0.9555863000000001, 0.96280384, 0.95816207, 0.9537379, 0.9637937, 0.9629926999999999, 0.96033084, 0.9615242, 0.9535653000000001, 0.95408297, 0.956794, 0.9604212999999999, 0.96008444, 0.96229035, 0.96210754, 0.9591869000000001, 0.96270937, 0.96095943, 0.9588274999999999, 0.9612715000000001, 0.9637568000000001, 0.9662091, 0.95787853, 0.9584577, 0.9587104, 0.9614894, 0.9626476999999999, 0.96068823, 0.9615754999999999, 0.9596696, 0.9603063000000001, 0.9553461, 0.95732397, 0.9611443000000001, 0.962734, 0.96368694, 0.965975, 0.96244234, 0.9634241, 0.96447563, 0.9566093000000001, 0.95790315, 0.9586549000000001, 0.9596530999999999, 0.9598545, 0.95736086, 0.95620257, 0.9576238000000001, 0.957743, 0.9577061, 0.9604295, 0.9571021999999999, 0.95784163, 0.95688033, 0.96001047, 0.95948064, 0.9546252000000001, 0.9568926, 0.95596844, 0.95916027, 0.9678604999999999, 0.96338713, 0.9648658999999999, 0.96640635, 0.9656916999999999, 0.9619453000000001, 0.96869856, 0.96755236, 0.9646318000000002, 0.9652603000000001, 0.9597025, 0.96458256, 0.9630298, 0.9676018, 0.9658886999999999, 0.9617726999999999, 0.96337485, 0.96249986, 0.9613571, 0.9630666999999999, 0.9643360000000001, 0.96337485, 0.9639663, 0.9599366, 0.9645455, 0.9626971, 0.9607745000000001, 0.9556849000000001, 0.96139073, 0.957817, 0.9615263000000001, 0.961514, 0.9600351999999999, 0.96135366, 0.9635473, 0.95727473, 0.9622164000000001, 0.9596654, 0.9648167, 0.9596408000000001, 0.96750313, 0.9576321, 0.9584084999999999, 0.95833445, 0.9551921, 0.9598871999999999, 0.961514, 0.96423733, 0.9597148000000001, 0.95911086, 0.9578908000000002, 0.95742255, 0.9585809000000001, 0.9627709000000001, 0.961933, 0.9566339, 0.95792794, 0.95626426, 0.95725, 0.9554507999999999, 0.96323913, 0.9605280999999999, 0.9576566999999999, 0.9647919, 0.9604295, 0.9564613000000001, 0.9638431000000001, 0.9592463999999999, 0.961859, 0.95914793, 0.9585809000000001, 0.95877814, 0.9546375, 0.9536761999999999, 0.9599118000000001, 0.95702815, 0.9615754999999999, 0.9618220999999999, 0.96320224, 0.95932037, 0.96667737, 0.96449625, 0.9637199000000001, 0.9656423000000001, 0.9673306, 0.95939434, 0.9641511999999999, 0.96673906, 0.9639786, 0.9650508, 0.9574471999999999, 0.9598749, 0.96029395, 0.9581373, 0.9638677, 0.95593154, 0.96630776, 0.9599489, 0.9611812, 0.9605158000000001, 0.9671458, 0.9588521000000001, 0.96025705, 0.9616126, 0.9608116, 0.957398, 0.96208084, 0.9611318999999999, 0.96867377, 0.96427447, 0.9689204, 0.9682917999999999, 0.9633008, 0.96582717, 0.9615263000000001, 0.9662091, 0.96765095, 0.96301734, 0.9613414, 0.9574471999999999, 0.9676264000000001, 0.964299, 0.9579402, 0.9605158000000001, 0.9650014000000001, 0.9669854999999999, 0.9609470999999999, 0.96327627, 0.9639416999999999, 0.96740454, 0.96619684, 0.96335006, 0.9639046, 0.9629064, 0.9659258, 0.96316534, 0.96358436, 0.96231496, 0.9619453000000001, 0.9627462999999999, 0.96023226, 0.96123046, 0.9626723, 0.9630544, 0.96010906, 0.96724445, 0.9699677999999999, 0.9687601, 0.9713480999999999, 0.9678482, 0.9690681999999999, 0.9678851, 0.96383077, 0.9658641, 0.96401554, 0.9681192, 0.9735908999999999, 0.9731595999999999, 0.9663816999999999, 0.970091, 0.9647181, 0.9681316999999999, 0.9641389000000001, 0.96416354, 0.9659135, 0.9673553, 0.9731841999999998, 0.9658886999999999, 0.96427447, 0.9658148999999999, 0.9654574, 0.9684149999999999, 0.9648536, 0.96879715, 0.9664556000000001, 0.96929, 0.9761911, 0.9678728000000001, 0.96495223, 0.9739851999999999, 0.9709783000000001, 0.97250646, 0.9707688, 0.9695365, 0.96432364, 0.9720011000000001, 0.97290087, 0.96746624, 0.96539587, 0.96259844, 0.9637388000000001, 0.9703251, 0.9435123, 0.27706966, 0.96550673, 0.9635473, 0.9637814, 0.9617235000000001, 0.96320224, 0.9614031, 0.9638184999999999, 0.95892614, 0.96198225, 0.9636828000000002, 0.9629435, 0.96038026, 0.9607498999999999, 0.96559304, 0.96162486, 0.95738566, 0.9590985000000001, 0.96243817, 0.96358436, 0.96110725, 0.9634858000000001, 0.9628203000000002, 0.96495223, 0.96125525, 0.9641389000000001, 0.96050346, 0.95929575, 0.96339947, 0.96028167, 0.96204394, 0.96915454, 0.97036225, 0.9594559000000001, 0.9581866, 0.96310365, 0.96468097, 0.96389234, 0.9637322, 0.9666899, 0.9635473, 0.9691421999999998, 0.9608730999999999, 0.96492606, 0.96008444, 0.9645209000000001, 0.9692037, 0.96404034, 0.95800173, 0.9557097, 0.95702815, 0.9538610999999999, 0.9554139000000001, 0.9587658000000001, 0.95602995, 0.9599489, 0.9546744, 0.96241355, 0.95669544, 0.95466214, 0.9606513000000001, 0.96041715, 0.95948064, 0.9568310999999999, 0.9620685, 0.9580388000000001, 0.9598278, 0.9623360999999999, 0.9637690999999999, 0.96123046, 0.9616372, 0.95712674, 0.9622164000000001, 0.96010906, 0.9636582, 0.96501374, 0.97185326, 0.9620562, 0.9607498999999999, 0.9640280000000001, 0.9670472, 0.96111953, 0.9589506999999999, 0.96773726, 0.96558076, 0.9693269, 0.96453315, 0.9660613000000001, 0.963609, 0.9604295, 0.9616741, 0.96222866, 0.9649399, 0.96680075, 0.96931463, 0.9639663, 0.960565, 0.95551246, 0.95902455, 0.9661721999999999, 0.9598749, 0.9619082, 0.96539587, 0.96852595, 0.9642127, 0.96332544, 0.95912313, 0.96323913, 0.9556603000000001, 0.95933264, 0.9636582, 0.9608608000000001, 0.9596162, 0.9626723, 0.9630666999999999, 0.9634858000000001, 0.9583716, 0.9598626, 0.9600351999999999, 0.9600351999999999, 0.96247524, 0.9633625, 0.9647919, 0.9608116, 0.96327627, 0.96201915, 0.96019536, 0.9624013000000001, 0.95798945, 0.9656054000000001, 0.9629312, 0.96410185, 0.9613044, 0.96447164, 0.95847, 0.96537125, 0.96311593, 0.96867377, 0.9605404000000001, 0.96322685, 0.9682301, 0.96410185, 0.96410185, 0.9661721999999999, 0.96002275, 0.9598871999999999, 0.96362126, 0.9618220999999999, 0.96537125, 0.9564613000000001, 0.9618713, 0.9659258, 0.9662954, 0.96649265, 0.9646440999999999, 0.9666405, 0.9659873, 0.963461, 0.9616372, 0.9535899, 0.9595545, 0.95826066, 0.9546744, 0.95309705, 0.9574471999999999, 0.9538365, 0.95783055, 0.9538242, 0.96153855, 0.9589384, 0.9540460999999999, 0.9596162, 0.9641949000000001, 0.9645455, 0.9629681000000001, 0.96639407, 0.9680208, 0.96301734, 0.96383077, 0.96730596, 0.96537125, 0.966924, 0.96211773, 0.9636336, 0.9677619000000001, 0.9697706, 0.964299, 0.96461946, 0.9712618000000001, 0.9720504999999999, 0.9650508, 0.96449625, 0.96062666, 0.95819896, 0.959764, 0.9553398999999999, 0.9585193999999999, 0.96550673, 0.9566339, 0.96004355, 0.9563504, 0.9606144, 0.9609716999999999, 0.9569789000000001, 0.96012133, 0.9668623, 0.97033745, 0.9661721999999999, 0.96516174, 0.96089774, 0.9619699, 0.9643360000000001, 0.9641758, 0.9592835, 0.9632639000000001, 0.96017075, 0.95708984, 0.964484, 0.9627462999999999, 0.96730596, 0.96447027, 0.9646884, 0.96490663, 0.9651248, 0.9653431999999998, 0.96556133, 0.96577954, 0.9659976999999998, 0.9662159, 0.96643424, 0.96665245, 0.9668706, 0.9670888000000001, 0.96730715, 0.96752536, 0.9677435, 0.9679617, 0.9681799000000001, 0.9683982, 0.9686164, 0.9688346, 0.9690528, 0.9692710999999999, 0.96948934, 0.9697075000000001, 0.9699257, 0.97014385, 0.97036225, 0.97011685, 0.96987146, 0.96962625, 0.96938086, 0.96913564, 0.96889025, 0.96864486, 0.96839964, 0.96815425, 0.96790886, 0.96766365, 0.96741825, 0.96717286, 0.96692765, 0.96668226, 0.96643704, 0.96619165, 0.96594626, 0.96570104, 0.96545565, 0.96521026, 0.96496505, 0.96471965, 0.96447444, 0.96422905, 0.96398365, 0.9619261999999998, 0.96249986, 0.9687478, 0.9682549000000001, 0.96734285, 0.96673906, 0.96964735, 0.966776, 0.97081816, 0.9708643, 0.9716143, 0.96249276, 0.96036255, 0.9582324000000001, 0.95610225, 0.95397204, 0.9518419, 0.9497117, 0.9475815000000001, 0.9454513000000001, 0.94332117, 0.9699924000000001, 0.96927774, 0.96750313, 0.96225345, 0.96721256, 0.96657777, 0.9659428, 0.9653079999999999, 0.96467304, 0.96403825, 0.9634033000000001, 0.9627684999999999, 0.9621334999999999, 0.96295583, 0.96651727, 0.9630913000000001, 0.9670472, 0.96931463, 0.9692283000000002, 0.96948725, 0.9652603000000001, 0.96809465, 0.96634465, 0.9632146, 0.96534646, 0.9671209999999999, 0.9614523000000001, 0.9672318999999999, 0.9648044, 0.96427447, 0.96111953, 0.9661476000000001, 0.9661353000000001, 0.9670472, 0.96553135, 0.9667268, 0.96150166, 0.9646564000000001, 0.969189, 0.96607864, 0.41048568, 0.96709645, 0.99514455, 0.9936164000000001, 0.99666035, 1.0, 0.9917063, 0.99435586, 0.9927662, 0.99244577, 0.9979418999999999, 0.99242115, 0.99344397, 0.9949473, 0.99281543, 0.99105316, 0.9537747999999999, 0.9525671, 0.9517415000000001, 0.95805115, 0.9556849000000001, 0.95079255, 0.95058304, 0.95451427, 0.95285064, 0.9537133, 0.95609164, 0.9549825000000001, 0.95285064, 0.9534298000000001, 0.95284563, 0.9489934000000001]}, {\"mode\": \"lines\", \"name\": \"PE3\", \"type\": \"scatter\", \"x\": [\"2020-07-05T21:00:00+00:00\", \"2020-07-05T21:30:00+00:00\", \"2020-07-05T22:00:00+00:00\", \"2020-07-05T22:30:00+00:00\", \"2020-07-05T23:00:00+00:00\", \"2020-07-05T23:30:00+00:00\", \"2020-07-06T00:00:00+00:00\", \"2020-07-06T00:30:00+00:00\", \"2020-07-06T01:00:00+00:00\", \"2020-07-06T01:30:00+00:00\", \"2020-07-06T02:00:00+00:00\", \"2020-07-06T02:30:00+00:00\", \"2020-07-06T03:00:00+00:00\", \"2020-07-06T03:30:00+00:00\", \"2020-07-06T04:00:00+00:00\", \"2020-07-06T04:30:00+00:00\", \"2020-07-06T05:00:00+00:00\", \"2020-07-06T05:30:00+00:00\", \"2020-07-06T06:00:00+00:00\", \"2020-07-06T06:30:00+00:00\", \"2020-07-06T07:00:00+00:00\", \"2020-07-06T07:30:00+00:00\", \"2020-07-06T08:00:00+00:00\", \"2020-07-06T08:30:00+00:00\", \"2020-07-06T09:00:00+00:00\", \"2020-07-06T09:30:00+00:00\", \"2020-07-06T10:00:00+00:00\", \"2020-07-06T10:30:00+00:00\", \"2020-07-06T11:00:00+00:00\", \"2020-07-06T11:30:00+00:00\", \"2020-07-06T12:00:00+00:00\", \"2020-07-06T12:30:00+00:00\", \"2020-07-06T13:00:00+00:00\", \"2020-07-06T13:30:00+00:00\", \"2020-07-06T14:00:00+00:00\", \"2020-07-06T14:30:00+00:00\", \"2020-07-06T15:00:00+00:00\", \"2020-07-06T15:30:00+00:00\", \"2020-07-06T16:00:00+00:00\", \"2020-07-06T16:30:00+00:00\", \"2020-07-06T17:00:00+00:00\", \"2020-07-06T17:30:00+00:00\", \"2020-07-06T18:00:00+00:00\", \"2020-07-06T18:30:00+00:00\", \"2020-07-06T19:00:00+00:00\", \"2020-07-06T19:30:00+00:00\", \"2020-07-06T20:00:00+00:00\", \"2020-07-06T20:30:00+00:00\", \"2020-07-06T21:00:00+00:00\", \"2020-07-06T21:30:00+00:00\", \"2020-07-06T22:00:00+00:00\", \"2020-07-06T22:30:00+00:00\", \"2020-07-06T23:00:00+00:00\", \"2020-07-06T23:30:00+00:00\", \"2020-07-07T00:00:00+00:00\", \"2020-07-07T00:30:00+00:00\", \"2020-07-07T01:00:00+00:00\", \"2020-07-07T01:30:00+00:00\", \"2020-07-07T02:00:00+00:00\", \"2020-07-07T02:30:00+00:00\", \"2020-07-07T03:00:00+00:00\", \"2020-07-07T03:30:00+00:00\", \"2020-07-07T04:00:00+00:00\", \"2020-07-07T04:30:00+00:00\", \"2020-07-07T05:00:00+00:00\", \"2020-07-07T05:30:00+00:00\", \"2020-07-07T06:00:00+00:00\", \"2020-07-07T06:30:00+00:00\", \"2020-07-07T07:00:00+00:00\", \"2020-07-07T07:30:00+00:00\", \"2020-07-07T08:00:00+00:00\", \"2020-07-07T08:30:00+00:00\", \"2020-07-07T09:00:00+00:00\", \"2020-07-07T09:30:00+00:00\", \"2020-07-07T10:00:00+00:00\", \"2020-07-07T10:30:00+00:00\", \"2020-07-07T11:00:00+00:00\", \"2020-07-07T11:30:00+00:00\", \"2020-07-07T12:00:00+00:00\", \"2020-07-07T12:30:00+00:00\", \"2020-07-07T13:00:00+00:00\", \"2020-07-07T13:30:00+00:00\", \"2020-07-07T14:00:00+00:00\", \"2020-07-07T14:30:00+00:00\", \"2020-07-07T15:00:00+00:00\", \"2020-07-07T15:30:00+00:00\", \"2020-07-07T16:00:00+00:00\", \"2020-07-07T16:30:00+00:00\", \"2020-07-07T17:00:00+00:00\", \"2020-07-07T17:30:00+00:00\", \"2020-07-07T18:00:00+00:00\", \"2020-07-07T18:30:00+00:00\", \"2020-07-07T19:00:00+00:00\", \"2020-07-07T19:30:00+00:00\", \"2020-07-07T20:00:00+00:00\", \"2020-07-07T20:30:00+00:00\", \"2020-07-07T21:00:00+00:00\", \"2020-07-07T21:30:00+00:00\", \"2020-07-07T22:00:00+00:00\", \"2020-07-07T22:30:00+00:00\", \"2020-07-07T23:00:00+00:00\", \"2020-07-07T23:30:00+00:00\", \"2020-07-08T00:00:00+00:00\", \"2020-07-08T00:30:00+00:00\", \"2020-07-08T01:00:00+00:00\", \"2020-07-08T01:30:00+00:00\", \"2020-07-08T02:00:00+00:00\", \"2020-07-08T02:30:00+00:00\", \"2020-07-08T03:00:00+00:00\", \"2020-07-08T03:30:00+00:00\", \"2020-07-08T04:00:00+00:00\", \"2020-07-08T04:30:00+00:00\", \"2020-07-08T05:00:00+00:00\", \"2020-07-08T05:30:00+00:00\", \"2020-07-08T06:00:00+00:00\", \"2020-07-08T06:30:00+00:00\", \"2020-07-08T07:00:00+00:00\", \"2020-07-08T07:30:00+00:00\", \"2020-07-08T08:00:00+00:00\", \"2020-07-08T08:30:00+00:00\", \"2020-07-08T09:00:00+00:00\", \"2020-07-08T09:30:00+00:00\", \"2020-07-08T10:00:00+00:00\", \"2020-07-08T10:30:00+00:00\", \"2020-07-08T11:00:00+00:00\", \"2020-07-08T11:30:00+00:00\", \"2020-07-08T12:00:00+00:00\", \"2020-07-08T12:30:00+00:00\", \"2020-07-08T13:00:00+00:00\", \"2020-07-08T13:30:00+00:00\", \"2020-07-08T14:00:00+00:00\", \"2020-07-08T14:30:00+00:00\", \"2020-07-08T15:00:00+00:00\", \"2020-07-08T15:30:00+00:00\", \"2020-07-08T16:00:00+00:00\", \"2020-07-08T16:30:00+00:00\", \"2020-07-08T17:00:00+00:00\", \"2020-07-08T17:30:00+00:00\", \"2020-07-08T18:00:00+00:00\", \"2020-07-08T18:30:00+00:00\", \"2020-07-08T19:00:00+00:00\", \"2020-07-08T19:30:00+00:00\", \"2020-07-08T20:00:00+00:00\", \"2020-07-08T20:30:00+00:00\", \"2020-07-08T21:00:00+00:00\", \"2020-07-08T21:30:00+00:00\", \"2020-07-08T22:00:00+00:00\", \"2020-07-08T22:30:00+00:00\", \"2020-07-08T23:00:00+00:00\", \"2020-07-08T23:30:00+00:00\", \"2020-07-09T00:00:00+00:00\", \"2020-07-09T00:30:00+00:00\", \"2020-07-09T01:00:00+00:00\", \"2020-07-09T01:30:00+00:00\", \"2020-07-09T02:00:00+00:00\", \"2020-07-09T02:30:00+00:00\", \"2020-07-09T03:00:00+00:00\", \"2020-07-09T03:30:00+00:00\", \"2020-07-09T04:00:00+00:00\", \"2020-07-09T04:30:00+00:00\", \"2020-07-09T05:00:00+00:00\", \"2020-07-09T05:30:00+00:00\", \"2020-07-09T06:00:00+00:00\", \"2020-07-09T06:30:00+00:00\", \"2020-07-09T07:00:00+00:00\", \"2020-07-09T07:30:00+00:00\", \"2020-07-09T08:00:00+00:00\", \"2020-07-09T08:30:00+00:00\", \"2020-07-09T09:00:00+00:00\", \"2020-07-09T09:30:00+00:00\", \"2020-07-09T10:00:00+00:00\", \"2020-07-09T10:30:00+00:00\", \"2020-07-09T11:00:00+00:00\", \"2020-07-09T11:30:00+00:00\", \"2020-07-09T12:00:00+00:00\", \"2020-07-09T12:30:00+00:00\", \"2020-07-09T13:00:00+00:00\", \"2020-07-09T13:30:00+00:00\", \"2020-07-09T14:00:00+00:00\", \"2020-07-09T14:30:00+00:00\", \"2020-07-09T15:00:00+00:00\", \"2020-07-09T15:30:00+00:00\", \"2020-07-09T16:00:00+00:00\", \"2020-07-09T16:30:00+00:00\", \"2020-07-09T17:00:00+00:00\", \"2020-07-09T17:30:00+00:00\", \"2020-07-09T18:00:00+00:00\", \"2020-07-09T18:30:00+00:00\", \"2020-07-09T19:00:00+00:00\", \"2020-07-09T19:30:00+00:00\", \"2020-07-09T20:00:00+00:00\", \"2020-07-09T20:30:00+00:00\", \"2020-07-09T21:00:00+00:00\", \"2020-07-09T21:30:00+00:00\", \"2020-07-09T22:00:00+00:00\", \"2020-07-09T22:30:00+00:00\", \"2020-07-09T23:00:00+00:00\", \"2020-07-09T23:30:00+00:00\", \"2020-07-10T00:00:00+00:00\", \"2020-07-10T00:30:00+00:00\", \"2020-07-10T01:00:00+00:00\", \"2020-07-10T01:30:00+00:00\", \"2020-07-10T02:00:00+00:00\", \"2020-07-10T02:30:00+00:00\", \"2020-07-10T03:00:00+00:00\", \"2020-07-10T03:30:00+00:00\", \"2020-07-10T04:00:00+00:00\", \"2020-07-10T04:30:00+00:00\", \"2020-07-10T05:00:00+00:00\", \"2020-07-10T05:30:00+00:00\", \"2020-07-10T06:00:00+00:00\", \"2020-07-10T06:30:00+00:00\", \"2020-07-10T07:00:00+00:00\", \"2020-07-10T07:30:00+00:00\", \"2020-07-10T08:00:00+00:00\", \"2020-07-10T08:30:00+00:00\", \"2020-07-10T09:00:00+00:00\", \"2020-07-10T09:30:00+00:00\", \"2020-07-10T10:00:00+00:00\", \"2020-07-10T10:30:00+00:00\", \"2020-07-10T11:00:00+00:00\", \"2020-07-10T11:30:00+00:00\", \"2020-07-10T12:00:00+00:00\", \"2020-07-10T12:30:00+00:00\", \"2020-07-10T13:00:00+00:00\", \"2020-07-10T13:30:00+00:00\", \"2020-07-10T14:00:00+00:00\", \"2020-07-10T14:30:00+00:00\", \"2020-07-10T15:00:00+00:00\", \"2020-07-10T15:30:00+00:00\", \"2020-07-10T16:00:00+00:00\", \"2020-07-10T16:30:00+00:00\", \"2020-07-10T17:00:00+00:00\", \"2020-07-10T17:30:00+00:00\", \"2020-07-10T18:00:00+00:00\", \"2020-07-10T18:30:00+00:00\", \"2020-07-10T19:00:00+00:00\", \"2020-07-10T19:30:00+00:00\", \"2020-07-10T20:00:00+00:00\", \"2020-07-10T20:30:00+00:00\", \"2020-07-10T21:00:00+00:00\", \"2020-07-10T21:30:00+00:00\", \"2020-07-10T22:00:00+00:00\", \"2020-07-10T22:30:00+00:00\", \"2020-07-10T23:00:00+00:00\", \"2020-07-10T23:30:00+00:00\", \"2020-07-11T00:00:00+00:00\", \"2020-07-11T00:30:00+00:00\", \"2020-07-11T01:00:00+00:00\", \"2020-07-11T01:30:00+00:00\", \"2020-07-11T02:00:00+00:00\", \"2020-07-11T02:30:00+00:00\", \"2020-07-11T03:00:00+00:00\", \"2020-07-11T03:30:00+00:00\", \"2020-07-11T04:00:00+00:00\", \"2020-07-11T04:30:00+00:00\", \"2020-07-11T05:00:00+00:00\", \"2020-07-11T05:30:00+00:00\", \"2020-07-11T06:00:00+00:00\", \"2020-07-11T06:30:00+00:00\", \"2020-07-11T07:00:00+00:00\", \"2020-07-11T07:30:00+00:00\", \"2020-07-11T08:00:00+00:00\", \"2020-07-11T08:30:00+00:00\", \"2020-07-11T09:00:00+00:00\", \"2020-07-11T09:30:00+00:00\", \"2020-07-11T10:00:00+00:00\", \"2020-07-11T10:30:00+00:00\", \"2020-07-11T11:00:00+00:00\", \"2020-07-11T11:30:00+00:00\", \"2020-07-11T12:00:00+00:00\", \"2020-07-11T12:30:00+00:00\", \"2020-07-11T13:00:00+00:00\", \"2020-07-11T13:30:00+00:00\", \"2020-07-11T14:00:00+00:00\", \"2020-07-11T14:30:00+00:00\", \"2020-07-11T15:00:00+00:00\", \"2020-07-11T15:30:00+00:00\", \"2020-07-11T16:00:00+00:00\", \"2020-07-11T16:30:00+00:00\", \"2020-07-11T17:00:00+00:00\", \"2020-07-11T17:30:00+00:00\", \"2020-07-11T18:00:00+00:00\", \"2020-07-11T18:30:00+00:00\", \"2020-07-11T19:00:00+00:00\", \"2020-07-11T19:30:00+00:00\", \"2020-07-11T20:00:00+00:00\", \"2020-07-11T20:30:00+00:00\", \"2020-07-11T21:00:00+00:00\", \"2020-07-11T21:30:00+00:00\", \"2020-07-11T22:00:00+00:00\", \"2020-07-11T22:30:00+00:00\", \"2020-07-11T23:00:00+00:00\", \"2020-07-11T23:30:00+00:00\", \"2020-07-12T00:00:00+00:00\", \"2020-07-12T00:30:00+00:00\", \"2020-07-12T01:00:00+00:00\", \"2020-07-12T01:30:00+00:00\", \"2020-07-12T02:00:00+00:00\", \"2020-07-12T02:30:00+00:00\", \"2020-07-12T03:00:00+00:00\", \"2020-07-12T03:30:00+00:00\", \"2020-07-12T04:00:00+00:00\", \"2020-07-12T04:30:00+00:00\", \"2020-07-12T05:00:00+00:00\", \"2020-07-12T05:30:00+00:00\", \"2020-07-12T06:00:00+00:00\", \"2020-07-12T06:30:00+00:00\", \"2020-07-12T07:00:00+00:00\", \"2020-07-12T07:30:00+00:00\", \"2020-07-12T08:00:00+00:00\", \"2020-07-12T08:30:00+00:00\", \"2020-07-12T09:00:00+00:00\", \"2020-07-12T09:30:00+00:00\", \"2020-07-12T10:00:00+00:00\", \"2020-07-12T10:30:00+00:00\", \"2020-07-12T11:00:00+00:00\", \"2020-07-12T11:30:00+00:00\", \"2020-07-12T12:00:00+00:00\", \"2020-07-12T12:30:00+00:00\", \"2020-07-12T13:00:00+00:00\", \"2020-07-12T13:30:00+00:00\", \"2020-07-12T14:00:00+00:00\", \"2020-07-12T14:30:00+00:00\", \"2020-07-12T15:00:00+00:00\", \"2020-07-12T15:30:00+00:00\", \"2020-07-12T16:00:00+00:00\", \"2020-07-12T16:30:00+00:00\", \"2020-07-12T17:00:00+00:00\", \"2020-07-12T17:30:00+00:00\", \"2020-07-12T18:00:00+00:00\", \"2020-07-12T18:30:00+00:00\", \"2020-07-12T19:00:00+00:00\", \"2020-07-12T19:30:00+00:00\", \"2020-07-12T20:00:00+00:00\", \"2020-07-12T20:30:00+00:00\", \"2020-07-12T21:00:00+00:00\", \"2020-07-12T21:30:00+00:00\", \"2020-07-12T22:00:00+00:00\", \"2020-07-12T22:30:00+00:00\", \"2020-07-12T23:00:00+00:00\", \"2020-07-12T23:30:00+00:00\", \"2020-07-13T00:00:00+00:00\", \"2020-07-13T00:30:00+00:00\", \"2020-07-13T01:00:00+00:00\", \"2020-07-13T01:30:00+00:00\", \"2020-07-13T02:00:00+00:00\", \"2020-07-13T02:30:00+00:00\", \"2020-07-13T03:00:00+00:00\", \"2020-07-13T03:30:00+00:00\", \"2020-07-13T04:00:00+00:00\", \"2020-07-13T04:30:00+00:00\", \"2020-07-13T05:00:00+00:00\", \"2020-07-13T05:30:00+00:00\", \"2020-07-13T06:00:00+00:00\", \"2020-07-13T06:30:00+00:00\", \"2020-07-13T07:00:00+00:00\", \"2020-07-13T07:30:00+00:00\", \"2020-07-13T08:00:00+00:00\", \"2020-07-13T08:30:00+00:00\", \"2020-07-13T09:00:00+00:00\", \"2020-07-13T09:30:00+00:00\", \"2020-07-13T10:00:00+00:00\", \"2020-07-13T10:30:00+00:00\", \"2020-07-13T11:00:00+00:00\", \"2020-07-13T11:30:00+00:00\", \"2020-07-13T12:00:00+00:00\", \"2020-07-13T12:30:00+00:00\", \"2020-07-13T13:00:00+00:00\", \"2020-07-13T13:30:00+00:00\", \"2020-07-13T14:00:00+00:00\", \"2020-07-13T14:30:00+00:00\", \"2020-07-13T15:00:00+00:00\", \"2020-07-13T15:30:00+00:00\", \"2020-07-13T16:00:00+00:00\", \"2020-07-13T16:30:00+00:00\", \"2020-07-13T17:00:00+00:00\", \"2020-07-13T17:30:00+00:00\", \"2020-07-13T18:00:00+00:00\", \"2020-07-13T18:30:00+00:00\", \"2020-07-13T19:00:00+00:00\", \"2020-07-13T19:30:00+00:00\", \"2020-07-13T20:00:00+00:00\", \"2020-07-13T20:30:00+00:00\", \"2020-07-13T21:00:00+00:00\", \"2020-07-13T21:30:00+00:00\", \"2020-07-13T22:00:00+00:00\", \"2020-07-13T22:30:00+00:00\", \"2020-07-13T23:00:00+00:00\", \"2020-07-13T23:30:00+00:00\", \"2020-07-14T00:00:00+00:00\", \"2020-07-14T00:30:00+00:00\", \"2020-07-14T01:00:00+00:00\", \"2020-07-14T01:30:00+00:00\", \"2020-07-14T02:00:00+00:00\", \"2020-07-14T02:30:00+00:00\", \"2020-07-14T03:00:00+00:00\", \"2020-07-14T03:30:00+00:00\", \"2020-07-14T04:00:00+00:00\", \"2020-07-14T04:30:00+00:00\", \"2020-07-14T05:00:00+00:00\", \"2020-07-14T05:30:00+00:00\", \"2020-07-14T06:00:00+00:00\", \"2020-07-14T06:30:00+00:00\", \"2020-07-14T07:00:00+00:00\", \"2020-07-14T07:30:00+00:00\", \"2020-07-14T08:00:00+00:00\", \"2020-07-14T08:30:00+00:00\", \"2020-07-14T09:00:00+00:00\", \"2020-07-14T09:30:00+00:00\", \"2020-07-14T10:00:00+00:00\", \"2020-07-14T10:30:00+00:00\", \"2020-07-14T11:00:00+00:00\", \"2020-07-14T11:30:00+00:00\", \"2020-07-14T12:00:00+00:00\", \"2020-07-14T12:30:00+00:00\", \"2020-07-14T13:00:00+00:00\", \"2020-07-14T13:30:00+00:00\", \"2020-07-14T14:00:00+00:00\", \"2020-07-14T14:30:00+00:00\", \"2020-07-14T15:00:00+00:00\", \"2020-07-14T15:30:00+00:00\", \"2020-07-14T16:00:00+00:00\", \"2020-07-14T16:30:00+00:00\", \"2020-07-14T17:00:00+00:00\", \"2020-07-14T17:30:00+00:00\", \"2020-07-14T18:00:00+00:00\", \"2020-07-14T18:30:00+00:00\", \"2020-07-14T19:00:00+00:00\", \"2020-07-14T19:30:00+00:00\", \"2020-07-14T20:00:00+00:00\", \"2020-07-14T20:30:00+00:00\", \"2020-07-14T21:00:00+00:00\", \"2020-07-14T21:30:00+00:00\", \"2020-07-14T22:00:00+00:00\", \"2020-07-14T22:30:00+00:00\", \"2020-07-14T23:00:00+00:00\", \"2020-07-14T23:30:00+00:00\", \"2020-07-15T00:00:00+00:00\", \"2020-07-15T00:30:00+00:00\", \"2020-07-15T01:00:00+00:00\", \"2020-07-15T01:30:00+00:00\", \"2020-07-15T02:00:00+00:00\", \"2020-07-15T02:30:00+00:00\", \"2020-07-15T03:00:00+00:00\", \"2020-07-15T03:30:00+00:00\", \"2020-07-15T04:00:00+00:00\", \"2020-07-15T04:30:00+00:00\", \"2020-07-15T05:00:00+00:00\", \"2020-07-15T05:30:00+00:00\", \"2020-07-15T06:00:00+00:00\", \"2020-07-15T06:30:00+00:00\", \"2020-07-15T07:00:00+00:00\", \"2020-07-15T07:30:00+00:00\", \"2020-07-15T08:00:00+00:00\", \"2020-07-15T08:30:00+00:00\", \"2020-07-15T09:00:00+00:00\", \"2020-07-15T09:30:00+00:00\", \"2020-07-15T10:00:00+00:00\", \"2020-07-15T10:30:00+00:00\", \"2020-07-15T11:00:00+00:00\", \"2020-07-15T11:30:00+00:00\", \"2020-07-15T12:00:00+00:00\", \"2020-07-15T12:30:00+00:00\", \"2020-07-15T13:00:00+00:00\", \"2020-07-15T13:30:00+00:00\", \"2020-07-15T14:00:00+00:00\", \"2020-07-15T14:30:00+00:00\", \"2020-07-15T15:00:00+00:00\", \"2020-07-15T15:30:00+00:00\", \"2020-07-15T16:00:00+00:00\", \"2020-07-15T16:30:00+00:00\", \"2020-07-15T17:00:00+00:00\", \"2020-07-15T17:30:00+00:00\", \"2020-07-15T18:00:00+00:00\", \"2020-07-15T18:30:00+00:00\", \"2020-07-15T19:00:00+00:00\", \"2020-07-15T19:30:00+00:00\", \"2020-07-15T20:00:00+00:00\", \"2020-07-15T20:30:00+00:00\", \"2020-07-15T21:00:00+00:00\", \"2020-07-15T21:30:00+00:00\", \"2020-07-15T22:00:00+00:00\", \"2020-07-15T22:30:00+00:00\", \"2020-07-15T23:00:00+00:00\", \"2020-07-15T23:30:00+00:00\", \"2020-07-16T00:00:00+00:00\", \"2020-07-16T00:30:00+00:00\", \"2020-07-16T01:00:00+00:00\", \"2020-07-16T01:30:00+00:00\", \"2020-07-16T02:00:00+00:00\", \"2020-07-16T02:30:00+00:00\", \"2020-07-16T03:00:00+00:00\", \"2020-07-16T03:30:00+00:00\", \"2020-07-16T04:00:00+00:00\", \"2020-07-16T04:30:00+00:00\", \"2020-07-16T05:00:00+00:00\", \"2020-07-16T05:30:00+00:00\", \"2020-07-16T06:00:00+00:00\", \"2020-07-16T06:30:00+00:00\", \"2020-07-16T07:00:00+00:00\", \"2020-07-16T07:30:00+00:00\", \"2020-07-16T08:00:00+00:00\", \"2020-07-16T08:30:00+00:00\", \"2020-07-16T09:00:00+00:00\", \"2020-07-16T09:30:00+00:00\", \"2020-07-16T10:00:00+00:00\", \"2020-07-16T10:30:00+00:00\", \"2020-07-16T11:00:00+00:00\", \"2020-07-16T11:30:00+00:00\", \"2020-07-16T12:00:00+00:00\", \"2020-07-16T12:30:00+00:00\", \"2020-07-16T13:00:00+00:00\", \"2020-07-16T13:30:00+00:00\", \"2020-07-16T14:00:00+00:00\", \"2020-07-16T14:30:00+00:00\", \"2020-07-16T15:00:00+00:00\", \"2020-07-16T15:30:00+00:00\", \"2020-07-16T16:00:00+00:00\", \"2020-07-16T16:30:00+00:00\", \"2020-07-16T17:00:00+00:00\", \"2020-07-16T17:30:00+00:00\", \"2020-07-16T18:00:00+00:00\", \"2020-07-16T18:30:00+00:00\", \"2020-07-16T19:00:00+00:00\", \"2020-07-16T19:30:00+00:00\", \"2020-07-16T20:00:00+00:00\", \"2020-07-16T20:30:00+00:00\", \"2020-07-16T21:00:00+00:00\", \"2020-07-16T21:30:00+00:00\", \"2020-07-16T22:00:00+00:00\", \"2020-07-16T22:30:00+00:00\", \"2020-07-16T23:00:00+00:00\", \"2020-07-16T23:30:00+00:00\", \"2020-07-17T00:00:00+00:00\", \"2020-07-17T00:30:00+00:00\", \"2020-07-17T01:00:00+00:00\", \"2020-07-17T01:30:00+00:00\", \"2020-07-17T02:00:00+00:00\", \"2020-07-17T02:30:00+00:00\", \"2020-07-17T03:00:00+00:00\", \"2020-07-17T03:30:00+00:00\", \"2020-07-17T04:00:00+00:00\", \"2020-07-17T04:30:00+00:00\", \"2020-07-17T05:00:00+00:00\", \"2020-07-17T05:30:00+00:00\", \"2020-07-17T06:00:00+00:00\", \"2020-07-17T06:30:00+00:00\", \"2020-07-17T07:00:00+00:00\", \"2020-07-17T07:30:00+00:00\", \"2020-07-17T08:00:00+00:00\", \"2020-07-17T08:30:00+00:00\", \"2020-07-17T09:00:00+00:00\", \"2020-07-17T09:30:00+00:00\", \"2020-07-17T10:00:00+00:00\", \"2020-07-17T10:30:00+00:00\", \"2020-07-17T11:00:00+00:00\", \"2020-07-17T11:30:00+00:00\", \"2020-07-17T12:00:00+00:00\", \"2020-07-17T12:30:00+00:00\", \"2020-07-17T13:00:00+00:00\", \"2020-07-17T13:30:00+00:00\", \"2020-07-17T14:00:00+00:00\", \"2020-07-17T14:30:00+00:00\", \"2020-07-17T15:00:00+00:00\", \"2020-07-17T15:30:00+00:00\", \"2020-07-17T16:00:00+00:00\", \"2020-07-17T16:30:00+00:00\", \"2020-07-17T17:00:00+00:00\", \"2020-07-17T17:30:00+00:00\", \"2020-07-17T18:00:00+00:00\", \"2020-07-17T18:30:00+00:00\", \"2020-07-17T19:00:00+00:00\", \"2020-07-17T19:30:00+00:00\", \"2020-07-17T20:00:00+00:00\", \"2020-07-17T20:30:00+00:00\", \"2020-07-17T21:00:00+00:00\", \"2020-07-17T21:30:00+00:00\", \"2020-07-17T22:00:00+00:00\", \"2020-07-17T22:30:00+00:00\", \"2020-07-17T23:00:00+00:00\", \"2020-07-17T23:30:00+00:00\", \"2020-07-18T00:00:00+00:00\", \"2020-07-18T00:30:00+00:00\", \"2020-07-18T01:00:00+00:00\", \"2020-07-18T01:30:00+00:00\", \"2020-07-18T02:00:00+00:00\", \"2020-07-18T02:30:00+00:00\", \"2020-07-18T03:00:00+00:00\", \"2020-07-18T03:30:00+00:00\", \"2020-07-18T04:00:00+00:00\", \"2020-07-18T04:30:00+00:00\", \"2020-07-18T05:00:00+00:00\", \"2020-07-18T05:30:00+00:00\", \"2020-07-18T06:00:00+00:00\", \"2020-07-18T06:30:00+00:00\", \"2020-07-18T07:00:00+00:00\", \"2020-07-18T07:30:00+00:00\", \"2020-07-18T08:00:00+00:00\", \"2020-07-18T08:30:00+00:00\", \"2020-07-18T09:00:00+00:00\", \"2020-07-18T09:30:00+00:00\", \"2020-07-18T10:00:00+00:00\", \"2020-07-18T10:30:00+00:00\", \"2020-07-18T11:00:00+00:00\", \"2020-07-18T11:30:00+00:00\", \"2020-07-18T12:00:00+00:00\", \"2020-07-18T12:30:00+00:00\", \"2020-07-18T13:00:00+00:00\", \"2020-07-18T13:30:00+00:00\", \"2020-07-18T14:00:00+00:00\", \"2020-07-18T14:30:00+00:00\", \"2020-07-18T15:00:00+00:00\", \"2020-07-18T15:30:00+00:00\", \"2020-07-18T16:00:00+00:00\", \"2020-07-18T16:30:00+00:00\", \"2020-07-18T17:00:00+00:00\", \"2020-07-18T17:30:00+00:00\", \"2020-07-18T18:00:00+00:00\", \"2020-07-18T18:30:00+00:00\", \"2020-07-18T19:00:00+00:00\", \"2020-07-18T19:30:00+00:00\", \"2020-07-18T20:00:00+00:00\", \"2020-07-18T20:30:00+00:00\", \"2020-07-18T21:00:00+00:00\", \"2020-07-18T21:30:00+00:00\", \"2020-07-18T22:00:00+00:00\", \"2020-07-18T22:30:00+00:00\", \"2020-07-18T23:00:00+00:00\", \"2020-07-18T23:30:00+00:00\", \"2020-07-19T00:00:00+00:00\", \"2020-07-19T00:30:00+00:00\", \"2020-07-19T01:00:00+00:00\", \"2020-07-19T01:30:00+00:00\", \"2020-07-19T02:00:00+00:00\", \"2020-07-19T02:30:00+00:00\", \"2020-07-19T03:00:00+00:00\", \"2020-07-19T03:30:00+00:00\", \"2020-07-19T04:00:00+00:00\", \"2020-07-19T04:30:00+00:00\", \"2020-07-19T05:00:00+00:00\", \"2020-07-19T05:30:00+00:00\", \"2020-07-19T06:00:00+00:00\", \"2020-07-19T06:30:00+00:00\", \"2020-07-19T07:00:00+00:00\", \"2020-07-19T07:30:00+00:00\", \"2020-07-19T08:00:00+00:00\", \"2020-07-19T08:30:00+00:00\", \"2020-07-19T09:00:00+00:00\", \"2020-07-19T09:30:00+00:00\", \"2020-07-19T10:00:00+00:00\", \"2020-07-19T10:30:00+00:00\", \"2020-07-19T11:00:00+00:00\", \"2020-07-19T11:30:00+00:00\", \"2020-07-19T12:00:00+00:00\", \"2020-07-19T12:30:00+00:00\", \"2020-07-19T13:00:00+00:00\", \"2020-07-19T13:30:00+00:00\", \"2020-07-19T14:00:00+00:00\", \"2020-07-19T14:30:00+00:00\", \"2020-07-19T15:00:00+00:00\", \"2020-07-19T15:30:00+00:00\", \"2020-07-19T16:00:00+00:00\", \"2020-07-19T16:30:00+00:00\", \"2020-07-19T17:00:00+00:00\", \"2020-07-19T17:30:00+00:00\", \"2020-07-19T18:00:00+00:00\", \"2020-07-19T18:30:00+00:00\", \"2020-07-19T19:00:00+00:00\", \"2020-07-19T19:30:00+00:00\", \"2020-07-19T20:00:00+00:00\", \"2020-07-19T20:30:00+00:00\", \"2020-07-19T21:00:00+00:00\", \"2020-07-19T21:30:00+00:00\", \"2020-07-19T22:00:00+00:00\", \"2020-07-19T22:30:00+00:00\", \"2020-07-19T23:00:00+00:00\", \"2020-07-19T23:30:00+00:00\", \"2020-07-20T00:00:00+00:00\", \"2020-07-20T00:30:00+00:00\", \"2020-07-20T01:00:00+00:00\", \"2020-07-20T01:30:00+00:00\", \"2020-07-20T02:00:00+00:00\", \"2020-07-20T02:30:00+00:00\", \"2020-07-20T03:00:00+00:00\", \"2020-07-20T03:30:00+00:00\", \"2020-07-20T04:00:00+00:00\", \"2020-07-20T04:30:00+00:00\", \"2020-07-20T05:00:00+00:00\", \"2020-07-20T05:30:00+00:00\", \"2020-07-20T06:00:00+00:00\", \"2020-07-20T06:30:00+00:00\", \"2020-07-20T07:00:00+00:00\", \"2020-07-20T07:30:00+00:00\", \"2020-07-20T08:00:00+00:00\", \"2020-07-20T08:30:00+00:00\", \"2020-07-20T09:00:00+00:00\", \"2020-07-20T09:30:00+00:00\", \"2020-07-20T10:00:00+00:00\", \"2020-07-20T10:30:00+00:00\", \"2020-07-20T11:00:00+00:00\", \"2020-07-20T11:30:00+00:00\", \"2020-07-20T12:00:00+00:00\", \"2020-07-20T12:30:00+00:00\", \"2020-07-20T13:00:00+00:00\", \"2020-07-20T13:30:00+00:00\", \"2020-07-20T14:00:00+00:00\", \"2020-07-20T14:30:00+00:00\", \"2020-07-20T15:00:00+00:00\", \"2020-07-20T15:30:00+00:00\", \"2020-07-20T16:00:00+00:00\", \"2020-07-20T16:30:00+00:00\", \"2020-07-20T17:00:00+00:00\", \"2020-07-20T17:30:00+00:00\", \"2020-07-20T18:00:00+00:00\", \"2020-07-20T18:30:00+00:00\", \"2020-07-20T19:00:00+00:00\", \"2020-07-20T19:30:00+00:00\", \"2020-07-20T20:00:00+00:00\", \"2020-07-20T20:30:00+00:00\"], \"y\": [0.9098173, 0.91357595, 0.91251606, 0.9159912, 0.9161884, 0.91490686, 0.9119636000000001, 0.9111111, 0.9143769, 0.9163979, 0.91036975, 0.9096940999999998, 0.90844923, 0.91252834, 0.90822953, 0.9115055000000001, 0.9088437, 0.9081824000000001, 0.9079729, 0.90798306, 0.90676516, 0.90722525, 0.9067856, 0.9069705, 0.90683496, 0.9064283000000001, 0.9176796, 0.9180656999999999, 0.92196804, 0.92377764, 0.9197006, 0.92396444, 0.92193115, 0.92401177, 0.9249379999999999, 0.92253494, 0.92174417, 0.92508394, 0.9234962, 0.9203720999999999, 0.9210007, 0.9256281, 0.92558706, 0.9228184000000001, 0.9249175999999999, 0.92504895, 0.9208815999999999, 0.92261916, 0.92901295, 0.9228574, 0.92686045, 0.92719316, 0.92315114, 0.92800665, 0.9249175999999999, 0.92422336, 0.9273658000000001, 0.92797995, 0.92280614, 0.9225597, 0.91978484, 0.9268728999999999, 0.9248148000000002, 0.9267003, 0.9204646999999999, 0.91875166, 0.91675526, 0.91978693, 0.9175933000000001, 0.9177207000000001, 0.92124104, 0.9236934000000001, 0.9199225000000001, 0.9147651, 0.92003334, 0.918308, 0.91506696, 0.91678005, 0.9217318000000001, 0.9222474, 0.91775346, 0.9204030000000001, 0.9173715, 0.9180493000000001, 0.9228718000000001, 0.9230033000000001, 0.92018116, 0.92326206, 0.9255529, 0.9232744, 0.92314494, 0.92713773, 0.9360414, 0.8933654000000001, 0.023603452, 0.9062598, 0.90507686, 0.90038985, 0.90480167, 0.90454274, 0.9026818999999999, 0.9091146999999999, 0.9063707000000001, 0.9037049000000001, 0.91177654, 0.9111111, 0.9067712, 0.90725404, 0.903064, 0.9037417999999999, 0.9058964, 0.9088806, 0.90263265, 0.9019219999999999, 0.8990486999999999, 0.8967790000000001, 0.8995025999999999, 0.8978265999999999, 0.89488125, 0.89818394, 0.9014414000000001, 0.9037787, 0.8967666999999999, 0.89700085, 0.8990712, 0.9017700000000001, 0.8994409, 0.89897263, 0.89932996, 0.8927308, 0.89336747, 0.8913690000000001, 0.8930594999999999, 0.89606434, 0.89741987, 0.89793754, 0.89609706, 0.89806074, 0.8984366, 0.89938146, 0.9018193999999999, 0.9071183, 0.91176426, 0.9131773000000001, 0.9103346999999999, 0.90856016, 0.90965694, 0.9096509, 0.9089423000000001, 0.9085726000000001, 0.9099282, 0.9078209, 0.91028553, 0.9096940999999998, 0.91001445, 0.91130835, 0.9036801, 0.90665007, 0.9083631, 0.91186285, 0.89648336, 0.8873393, 0.8880665000000001, 0.88897836, 0.8889414000000001, 0.88671076, 0.89101166, 0.8909994000000001, 0.88974243, 0.888818, 0.8861315999999999, 0.8873886999999999, 0.8860947, 0.8933039, 0.88794327, 0.9014373, 0.9049986999999999, 0.9060585999999999, 0.9066747, 0.9082768, 0.90761137, 0.90554094, 0.90791947, 0.90211505, 0.9078700999999999, 0.9066132, 0.9039267, 0.90126485, 0.90634197, 0.90205353, 0.9049126000000001, 0.9071554000000001, 0.9047769, 0.90592307, 0.9071799999999999, 0.90345824, 0.9058983, 0.9056396000000001, 0.90681034, 0.90562725, 0.9098173, 0.90475225, 0.90269434, 0.9029654, 0.9017700000000001, 0.90681034, 0.90779626, 0.90731555, 0.90641594, 0.9031872, 0.90404993, 0.9063913, 0.9017331000000001, 0.91060597, 0.9067856, 0.9028790999999999, 0.90226305, 0.9014989999999999, 0.90153587, 0.90217674, 0.9108155000000001, 0.9066378, 0.90411144, 0.9086341999999998, 0.9099282, 0.90520823, 0.90545464, 0.90454274, 0.90768534, 0.90541774, 0.9037787, 0.9045799000000001, 0.9010181999999999, 0.90063626, 0.9038773000000001, 0.90637904, 0.90833837, 0.90716773, 0.9094228000000001, 0.90596, 0.91128373, 0.9103346999999999, 0.9102115, 0.91067994, 0.9114686, 0.9071554000000001, 0.91122204, 0.9139825, 0.9119984, 0.91095096, 0.9028914000000001, 0.90656376, 0.90674865, 0.9068226999999999, 0.90889287, 0.90429634, 0.91064286, 0.90581214, 0.90510964, 0.9060954999999999, 0.9154120000000001, 0.90519595, 0.9069950999999999, 0.9089915000000001, 0.9075127000000001, 0.9040868000000001, 0.9082150999999999, 0.9080673, 0.9132800999999999, 0.9109755999999999, 0.9132431999999999, 0.9139702, 0.9086529000000001, 0.9114686, 0.90864646, 0.91192454, 0.9118506, 0.90904087, 0.90679806, 0.90462905, 0.91483283, 0.90944743, 0.9055163, 0.9104704, 0.91088927, 0.9113206, 0.9096693000000001, 0.9112345, 0.91251606, 0.913391, 0.91242975, 0.9077591999999999, 0.9091146999999999, 0.9103224, 0.9119738000000002, 0.9113329, 0.91282415, 0.9107538000000001, 0.9114438, 0.91116047, 0.9069582, 0.91003907, 0.91145635, 0.9102363000000001, 0.9053931000000001, 0.9043085999999999, 0.9048509, 0.90677327, 0.9059969000000001, 0.90404993, 0.90901625, 0.9049741, 0.90248483, 0.9038280999999999, 0.90454274, 0.90732783, 0.909349, 0.9083631, 0.9049618, 0.9056642, 0.9022507, 0.90679806, 0.90317494, 0.905159, 0.9043949, 0.90453047, 0.90825224, 0.9033474, 0.9027928, 0.9037787, 0.90404993, 0.9075127000000001, 0.90172076, 0.90958315, 0.90462905, 0.9080181, 0.91454935, 0.90517133, 0.9018931999999998, 0.91045815, 0.9099651, 0.9093242, 0.90958315, 0.9081165000000001, 0.9048878, 0.90980494, 0.910076, 0.9047892, 0.9055533000000001, 0.9006732, 0.9021511000000001, 0.90646535, 0.9109386999999999, 0.93630034, 0.9075744000000001, 0.9021889999999999, 0.9033474, 0.9020041, 0.90559036, 0.9043703000000002, 0.9039267, 0.8994409, 0.90048844, 0.9027436, 0.9048263000000001, 0.9028545, 0.90356916, 0.9052822, 0.9017331000000001, 0.89942855, 0.89829487, 0.9048754999999999, 0.9048139999999999, 0.9032242, 0.9038896000000001, 0.9043456, 0.91128373, 0.9089423000000001, 0.9082399, 0.9078947, 0.90729094, 0.9072046, 0.9052822, 0.90205353, 0.90656376, 0.9085479, 0.8997120999999999, 0.90030354, 0.9020780999999999, 0.90533143, 0.9026818999999999, 0.9019671999999999, 0.9057259, 0.90545464, 0.9092627000000001, 0.9022753000000001, 0.9064759, 0.90342134, 0.9060585999999999, 0.9102609, 0.9101869, 0.9145618000000001, 0.90980494, 0.91282415, 0.9092627000000001, 0.9122450000000001, 0.9158065000000001, 0.90891767, 0.9142043, 0.9123188, 0.9161021, 0.91340333, 0.9136251, 0.9150546999999999, 0.91483283, 0.91631126, 0.91272986, 0.9175933000000001, 0.9126269, 0.91654676, 0.9183312, 0.9191707, 0.91182595, 0.9092380999999999, 0.90837544, 0.9102609, 0.9074264000000001, 0.91201085, 0.9129351000000001, 0.91685385, 0.9116287000000001, 0.9103472, 0.91051966, 0.91355115, 0.9094844999999999, 0.90964466, 0.91581875, 0.9119860999999999, 0.91472197, 0.91364974, 0.9140934000000001, 0.9121093000000001, 0.90959543, 0.9102485999999999, 0.908474, 0.9125037, 0.9132555, 0.91554755, 0.91392094, 0.9094722, 0.90623105, 0.90895456, 0.9134773000000002, 0.9116656999999999, 0.91228193, 0.91485745, 0.9144631999999999, 0.91282415, 0.9128364999999999, 0.91103727, 0.9103595, 0.906909, 0.909201, 0.91257775, 0.9121218000000001, 0.91092634, 0.91484517, 0.91282415, 0.9127502000000001, 0.908326, 0.9111974, 0.91270095, 0.9109633, 0.9118136999999998, 0.9139948, 0.9146850000000001, 0.9113454, 0.91421664, 0.9138101000000001, 0.9121956, 0.9151655999999999, 0.9105690000000001, 0.9184065999999999, 0.91176426, 0.9138716, 0.9138716, 0.91479594, 0.91413045, 0.9163239, 0.9122326999999999, 0.9175315999999999, 0.91282415, 0.91161644, 0.9173220999999999, 0.91679233, 0.91448784, 0.9167429, 0.9112714, 0.9070937, 0.91260237, 0.9127502000000001, 0.9144509, 0.90865874, 0.9156832, 0.9176179, 0.9146603000000001, 0.9159666, 0.91442615, 0.91854215, 0.91800004, 0.9163856, 0.91388386, 0.9180493000000001, 0.92108077, 0.9191953000000002, 0.9159666, 0.91463566, 0.91984844, 0.9163733000000001, 0.9217956, 0.91588426, 0.92292935, 0.92226386, 0.91806155, 0.91506696, 0.90916413, 0.90934676, 0.90666234, 0.9086711, 0.91369915, 0.9069705, 0.9080796, 0.91122204, 0.9119860999999999, 0.9135882, 0.90732783, 0.90965694, 0.9114438, 0.91512865, 0.9100020000000001, 0.9103964, 0.9140565, 0.91627467, 0.9081290000000001, 0.90746355, 0.9144631999999999, 0.9123928, 0.91259, 0.90976787, 0.9123435999999999, 0.91833276, 0.9119860999999999, 0.91000354, 0.91080314, 0.9143399999999999, 0.91348964, 0.9102115, 0.9143152, 0.9182094000000001, 0.92275673, 0.91933095, 0.91802466, 0.9136004999999999, 0.9138101000000001, 0.9164965, 0.9182219000000001, 0.91384697, 0.9163733000000001, 0.9154120000000001, 0.91160417, 0.9183203000000001, 0.9173715, 0.92076033, 0.9186562, 0.9185721, 0.9184880999999999, 0.9184040000000001, 0.91831976, 0.9182357, 0.9181517, 0.91806746, 0.9179834000000001, 0.91789937, 0.9178153, 0.9177311, 0.91764706, 0.9175629999999999, 0.9174789000000001, 0.9173947, 0.91731066, 0.9172266, 0.9171424000000001, 0.91705835, 0.9169743, 0.91689026, 0.91680604, 0.9167219999999999, 0.91663796, 0.91655385, 0.91646963, 0.9163856, 0.9164298000000001, 0.916474, 0.91651815, 0.9165624, 0.91660655, 0.9166508, 0.91669494, 0.9167390999999999, 0.91678333, 0.9168277, 0.9168719000000001, 0.9169161, 0.91696024, 0.91700447, 0.91704863, 0.91709286, 0.9171370000000001, 0.9171812, 0.9172254000000001, 0.9172696, 0.9173138000000001, 0.917358, 0.91740215, 0.9174464, 0.91749054, 0.91753477, 0.91980463, 0.9186778, 0.92275673, 0.92183256, 0.92175853, 0.9221898999999999, 0.923644, 0.92235017, 0.92310196, 0.9238109, 0.9224734, 0.92462474, 0.92434293, 0.9240613000000001, 0.9237796999999999, 0.9234979, 0.92321634, 0.92293453, 0.9226529, 0.9223713, 0.9220895, 0.9233113000000002, 0.92302793, 0.92259663, 0.9187393, 0.92258793, 0.92227113, 0.9219544, 0.9216376000000001, 0.9213206, 0.9210038, 0.920687, 0.9203701999999999, 0.9200533000000001, 0.9211548, 0.9208589, 0.920477, 0.9223625, 0.9282408000000001, 0.92410016, 0.9235456, 0.9212534, 0.9226829, 0.9219188, 0.91864073, 0.9210685, 0.92392755, 0.91781515, 0.9236688, 0.9203661, 0.9225597, 0.9192815999999999, 0.92323744, 0.9206619, 0.92511064, 0.92087126, 0.9243094999999999, 0.9200086999999999, 0.92417395, 0.92447776, 0.9240191999999999, 0.9444459999999999, 0.33854064, 0.8165167, 0.8157033, 0.81891966, 0.8214459999999999, 0.81555545, 0.8174531999999999, 0.81484056, 0.8185131, 0.81948656, 0.8157525999999999, 0.8172931, 0.81995493, 0.81806946, 0.82499516, 0.9028299000000001, 0.9023121999999999, 0.90238625, 0.9076728999999999, 0.90421003, 0.8998599, 0.90257096, 0.9030394, 0.9026696, 0.9026818999999999, 0.9040004999999999, 0.90238625, 0.9025218, 0.90223825, 0.8997021999999999, 0.9031624]}, {\"mode\": \"lines\", \"name\": \"PE4\", \"type\": \"scatter\", \"x\": [\"2020-07-05T21:00:00+00:00\", \"2020-07-05T21:30:00+00:00\", \"2020-07-05T22:00:00+00:00\", \"2020-07-05T22:30:00+00:00\", \"2020-07-05T23:00:00+00:00\", \"2020-07-05T23:30:00+00:00\", \"2020-07-06T00:00:00+00:00\", \"2020-07-06T00:30:00+00:00\", \"2020-07-06T01:00:00+00:00\", \"2020-07-06T01:30:00+00:00\", \"2020-07-06T02:00:00+00:00\", \"2020-07-06T02:30:00+00:00\", \"2020-07-06T03:00:00+00:00\", \"2020-07-06T03:30:00+00:00\", \"2020-07-06T04:00:00+00:00\", \"2020-07-06T04:30:00+00:00\", \"2020-07-06T05:00:00+00:00\", \"2020-07-06T05:30:00+00:00\", \"2020-07-06T06:00:00+00:00\", \"2020-07-06T06:30:00+00:00\", \"2020-07-06T07:00:00+00:00\", \"2020-07-06T07:30:00+00:00\", \"2020-07-06T08:00:00+00:00\", \"2020-07-06T08:30:00+00:00\", \"2020-07-06T09:00:00+00:00\", \"2020-07-06T09:30:00+00:00\", \"2020-07-06T10:00:00+00:00\", \"2020-07-06T10:30:00+00:00\", \"2020-07-06T11:00:00+00:00\", \"2020-07-06T11:30:00+00:00\", \"2020-07-06T12:00:00+00:00\", \"2020-07-06T12:30:00+00:00\", \"2020-07-06T13:00:00+00:00\", \"2020-07-06T13:30:00+00:00\", \"2020-07-06T14:00:00+00:00\", \"2020-07-06T14:30:00+00:00\", \"2020-07-06T15:00:00+00:00\", \"2020-07-06T15:30:00+00:00\", \"2020-07-06T16:00:00+00:00\", \"2020-07-06T16:30:00+00:00\", \"2020-07-06T17:00:00+00:00\", \"2020-07-06T17:30:00+00:00\", \"2020-07-06T18:00:00+00:00\", \"2020-07-06T18:30:00+00:00\", \"2020-07-06T19:00:00+00:00\", \"2020-07-06T19:30:00+00:00\", \"2020-07-06T20:00:00+00:00\", \"2020-07-06T20:30:00+00:00\", \"2020-07-06T21:00:00+00:00\", \"2020-07-06T21:30:00+00:00\", \"2020-07-06T22:00:00+00:00\", \"2020-07-06T22:30:00+00:00\", \"2020-07-06T23:00:00+00:00\", \"2020-07-06T23:30:00+00:00\", \"2020-07-07T00:00:00+00:00\", \"2020-07-07T00:30:00+00:00\", \"2020-07-07T01:00:00+00:00\", \"2020-07-07T01:30:00+00:00\", \"2020-07-07T02:00:00+00:00\", \"2020-07-07T02:30:00+00:00\", \"2020-07-07T03:00:00+00:00\", \"2020-07-07T03:30:00+00:00\", \"2020-07-07T04:00:00+00:00\", \"2020-07-07T04:30:00+00:00\", \"2020-07-07T05:00:00+00:00\", \"2020-07-07T05:30:00+00:00\", \"2020-07-07T06:00:00+00:00\", \"2020-07-07T06:30:00+00:00\", \"2020-07-07T07:00:00+00:00\", \"2020-07-07T07:30:00+00:00\", \"2020-07-07T08:00:00+00:00\", \"2020-07-07T08:30:00+00:00\", \"2020-07-07T09:00:00+00:00\", \"2020-07-07T09:30:00+00:00\", \"2020-07-07T10:00:00+00:00\", \"2020-07-07T10:30:00+00:00\", \"2020-07-07T11:00:00+00:00\", \"2020-07-07T11:30:00+00:00\", \"2020-07-07T12:00:00+00:00\", \"2020-07-07T12:30:00+00:00\", \"2020-07-07T13:00:00+00:00\", \"2020-07-07T13:30:00+00:00\", \"2020-07-07T14:00:00+00:00\", \"2020-07-07T14:30:00+00:00\", \"2020-07-07T15:00:00+00:00\", \"2020-07-07T15:30:00+00:00\", \"2020-07-07T16:00:00+00:00\", \"2020-07-07T16:30:00+00:00\", \"2020-07-07T17:00:00+00:00\", \"2020-07-07T17:30:00+00:00\", \"2020-07-07T18:00:00+00:00\", \"2020-07-07T18:30:00+00:00\", \"2020-07-07T19:00:00+00:00\", \"2020-07-07T19:30:00+00:00\", \"2020-07-07T20:00:00+00:00\", \"2020-07-07T20:30:00+00:00\", \"2020-07-07T21:00:00+00:00\", \"2020-07-07T21:30:00+00:00\", \"2020-07-07T22:00:00+00:00\", \"2020-07-07T22:30:00+00:00\", \"2020-07-07T23:00:00+00:00\", \"2020-07-07T23:30:00+00:00\", \"2020-07-08T00:00:00+00:00\", \"2020-07-08T00:30:00+00:00\", \"2020-07-08T01:00:00+00:00\", \"2020-07-08T01:30:00+00:00\", \"2020-07-08T02:00:00+00:00\", \"2020-07-08T02:30:00+00:00\", \"2020-07-08T03:00:00+00:00\", \"2020-07-08T03:30:00+00:00\", \"2020-07-08T04:00:00+00:00\", \"2020-07-08T04:30:00+00:00\", \"2020-07-08T05:00:00+00:00\", \"2020-07-08T05:30:00+00:00\", \"2020-07-08T06:00:00+00:00\", \"2020-07-08T06:30:00+00:00\", \"2020-07-08T07:00:00+00:00\", \"2020-07-08T07:30:00+00:00\", \"2020-07-08T08:00:00+00:00\", \"2020-07-08T08:30:00+00:00\", \"2020-07-08T09:00:00+00:00\", \"2020-07-08T09:30:00+00:00\", \"2020-07-08T10:00:00+00:00\", \"2020-07-08T10:30:00+00:00\", \"2020-07-08T11:00:00+00:00\", \"2020-07-08T11:30:00+00:00\", \"2020-07-08T12:00:00+00:00\", \"2020-07-08T12:30:00+00:00\", \"2020-07-08T13:00:00+00:00\", \"2020-07-08T13:30:00+00:00\", \"2020-07-08T14:00:00+00:00\", \"2020-07-08T14:30:00+00:00\", \"2020-07-08T15:00:00+00:00\", \"2020-07-08T15:30:00+00:00\", \"2020-07-08T16:00:00+00:00\", \"2020-07-08T16:30:00+00:00\", \"2020-07-08T17:00:00+00:00\", \"2020-07-08T17:30:00+00:00\", \"2020-07-08T18:00:00+00:00\", \"2020-07-08T18:30:00+00:00\", \"2020-07-08T19:00:00+00:00\", \"2020-07-08T19:30:00+00:00\", \"2020-07-08T20:00:00+00:00\", \"2020-07-08T20:30:00+00:00\", \"2020-07-08T21:00:00+00:00\", \"2020-07-08T21:30:00+00:00\", \"2020-07-08T22:00:00+00:00\", \"2020-07-08T22:30:00+00:00\", \"2020-07-08T23:00:00+00:00\", \"2020-07-08T23:30:00+00:00\", \"2020-07-09T00:00:00+00:00\", \"2020-07-09T00:30:00+00:00\", \"2020-07-09T01:00:00+00:00\", \"2020-07-09T01:30:00+00:00\", \"2020-07-09T02:00:00+00:00\", \"2020-07-09T02:30:00+00:00\", \"2020-07-09T03:00:00+00:00\", \"2020-07-09T03:30:00+00:00\", \"2020-07-09T04:00:00+00:00\", \"2020-07-09T04:30:00+00:00\", \"2020-07-09T05:00:00+00:00\", \"2020-07-09T05:30:00+00:00\", \"2020-07-09T06:00:00+00:00\", \"2020-07-09T06:30:00+00:00\", \"2020-07-09T07:00:00+00:00\", \"2020-07-09T07:30:00+00:00\", \"2020-07-09T08:00:00+00:00\", \"2020-07-09T08:30:00+00:00\", \"2020-07-09T09:00:00+00:00\", \"2020-07-09T09:30:00+00:00\", \"2020-07-09T10:00:00+00:00\", \"2020-07-09T10:30:00+00:00\", \"2020-07-09T11:00:00+00:00\", \"2020-07-09T11:30:00+00:00\", \"2020-07-09T12:00:00+00:00\", \"2020-07-09T12:30:00+00:00\", \"2020-07-09T13:00:00+00:00\", \"2020-07-09T13:30:00+00:00\", \"2020-07-09T14:00:00+00:00\", \"2020-07-09T14:30:00+00:00\", \"2020-07-09T15:00:00+00:00\", \"2020-07-09T15:30:00+00:00\", \"2020-07-09T16:00:00+00:00\", \"2020-07-09T16:30:00+00:00\", \"2020-07-09T17:00:00+00:00\", \"2020-07-09T17:30:00+00:00\", \"2020-07-09T18:00:00+00:00\", \"2020-07-09T18:30:00+00:00\", \"2020-07-09T19:00:00+00:00\", \"2020-07-09T19:30:00+00:00\", \"2020-07-09T20:00:00+00:00\", \"2020-07-09T20:30:00+00:00\", \"2020-07-09T21:00:00+00:00\", \"2020-07-09T21:30:00+00:00\", \"2020-07-09T22:00:00+00:00\", \"2020-07-09T22:30:00+00:00\", \"2020-07-09T23:00:00+00:00\", \"2020-07-09T23:30:00+00:00\", \"2020-07-10T00:00:00+00:00\", \"2020-07-10T00:30:00+00:00\", \"2020-07-10T01:00:00+00:00\", \"2020-07-10T01:30:00+00:00\", \"2020-07-10T02:00:00+00:00\", \"2020-07-10T02:30:00+00:00\", \"2020-07-10T03:00:00+00:00\", \"2020-07-10T03:30:00+00:00\", \"2020-07-10T04:00:00+00:00\", \"2020-07-10T04:30:00+00:00\", \"2020-07-10T05:00:00+00:00\", \"2020-07-10T05:30:00+00:00\", \"2020-07-10T06:00:00+00:00\", \"2020-07-10T06:30:00+00:00\", \"2020-07-10T07:00:00+00:00\", \"2020-07-10T07:30:00+00:00\", \"2020-07-10T08:00:00+00:00\", \"2020-07-10T08:30:00+00:00\", \"2020-07-10T09:00:00+00:00\", \"2020-07-10T09:30:00+00:00\", \"2020-07-10T10:00:00+00:00\", \"2020-07-10T10:30:00+00:00\", \"2020-07-10T11:00:00+00:00\", \"2020-07-10T11:30:00+00:00\", \"2020-07-10T12:00:00+00:00\", \"2020-07-10T12:30:00+00:00\", \"2020-07-10T13:00:00+00:00\", \"2020-07-10T13:30:00+00:00\", \"2020-07-10T14:00:00+00:00\", \"2020-07-10T14:30:00+00:00\", \"2020-07-10T15:00:00+00:00\", \"2020-07-10T15:30:00+00:00\", \"2020-07-10T16:00:00+00:00\", \"2020-07-10T16:30:00+00:00\", \"2020-07-10T17:00:00+00:00\", \"2020-07-10T17:30:00+00:00\", \"2020-07-10T18:00:00+00:00\", \"2020-07-10T18:30:00+00:00\", \"2020-07-10T19:00:00+00:00\", \"2020-07-10T19:30:00+00:00\", \"2020-07-10T20:00:00+00:00\", \"2020-07-10T20:30:00+00:00\", \"2020-07-10T21:00:00+00:00\", \"2020-07-10T21:30:00+00:00\", \"2020-07-10T22:00:00+00:00\", \"2020-07-10T22:30:00+00:00\", \"2020-07-10T23:00:00+00:00\", \"2020-07-10T23:30:00+00:00\", \"2020-07-11T00:00:00+00:00\", \"2020-07-11T00:30:00+00:00\", \"2020-07-11T01:00:00+00:00\", \"2020-07-11T01:30:00+00:00\", \"2020-07-11T02:00:00+00:00\", \"2020-07-11T02:30:00+00:00\", \"2020-07-11T03:00:00+00:00\", \"2020-07-11T03:30:00+00:00\", \"2020-07-11T04:00:00+00:00\", \"2020-07-11T04:30:00+00:00\", \"2020-07-11T05:00:00+00:00\", \"2020-07-11T05:30:00+00:00\", \"2020-07-11T06:00:00+00:00\", \"2020-07-11T06:30:00+00:00\", \"2020-07-11T07:00:00+00:00\", \"2020-07-11T07:30:00+00:00\", \"2020-07-11T08:00:00+00:00\", \"2020-07-11T08:30:00+00:00\", \"2020-07-11T09:00:00+00:00\", \"2020-07-11T09:30:00+00:00\", \"2020-07-11T10:00:00+00:00\", \"2020-07-11T10:30:00+00:00\", \"2020-07-11T11:00:00+00:00\", \"2020-07-11T11:30:00+00:00\", \"2020-07-11T12:00:00+00:00\", \"2020-07-11T12:30:00+00:00\", \"2020-07-11T13:00:00+00:00\", \"2020-07-11T13:30:00+00:00\", \"2020-07-11T14:00:00+00:00\", \"2020-07-11T14:30:00+00:00\", \"2020-07-11T15:00:00+00:00\", \"2020-07-11T15:30:00+00:00\", \"2020-07-11T16:00:00+00:00\", \"2020-07-11T16:30:00+00:00\", \"2020-07-11T17:00:00+00:00\", \"2020-07-11T17:30:00+00:00\", \"2020-07-11T18:00:00+00:00\", \"2020-07-11T18:30:00+00:00\", \"2020-07-11T19:00:00+00:00\", \"2020-07-11T19:30:00+00:00\", \"2020-07-11T20:00:00+00:00\", \"2020-07-11T20:30:00+00:00\", \"2020-07-11T21:00:00+00:00\", \"2020-07-11T21:30:00+00:00\", \"2020-07-11T22:00:00+00:00\", \"2020-07-11T22:30:00+00:00\", \"2020-07-11T23:00:00+00:00\", \"2020-07-11T23:30:00+00:00\", \"2020-07-12T00:00:00+00:00\", \"2020-07-12T00:30:00+00:00\", \"2020-07-12T01:00:00+00:00\", \"2020-07-12T01:30:00+00:00\", \"2020-07-12T02:00:00+00:00\", \"2020-07-12T02:30:00+00:00\", \"2020-07-12T03:00:00+00:00\", \"2020-07-12T03:30:00+00:00\", \"2020-07-12T04:00:00+00:00\", \"2020-07-12T04:30:00+00:00\", \"2020-07-12T05:00:00+00:00\", \"2020-07-12T05:30:00+00:00\", \"2020-07-12T06:00:00+00:00\", \"2020-07-12T06:30:00+00:00\", \"2020-07-12T07:00:00+00:00\", \"2020-07-12T07:30:00+00:00\", \"2020-07-12T08:00:00+00:00\", \"2020-07-12T08:30:00+00:00\", \"2020-07-12T09:00:00+00:00\", \"2020-07-12T09:30:00+00:00\", \"2020-07-12T10:00:00+00:00\", \"2020-07-12T10:30:00+00:00\", \"2020-07-12T11:00:00+00:00\", \"2020-07-12T11:30:00+00:00\", \"2020-07-12T12:00:00+00:00\", \"2020-07-12T12:30:00+00:00\", \"2020-07-12T13:00:00+00:00\", \"2020-07-12T13:30:00+00:00\", \"2020-07-12T14:00:00+00:00\", \"2020-07-12T14:30:00+00:00\", \"2020-07-12T15:00:00+00:00\", \"2020-07-12T15:30:00+00:00\", \"2020-07-12T16:00:00+00:00\", \"2020-07-12T16:30:00+00:00\", \"2020-07-12T17:00:00+00:00\", \"2020-07-12T17:30:00+00:00\", \"2020-07-12T18:00:00+00:00\", \"2020-07-12T18:30:00+00:00\", \"2020-07-12T19:00:00+00:00\", \"2020-07-12T19:30:00+00:00\", \"2020-07-12T20:00:00+00:00\", \"2020-07-12T20:30:00+00:00\", \"2020-07-12T21:00:00+00:00\", \"2020-07-12T21:30:00+00:00\", \"2020-07-12T22:00:00+00:00\", \"2020-07-12T22:30:00+00:00\", \"2020-07-12T23:00:00+00:00\", \"2020-07-12T23:30:00+00:00\", \"2020-07-13T00:00:00+00:00\", \"2020-07-13T00:30:00+00:00\", \"2020-07-13T01:00:00+00:00\", \"2020-07-13T01:30:00+00:00\", \"2020-07-13T02:00:00+00:00\", \"2020-07-13T02:30:00+00:00\", \"2020-07-13T03:00:00+00:00\", \"2020-07-13T03:30:00+00:00\", \"2020-07-13T04:00:00+00:00\", \"2020-07-13T04:30:00+00:00\", \"2020-07-13T05:00:00+00:00\", \"2020-07-13T05:30:00+00:00\", \"2020-07-13T06:00:00+00:00\", \"2020-07-13T06:30:00+00:00\", \"2020-07-13T07:00:00+00:00\", \"2020-07-13T07:30:00+00:00\", \"2020-07-13T08:00:00+00:00\", \"2020-07-13T08:30:00+00:00\", \"2020-07-13T09:00:00+00:00\", \"2020-07-13T09:30:00+00:00\", \"2020-07-13T10:00:00+00:00\", \"2020-07-13T10:30:00+00:00\", \"2020-07-13T11:00:00+00:00\", \"2020-07-13T11:30:00+00:00\", \"2020-07-13T12:00:00+00:00\", \"2020-07-13T12:30:00+00:00\", \"2020-07-13T13:00:00+00:00\", \"2020-07-13T13:30:00+00:00\", \"2020-07-13T14:00:00+00:00\", \"2020-07-13T14:30:00+00:00\", \"2020-07-13T15:00:00+00:00\", \"2020-07-13T15:30:00+00:00\", \"2020-07-13T16:00:00+00:00\", \"2020-07-13T16:30:00+00:00\", \"2020-07-13T17:00:00+00:00\", \"2020-07-13T17:30:00+00:00\", \"2020-07-13T18:00:00+00:00\", \"2020-07-13T18:30:00+00:00\", \"2020-07-13T19:00:00+00:00\", \"2020-07-13T19:30:00+00:00\", \"2020-07-13T20:00:00+00:00\", \"2020-07-13T20:30:00+00:00\", \"2020-07-13T21:00:00+00:00\", \"2020-07-13T21:30:00+00:00\", \"2020-07-13T22:00:00+00:00\", \"2020-07-13T22:30:00+00:00\", \"2020-07-13T23:00:00+00:00\", \"2020-07-13T23:30:00+00:00\", \"2020-07-14T00:00:00+00:00\", \"2020-07-14T00:30:00+00:00\", \"2020-07-14T01:00:00+00:00\", \"2020-07-14T01:30:00+00:00\", \"2020-07-14T02:00:00+00:00\", \"2020-07-14T02:30:00+00:00\", \"2020-07-14T03:00:00+00:00\", \"2020-07-14T03:30:00+00:00\", \"2020-07-14T04:00:00+00:00\", \"2020-07-14T04:30:00+00:00\", \"2020-07-14T05:00:00+00:00\", \"2020-07-14T05:30:00+00:00\", \"2020-07-14T06:00:00+00:00\", \"2020-07-14T06:30:00+00:00\", \"2020-07-14T07:00:00+00:00\", \"2020-07-14T07:30:00+00:00\", \"2020-07-14T08:00:00+00:00\", \"2020-07-14T08:30:00+00:00\", \"2020-07-14T09:00:00+00:00\", \"2020-07-14T09:30:00+00:00\", \"2020-07-14T10:00:00+00:00\", \"2020-07-14T10:30:00+00:00\", \"2020-07-14T11:00:00+00:00\", \"2020-07-14T11:30:00+00:00\", \"2020-07-14T12:00:00+00:00\", \"2020-07-14T12:30:00+00:00\", \"2020-07-14T13:00:00+00:00\", \"2020-07-14T13:30:00+00:00\", \"2020-07-14T14:00:00+00:00\", \"2020-07-14T14:30:00+00:00\", \"2020-07-14T15:00:00+00:00\", \"2020-07-14T15:30:00+00:00\", \"2020-07-14T16:00:00+00:00\", \"2020-07-14T16:30:00+00:00\", \"2020-07-14T17:00:00+00:00\", \"2020-07-14T17:30:00+00:00\", \"2020-07-14T18:00:00+00:00\", \"2020-07-14T18:30:00+00:00\", \"2020-07-14T19:00:00+00:00\", \"2020-07-14T19:30:00+00:00\", \"2020-07-14T20:00:00+00:00\", \"2020-07-14T20:30:00+00:00\", \"2020-07-14T21:00:00+00:00\", \"2020-07-14T21:30:00+00:00\", \"2020-07-14T22:00:00+00:00\", \"2020-07-14T22:30:00+00:00\", \"2020-07-14T23:00:00+00:00\", \"2020-07-14T23:30:00+00:00\", \"2020-07-15T00:00:00+00:00\", \"2020-07-15T00:30:00+00:00\", \"2020-07-15T01:00:00+00:00\", \"2020-07-15T01:30:00+00:00\", \"2020-07-15T02:00:00+00:00\", \"2020-07-15T02:30:00+00:00\", \"2020-07-15T03:00:00+00:00\", \"2020-07-15T03:30:00+00:00\", \"2020-07-15T04:00:00+00:00\", \"2020-07-15T04:30:00+00:00\", \"2020-07-15T05:00:00+00:00\", \"2020-07-15T05:30:00+00:00\", \"2020-07-15T06:00:00+00:00\", \"2020-07-15T06:30:00+00:00\", \"2020-07-15T07:00:00+00:00\", \"2020-07-15T07:30:00+00:00\", \"2020-07-15T08:00:00+00:00\", \"2020-07-15T08:30:00+00:00\", \"2020-07-15T09:00:00+00:00\", \"2020-07-15T09:30:00+00:00\", \"2020-07-15T10:00:00+00:00\", \"2020-07-15T10:30:00+00:00\", \"2020-07-15T11:00:00+00:00\", \"2020-07-15T11:30:00+00:00\", \"2020-07-15T12:00:00+00:00\", \"2020-07-15T12:30:00+00:00\", \"2020-07-15T13:00:00+00:00\", \"2020-07-15T13:30:00+00:00\", \"2020-07-15T14:00:00+00:00\", \"2020-07-15T14:30:00+00:00\", \"2020-07-15T15:00:00+00:00\", \"2020-07-15T15:30:00+00:00\", \"2020-07-15T16:00:00+00:00\", \"2020-07-15T16:30:00+00:00\", \"2020-07-15T17:00:00+00:00\", \"2020-07-15T17:30:00+00:00\", \"2020-07-15T18:00:00+00:00\", \"2020-07-15T18:30:00+00:00\", \"2020-07-15T19:00:00+00:00\", \"2020-07-15T19:30:00+00:00\", \"2020-07-15T20:00:00+00:00\", \"2020-07-15T20:30:00+00:00\", \"2020-07-15T21:00:00+00:00\", \"2020-07-15T21:30:00+00:00\", \"2020-07-15T22:00:00+00:00\", \"2020-07-15T22:30:00+00:00\", \"2020-07-15T23:00:00+00:00\", \"2020-07-15T23:30:00+00:00\", \"2020-07-16T00:00:00+00:00\", \"2020-07-16T00:30:00+00:00\", \"2020-07-16T01:00:00+00:00\", \"2020-07-16T01:30:00+00:00\", \"2020-07-16T02:00:00+00:00\", \"2020-07-16T02:30:00+00:00\", \"2020-07-16T03:00:00+00:00\", \"2020-07-16T03:30:00+00:00\", \"2020-07-16T04:00:00+00:00\", \"2020-07-16T04:30:00+00:00\", \"2020-07-16T05:00:00+00:00\", \"2020-07-16T05:30:00+00:00\", \"2020-07-16T06:00:00+00:00\", \"2020-07-16T06:30:00+00:00\", \"2020-07-16T07:00:00+00:00\", \"2020-07-16T07:30:00+00:00\", \"2020-07-16T08:00:00+00:00\", \"2020-07-16T08:30:00+00:00\", \"2020-07-16T09:00:00+00:00\", \"2020-07-16T09:30:00+00:00\", \"2020-07-16T10:00:00+00:00\", \"2020-07-16T10:30:00+00:00\", \"2020-07-16T11:00:00+00:00\", \"2020-07-16T11:30:00+00:00\", \"2020-07-16T12:00:00+00:00\", \"2020-07-16T12:30:00+00:00\", \"2020-07-16T13:00:00+00:00\", \"2020-07-16T13:30:00+00:00\", \"2020-07-16T14:00:00+00:00\", \"2020-07-16T14:30:00+00:00\", \"2020-07-16T15:00:00+00:00\", \"2020-07-16T15:30:00+00:00\", \"2020-07-16T16:00:00+00:00\", \"2020-07-16T16:30:00+00:00\", \"2020-07-16T17:00:00+00:00\", \"2020-07-16T17:30:00+00:00\", \"2020-07-16T18:00:00+00:00\", \"2020-07-16T18:30:00+00:00\", \"2020-07-16T19:00:00+00:00\", \"2020-07-16T19:30:00+00:00\", \"2020-07-16T20:00:00+00:00\", \"2020-07-16T20:30:00+00:00\", \"2020-07-16T21:00:00+00:00\", \"2020-07-16T21:30:00+00:00\", \"2020-07-16T22:00:00+00:00\", \"2020-07-16T22:30:00+00:00\", \"2020-07-16T23:00:00+00:00\", \"2020-07-16T23:30:00+00:00\", \"2020-07-17T00:00:00+00:00\", \"2020-07-17T00:30:00+00:00\", \"2020-07-17T01:00:00+00:00\", \"2020-07-17T01:30:00+00:00\", \"2020-07-17T02:00:00+00:00\", \"2020-07-17T02:30:00+00:00\", \"2020-07-17T03:00:00+00:00\", \"2020-07-17T03:30:00+00:00\", \"2020-07-17T04:00:00+00:00\", \"2020-07-17T04:30:00+00:00\", \"2020-07-17T05:00:00+00:00\", \"2020-07-17T05:30:00+00:00\", \"2020-07-17T06:00:00+00:00\", \"2020-07-17T06:30:00+00:00\", \"2020-07-17T07:00:00+00:00\", \"2020-07-17T07:30:00+00:00\", \"2020-07-17T08:00:00+00:00\", \"2020-07-17T08:30:00+00:00\", \"2020-07-17T09:00:00+00:00\", \"2020-07-17T09:30:00+00:00\", \"2020-07-17T10:00:00+00:00\", \"2020-07-17T10:30:00+00:00\", \"2020-07-17T11:00:00+00:00\", \"2020-07-17T11:30:00+00:00\", \"2020-07-17T12:00:00+00:00\", \"2020-07-17T12:30:00+00:00\", \"2020-07-17T13:00:00+00:00\", \"2020-07-17T13:30:00+00:00\", \"2020-07-17T14:00:00+00:00\", \"2020-07-17T14:30:00+00:00\", \"2020-07-17T15:00:00+00:00\", \"2020-07-17T15:30:00+00:00\", \"2020-07-17T16:00:00+00:00\", \"2020-07-17T16:30:00+00:00\", \"2020-07-17T17:00:00+00:00\", \"2020-07-17T17:30:00+00:00\", \"2020-07-17T18:00:00+00:00\", \"2020-07-17T18:30:00+00:00\", \"2020-07-17T19:00:00+00:00\", \"2020-07-17T19:30:00+00:00\", \"2020-07-17T20:00:00+00:00\", \"2020-07-17T20:30:00+00:00\", \"2020-07-17T21:00:00+00:00\", \"2020-07-17T21:30:00+00:00\", \"2020-07-17T22:00:00+00:00\", \"2020-07-17T22:30:00+00:00\", \"2020-07-17T23:00:00+00:00\", \"2020-07-17T23:30:00+00:00\", \"2020-07-18T00:00:00+00:00\", \"2020-07-18T00:30:00+00:00\", \"2020-07-18T01:00:00+00:00\", \"2020-07-18T01:30:00+00:00\", \"2020-07-18T02:00:00+00:00\", \"2020-07-18T02:30:00+00:00\", \"2020-07-18T03:00:00+00:00\", \"2020-07-18T03:30:00+00:00\", \"2020-07-18T04:00:00+00:00\", \"2020-07-18T04:30:00+00:00\", \"2020-07-18T05:00:00+00:00\", \"2020-07-18T05:30:00+00:00\", \"2020-07-18T06:00:00+00:00\", \"2020-07-18T06:30:00+00:00\", \"2020-07-18T07:00:00+00:00\", \"2020-07-18T07:30:00+00:00\", \"2020-07-18T08:00:00+00:00\", \"2020-07-18T08:30:00+00:00\", \"2020-07-18T09:00:00+00:00\", \"2020-07-18T09:30:00+00:00\", \"2020-07-18T10:00:00+00:00\", \"2020-07-18T10:30:00+00:00\", \"2020-07-18T11:00:00+00:00\", \"2020-07-18T11:30:00+00:00\", \"2020-07-18T12:00:00+00:00\", \"2020-07-18T12:30:00+00:00\", \"2020-07-18T13:00:00+00:00\", \"2020-07-18T13:30:00+00:00\", \"2020-07-18T14:00:00+00:00\", \"2020-07-18T14:30:00+00:00\", \"2020-07-18T15:00:00+00:00\", \"2020-07-18T15:30:00+00:00\", \"2020-07-18T16:00:00+00:00\", \"2020-07-18T16:30:00+00:00\", \"2020-07-18T17:00:00+00:00\", \"2020-07-18T17:30:00+00:00\", \"2020-07-18T18:00:00+00:00\", \"2020-07-18T18:30:00+00:00\", \"2020-07-18T19:00:00+00:00\", \"2020-07-18T19:30:00+00:00\", \"2020-07-18T20:00:00+00:00\", \"2020-07-18T20:30:00+00:00\", \"2020-07-18T21:00:00+00:00\", \"2020-07-18T21:30:00+00:00\", \"2020-07-18T22:00:00+00:00\", \"2020-07-18T22:30:00+00:00\", \"2020-07-18T23:00:00+00:00\", \"2020-07-18T23:30:00+00:00\", \"2020-07-19T00:00:00+00:00\", \"2020-07-19T00:30:00+00:00\", \"2020-07-19T01:00:00+00:00\", \"2020-07-19T01:30:00+00:00\", \"2020-07-19T02:00:00+00:00\", \"2020-07-19T02:30:00+00:00\", \"2020-07-19T03:00:00+00:00\", \"2020-07-19T03:30:00+00:00\", \"2020-07-19T04:00:00+00:00\", \"2020-07-19T04:30:00+00:00\", \"2020-07-19T05:00:00+00:00\", \"2020-07-19T05:30:00+00:00\", \"2020-07-19T06:00:00+00:00\", \"2020-07-19T06:30:00+00:00\", \"2020-07-19T07:00:00+00:00\", \"2020-07-19T07:30:00+00:00\", \"2020-07-19T08:00:00+00:00\", \"2020-07-19T08:30:00+00:00\", \"2020-07-19T09:00:00+00:00\", \"2020-07-19T09:30:00+00:00\", \"2020-07-19T10:00:00+00:00\", \"2020-07-19T10:30:00+00:00\", \"2020-07-19T11:00:00+00:00\", \"2020-07-19T11:30:00+00:00\", \"2020-07-19T12:00:00+00:00\", \"2020-07-19T12:30:00+00:00\", \"2020-07-19T13:00:00+00:00\", \"2020-07-19T13:30:00+00:00\", \"2020-07-19T14:00:00+00:00\", \"2020-07-19T14:30:00+00:00\", \"2020-07-19T15:00:00+00:00\", \"2020-07-19T15:30:00+00:00\", \"2020-07-19T16:00:00+00:00\", \"2020-07-19T16:30:00+00:00\", \"2020-07-19T17:00:00+00:00\", \"2020-07-19T17:30:00+00:00\", \"2020-07-19T18:00:00+00:00\", \"2020-07-19T18:30:00+00:00\", \"2020-07-19T19:00:00+00:00\", \"2020-07-19T19:30:00+00:00\", \"2020-07-19T20:00:00+00:00\", \"2020-07-19T20:30:00+00:00\", \"2020-07-19T21:00:00+00:00\", \"2020-07-19T21:30:00+00:00\", \"2020-07-19T22:00:00+00:00\", \"2020-07-19T22:30:00+00:00\", \"2020-07-19T23:00:00+00:00\", \"2020-07-19T23:30:00+00:00\", \"2020-07-20T00:00:00+00:00\", \"2020-07-20T00:30:00+00:00\", \"2020-07-20T01:00:00+00:00\", \"2020-07-20T01:30:00+00:00\", \"2020-07-20T02:00:00+00:00\", \"2020-07-20T02:30:00+00:00\", \"2020-07-20T03:00:00+00:00\", \"2020-07-20T03:30:00+00:00\", \"2020-07-20T04:00:00+00:00\", \"2020-07-20T04:30:00+00:00\", \"2020-07-20T05:00:00+00:00\", \"2020-07-20T05:30:00+00:00\", \"2020-07-20T06:00:00+00:00\", \"2020-07-20T06:30:00+00:00\", \"2020-07-20T07:00:00+00:00\", \"2020-07-20T07:30:00+00:00\", \"2020-07-20T08:00:00+00:00\", \"2020-07-20T08:30:00+00:00\", \"2020-07-20T09:00:00+00:00\", \"2020-07-20T09:30:00+00:00\", \"2020-07-20T10:00:00+00:00\", \"2020-07-20T10:30:00+00:00\", \"2020-07-20T11:00:00+00:00\", \"2020-07-20T11:30:00+00:00\", \"2020-07-20T12:00:00+00:00\", \"2020-07-20T12:30:00+00:00\", \"2020-07-20T13:00:00+00:00\", \"2020-07-20T13:30:00+00:00\", \"2020-07-20T14:00:00+00:00\", \"2020-07-20T14:30:00+00:00\", \"2020-07-20T15:00:00+00:00\", \"2020-07-20T15:30:00+00:00\", \"2020-07-20T16:00:00+00:00\", \"2020-07-20T16:30:00+00:00\", \"2020-07-20T17:00:00+00:00\", \"2020-07-20T17:30:00+00:00\", \"2020-07-20T18:00:00+00:00\", \"2020-07-20T18:30:00+00:00\", \"2020-07-20T19:00:00+00:00\", \"2020-07-20T19:30:00+00:00\", \"2020-07-20T20:00:00+00:00\", \"2020-07-20T20:30:00+00:00\"], \"y\": [0.75287855, 0.75374126, 0.7531866999999999, 0.7566987, 0.75656325, 0.7560704, 0.7520776, 0.7512149, 0.75538015, 0.7572041, 0.7507959, 0.7503522, 0.7478382, 0.75151056, 0.7481361, 0.7502536, 0.7491979, 0.7467374, 0.7475034, 0.7481709, 0.7458522, 0.7459158, 0.7450204, 0.7438331, 0.7459034999999999, 0.74352497, 0.81247455, 0.8250404, 0.8276425999999999, 0.8283348, 0.8266834000000001, 0.8279815999999999, 0.8254019, 0.8292838, 0.8277924999999999, 0.82582283, 0.8264370000000001, 0.8282424, 0.8276693000000002, 0.824342, 0.8240462, 0.8280144, 0.82757074, 0.82567084, 0.82871693, 0.8203, 0.80690026, 0.80906093, 0.8144832, 0.8086173000000001, 0.81251144, 0.8123739000000001, 0.8082229999999999, 0.81357133, 0.8103076, 0.8101229, 0.8126101, 0.81252587, 0.80811214, 0.8078574000000001, 0.8026281, 0.8111600999999999, 0.80796015, 0.80859685, 0.78003937, 0.7720415, 0.77014166, 0.77444446, 0.7716594, 0.771684, 0.7741488000000001, 0.7776609, 0.77340937, 0.7699259, 0.77230024, 0.7728302, 0.770464, 0.76908386, 0.7753071, 0.7755167, 0.7696384000000001, 0.7714354999999999, 0.76942885, 0.770883, 0.7742472, 0.77414465, 0.7735305, 0.77656406, 0.77807486, 0.7760589, 0.7745185, 0.77904326, 0.7869774, 0.75599635, 0.0, 0.8398572, 0.8352113000000001, 0.8320976000000001, 0.834098, 0.83380634, 0.8325370999999999, 0.8387481, 0.83467317, 0.8315511999999999, 0.8401407, 0.8377889000000001, 0.8346321, 0.8345212, 0.82996553, 0.8312185, 0.83453345, 0.8352482, 0.8195604999999999, 0.81449556, 0.8128279, 0.80752045, 0.8120925999999999, 0.8090857, 0.80524075, 0.8098189, 0.81289357, 0.8138178, 0.8069166999999999, 0.8085558, 0.8089173000000001, 0.8111949, 0.8110326999999999, 0.8097635, 0.8092089, 0.79735583, 0.7963925000000001, 0.7938107, 0.79665333, 0.7982779999999999, 0.7993625, 0.8005435000000001, 0.8001163, 0.79921466, 0.80033606, 0.8016175999999999, 0.81940234, 0.8345089, 0.8371501, 0.8386249, 0.8364744000000001, 0.83559334, 0.83396035, 0.83640665, 0.8340529000000001, 0.83540845, 0.8378608000000001, 0.83337516, 0.83638203, 0.83638203, 0.83580273, 0.8366530999999999, 0.82923436, 0.8319701999999999, 0.8326726000000001, 0.8379594000000001, 0.7923134000000001, 0.7727316, 0.7728425, 0.77444446, 0.7739393, 0.7726453000000001, 0.7761821, 0.77450615, 0.7750361, 0.77405024, 0.77213997, 0.7729534, 0.771832, 0.77702004, 0.7713513000000001, 0.8067441, 0.8174778, 0.81576496, 0.8172931, 0.81825423, 0.817749, 0.8151980999999999, 0.81734234, 0.81338644, 0.81734234, 0.81806946, 0.81543225, 0.8108972, 0.81449556, 0.8127581, 0.8139041, 0.8159128000000001, 0.8160483000000001, 0.81550604, 0.8170465, 0.8126718, 0.8167508000000001, 0.8133126, 0.8171451, 0.81476676, 0.81906766, 0.8139533, 0.81280726, 0.81023175, 0.81051505, 0.8138424, 0.8143969, 0.81592506, 0.8149392, 0.8120678000000001, 0.8120678000000001, 0.8152967, 0.8110821, 0.81806946, 0.8141628000000001, 0.810244, 0.80975115, 0.8093444000000001, 0.81072456, 0.80866665, 0.81650424, 0.8132017, 0.80965257, 0.8140273, 0.81465584, 0.81214184, 0.8116119, 0.81141484, 0.8164796, 0.8099482, 0.80902404, 0.8097018, 0.8075576, 0.8057213000000001, 0.80987436, 0.81216645, 0.813214, 0.8116119, 0.8146682, 0.8103425999999999, 0.816036, 0.8146682, 0.8153090000000001, 0.81480366, 0.8143108, 0.81159955, 0.81592506, 0.81784767, 0.8174778, 0.8150378, 0.8071630999999999, 0.81129146, 0.8116366, 0.8109341, 0.81222814, 0.8092089, 0.81259775, 0.81047815, 0.80844486, 0.8110696, 0.8191415, 0.8087405, 0.8113654, 0.81031805, 0.8089377, 0.80715084, 0.8084941, 0.80972636, 0.81507486, 0.8129428000000001, 0.81428605, 0.8150501, 0.80935675, 0.8118214, 0.80854344, 0.81368226, 0.8124868000000001, 0.80923355, 0.8082229999999999, 0.8071385, 0.8133618, 0.81035495, 0.80461216, 0.8099729999999999, 0.8113408000000001, 0.8110944, 0.807878, 0.8092089, 0.81247455, 0.8109586999999999, 0.81172276, 0.8088514, 0.8094677, 0.808679, 0.81147635, 0.80914724, 0.81178445, 0.80965257, 0.8097018, 0.8090363, 0.8045999, 0.8098004, 0.8100468000000001, 0.8069907, 0.8039221, 0.7859792, 0.7852891, 0.78814816, 0.7873595, 0.7863613, 0.78883827, 0.7851905, 0.7842663000000001, 0.7830463000000001, 0.78669405, 0.7882345000000001, 0.78971326, 0.7887765999999999, 0.7841060000000001, 0.7849318000000001, 0.78130865, 0.7846853, 0.78064317, 0.7830832, 0.7830463000000001, 0.7840937, 0.78833294, 0.78260267, 0.78122234, 0.7830709, 0.78315717, 0.7861764, 0.78074175, 0.788222, 0.78164136, 0.785782, 0.7919437, 0.78367466, 0.7787576999999999, 0.7880988, 0.78848094, 0.78700197, 0.78675556, 0.7856588000000001, 0.7823314, 0.7864104999999999, 0.78600377, 0.78173995, 0.7814812, 0.7797805, 0.7804837, 0.7840199000000001, 0.7874456, 0.8113039000000001, 0.7859546, 0.7812963, 0.78157985, 0.78164136, 0.78427863, 0.7833544, 0.7830954999999999, 0.77737755, 0.7779689999999999, 0.780138, 0.7824177, 0.7797313, 0.7806309, 0.7817892, 0.7777841, 0.77719265, 0.776219, 0.78109914, 0.78128403, 0.7810005, 0.7807541, 0.7816291, 0.7963185, 0.794507, 0.79334867, 0.7931020999999999, 0.7926955, 0.79302824, 0.7852028, 0.77602184, 0.7820727, 0.7843278, 0.7727562, 0.77453077, 0.7766998, 0.7776732, 0.7778212, 0.776367, 0.7800271, 0.7782031, 0.78228223, 0.77731586, 0.7802732, 0.7757385, 0.7780799, 0.78330505, 0.7933733000000001, 0.81359595, 0.8110821, 0.8129550999999999, 0.8081366999999999, 0.81217873, 0.81459415, 0.809554, 0.8131154, 0.8097386999999999, 0.81450784, 0.8111189999999999, 0.8096154999999999, 0.81341124, 0.812339, 0.814546, 0.8109645999999999, 0.8153090000000001, 0.80853117, 0.8150045, 0.8144098000000001, 0.8156045999999999, 0.80319494, 0.7902061, 0.7898241, 0.79334867, 0.7893559, 0.7941989, 0.7941003000000001, 0.79719347, 0.7928187, 0.79196835, 0.7922519, 0.7935705, 0.79088384, 0.7902309000000001, 0.7969101, 0.7913151999999999, 0.79594886, 0.7935582, 0.7931020999999999, 0.79201776, 0.7901323, 0.7885918000000001, 0.7891093000000001, 0.7925846, 0.7921286999999999, 0.7947042, 0.79391557, 0.7900090999999999, 0.7861887, 0.7871869, 0.79203004, 0.78978723, 0.78963923, 0.792412, 0.7926709, 0.78878903, 0.789442, 0.7893435999999999, 0.7882097, 0.7856218, 0.78739643, 0.788296, 0.79101956, 0.79062515, 0.794162, 0.79063743, 0.791192, 0.78748274, 0.7891341, 0.7903047, 0.78739643, 0.7903047, 0.7913399999999999, 0.7914509, 0.7892573, 0.7912166, 0.7913151999999999, 0.78856725, 0.7924859999999999, 0.78694046, 0.7943346, 0.7885795, 0.78995967, 0.79060054, 0.7891833, 0.78962696, 0.78960234, 0.7880742, 0.79307747, 0.78912175, 0.7878031999999999, 0.7934225, 0.79196835, 0.78959, 0.7921286999999999, 0.7828368, 0.7824177, 0.78793865, 0.7873472, 0.7892326999999999, 0.78315717, 0.7886164000000001, 0.7894668, 0.7879510000000001, 0.78833294, 0.7878647, 0.7908223000000001, 0.7902924, 0.789171, 0.78671867, 0.8163318, 0.8204232, 0.8170588000000001, 0.81434774, 0.8121172, 0.8181433000000001, 0.8151980999999999, 0.819277, 0.8146861999999999, 0.8196222, 0.81763816, 0.81513643, 0.79402643, 0.76531285, 0.7645556, 0.76207185, 0.7636246, 0.7677529000000001, 0.7634889, 0.76404345, 0.7675926, 0.76658213, 0.7676911999999999, 0.7603711, 0.76517737, 0.76712435, 0.76918244, 0.7643762, 0.76558393, 0.7686401999999999, 0.7703161999999999, 0.76458573, 0.7637724, 0.7879510000000001, 0.78642285, 0.7862256, 0.78382266, 0.78615177, 0.79076064, 0.7835022, 0.78377604, 0.78418, 0.78569585, 0.78355145, 0.7808649999999999, 0.7838719, 0.78871506, 0.78862876, 0.7890724, 0.7882097, 0.78356373, 0.78315717, 0.7881604999999999, 0.78557265, 0.7829723000000001, 0.7852522, 0.7827259, 0.77980524, 0.78569585, 0.7854616999999999, 0.78968865, 0.78772914, 0.7877473, 0.78776574, 0.7877839, 0.7878021, 0.78782046, 0.7878387, 0.7878569000000001, 0.78787524, 0.7878934, 0.78791165, 0.78793, 0.7879482, 0.78796655, 0.7879848, 0.78800297, 0.7880213, 0.7880395, 0.78805774, 0.7880761, 0.7880943, 0.78811246, 0.7881309, 0.78814906, 0.78816724, 0.7881855999999999, 0.78820384, 0.788222, 0.7879728, 0.7877236, 0.7874744, 0.7872252, 0.786976, 0.7867268, 0.78647757, 0.78622836, 0.7859792, 0.78573, 0.7854808000000001, 0.7852316, 0.7849824000000001, 0.7847331999999999, 0.78448397, 0.78423476, 0.78398556, 0.78373635, 0.78348714, 0.78323793, 0.7829887, 0.7827396, 0.7824904, 0.78224117, 0.7819918, 0.7817426, 0.78265345, 0.7832064000000001, 0.78473455, 0.78527683, 0.7858929, 0.7845004, 0.78662, 0.78490716, 0.78472227, 0.7852477, 0.7838546999999999, 0.78524685, 0.7854522, 0.7856576999999999, 0.7858630999999999, 0.78606844, 0.7862738, 0.7864791999999999, 0.7866845, 0.78689003, 0.78709537, 0.7838104, 0.7833913, 0.7809881999999999, 0.77995306, 0.7828021, 0.78213143, 0.78146076, 0.78079015, 0.7801195, 0.7794485999999999, 0.77877796, 0.7781073000000001, 0.7774366, 0.77995306, 0.77939856, 0.77816623, 0.7801255, 0.7869528, 0.7828491, 0.7821713, 0.7788563000000001, 0.78180164, 0.77928764, 0.77519625, 0.7792136, 0.7814812, 0.7747649000000001, 0.78144413, 0.777698, 0.78010094, 0.77568907, 0.78060627, 0.7790535, 0.78191257, 0.77835095, 0.7810005, 0.7763916000000001, 0.7781539000000001, 0.7796618000000001, 0.7803061, 0.79991704, 0.10571344, 0.607302, 0.60284096, 0.6045046, 0.60593414, 0.5982566, 0.59976006, 0.59849083, 0.6010048000000001, 0.60115266, 0.5962972, 0.5970736, 0.6014361, 0.5971968000000001, 0.61125785, 0.82956713, 0.82790345, 0.82981354, 0.83343667, 0.8279774, 0.8261289, 0.82784194, 0.82702845, 0.8276324, 0.82798976, 0.8277433000000001, 0.8274351999999999, 0.82538956, 0.82723796, 0.8241578000000002, 0.8266448000000001]}, {\"mode\": \"lines\", \"name\": \"TP1\", \"type\": \"scatter\", \"x\": [\"2020-07-05T21:00:00+00:00\", \"2020-07-05T21:30:00+00:00\", \"2020-07-05T22:00:00+00:00\", \"2020-07-05T22:30:00+00:00\", \"2020-07-05T23:00:00+00:00\", \"2020-07-05T23:30:00+00:00\", \"2020-07-06T00:00:00+00:00\", \"2020-07-06T00:30:00+00:00\", \"2020-07-06T01:00:00+00:00\", \"2020-07-06T01:30:00+00:00\", \"2020-07-06T02:00:00+00:00\", \"2020-07-06T02:30:00+00:00\", \"2020-07-06T03:00:00+00:00\", \"2020-07-06T03:30:00+00:00\", \"2020-07-06T04:00:00+00:00\", \"2020-07-06T04:30:00+00:00\", \"2020-07-06T05:00:00+00:00\", \"2020-07-06T05:30:00+00:00\", \"2020-07-06T06:00:00+00:00\", \"2020-07-06T06:30:00+00:00\", \"2020-07-06T07:00:00+00:00\", \"2020-07-06T07:30:00+00:00\", \"2020-07-06T08:00:00+00:00\", \"2020-07-06T08:30:00+00:00\", \"2020-07-06T09:00:00+00:00\", \"2020-07-06T09:30:00+00:00\", \"2020-07-06T10:00:00+00:00\", \"2020-07-06T10:30:00+00:00\", \"2020-07-06T11:00:00+00:00\", \"2020-07-06T11:30:00+00:00\", \"2020-07-06T12:00:00+00:00\", \"2020-07-06T12:30:00+00:00\", \"2020-07-06T13:00:00+00:00\", \"2020-07-06T13:30:00+00:00\", \"2020-07-06T14:00:00+00:00\", \"2020-07-06T14:30:00+00:00\", \"2020-07-06T15:00:00+00:00\", \"2020-07-06T15:30:00+00:00\", \"2020-07-06T16:00:00+00:00\", \"2020-07-06T16:30:00+00:00\", \"2020-07-06T17:00:00+00:00\", \"2020-07-06T17:30:00+00:00\", \"2020-07-06T18:00:00+00:00\", \"2020-07-06T18:30:00+00:00\", \"2020-07-06T19:00:00+00:00\", \"2020-07-06T19:30:00+00:00\", \"2020-07-06T20:00:00+00:00\", \"2020-07-06T20:30:00+00:00\", \"2020-07-06T21:00:00+00:00\", \"2020-07-06T21:30:00+00:00\", \"2020-07-06T22:00:00+00:00\", \"2020-07-06T22:30:00+00:00\", \"2020-07-06T23:00:00+00:00\", \"2020-07-06T23:30:00+00:00\", \"2020-07-07T00:00:00+00:00\", \"2020-07-07T00:30:00+00:00\", \"2020-07-07T01:00:00+00:00\", \"2020-07-07T01:30:00+00:00\", \"2020-07-07T02:00:00+00:00\", \"2020-07-07T02:30:00+00:00\", \"2020-07-07T03:00:00+00:00\", \"2020-07-07T03:30:00+00:00\", \"2020-07-07T04:00:00+00:00\", \"2020-07-07T04:30:00+00:00\", \"2020-07-07T05:00:00+00:00\", \"2020-07-07T05:30:00+00:00\", \"2020-07-07T06:00:00+00:00\", \"2020-07-07T06:30:00+00:00\", \"2020-07-07T07:00:00+00:00\", \"2020-07-07T07:30:00+00:00\", \"2020-07-07T08:00:00+00:00\", \"2020-07-07T08:30:00+00:00\", \"2020-07-07T09:00:00+00:00\", \"2020-07-07T09:30:00+00:00\", \"2020-07-07T10:00:00+00:00\", \"2020-07-07T10:30:00+00:00\", \"2020-07-07T11:00:00+00:00\", \"2020-07-07T11:30:00+00:00\", \"2020-07-07T12:00:00+00:00\", \"2020-07-07T12:30:00+00:00\", \"2020-07-07T13:00:00+00:00\", \"2020-07-07T13:30:00+00:00\", \"2020-07-07T14:00:00+00:00\", \"2020-07-07T14:30:00+00:00\", \"2020-07-07T15:00:00+00:00\", \"2020-07-07T15:30:00+00:00\", \"2020-07-07T16:00:00+00:00\", \"2020-07-07T16:30:00+00:00\", \"2020-07-07T17:00:00+00:00\", \"2020-07-07T17:30:00+00:00\", \"2020-07-07T18:00:00+00:00\", \"2020-07-07T18:30:00+00:00\", \"2020-07-07T19:00:00+00:00\", \"2020-07-07T19:30:00+00:00\", \"2020-07-07T20:00:00+00:00\", \"2020-07-07T20:30:00+00:00\", \"2020-07-07T21:00:00+00:00\", \"2020-07-07T21:30:00+00:00\", \"2020-07-07T22:00:00+00:00\", \"2020-07-07T22:30:00+00:00\", \"2020-07-07T23:00:00+00:00\", \"2020-07-07T23:30:00+00:00\", \"2020-07-08T00:00:00+00:00\", \"2020-07-08T00:30:00+00:00\", \"2020-07-08T01:00:00+00:00\", \"2020-07-08T01:30:00+00:00\", \"2020-07-08T02:00:00+00:00\", \"2020-07-08T02:30:00+00:00\", \"2020-07-08T03:00:00+00:00\", \"2020-07-08T03:30:00+00:00\", \"2020-07-08T04:00:00+00:00\", \"2020-07-08T04:30:00+00:00\", \"2020-07-08T05:00:00+00:00\", \"2020-07-08T05:30:00+00:00\", \"2020-07-08T06:00:00+00:00\", \"2020-07-08T06:30:00+00:00\", \"2020-07-08T07:00:00+00:00\", \"2020-07-08T07:30:00+00:00\", \"2020-07-08T08:00:00+00:00\", \"2020-07-08T08:30:00+00:00\", \"2020-07-08T09:00:00+00:00\", \"2020-07-08T09:30:00+00:00\", \"2020-07-08T10:00:00+00:00\", \"2020-07-08T10:30:00+00:00\", \"2020-07-08T11:00:00+00:00\", \"2020-07-08T11:30:00+00:00\", \"2020-07-08T12:00:00+00:00\", \"2020-07-08T12:30:00+00:00\", \"2020-07-08T13:00:00+00:00\", \"2020-07-08T13:30:00+00:00\", \"2020-07-08T14:00:00+00:00\", \"2020-07-08T14:30:00+00:00\", \"2020-07-08T15:00:00+00:00\", \"2020-07-08T15:30:00+00:00\", \"2020-07-08T16:00:00+00:00\", \"2020-07-08T16:30:00+00:00\", \"2020-07-08T17:00:00+00:00\", \"2020-07-08T17:30:00+00:00\", \"2020-07-08T18:00:00+00:00\", \"2020-07-08T18:30:00+00:00\", \"2020-07-08T19:00:00+00:00\", \"2020-07-08T19:30:00+00:00\", \"2020-07-08T20:00:00+00:00\", \"2020-07-08T20:30:00+00:00\", \"2020-07-08T21:00:00+00:00\", \"2020-07-08T21:30:00+00:00\", \"2020-07-08T22:00:00+00:00\", \"2020-07-08T22:30:00+00:00\", \"2020-07-08T23:00:00+00:00\", \"2020-07-08T23:30:00+00:00\", \"2020-07-09T00:00:00+00:00\", \"2020-07-09T00:30:00+00:00\", \"2020-07-09T01:00:00+00:00\", \"2020-07-09T01:30:00+00:00\", \"2020-07-09T02:00:00+00:00\", \"2020-07-09T02:30:00+00:00\", \"2020-07-09T03:00:00+00:00\", \"2020-07-09T03:30:00+00:00\", \"2020-07-09T04:00:00+00:00\", \"2020-07-09T04:30:00+00:00\", \"2020-07-09T05:00:00+00:00\", \"2020-07-09T05:30:00+00:00\", \"2020-07-09T06:00:00+00:00\", \"2020-07-09T06:30:00+00:00\", \"2020-07-09T07:00:00+00:00\", \"2020-07-09T07:30:00+00:00\", \"2020-07-09T08:00:00+00:00\", \"2020-07-09T08:30:00+00:00\", \"2020-07-09T09:00:00+00:00\", \"2020-07-09T09:30:00+00:00\", \"2020-07-09T10:00:00+00:00\", \"2020-07-09T10:30:00+00:00\", \"2020-07-09T11:00:00+00:00\", \"2020-07-09T11:30:00+00:00\", \"2020-07-09T12:00:00+00:00\", \"2020-07-09T12:30:00+00:00\", \"2020-07-09T13:00:00+00:00\", \"2020-07-09T13:30:00+00:00\", \"2020-07-09T14:00:00+00:00\", \"2020-07-09T14:30:00+00:00\", \"2020-07-09T15:00:00+00:00\", \"2020-07-09T15:30:00+00:00\", \"2020-07-09T16:00:00+00:00\", \"2020-07-09T16:30:00+00:00\", \"2020-07-09T17:00:00+00:00\", \"2020-07-09T17:30:00+00:00\", \"2020-07-09T18:00:00+00:00\", \"2020-07-09T18:30:00+00:00\", \"2020-07-09T19:00:00+00:00\", \"2020-07-09T19:30:00+00:00\", \"2020-07-09T20:00:00+00:00\", \"2020-07-09T20:30:00+00:00\", \"2020-07-09T21:00:00+00:00\", \"2020-07-09T21:30:00+00:00\", \"2020-07-09T22:00:00+00:00\", \"2020-07-09T22:30:00+00:00\", \"2020-07-09T23:00:00+00:00\", \"2020-07-09T23:30:00+00:00\", \"2020-07-10T00:00:00+00:00\", \"2020-07-10T00:30:00+00:00\", \"2020-07-10T01:00:00+00:00\", \"2020-07-10T01:30:00+00:00\", \"2020-07-10T02:00:00+00:00\", \"2020-07-10T02:30:00+00:00\", \"2020-07-10T03:00:00+00:00\", \"2020-07-10T03:30:00+00:00\", \"2020-07-10T04:00:00+00:00\", \"2020-07-10T04:30:00+00:00\", \"2020-07-10T05:00:00+00:00\", \"2020-07-10T05:30:00+00:00\", \"2020-07-10T06:00:00+00:00\", \"2020-07-10T06:30:00+00:00\", \"2020-07-10T07:00:00+00:00\", \"2020-07-10T07:30:00+00:00\", \"2020-07-10T08:00:00+00:00\", \"2020-07-10T08:30:00+00:00\", \"2020-07-10T09:00:00+00:00\", \"2020-07-10T09:30:00+00:00\", \"2020-07-10T10:00:00+00:00\", \"2020-07-10T10:30:00+00:00\", \"2020-07-10T11:00:00+00:00\", \"2020-07-10T11:30:00+00:00\", \"2020-07-10T12:00:00+00:00\", \"2020-07-10T12:30:00+00:00\", \"2020-07-10T13:00:00+00:00\", \"2020-07-10T13:30:00+00:00\", \"2020-07-10T14:00:00+00:00\", \"2020-07-10T14:30:00+00:00\", \"2020-07-10T15:00:00+00:00\", \"2020-07-10T15:30:00+00:00\", \"2020-07-10T16:00:00+00:00\", \"2020-07-10T16:30:00+00:00\", \"2020-07-10T17:00:00+00:00\", \"2020-07-10T17:30:00+00:00\", \"2020-07-10T18:00:00+00:00\", \"2020-07-10T18:30:00+00:00\", \"2020-07-10T19:00:00+00:00\", \"2020-07-10T19:30:00+00:00\", \"2020-07-10T20:00:00+00:00\", \"2020-07-10T20:30:00+00:00\", \"2020-07-10T21:00:00+00:00\", \"2020-07-10T21:30:00+00:00\", \"2020-07-10T22:00:00+00:00\", \"2020-07-10T22:30:00+00:00\", \"2020-07-10T23:00:00+00:00\", \"2020-07-10T23:30:00+00:00\", \"2020-07-11T00:00:00+00:00\", \"2020-07-11T00:30:00+00:00\", \"2020-07-11T01:00:00+00:00\", \"2020-07-11T01:30:00+00:00\", \"2020-07-11T02:00:00+00:00\", \"2020-07-11T02:30:00+00:00\", \"2020-07-11T03:00:00+00:00\", \"2020-07-11T03:30:00+00:00\", \"2020-07-11T04:00:00+00:00\", \"2020-07-11T04:30:00+00:00\", \"2020-07-11T05:00:00+00:00\", \"2020-07-11T05:30:00+00:00\", \"2020-07-11T06:00:00+00:00\", \"2020-07-11T06:30:00+00:00\", \"2020-07-11T07:00:00+00:00\", \"2020-07-11T07:30:00+00:00\", \"2020-07-11T08:00:00+00:00\", \"2020-07-11T08:30:00+00:00\", \"2020-07-11T09:00:00+00:00\", \"2020-07-11T09:30:00+00:00\", \"2020-07-11T10:00:00+00:00\", \"2020-07-11T10:30:00+00:00\", \"2020-07-11T11:00:00+00:00\", \"2020-07-11T11:30:00+00:00\", \"2020-07-11T12:00:00+00:00\", \"2020-07-11T12:30:00+00:00\", \"2020-07-11T13:00:00+00:00\", \"2020-07-11T13:30:00+00:00\", \"2020-07-11T14:00:00+00:00\", \"2020-07-11T14:30:00+00:00\", \"2020-07-11T15:00:00+00:00\", \"2020-07-11T15:30:00+00:00\", \"2020-07-11T16:00:00+00:00\", \"2020-07-11T16:30:00+00:00\", \"2020-07-11T17:00:00+00:00\", \"2020-07-11T17:30:00+00:00\", \"2020-07-11T18:00:00+00:00\", \"2020-07-11T18:30:00+00:00\", \"2020-07-11T19:00:00+00:00\", \"2020-07-11T19:30:00+00:00\", \"2020-07-11T20:00:00+00:00\", \"2020-07-11T20:30:00+00:00\", \"2020-07-11T21:00:00+00:00\", \"2020-07-11T21:30:00+00:00\", \"2020-07-11T22:00:00+00:00\", \"2020-07-11T22:30:00+00:00\", \"2020-07-11T23:00:00+00:00\", \"2020-07-11T23:30:00+00:00\", \"2020-07-12T00:00:00+00:00\", \"2020-07-12T00:30:00+00:00\", \"2020-07-12T01:00:00+00:00\", \"2020-07-12T01:30:00+00:00\", \"2020-07-12T02:00:00+00:00\", \"2020-07-12T02:30:00+00:00\", \"2020-07-12T03:00:00+00:00\", \"2020-07-12T03:30:00+00:00\", \"2020-07-12T04:00:00+00:00\", \"2020-07-12T04:30:00+00:00\", \"2020-07-12T05:00:00+00:00\", \"2020-07-12T05:30:00+00:00\", \"2020-07-12T06:00:00+00:00\", \"2020-07-12T06:30:00+00:00\", \"2020-07-12T07:00:00+00:00\", \"2020-07-12T07:30:00+00:00\", \"2020-07-12T08:00:00+00:00\", \"2020-07-12T08:30:00+00:00\", \"2020-07-12T09:00:00+00:00\", \"2020-07-12T09:30:00+00:00\", \"2020-07-12T10:00:00+00:00\", \"2020-07-12T10:30:00+00:00\", \"2020-07-12T11:00:00+00:00\", \"2020-07-12T11:30:00+00:00\", \"2020-07-12T12:00:00+00:00\", \"2020-07-12T12:30:00+00:00\", \"2020-07-12T13:00:00+00:00\", \"2020-07-12T13:30:00+00:00\", \"2020-07-12T14:00:00+00:00\", \"2020-07-12T14:30:00+00:00\", \"2020-07-12T15:00:00+00:00\", \"2020-07-12T15:30:00+00:00\", \"2020-07-12T16:00:00+00:00\", \"2020-07-12T16:30:00+00:00\", \"2020-07-12T17:00:00+00:00\", \"2020-07-12T17:30:00+00:00\", \"2020-07-12T18:00:00+00:00\", \"2020-07-12T18:30:00+00:00\", \"2020-07-12T19:00:00+00:00\", \"2020-07-12T19:30:00+00:00\", \"2020-07-12T20:00:00+00:00\", \"2020-07-12T20:30:00+00:00\", \"2020-07-12T21:00:00+00:00\", \"2020-07-12T21:30:00+00:00\", \"2020-07-12T22:00:00+00:00\", \"2020-07-12T22:30:00+00:00\", \"2020-07-12T23:00:00+00:00\", \"2020-07-12T23:30:00+00:00\", \"2020-07-13T00:00:00+00:00\", \"2020-07-13T00:30:00+00:00\", \"2020-07-13T01:00:00+00:00\", \"2020-07-13T01:30:00+00:00\", \"2020-07-13T02:00:00+00:00\", \"2020-07-13T02:30:00+00:00\", \"2020-07-13T03:00:00+00:00\", \"2020-07-13T03:30:00+00:00\", \"2020-07-13T04:00:00+00:00\", \"2020-07-13T04:30:00+00:00\", \"2020-07-13T05:00:00+00:00\", \"2020-07-13T05:30:00+00:00\", \"2020-07-13T06:00:00+00:00\", \"2020-07-13T06:30:00+00:00\", \"2020-07-13T07:00:00+00:00\", \"2020-07-13T07:30:00+00:00\", \"2020-07-13T08:00:00+00:00\", \"2020-07-13T08:30:00+00:00\", \"2020-07-13T09:00:00+00:00\", \"2020-07-13T09:30:00+00:00\", \"2020-07-13T10:00:00+00:00\", \"2020-07-13T10:30:00+00:00\", \"2020-07-13T11:00:00+00:00\", \"2020-07-13T11:30:00+00:00\", \"2020-07-13T12:00:00+00:00\", \"2020-07-13T12:30:00+00:00\", \"2020-07-13T13:00:00+00:00\", \"2020-07-13T13:30:00+00:00\", \"2020-07-13T14:00:00+00:00\", \"2020-07-13T14:30:00+00:00\", \"2020-07-13T15:00:00+00:00\", \"2020-07-13T15:30:00+00:00\", \"2020-07-13T16:00:00+00:00\", \"2020-07-13T16:30:00+00:00\", \"2020-07-13T17:00:00+00:00\", \"2020-07-13T17:30:00+00:00\", \"2020-07-13T18:00:00+00:00\", \"2020-07-13T18:30:00+00:00\", \"2020-07-13T19:00:00+00:00\", \"2020-07-13T19:30:00+00:00\", \"2020-07-13T20:00:00+00:00\", \"2020-07-13T20:30:00+00:00\", \"2020-07-13T21:00:00+00:00\", \"2020-07-13T21:30:00+00:00\", \"2020-07-13T22:00:00+00:00\", \"2020-07-13T22:30:00+00:00\", \"2020-07-13T23:00:00+00:00\", \"2020-07-13T23:30:00+00:00\", \"2020-07-14T00:00:00+00:00\", \"2020-07-14T00:30:00+00:00\", \"2020-07-14T01:00:00+00:00\", \"2020-07-14T01:30:00+00:00\", \"2020-07-14T02:00:00+00:00\", \"2020-07-14T02:30:00+00:00\", \"2020-07-14T03:00:00+00:00\", \"2020-07-14T03:30:00+00:00\", \"2020-07-14T04:00:00+00:00\", \"2020-07-14T04:30:00+00:00\", \"2020-07-14T05:00:00+00:00\", \"2020-07-14T05:30:00+00:00\", \"2020-07-14T06:00:00+00:00\", \"2020-07-14T06:30:00+00:00\", \"2020-07-14T07:00:00+00:00\", \"2020-07-14T07:30:00+00:00\", \"2020-07-14T08:00:00+00:00\", \"2020-07-14T08:30:00+00:00\", \"2020-07-14T09:00:00+00:00\", \"2020-07-14T09:30:00+00:00\", \"2020-07-14T10:00:00+00:00\", \"2020-07-14T10:30:00+00:00\", \"2020-07-14T11:00:00+00:00\", \"2020-07-14T11:30:00+00:00\", \"2020-07-14T12:00:00+00:00\", \"2020-07-14T12:30:00+00:00\", \"2020-07-14T13:00:00+00:00\", \"2020-07-14T13:30:00+00:00\", \"2020-07-14T14:00:00+00:00\", \"2020-07-14T14:30:00+00:00\", \"2020-07-14T15:00:00+00:00\", \"2020-07-14T15:30:00+00:00\", \"2020-07-14T16:00:00+00:00\", \"2020-07-14T16:30:00+00:00\", \"2020-07-14T17:00:00+00:00\", \"2020-07-14T17:30:00+00:00\", \"2020-07-14T18:00:00+00:00\", \"2020-07-14T18:30:00+00:00\", \"2020-07-14T19:00:00+00:00\", \"2020-07-14T19:30:00+00:00\", \"2020-07-14T20:00:00+00:00\", \"2020-07-14T20:30:00+00:00\", \"2020-07-14T21:00:00+00:00\", \"2020-07-14T21:30:00+00:00\", \"2020-07-14T22:00:00+00:00\", \"2020-07-14T22:30:00+00:00\", \"2020-07-14T23:00:00+00:00\", \"2020-07-14T23:30:00+00:00\", \"2020-07-15T00:00:00+00:00\", \"2020-07-15T00:30:00+00:00\", \"2020-07-15T01:00:00+00:00\", \"2020-07-15T01:30:00+00:00\", \"2020-07-15T02:00:00+00:00\", \"2020-07-15T02:30:00+00:00\", \"2020-07-15T03:00:00+00:00\", \"2020-07-15T03:30:00+00:00\", \"2020-07-15T04:00:00+00:00\", \"2020-07-15T04:30:00+00:00\", \"2020-07-15T05:00:00+00:00\", \"2020-07-15T05:30:00+00:00\", \"2020-07-15T06:00:00+00:00\", \"2020-07-15T06:30:00+00:00\", \"2020-07-15T07:00:00+00:00\", \"2020-07-15T07:30:00+00:00\", \"2020-07-15T08:00:00+00:00\", \"2020-07-15T08:30:00+00:00\", \"2020-07-15T09:00:00+00:00\", \"2020-07-15T09:30:00+00:00\", \"2020-07-15T10:00:00+00:00\", \"2020-07-15T10:30:00+00:00\", \"2020-07-15T11:00:00+00:00\", \"2020-07-15T11:30:00+00:00\", \"2020-07-15T12:00:00+00:00\", \"2020-07-15T12:30:00+00:00\", \"2020-07-15T13:00:00+00:00\", \"2020-07-15T13:30:00+00:00\", \"2020-07-15T14:00:00+00:00\", \"2020-07-15T14:30:00+00:00\", \"2020-07-15T15:00:00+00:00\", \"2020-07-15T15:30:00+00:00\", \"2020-07-15T16:00:00+00:00\", \"2020-07-15T16:30:00+00:00\", \"2020-07-15T17:00:00+00:00\", \"2020-07-15T17:30:00+00:00\", \"2020-07-15T18:00:00+00:00\", \"2020-07-15T18:30:00+00:00\", \"2020-07-15T19:00:00+00:00\", \"2020-07-15T19:30:00+00:00\", \"2020-07-15T20:00:00+00:00\", \"2020-07-15T20:30:00+00:00\", \"2020-07-15T21:00:00+00:00\", \"2020-07-15T21:30:00+00:00\", \"2020-07-15T22:00:00+00:00\", \"2020-07-15T22:30:00+00:00\", \"2020-07-15T23:00:00+00:00\", \"2020-07-15T23:30:00+00:00\", \"2020-07-16T00:00:00+00:00\", \"2020-07-16T00:30:00+00:00\", \"2020-07-16T01:00:00+00:00\", \"2020-07-16T01:30:00+00:00\", \"2020-07-16T02:00:00+00:00\", \"2020-07-16T02:30:00+00:00\", \"2020-07-16T03:00:00+00:00\", \"2020-07-16T03:30:00+00:00\", \"2020-07-16T04:00:00+00:00\", \"2020-07-16T04:30:00+00:00\", \"2020-07-16T05:00:00+00:00\", \"2020-07-16T05:30:00+00:00\", \"2020-07-16T06:00:00+00:00\", \"2020-07-16T06:30:00+00:00\", \"2020-07-16T07:00:00+00:00\", \"2020-07-16T07:30:00+00:00\", \"2020-07-16T08:00:00+00:00\", \"2020-07-16T08:30:00+00:00\", \"2020-07-16T09:00:00+00:00\", \"2020-07-16T09:30:00+00:00\", \"2020-07-16T10:00:00+00:00\", \"2020-07-16T10:30:00+00:00\", \"2020-07-16T11:00:00+00:00\", \"2020-07-16T11:30:00+00:00\", \"2020-07-16T12:00:00+00:00\", \"2020-07-16T12:30:00+00:00\", \"2020-07-16T13:00:00+00:00\", \"2020-07-16T13:30:00+00:00\", \"2020-07-16T14:00:00+00:00\", \"2020-07-16T14:30:00+00:00\", \"2020-07-16T15:00:00+00:00\", \"2020-07-16T15:30:00+00:00\", \"2020-07-16T16:00:00+00:00\", \"2020-07-16T16:30:00+00:00\", \"2020-07-16T17:00:00+00:00\", \"2020-07-16T17:30:00+00:00\", \"2020-07-16T18:00:00+00:00\", \"2020-07-16T18:30:00+00:00\", \"2020-07-16T19:00:00+00:00\", \"2020-07-16T19:30:00+00:00\", \"2020-07-16T20:00:00+00:00\", \"2020-07-16T20:30:00+00:00\", \"2020-07-16T21:00:00+00:00\", \"2020-07-16T21:30:00+00:00\", \"2020-07-16T22:00:00+00:00\", \"2020-07-16T22:30:00+00:00\", \"2020-07-16T23:00:00+00:00\", \"2020-07-16T23:30:00+00:00\", \"2020-07-17T00:00:00+00:00\", \"2020-07-17T00:30:00+00:00\", \"2020-07-17T01:00:00+00:00\", \"2020-07-17T01:30:00+00:00\", \"2020-07-17T02:00:00+00:00\", \"2020-07-17T02:30:00+00:00\", \"2020-07-17T03:00:00+00:00\", \"2020-07-17T03:30:00+00:00\", \"2020-07-17T04:00:00+00:00\", \"2020-07-17T04:30:00+00:00\", \"2020-07-17T05:00:00+00:00\", \"2020-07-17T05:30:00+00:00\", \"2020-07-17T06:00:00+00:00\", \"2020-07-17T06:30:00+00:00\", \"2020-07-17T07:00:00+00:00\", \"2020-07-17T07:30:00+00:00\", \"2020-07-17T08:00:00+00:00\", \"2020-07-17T08:30:00+00:00\", \"2020-07-17T09:00:00+00:00\", \"2020-07-17T09:30:00+00:00\", \"2020-07-17T10:00:00+00:00\", \"2020-07-17T10:30:00+00:00\", \"2020-07-17T11:00:00+00:00\", \"2020-07-17T11:30:00+00:00\", \"2020-07-17T12:00:00+00:00\", \"2020-07-17T12:30:00+00:00\", \"2020-07-17T13:00:00+00:00\", \"2020-07-17T13:30:00+00:00\", \"2020-07-17T14:00:00+00:00\", \"2020-07-17T14:30:00+00:00\", \"2020-07-17T15:00:00+00:00\", \"2020-07-17T15:30:00+00:00\", \"2020-07-17T16:00:00+00:00\", \"2020-07-17T16:30:00+00:00\", \"2020-07-17T17:00:00+00:00\", \"2020-07-17T17:30:00+00:00\", \"2020-07-17T18:00:00+00:00\", \"2020-07-17T18:30:00+00:00\", \"2020-07-17T19:00:00+00:00\", \"2020-07-17T19:30:00+00:00\", \"2020-07-17T20:00:00+00:00\", \"2020-07-17T20:30:00+00:00\", \"2020-07-17T21:00:00+00:00\", \"2020-07-17T21:30:00+00:00\", \"2020-07-17T22:00:00+00:00\", \"2020-07-17T22:30:00+00:00\", \"2020-07-17T23:00:00+00:00\", \"2020-07-17T23:30:00+00:00\", \"2020-07-18T00:00:00+00:00\", \"2020-07-18T00:30:00+00:00\", \"2020-07-18T01:00:00+00:00\", \"2020-07-18T01:30:00+00:00\", \"2020-07-18T02:00:00+00:00\", \"2020-07-18T02:30:00+00:00\", \"2020-07-18T03:00:00+00:00\", \"2020-07-18T03:30:00+00:00\", \"2020-07-18T04:00:00+00:00\", \"2020-07-18T04:30:00+00:00\", \"2020-07-18T05:00:00+00:00\", \"2020-07-18T05:30:00+00:00\", \"2020-07-18T06:00:00+00:00\", \"2020-07-18T06:30:00+00:00\", \"2020-07-18T07:00:00+00:00\", \"2020-07-18T07:30:00+00:00\", \"2020-07-18T08:00:00+00:00\", \"2020-07-18T08:30:00+00:00\", \"2020-07-18T09:00:00+00:00\", \"2020-07-18T09:30:00+00:00\", \"2020-07-18T10:00:00+00:00\", \"2020-07-18T10:30:00+00:00\", \"2020-07-18T11:00:00+00:00\", \"2020-07-18T11:30:00+00:00\", \"2020-07-18T12:00:00+00:00\", \"2020-07-18T12:30:00+00:00\", \"2020-07-18T13:00:00+00:00\", \"2020-07-18T13:30:00+00:00\", \"2020-07-18T14:00:00+00:00\", \"2020-07-18T14:30:00+00:00\", \"2020-07-18T15:00:00+00:00\", \"2020-07-18T15:30:00+00:00\", \"2020-07-18T16:00:00+00:00\", \"2020-07-18T16:30:00+00:00\", \"2020-07-18T17:00:00+00:00\", \"2020-07-18T17:30:00+00:00\", \"2020-07-18T18:00:00+00:00\", \"2020-07-18T18:30:00+00:00\", \"2020-07-18T19:00:00+00:00\", \"2020-07-18T19:30:00+00:00\", \"2020-07-18T20:00:00+00:00\", \"2020-07-18T20:30:00+00:00\", \"2020-07-18T21:00:00+00:00\", \"2020-07-18T21:30:00+00:00\", \"2020-07-18T22:00:00+00:00\", \"2020-07-18T22:30:00+00:00\", \"2020-07-18T23:00:00+00:00\", \"2020-07-18T23:30:00+00:00\", \"2020-07-19T00:00:00+00:00\", \"2020-07-19T00:30:00+00:00\", \"2020-07-19T01:00:00+00:00\", \"2020-07-19T01:30:00+00:00\", \"2020-07-19T02:00:00+00:00\", \"2020-07-19T02:30:00+00:00\", \"2020-07-19T03:00:00+00:00\", \"2020-07-19T03:30:00+00:00\", \"2020-07-19T04:00:00+00:00\", \"2020-07-19T04:30:00+00:00\", \"2020-07-19T05:00:00+00:00\", \"2020-07-19T05:30:00+00:00\", \"2020-07-19T06:00:00+00:00\", \"2020-07-19T06:30:00+00:00\", \"2020-07-19T07:00:00+00:00\", \"2020-07-19T07:30:00+00:00\", \"2020-07-19T08:00:00+00:00\", \"2020-07-19T08:30:00+00:00\", \"2020-07-19T09:00:00+00:00\", \"2020-07-19T09:30:00+00:00\", \"2020-07-19T10:00:00+00:00\", \"2020-07-19T10:30:00+00:00\", \"2020-07-19T11:00:00+00:00\", \"2020-07-19T11:30:00+00:00\", \"2020-07-19T12:00:00+00:00\", \"2020-07-19T12:30:00+00:00\", \"2020-07-19T13:00:00+00:00\", \"2020-07-19T13:30:00+00:00\", \"2020-07-19T14:00:00+00:00\", \"2020-07-19T14:30:00+00:00\", \"2020-07-19T15:00:00+00:00\", \"2020-07-19T15:30:00+00:00\", \"2020-07-19T16:00:00+00:00\", \"2020-07-19T16:30:00+00:00\", \"2020-07-19T17:00:00+00:00\", \"2020-07-19T17:30:00+00:00\", \"2020-07-19T18:00:00+00:00\", \"2020-07-19T18:30:00+00:00\", \"2020-07-19T19:00:00+00:00\", \"2020-07-19T19:30:00+00:00\", \"2020-07-19T20:00:00+00:00\", \"2020-07-19T20:30:00+00:00\", \"2020-07-19T21:00:00+00:00\", \"2020-07-19T21:30:00+00:00\", \"2020-07-19T22:00:00+00:00\", \"2020-07-19T22:30:00+00:00\", \"2020-07-19T23:00:00+00:00\", \"2020-07-19T23:30:00+00:00\", \"2020-07-20T00:00:00+00:00\", \"2020-07-20T00:30:00+00:00\", \"2020-07-20T01:00:00+00:00\", \"2020-07-20T01:30:00+00:00\", \"2020-07-20T02:00:00+00:00\", \"2020-07-20T02:30:00+00:00\", \"2020-07-20T03:00:00+00:00\", \"2020-07-20T03:30:00+00:00\", \"2020-07-20T04:00:00+00:00\", \"2020-07-20T04:30:00+00:00\", \"2020-07-20T05:00:00+00:00\", \"2020-07-20T05:30:00+00:00\", \"2020-07-20T06:00:00+00:00\", \"2020-07-20T06:30:00+00:00\", \"2020-07-20T07:00:00+00:00\", \"2020-07-20T07:30:00+00:00\", \"2020-07-20T08:00:00+00:00\", \"2020-07-20T08:30:00+00:00\", \"2020-07-20T09:00:00+00:00\", \"2020-07-20T09:30:00+00:00\", \"2020-07-20T10:00:00+00:00\", \"2020-07-20T10:30:00+00:00\", \"2020-07-20T11:00:00+00:00\", \"2020-07-20T11:30:00+00:00\", \"2020-07-20T12:00:00+00:00\", \"2020-07-20T12:30:00+00:00\", \"2020-07-20T13:00:00+00:00\", \"2020-07-20T13:30:00+00:00\", \"2020-07-20T14:00:00+00:00\", \"2020-07-20T14:30:00+00:00\", \"2020-07-20T15:00:00+00:00\", \"2020-07-20T15:30:00+00:00\", \"2020-07-20T16:00:00+00:00\", \"2020-07-20T16:30:00+00:00\", \"2020-07-20T17:00:00+00:00\", \"2020-07-20T17:30:00+00:00\", \"2020-07-20T18:00:00+00:00\", \"2020-07-20T18:30:00+00:00\", \"2020-07-20T19:00:00+00:00\", \"2020-07-20T19:30:00+00:00\", \"2020-07-20T20:00:00+00:00\", \"2020-07-20T20:30:00+00:00\"], \"y\": [0.12870277, 0.11757235, 0.11124238, 0.10246424400000001, 0.093201205, 0.09090909, 0.091887996, 0.08630336, 0.08063689, 0.086418934, 0.09123013, 0.076149076, 0.05949766, 0.050911643, 0.046438995999999996, 0.039964243999999996, 0.04917821, 0.06662646, 0.06907558400000001, 0.08050303, 0.10884831, 0.16023359, 0.20280214, 0.22530389999999997, 0.25827798, 0.30207259999999997, 0.37212718, 0.42029494, 0.47663072, 0.5007617999999999, 0.49074313, 0.50763893, 0.5449438, 0.55791575, 0.5771408, 0.62831974, 0.66796476, 0.69692665, 0.6960388000000001, 0.6817863000000001, 0.6610164000000001, 0.6445531, 0.61604875, 0.5662138000000001, 0.50910383, 0.43296728, 0.39090478, 0.35792246, 0.33219483, 0.2967454, 0.27055672, 0.24822244, 0.23037963, 0.22325204, 0.21246172, 0.21035567, 0.20524770000000003, 0.19764379999999998, 0.19086577, 0.19256471, 0.19401646, 0.19519277, 0.20550849, 0.19701229, 0.18494639999999998, 0.1605033, 0.16348137, 0.18999316, 0.22682832, 0.26474717, 0.28935546, 0.30377093, 0.30904380000000004, 0.30564117, 0.3044667, 0.31694058, 0.33356744, 0.34427965, 0.33680022, 0.30731323, 0.31167004, 0.31703272, 0.3124048, 0.2887887, 0.26260158, 0.25, 0.24332862, 0.24155755, 0.25249445, 0.24276282, 0.22661304, 0.21086927, 0.19746703, 0.15854524, 0.14845076, 0.14688796, 0.15073404, 0.15437213, 0.16997571, 0.14223696, 0.15404753, 0.16966099999999998, 0.16716671, 0.16684757, 0.16493416, 0.16779016, 0.17280856, 0.17879643, 0.18051945, 0.2106103, 0.20202741, 0.18218197, 0.16535057, 0.14204545, 0.12584418, 0.12891631, 0.14134997, 0.14592959, 0.15613765, 0.15022434, 0.14311868, 0.14779152, 0.15591292, 0.16681567, 0.18924332, 0.20396762, 0.21236593, 0.24759535, 0.27401125, 0.2840271, 0.2849948, 0.2838994, 0.2842186, 0.28454286, 0.28186893, 0.28181398, 0.28385413, 0.27602845, 0.2590203, 0.24348822, 0.21488762, 0.19056433, 0.19176942, 0.19911896, 0.19362874, 0.19892745, 0.21584485, 0.18526554, 0.17811541, 0.18606324, 0.18181819, 0.19318181, 0.20454545, 0.2159091, 0.22727273, 0.22727273, 0.22727273, 0.22727273, 0.22727273, 0.18181819, 0.15909089999999998, 0.13636364, 0.13636364, 0.13636364, 0.13636364, 0.13636364, 0.13636364, 0.13636364, 0.13636364, 0.13636364, 0.18181819, 0.18181819, 0.18181819, 0.18181819, 0.18181819, 0.18181819, 0.18181819, 0.18181819, 0.18181819, 0.18181819, 0.18181819, 0.18181819, 0.18181819, 0.18181819, 0.18181819, 0.18181819, 0.18181819, 0.18181819, 0.18181819, 0.18181819, 0.13636364, 0.13636364, 0.13636364, 0.13636364, 0.13636364, 0.13636364, 0.13636364, 0.13636364, 0.13636364, 0.13636364, 0.13636364, 0.13636364, 0.13636364, 0.13636364, 0.13636364, 0.13636364, 0.13636364, 0.13636364, 0.09090909, 0.09090909, 0.045454547000000005, 0.09090909, 0.13636364, 0.20749162, 0.26748249999999996, 0.27272728, 0.30861247, 0.33612442, 0.36363637, 0.40909090000000004, 0.40909090000000004, 0.45454547, 0.5, 0.5, 0.5, 0.54545456, 0.54545456, 0.49197865, 0.42568544, 0.36363637, 0.36363637, 0.36363637, 0.36363637, 0.31818179999999996, 0.3282828, 0.36363637, 0.36363637, 0.36363637, 0.36363637, 0.31818179999999996, 0.27272728, 0.22727273, 0.22727273, 0.18181819, 0.18181819, 0.13636364, 0.13636364, 0.13636364, 0.09090909, 0.09090909, 0.09090909, 0.045454547000000005, 0.045454547000000005, 0.045454547000000005, 0.045454547000000005, 0.045454547000000005, 0.045454547000000005, 0.09090909, 0.13636364, 0.18181819, 0.22727273, 0.27272728, 0.27272728, 0.31818179999999996, 0.36046514, 0.40909090000000004, 0.40909090000000004, 0.45454547, 0.45588234, 0.5, 0.5, 0.53321683, 0.59090906, 0.6136364000000001, 0.6363635999999999, 0.65909094, 0.6818181999999999, 0.6363635999999999, 0.59090906, 0.59090906, 0.5681818000000001, 0.54545456, 0.59090906, 0.59090906, 0.54734844, 0.5, 0.46527776, 0.43055552, 0.36363637, 0.31818179999999996, 0.27272728, 0.22727273, 0.18181819, 0.18181819, 0.13636364, 0.13636364, 0.09090909, 0.09090909, 0.045454547000000005, 0.045454547000000005, 0.0, 0.0, 0.0, 0.0, 0.0, 0.0, 0.045454547000000005, 0.11038962, 0.20743804, 0.2833656, 0.3545454, 0.40909090000000004, 0.45454547, 0.5384614999999999, 0.6025974000000001, 0.6418733, 0.7022264, 0.72727275, 0.77272725, 0.79020983, 0.8857809000000001, 0.95454544, 0.97727275, 1.0, 1.0, 0.95454544, 0.95454544, 0.9393940000000001, 0.9242424000000001, 0.90909094, 0.90909094, 0.90909094, 0.8636364, 0.8181818000000001, 0.77272725, 0.72727275, 0.6618929, 0.59090906, 0.59090906, 0.54545456, 0.5, 0.5, 0.47380587, 0.46346152, 0.43162555, 0.40204257, 0.39653109999999997, 0.3811344, 0.35227272, 0.35210437, 0.33813277, 0.32968070000000005, 0.33126718, 0.332012, 0.33014357, 0.3409729, 0.34333506, 0.34123194, 0.3463662, 0.35812673, 0.37740640000000003, 0.40203449999999996, 0.43002388, 0.47381097, 0.51875, 0.53373206, 0.5566933000000001, 0.5598621, 0.5578957, 0.53420454, 0.5487325, 0.5315544, 0.51735723, 0.5134645, 0.5568181999999999, 0.5568181999999999, 0.5503246999999999, 0.5540909, 0.5775547, 0.57940936, 0.5665371, 0.5196217000000001, 0.49209958, 0.47266138, 0.44226220000000005, 0.4255195, 0.4244285, 0.40640277, 0.39665145, 0.38613892, 0.37649935, 0.39011678, 0.38909218, 0.35756934, 0.336951, 0.33503577, 0.32575753, 0.30427524, 0.3039132, 0.2882687, 0.28409090000000004, 0.24805199, 0.2463873, 0.25980395, 0.29402465, 0.32594508, 0.34405848, 0.35383242, 0.38333779999999995, 0.38349083, 0.39636362, 0.43263677, 0.47126925, 0.48041093, 0.5092469000000001, 0.5352564000000001, 0.52341723, 0.48064890000000005, 0.4649927, 0.44310066, 0.43155843, 0.42045453, 0.42045453, 0.43019477, 0.45035884, 0.45124635, 0.43328649999999996, 0.42094862, 0.39761907, 0.38125384, 0.35141513, 0.33985570000000004, 0.32987967, 0.30650252, 0.29060605, 0.24776068, 0.23835225, 0.23928842, 0.23891813, 0.23388742, 0.22760210000000003, 0.2172203, 0.2170268, 0.22508742, 0.2371996, 0.24143991, 0.26101926, 0.25970381, 0.24682201, 0.2254317, 0.21471544, 0.22920245, 0.24006729999999998, 0.2563176, 0.287127, 0.29755297, 0.30874425, 0.33590367, 0.3505366, 0.36954543, 0.37935359999999996, 0.39188316, 0.40048704, 0.4273835999999999, 0.43188240000000006, 0.42272723, 0.39837664, 0.39751938, 0.39015153, 0.3954546, 0.42045453, 0.42045453, 0.41969700000000004, 0.39772728, 0.39373379999999997, 0.3871297, 0.368695, 0.34511426, 0.35876620000000004, 0.3526579, 0.33985388, 0.33781755, 0.33551970000000003, 0.30644920000000003, 0.31632364, 0.30132788, 0.29908190000000007, 0.28964433, 0.29194328, 0.29167740000000003, 0.29194805, 0.2930791, 0.28993416, 0.30253837, 0.30681820000000004, 0.30028412, 0.29501012, 0.29054546, 0.29420653, 0.31534090000000004, 0.34389305, 0.38643292, 0.42556337, 0.4679144, 0.48796228, 0.5203234, 0.53333336, 0.5665689, 0.5980416000000001, 0.6198467, 0.6560104, 0.69690603, 0.7430555, 0.7416883000000001, 0.74256444, 0.7461479, 0.7400768, 0.74633145, 0.7805291999999999, 0.7900991999999999, 0.7892298000000001, 0.7553243000000001, 0.7396934000000001, 0.7120258, 0.6865836, 0.6498633, 0.61209846, 0.5299513000000001, 0.5111340999999999, 0.47824278, 0.45051852, 0.43817797, 0.43246019999999996, 0.42172936, 0.42666486, 0.42483762, 0.42193672, 0.4431818, 0.4231902, 0.40198863, 0.41372916, 0.4237013, 0.42045453, 0.42045453, 0.42045453, 0.42045453, 0.42045453, 0.42683566, 0.43125352, 0.4709821, 0.49995664, 0.53227097, 0.56459147, 0.60153365, 0.6651646, 0.7103768, 0.74743754, 0.80623746, 0.8600416999999999, 0.8786155999999999, 0.8805533000000001, 0.8817033000000001, 0.9215631999999999, 0.96590906, 0.9760764999999999, 0.9805149, 0.9827940000000001, 0.97091675, 0.96590906, 0.93797356, 0.89160156, 0.84698004, 0.8188865, 0.7874331, 0.7752526, 0.76307195, 0.75089127, 0.7387106, 0.72653, 0.7143494, 0.7021687, 0.68998814, 0.67780745, 0.6656269, 0.6534462, 0.64126563, 0.62908494, 0.6169043000000001, 0.6047236999999999, 0.59254307, 0.5803624, 0.5681818000000001, 0.56844485, 0.5687079, 0.5689709, 0.56923395, 0.56949705, 0.5697601, 0.5700232, 0.5702862, 0.57054925, 0.5620714, 0.5535936, 0.54511565, 0.5366377, 0.5281599, 0.519682, 0.5112042, 0.5027263, 0.49424848, 0.48577058, 0.47729275, 0.46881485, 0.46033695, 0.45185912, 0.44338122, 0.43490340000000005, 0.4264255, 0.41794768, 0.40946978, 0.40099195, 0.39251405, 0.38403615, 0.37555835, 0.36708042, 0.3586026, 0.35012472, 0.33673468, 0.30790043, 0.3040124, 0.29019478, 0.28378790000000004, 0.26136363, 0.257948, 0.24967895, 0.24215846, 0.23248109, 0.21200639, 0.20038804, 0.20108093, 0.20177382, 0.20246671, 0.20315968, 0.20385256, 0.20454545, 0.23177086, 0.2589962, 0.28622159999999996, 0.30900973, 0.36534995, 0.45038623, 0.51821405, 0.56720775, 0.59723586, 0.62726396, 0.657292, 0.6873201, 0.71734816, 0.7473764, 0.7774044, 0.80743235, 0.83140844, 0.8403955, 0.8305630999999999, 0.7967966, 0.72769666, 0.6599484999999999, 0.6055195, 0.5494558, 0.50245094, 0.463789, 0.41564074, 0.35960147, 0.3227625, 0.28548953, 0.24832405, 0.21224342, 0.19953026, 0.17339689, 0.15325755, 0.12193359, 0.104465745, 0.09505775, 0.07591169, 0.060696777, 0.054195836, 0.029459866, 0.010699532, 0.003314365, 0.013270811, 0.030329704, 0.08189938, 0.1440909, 0.20078546, 0.24195879999999997, 0.25523326, 0.29102603, 0.31700447, 0.3418255, 0.37786648, 0.3904672, 0.42287627, 0.42867997, 0.44613343, 0.5095932, 0.51473355, 0.5270307, 0.56314147, 0.5432286999999999, 0.52542377, 0.52214944, 0.5121359000000001, 0.48863637, 0.48514983, 0.47740042, 0.45953855, 0.42919585, 0.35560349999999996, 0.32566166, 0.29809457]}, {\"mode\": \"lines\", \"name\": \"TP2\", \"type\": \"scatter\", \"x\": [\"2020-07-05T21:00:00+00:00\", \"2020-07-05T21:30:00+00:00\", \"2020-07-05T22:00:00+00:00\", \"2020-07-05T22:30:00+00:00\", \"2020-07-05T23:00:00+00:00\", \"2020-07-05T23:30:00+00:00\", \"2020-07-06T00:00:00+00:00\", \"2020-07-06T00:30:00+00:00\", \"2020-07-06T01:00:00+00:00\", \"2020-07-06T01:30:00+00:00\", \"2020-07-06T02:00:00+00:00\", \"2020-07-06T02:30:00+00:00\", \"2020-07-06T03:00:00+00:00\", \"2020-07-06T03:30:00+00:00\", \"2020-07-06T04:00:00+00:00\", \"2020-07-06T04:30:00+00:00\", \"2020-07-06T05:00:00+00:00\", \"2020-07-06T05:30:00+00:00\", \"2020-07-06T06:00:00+00:00\", \"2020-07-06T06:30:00+00:00\", \"2020-07-06T07:00:00+00:00\", \"2020-07-06T07:30:00+00:00\", \"2020-07-06T08:00:00+00:00\", \"2020-07-06T08:30:00+00:00\", \"2020-07-06T09:00:00+00:00\", \"2020-07-06T09:30:00+00:00\", \"2020-07-06T10:00:00+00:00\", \"2020-07-06T10:30:00+00:00\", \"2020-07-06T11:00:00+00:00\", \"2020-07-06T11:30:00+00:00\", \"2020-07-06T12:00:00+00:00\", \"2020-07-06T12:30:00+00:00\", \"2020-07-06T13:00:00+00:00\", \"2020-07-06T13:30:00+00:00\", \"2020-07-06T14:00:00+00:00\", \"2020-07-06T14:30:00+00:00\", \"2020-07-06T15:00:00+00:00\", \"2020-07-06T15:30:00+00:00\", \"2020-07-06T16:00:00+00:00\", \"2020-07-06T16:30:00+00:00\", \"2020-07-06T17:00:00+00:00\", \"2020-07-06T17:30:00+00:00\", \"2020-07-06T18:00:00+00:00\", \"2020-07-06T18:30:00+00:00\", \"2020-07-06T19:00:00+00:00\", \"2020-07-06T19:30:00+00:00\", \"2020-07-06T20:00:00+00:00\", \"2020-07-06T20:30:00+00:00\", \"2020-07-06T21:00:00+00:00\", \"2020-07-06T21:30:00+00:00\", \"2020-07-06T22:00:00+00:00\", \"2020-07-06T22:30:00+00:00\", \"2020-07-06T23:00:00+00:00\", \"2020-07-06T23:30:00+00:00\", \"2020-07-07T00:00:00+00:00\", \"2020-07-07T00:30:00+00:00\", \"2020-07-07T01:00:00+00:00\", \"2020-07-07T01:30:00+00:00\", \"2020-07-07T02:00:00+00:00\", \"2020-07-07T02:30:00+00:00\", \"2020-07-07T03:00:00+00:00\", \"2020-07-07T03:30:00+00:00\", \"2020-07-07T04:00:00+00:00\", \"2020-07-07T04:30:00+00:00\", \"2020-07-07T05:00:00+00:00\", \"2020-07-07T05:30:00+00:00\", \"2020-07-07T06:00:00+00:00\", \"2020-07-07T06:30:00+00:00\", \"2020-07-07T07:00:00+00:00\", \"2020-07-07T07:30:00+00:00\", \"2020-07-07T08:00:00+00:00\", \"2020-07-07T08:30:00+00:00\", \"2020-07-07T09:00:00+00:00\", \"2020-07-07T09:30:00+00:00\", \"2020-07-07T10:00:00+00:00\", \"2020-07-07T10:30:00+00:00\", \"2020-07-07T11:00:00+00:00\", \"2020-07-07T11:30:00+00:00\", \"2020-07-07T12:00:00+00:00\", \"2020-07-07T12:30:00+00:00\", \"2020-07-07T13:00:00+00:00\", \"2020-07-07T13:30:00+00:00\", \"2020-07-07T14:00:00+00:00\", \"2020-07-07T14:30:00+00:00\", \"2020-07-07T15:00:00+00:00\", \"2020-07-07T15:30:00+00:00\", \"2020-07-07T16:00:00+00:00\", \"2020-07-07T16:30:00+00:00\", \"2020-07-07T17:00:00+00:00\", \"2020-07-07T17:30:00+00:00\", \"2020-07-07T18:00:00+00:00\", \"2020-07-07T18:30:00+00:00\", \"2020-07-07T19:00:00+00:00\", \"2020-07-07T19:30:00+00:00\", \"2020-07-07T20:00:00+00:00\", \"2020-07-07T20:30:00+00:00\", \"2020-07-07T21:00:00+00:00\", \"2020-07-07T21:30:00+00:00\", \"2020-07-07T22:00:00+00:00\", \"2020-07-07T22:30:00+00:00\", \"2020-07-07T23:00:00+00:00\", \"2020-07-07T23:30:00+00:00\", \"2020-07-08T00:00:00+00:00\", \"2020-07-08T00:30:00+00:00\", \"2020-07-08T01:00:00+00:00\", \"2020-07-08T01:30:00+00:00\", \"2020-07-08T02:00:00+00:00\", \"2020-07-08T02:30:00+00:00\", \"2020-07-08T03:00:00+00:00\", \"2020-07-08T03:30:00+00:00\", \"2020-07-08T04:00:00+00:00\", \"2020-07-08T04:30:00+00:00\", \"2020-07-08T05:00:00+00:00\", \"2020-07-08T05:30:00+00:00\", \"2020-07-08T06:00:00+00:00\", \"2020-07-08T06:30:00+00:00\", \"2020-07-08T07:00:00+00:00\", \"2020-07-08T07:30:00+00:00\", \"2020-07-08T08:00:00+00:00\", \"2020-07-08T08:30:00+00:00\", \"2020-07-08T09:00:00+00:00\", \"2020-07-08T09:30:00+00:00\", \"2020-07-08T10:00:00+00:00\", \"2020-07-08T10:30:00+00:00\", \"2020-07-08T11:00:00+00:00\", \"2020-07-08T11:30:00+00:00\", \"2020-07-08T12:00:00+00:00\", \"2020-07-08T12:30:00+00:00\", \"2020-07-08T13:00:00+00:00\", \"2020-07-08T13:30:00+00:00\", \"2020-07-08T14:00:00+00:00\", \"2020-07-08T14:30:00+00:00\", \"2020-07-08T15:00:00+00:00\", \"2020-07-08T15:30:00+00:00\", \"2020-07-08T16:00:00+00:00\", \"2020-07-08T16:30:00+00:00\", \"2020-07-08T17:00:00+00:00\", \"2020-07-08T17:30:00+00:00\", \"2020-07-08T18:00:00+00:00\", \"2020-07-08T18:30:00+00:00\", \"2020-07-08T19:00:00+00:00\", \"2020-07-08T19:30:00+00:00\", \"2020-07-08T20:00:00+00:00\", \"2020-07-08T20:30:00+00:00\", \"2020-07-08T21:00:00+00:00\", \"2020-07-08T21:30:00+00:00\", \"2020-07-08T22:00:00+00:00\", \"2020-07-08T22:30:00+00:00\", \"2020-07-08T23:00:00+00:00\", \"2020-07-08T23:30:00+00:00\", \"2020-07-09T00:00:00+00:00\", \"2020-07-09T00:30:00+00:00\", \"2020-07-09T01:00:00+00:00\", \"2020-07-09T01:30:00+00:00\", \"2020-07-09T02:00:00+00:00\", \"2020-07-09T02:30:00+00:00\", \"2020-07-09T03:00:00+00:00\", \"2020-07-09T03:30:00+00:00\", \"2020-07-09T04:00:00+00:00\", \"2020-07-09T04:30:00+00:00\", \"2020-07-09T05:00:00+00:00\", \"2020-07-09T05:30:00+00:00\", \"2020-07-09T06:00:00+00:00\", \"2020-07-09T06:30:00+00:00\", \"2020-07-09T07:00:00+00:00\", \"2020-07-09T07:30:00+00:00\", \"2020-07-09T08:00:00+00:00\", \"2020-07-09T08:30:00+00:00\", \"2020-07-09T09:00:00+00:00\", \"2020-07-09T09:30:00+00:00\", \"2020-07-09T10:00:00+00:00\", \"2020-07-09T10:30:00+00:00\", \"2020-07-09T11:00:00+00:00\", \"2020-07-09T11:30:00+00:00\", \"2020-07-09T12:00:00+00:00\", \"2020-07-09T12:30:00+00:00\", \"2020-07-09T13:00:00+00:00\", \"2020-07-09T13:30:00+00:00\", \"2020-07-09T14:00:00+00:00\", \"2020-07-09T14:30:00+00:00\", \"2020-07-09T15:00:00+00:00\", \"2020-07-09T15:30:00+00:00\", \"2020-07-09T16:00:00+00:00\", \"2020-07-09T16:30:00+00:00\", \"2020-07-09T17:00:00+00:00\", \"2020-07-09T17:30:00+00:00\", \"2020-07-09T18:00:00+00:00\", \"2020-07-09T18:30:00+00:00\", \"2020-07-09T19:00:00+00:00\", \"2020-07-09T19:30:00+00:00\", \"2020-07-09T20:00:00+00:00\", \"2020-07-09T20:30:00+00:00\", \"2020-07-09T21:00:00+00:00\", \"2020-07-09T21:30:00+00:00\", \"2020-07-09T22:00:00+00:00\", \"2020-07-09T22:30:00+00:00\", \"2020-07-09T23:00:00+00:00\", \"2020-07-09T23:30:00+00:00\", \"2020-07-10T00:00:00+00:00\", \"2020-07-10T00:30:00+00:00\", \"2020-07-10T01:00:00+00:00\", \"2020-07-10T01:30:00+00:00\", \"2020-07-10T02:00:00+00:00\", \"2020-07-10T02:30:00+00:00\", \"2020-07-10T03:00:00+00:00\", \"2020-07-10T03:30:00+00:00\", \"2020-07-10T04:00:00+00:00\", \"2020-07-10T04:30:00+00:00\", \"2020-07-10T05:00:00+00:00\", \"2020-07-10T05:30:00+00:00\", \"2020-07-10T06:00:00+00:00\", \"2020-07-10T06:30:00+00:00\", \"2020-07-10T07:00:00+00:00\", \"2020-07-10T07:30:00+00:00\", \"2020-07-10T08:00:00+00:00\", \"2020-07-10T08:30:00+00:00\", \"2020-07-10T09:00:00+00:00\", \"2020-07-10T09:30:00+00:00\", \"2020-07-10T10:00:00+00:00\", \"2020-07-10T10:30:00+00:00\", \"2020-07-10T11:00:00+00:00\", \"2020-07-10T11:30:00+00:00\", \"2020-07-10T12:00:00+00:00\", \"2020-07-10T12:30:00+00:00\", \"2020-07-10T13:00:00+00:00\", \"2020-07-10T13:30:00+00:00\", \"2020-07-10T14:00:00+00:00\", \"2020-07-10T14:30:00+00:00\", \"2020-07-10T15:00:00+00:00\", \"2020-07-10T15:30:00+00:00\", \"2020-07-10T16:00:00+00:00\", \"2020-07-10T16:30:00+00:00\", \"2020-07-10T17:00:00+00:00\", \"2020-07-10T17:30:00+00:00\", \"2020-07-10T18:00:00+00:00\", \"2020-07-10T18:30:00+00:00\", \"2020-07-10T19:00:00+00:00\", \"2020-07-10T19:30:00+00:00\", \"2020-07-10T20:00:00+00:00\", \"2020-07-10T20:30:00+00:00\", \"2020-07-10T21:00:00+00:00\", \"2020-07-10T21:30:00+00:00\", \"2020-07-10T22:00:00+00:00\", \"2020-07-10T22:30:00+00:00\", \"2020-07-10T23:00:00+00:00\", \"2020-07-10T23:30:00+00:00\", \"2020-07-11T00:00:00+00:00\", \"2020-07-11T00:30:00+00:00\", \"2020-07-11T01:00:00+00:00\", \"2020-07-11T01:30:00+00:00\", \"2020-07-11T02:00:00+00:00\", \"2020-07-11T02:30:00+00:00\", \"2020-07-11T03:00:00+00:00\", \"2020-07-11T03:30:00+00:00\", \"2020-07-11T04:00:00+00:00\", \"2020-07-11T04:30:00+00:00\", \"2020-07-11T05:00:00+00:00\", \"2020-07-11T05:30:00+00:00\", \"2020-07-11T06:00:00+00:00\", \"2020-07-11T06:30:00+00:00\", \"2020-07-11T07:00:00+00:00\", \"2020-07-11T07:30:00+00:00\", \"2020-07-11T08:00:00+00:00\", \"2020-07-11T08:30:00+00:00\", \"2020-07-11T09:00:00+00:00\", \"2020-07-11T09:30:00+00:00\", \"2020-07-11T10:00:00+00:00\", \"2020-07-11T10:30:00+00:00\", \"2020-07-11T11:00:00+00:00\", \"2020-07-11T11:30:00+00:00\", \"2020-07-11T12:00:00+00:00\", \"2020-07-11T12:30:00+00:00\", \"2020-07-11T13:00:00+00:00\", \"2020-07-11T13:30:00+00:00\", \"2020-07-11T14:00:00+00:00\", \"2020-07-11T14:30:00+00:00\", \"2020-07-11T15:00:00+00:00\", \"2020-07-11T15:30:00+00:00\", \"2020-07-11T16:00:00+00:00\", \"2020-07-11T16:30:00+00:00\", \"2020-07-11T17:00:00+00:00\", \"2020-07-11T17:30:00+00:00\", \"2020-07-11T18:00:00+00:00\", \"2020-07-11T18:30:00+00:00\", \"2020-07-11T19:00:00+00:00\", \"2020-07-11T19:30:00+00:00\", \"2020-07-11T20:00:00+00:00\", \"2020-07-11T20:30:00+00:00\", \"2020-07-11T21:00:00+00:00\", \"2020-07-11T21:30:00+00:00\", \"2020-07-11T22:00:00+00:00\", \"2020-07-11T22:30:00+00:00\", \"2020-07-11T23:00:00+00:00\", \"2020-07-11T23:30:00+00:00\", \"2020-07-12T00:00:00+00:00\", \"2020-07-12T00:30:00+00:00\", \"2020-07-12T01:00:00+00:00\", \"2020-07-12T01:30:00+00:00\", \"2020-07-12T02:00:00+00:00\", \"2020-07-12T02:30:00+00:00\", \"2020-07-12T03:00:00+00:00\", \"2020-07-12T03:30:00+00:00\", \"2020-07-12T04:00:00+00:00\", \"2020-07-12T04:30:00+00:00\", \"2020-07-12T05:00:00+00:00\", \"2020-07-12T05:30:00+00:00\", \"2020-07-12T06:00:00+00:00\", \"2020-07-12T06:30:00+00:00\", \"2020-07-12T07:00:00+00:00\", \"2020-07-12T07:30:00+00:00\", \"2020-07-12T08:00:00+00:00\", \"2020-07-12T08:30:00+00:00\", \"2020-07-12T09:00:00+00:00\", \"2020-07-12T09:30:00+00:00\", \"2020-07-12T10:00:00+00:00\", \"2020-07-12T10:30:00+00:00\", \"2020-07-12T11:00:00+00:00\", \"2020-07-12T11:30:00+00:00\", \"2020-07-12T12:00:00+00:00\", \"2020-07-12T12:30:00+00:00\", \"2020-07-12T13:00:00+00:00\", \"2020-07-12T13:30:00+00:00\", \"2020-07-12T14:00:00+00:00\", \"2020-07-12T14:30:00+00:00\", \"2020-07-12T15:00:00+00:00\", \"2020-07-12T15:30:00+00:00\", \"2020-07-12T16:00:00+00:00\", \"2020-07-12T16:30:00+00:00\", \"2020-07-12T17:00:00+00:00\", \"2020-07-12T17:30:00+00:00\", \"2020-07-12T18:00:00+00:00\", \"2020-07-12T18:30:00+00:00\", \"2020-07-12T19:00:00+00:00\", \"2020-07-12T19:30:00+00:00\", \"2020-07-12T20:00:00+00:00\", \"2020-07-12T20:30:00+00:00\", \"2020-07-12T21:00:00+00:00\", \"2020-07-12T21:30:00+00:00\", \"2020-07-12T22:00:00+00:00\", \"2020-07-12T22:30:00+00:00\", \"2020-07-12T23:00:00+00:00\", \"2020-07-12T23:30:00+00:00\", \"2020-07-13T00:00:00+00:00\", \"2020-07-13T00:30:00+00:00\", \"2020-07-13T01:00:00+00:00\", \"2020-07-13T01:30:00+00:00\", \"2020-07-13T02:00:00+00:00\", \"2020-07-13T02:30:00+00:00\", \"2020-07-13T03:00:00+00:00\", \"2020-07-13T03:30:00+00:00\", \"2020-07-13T04:00:00+00:00\", \"2020-07-13T04:30:00+00:00\", \"2020-07-13T05:00:00+00:00\", \"2020-07-13T05:30:00+00:00\", \"2020-07-13T06:00:00+00:00\", \"2020-07-13T06:30:00+00:00\", \"2020-07-13T07:00:00+00:00\", \"2020-07-13T07:30:00+00:00\", \"2020-07-13T08:00:00+00:00\", \"2020-07-13T08:30:00+00:00\", \"2020-07-13T09:00:00+00:00\", \"2020-07-13T09:30:00+00:00\", \"2020-07-13T10:00:00+00:00\", \"2020-07-13T10:30:00+00:00\", \"2020-07-13T11:00:00+00:00\", \"2020-07-13T11:30:00+00:00\", \"2020-07-13T12:00:00+00:00\", \"2020-07-13T12:30:00+00:00\", \"2020-07-13T13:00:00+00:00\", \"2020-07-13T13:30:00+00:00\", \"2020-07-13T14:00:00+00:00\", \"2020-07-13T14:30:00+00:00\", \"2020-07-13T15:00:00+00:00\", \"2020-07-13T15:30:00+00:00\", \"2020-07-13T16:00:00+00:00\", \"2020-07-13T16:30:00+00:00\", \"2020-07-13T17:00:00+00:00\", \"2020-07-13T17:30:00+00:00\", \"2020-07-13T18:00:00+00:00\", \"2020-07-13T18:30:00+00:00\", \"2020-07-13T19:00:00+00:00\", \"2020-07-13T19:30:00+00:00\", \"2020-07-13T20:00:00+00:00\", \"2020-07-13T20:30:00+00:00\", \"2020-07-13T21:00:00+00:00\", \"2020-07-13T21:30:00+00:00\", \"2020-07-13T22:00:00+00:00\", \"2020-07-13T22:30:00+00:00\", \"2020-07-13T23:00:00+00:00\", \"2020-07-13T23:30:00+00:00\", \"2020-07-14T00:00:00+00:00\", \"2020-07-14T00:30:00+00:00\", \"2020-07-14T01:00:00+00:00\", \"2020-07-14T01:30:00+00:00\", \"2020-07-14T02:00:00+00:00\", \"2020-07-14T02:30:00+00:00\", \"2020-07-14T03:00:00+00:00\", \"2020-07-14T03:30:00+00:00\", \"2020-07-14T04:00:00+00:00\", \"2020-07-14T04:30:00+00:00\", \"2020-07-14T05:00:00+00:00\", \"2020-07-14T05:30:00+00:00\", \"2020-07-14T06:00:00+00:00\", \"2020-07-14T06:30:00+00:00\", \"2020-07-14T07:00:00+00:00\", \"2020-07-14T07:30:00+00:00\", \"2020-07-14T08:00:00+00:00\", \"2020-07-14T08:30:00+00:00\", \"2020-07-14T09:00:00+00:00\", \"2020-07-14T09:30:00+00:00\", \"2020-07-14T10:00:00+00:00\", \"2020-07-14T10:30:00+00:00\", \"2020-07-14T11:00:00+00:00\", \"2020-07-14T11:30:00+00:00\", \"2020-07-14T12:00:00+00:00\", \"2020-07-14T12:30:00+00:00\", \"2020-07-14T13:00:00+00:00\", \"2020-07-14T13:30:00+00:00\", \"2020-07-14T14:00:00+00:00\", \"2020-07-14T14:30:00+00:00\", \"2020-07-14T15:00:00+00:00\", \"2020-07-14T15:30:00+00:00\", \"2020-07-14T16:00:00+00:00\", \"2020-07-14T16:30:00+00:00\", \"2020-07-14T17:00:00+00:00\", \"2020-07-14T17:30:00+00:00\", \"2020-07-14T18:00:00+00:00\", \"2020-07-14T18:30:00+00:00\", \"2020-07-14T19:00:00+00:00\", \"2020-07-14T19:30:00+00:00\", \"2020-07-14T20:00:00+00:00\", \"2020-07-14T20:30:00+00:00\", \"2020-07-14T21:00:00+00:00\", \"2020-07-14T21:30:00+00:00\", \"2020-07-14T22:00:00+00:00\", \"2020-07-14T22:30:00+00:00\", \"2020-07-14T23:00:00+00:00\", \"2020-07-14T23:30:00+00:00\", \"2020-07-15T00:00:00+00:00\", \"2020-07-15T00:30:00+00:00\", \"2020-07-15T01:00:00+00:00\", \"2020-07-15T01:30:00+00:00\", \"2020-07-15T02:00:00+00:00\", \"2020-07-15T02:30:00+00:00\", \"2020-07-15T03:00:00+00:00\", \"2020-07-15T03:30:00+00:00\", \"2020-07-15T04:00:00+00:00\", \"2020-07-15T04:30:00+00:00\", \"2020-07-15T05:00:00+00:00\", \"2020-07-15T05:30:00+00:00\", \"2020-07-15T06:00:00+00:00\", \"2020-07-15T06:30:00+00:00\", \"2020-07-15T07:00:00+00:00\", \"2020-07-15T07:30:00+00:00\", \"2020-07-15T08:00:00+00:00\", \"2020-07-15T08:30:00+00:00\", \"2020-07-15T09:00:00+00:00\", \"2020-07-15T09:30:00+00:00\", \"2020-07-15T10:00:00+00:00\", \"2020-07-15T10:30:00+00:00\", \"2020-07-15T11:00:00+00:00\", \"2020-07-15T11:30:00+00:00\", \"2020-07-15T12:00:00+00:00\", \"2020-07-15T12:30:00+00:00\", \"2020-07-15T13:00:00+00:00\", \"2020-07-15T13:30:00+00:00\", \"2020-07-15T14:00:00+00:00\", \"2020-07-15T14:30:00+00:00\", \"2020-07-15T15:00:00+00:00\", \"2020-07-15T15:30:00+00:00\", \"2020-07-15T16:00:00+00:00\", \"2020-07-15T16:30:00+00:00\", \"2020-07-15T17:00:00+00:00\", \"2020-07-15T17:30:00+00:00\", \"2020-07-15T18:00:00+00:00\", \"2020-07-15T18:30:00+00:00\", \"2020-07-15T19:00:00+00:00\", \"2020-07-15T19:30:00+00:00\", \"2020-07-15T20:00:00+00:00\", \"2020-07-15T20:30:00+00:00\", \"2020-07-15T21:00:00+00:00\", \"2020-07-15T21:30:00+00:00\", \"2020-07-15T22:00:00+00:00\", \"2020-07-15T22:30:00+00:00\", \"2020-07-15T23:00:00+00:00\", \"2020-07-15T23:30:00+00:00\", \"2020-07-16T00:00:00+00:00\", \"2020-07-16T00:30:00+00:00\", \"2020-07-16T01:00:00+00:00\", \"2020-07-16T01:30:00+00:00\", \"2020-07-16T02:00:00+00:00\", \"2020-07-16T02:30:00+00:00\", \"2020-07-16T03:00:00+00:00\", \"2020-07-16T03:30:00+00:00\", \"2020-07-16T04:00:00+00:00\", \"2020-07-16T04:30:00+00:00\", \"2020-07-16T05:00:00+00:00\", \"2020-07-16T05:30:00+00:00\", \"2020-07-16T06:00:00+00:00\", \"2020-07-16T06:30:00+00:00\", \"2020-07-16T07:00:00+00:00\", \"2020-07-16T07:30:00+00:00\", \"2020-07-16T08:00:00+00:00\", \"2020-07-16T08:30:00+00:00\", \"2020-07-16T09:00:00+00:00\", \"2020-07-16T09:30:00+00:00\", \"2020-07-16T10:00:00+00:00\", \"2020-07-16T10:30:00+00:00\", \"2020-07-16T11:00:00+00:00\", \"2020-07-16T11:30:00+00:00\", \"2020-07-16T12:00:00+00:00\", \"2020-07-16T12:30:00+00:00\", \"2020-07-16T13:00:00+00:00\", \"2020-07-16T13:30:00+00:00\", \"2020-07-16T14:00:00+00:00\", \"2020-07-16T14:30:00+00:00\", \"2020-07-16T15:00:00+00:00\", \"2020-07-16T15:30:00+00:00\", \"2020-07-16T16:00:00+00:00\", \"2020-07-16T16:30:00+00:00\", \"2020-07-16T17:00:00+00:00\", \"2020-07-16T17:30:00+00:00\", \"2020-07-16T18:00:00+00:00\", \"2020-07-16T18:30:00+00:00\", \"2020-07-16T19:00:00+00:00\", \"2020-07-16T19:30:00+00:00\", \"2020-07-16T20:00:00+00:00\", \"2020-07-16T20:30:00+00:00\", \"2020-07-16T21:00:00+00:00\", \"2020-07-16T21:30:00+00:00\", \"2020-07-16T22:00:00+00:00\", \"2020-07-16T22:30:00+00:00\", \"2020-07-16T23:00:00+00:00\", \"2020-07-16T23:30:00+00:00\", \"2020-07-17T00:00:00+00:00\", \"2020-07-17T00:30:00+00:00\", \"2020-07-17T01:00:00+00:00\", \"2020-07-17T01:30:00+00:00\", \"2020-07-17T02:00:00+00:00\", \"2020-07-17T02:30:00+00:00\", \"2020-07-17T03:00:00+00:00\", \"2020-07-17T03:30:00+00:00\", \"2020-07-17T04:00:00+00:00\", \"2020-07-17T04:30:00+00:00\", \"2020-07-17T05:00:00+00:00\", \"2020-07-17T05:30:00+00:00\", \"2020-07-17T06:00:00+00:00\", \"2020-07-17T06:30:00+00:00\", \"2020-07-17T07:00:00+00:00\", \"2020-07-17T07:30:00+00:00\", \"2020-07-17T08:00:00+00:00\", \"2020-07-17T08:30:00+00:00\", \"2020-07-17T09:00:00+00:00\", \"2020-07-17T09:30:00+00:00\", \"2020-07-17T10:00:00+00:00\", \"2020-07-17T10:30:00+00:00\", \"2020-07-17T11:00:00+00:00\", \"2020-07-17T11:30:00+00:00\", \"2020-07-17T12:00:00+00:00\", \"2020-07-17T12:30:00+00:00\", \"2020-07-17T13:00:00+00:00\", \"2020-07-17T13:30:00+00:00\", \"2020-07-17T14:00:00+00:00\", \"2020-07-17T14:30:00+00:00\", \"2020-07-17T15:00:00+00:00\", \"2020-07-17T15:30:00+00:00\", \"2020-07-17T16:00:00+00:00\", \"2020-07-17T16:30:00+00:00\", \"2020-07-17T17:00:00+00:00\", \"2020-07-17T17:30:00+00:00\", \"2020-07-17T18:00:00+00:00\", \"2020-07-17T18:30:00+00:00\", \"2020-07-17T19:00:00+00:00\", \"2020-07-17T19:30:00+00:00\", \"2020-07-17T20:00:00+00:00\", \"2020-07-17T20:30:00+00:00\", \"2020-07-17T21:00:00+00:00\", \"2020-07-17T21:30:00+00:00\", \"2020-07-17T22:00:00+00:00\", \"2020-07-17T22:30:00+00:00\", \"2020-07-17T23:00:00+00:00\", \"2020-07-17T23:30:00+00:00\", \"2020-07-18T00:00:00+00:00\", \"2020-07-18T00:30:00+00:00\", \"2020-07-18T01:00:00+00:00\", \"2020-07-18T01:30:00+00:00\", \"2020-07-18T02:00:00+00:00\", \"2020-07-18T02:30:00+00:00\", \"2020-07-18T03:00:00+00:00\", \"2020-07-18T03:30:00+00:00\", \"2020-07-18T04:00:00+00:00\", \"2020-07-18T04:30:00+00:00\", \"2020-07-18T05:00:00+00:00\", \"2020-07-18T05:30:00+00:00\", \"2020-07-18T06:00:00+00:00\", \"2020-07-18T06:30:00+00:00\", \"2020-07-18T07:00:00+00:00\", \"2020-07-18T07:30:00+00:00\", \"2020-07-18T08:00:00+00:00\", \"2020-07-18T08:30:00+00:00\", \"2020-07-18T09:00:00+00:00\", \"2020-07-18T09:30:00+00:00\", \"2020-07-18T10:00:00+00:00\", \"2020-07-18T10:30:00+00:00\", \"2020-07-18T11:00:00+00:00\", \"2020-07-18T11:30:00+00:00\", \"2020-07-18T12:00:00+00:00\", \"2020-07-18T12:30:00+00:00\", \"2020-07-18T13:00:00+00:00\", \"2020-07-18T13:30:00+00:00\", \"2020-07-18T14:00:00+00:00\", \"2020-07-18T14:30:00+00:00\", \"2020-07-18T15:00:00+00:00\", \"2020-07-18T15:30:00+00:00\", \"2020-07-18T16:00:00+00:00\", \"2020-07-18T16:30:00+00:00\", \"2020-07-18T17:00:00+00:00\", \"2020-07-18T17:30:00+00:00\", \"2020-07-18T18:00:00+00:00\", \"2020-07-18T18:30:00+00:00\", \"2020-07-18T19:00:00+00:00\", \"2020-07-18T19:30:00+00:00\", \"2020-07-18T20:00:00+00:00\", \"2020-07-18T20:30:00+00:00\", \"2020-07-18T21:00:00+00:00\", \"2020-07-18T21:30:00+00:00\", \"2020-07-18T22:00:00+00:00\", \"2020-07-18T22:30:00+00:00\", \"2020-07-18T23:00:00+00:00\", \"2020-07-18T23:30:00+00:00\", \"2020-07-19T00:00:00+00:00\", \"2020-07-19T00:30:00+00:00\", \"2020-07-19T01:00:00+00:00\", \"2020-07-19T01:30:00+00:00\", \"2020-07-19T02:00:00+00:00\", \"2020-07-19T02:30:00+00:00\", \"2020-07-19T03:00:00+00:00\", \"2020-07-19T03:30:00+00:00\", \"2020-07-19T04:00:00+00:00\", \"2020-07-19T04:30:00+00:00\", \"2020-07-19T05:00:00+00:00\", \"2020-07-19T05:30:00+00:00\", \"2020-07-19T06:00:00+00:00\", \"2020-07-19T06:30:00+00:00\", \"2020-07-19T07:00:00+00:00\", \"2020-07-19T07:30:00+00:00\", \"2020-07-19T08:00:00+00:00\", \"2020-07-19T08:30:00+00:00\", \"2020-07-19T09:00:00+00:00\", \"2020-07-19T09:30:00+00:00\", \"2020-07-19T10:00:00+00:00\", \"2020-07-19T10:30:00+00:00\", \"2020-07-19T11:00:00+00:00\", \"2020-07-19T11:30:00+00:00\", \"2020-07-19T12:00:00+00:00\", \"2020-07-19T12:30:00+00:00\", \"2020-07-19T13:00:00+00:00\", \"2020-07-19T13:30:00+00:00\", \"2020-07-19T14:00:00+00:00\", \"2020-07-19T14:30:00+00:00\", \"2020-07-19T15:00:00+00:00\", \"2020-07-19T15:30:00+00:00\", \"2020-07-19T16:00:00+00:00\", \"2020-07-19T16:30:00+00:00\", \"2020-07-19T17:00:00+00:00\", \"2020-07-19T17:30:00+00:00\", \"2020-07-19T18:00:00+00:00\", \"2020-07-19T18:30:00+00:00\", \"2020-07-19T19:00:00+00:00\", \"2020-07-19T19:30:00+00:00\", \"2020-07-19T20:00:00+00:00\", \"2020-07-19T20:30:00+00:00\", \"2020-07-19T21:00:00+00:00\", \"2020-07-19T21:30:00+00:00\", \"2020-07-19T22:00:00+00:00\", \"2020-07-19T22:30:00+00:00\", \"2020-07-19T23:00:00+00:00\", \"2020-07-19T23:30:00+00:00\", \"2020-07-20T00:00:00+00:00\", \"2020-07-20T00:30:00+00:00\", \"2020-07-20T01:00:00+00:00\", \"2020-07-20T01:30:00+00:00\", \"2020-07-20T02:00:00+00:00\", \"2020-07-20T02:30:00+00:00\", \"2020-07-20T03:00:00+00:00\", \"2020-07-20T03:30:00+00:00\", \"2020-07-20T04:00:00+00:00\", \"2020-07-20T04:30:00+00:00\", \"2020-07-20T05:00:00+00:00\", \"2020-07-20T05:30:00+00:00\", \"2020-07-20T06:00:00+00:00\", \"2020-07-20T06:30:00+00:00\", \"2020-07-20T07:00:00+00:00\", \"2020-07-20T07:30:00+00:00\", \"2020-07-20T08:00:00+00:00\", \"2020-07-20T08:30:00+00:00\", \"2020-07-20T09:00:00+00:00\", \"2020-07-20T09:30:00+00:00\", \"2020-07-20T10:00:00+00:00\", \"2020-07-20T10:30:00+00:00\", \"2020-07-20T11:00:00+00:00\", \"2020-07-20T11:30:00+00:00\", \"2020-07-20T12:00:00+00:00\", \"2020-07-20T12:30:00+00:00\", \"2020-07-20T13:00:00+00:00\", \"2020-07-20T13:30:00+00:00\", \"2020-07-20T14:00:00+00:00\", \"2020-07-20T14:30:00+00:00\", \"2020-07-20T15:00:00+00:00\", \"2020-07-20T15:30:00+00:00\", \"2020-07-20T16:00:00+00:00\", \"2020-07-20T16:30:00+00:00\", \"2020-07-20T17:00:00+00:00\", \"2020-07-20T17:30:00+00:00\", \"2020-07-20T18:00:00+00:00\", \"2020-07-20T18:30:00+00:00\", \"2020-07-20T19:00:00+00:00\", \"2020-07-20T19:30:00+00:00\", \"2020-07-20T20:00:00+00:00\", \"2020-07-20T20:30:00+00:00\"], \"y\": [0.72959197, 0.72390527, 0.72067124, 0.71618634, 0.71145374, 0.7102826999999999, 0.6182328, 0.6755297, 0.6923239000000001, 0.6935175, 0.6279574, 0.6413858, 0.6915952, 0.6093983000000001, 0.67206913, 0.63387734, 0.64506495, 0.68261576, 0.66884273, 0.68826616, 0.6804265, 0.7160186, 0.7160555000000001, 0.73016024, 0.7792621999999999, 0.78561157, 0.8278940999999999, 0.8422674000000001, 0.8659858, 0.9171518, 0.879516, 0.89518213, 0.9046481, 0.90874684, 0.8999937, 0.9557815999999999, 0.95991695, 0.9606056999999999, 0.9669894, 1.0, 0.9937199000000001, 0.8950585999999999, 0.9520353000000001, 0.9222606, 0.8730863000000001, 0.84459955, 0.8270224, 0.83394355, 0.8043338000000001, 0.7755739, 0.73607916, 0.7432951999999999, 0.73336005, 0.7249603, 0.6983467, 0.7064012, 0.7629916999999999, 0.75999296, 0.70447683, 0.731761, 0.7620923000000001, 0.7579198, 0.75845134, 0.7058878000000001, 0.7583274999999999, 0.69951904, 0.71774656, 0.7494966, 0.7293543, 0.7614324, 0.7788109999999999, 0.7699214, 0.741139, 0.7921589, 0.7831600000000001, 0.7823963, 0.7863855, 0.80302906, 0.80043703, 0.77923506, 0.81291205, 0.7428437, 0.82344764, 0.70241183, 0.7954727, 0.74093723, 0.75938755, 0.6681661, 0.7167219, 0.7732386, 0.74282557, 0.735463, 0.74720967, 0.7171217, 0.7276023, 0.7030749, 0.7007422, 0.7211645000000001, 0.72937053, 0.64169997, 0.7009379, 0.70097387, 0.69395787, 0.7193176, 0.7302914, 0.7051183000000001, 0.6918543, 0.7158939000000001, 0.7338029, 0.7424104, 0.7335825, 0.7064231, 0.70129126, 0.6591108, 0.72045934, 0.7178335, 0.68111765, 0.69863844, 0.7316691, 0.738953, 0.682705, 0.6931768, 0.66884273, 0.70775485, 0.7150284, 0.755614, 0.75382644, 0.7221538000000001, 0.7023632, 0.8080847, 0.8085694, 0.7959024, 0.80625814, 0.8074643, 0.80418146, 0.7837687, 0.80886626, 0.760362, 0.79067856, 0.78649235, 0.7353818, 0.7541852, 0.71373695, 0.70273185, 0.741939, 0.7015522, 0.7044007, 0.7249603, 0.6992355, 0.7278689, 0.4548263, 0.4548263, 0.4548263, 0.4548263, 0.4548263, 0.4548263, 0.4548263, 0.4548263, 0.4548263, 0.43160298, 0.40837967, 0.40837967, 0.40837967, 0.40837967, 0.40837967, 0.40837967, 0.43160298, 0.40837967, 0.85331714, 0.40837967, 0.43160298, 0.41999129999999996, 0.40837967, 0.43160298, 0.43160298, 0.43160298, 0.43160298, 0.43160298, 0.43160298, 0.43160298, 0.43160298, 0.43160298, 0.43160298, 0.43160298, 0.43160298, 0.43160298, 0.40837967, 0.40837967, 0.40837967, 0.40837967, 0.40755025, 0.40908340000000004, 0.41612079999999996, 0.0, 0.40837967, 0.41501492, 0.43049709999999997, 0.40837967, 0.40837967, 0.40783959999999997, 0.40805712, 0.40837967, 0.38515636, 0.38568420000000003, 0.40789583, 0.40837967, 0.38515636, 0.38515636, 0.38381657, 0.38247675, 0.36294276, 0.38205993, 0.40974578, 0.43160298, 0.4548263, 0.4770399, 0.49234086, 0.49718142, 0.5020220999999999, 0.5244962, 0.53864133, 0.5527864, 0.5860885, 0.5901273, 0.59416616, 0.6119251, 0.61026764, 0.57166857, 0.54771954, 0.5244962, 0.51288456, 0.5012729, 0.5012729, 0.5012729, 0.5012729, 0.5244962, 0.5244962, 0.51288456, 0.5012729, 0.48694363, 0.4548263, 0.44321463, 0.43160298, 0.42828540000000004, 0.40837967, 0.40837967, 0.38515636, 0.38515636, 0.38515636, 0.38515636, 0.36193305, 0.33870974, 0.33870974, 0.33870974, 0.33870974, 0.33870974, 0.34627083, 0.36193305, 0.38515636, 0.40837967, 0.44205344, 0.4548263, 0.46643794, 0.4780496, 0.5060777, 0.5244962, 0.5244962, 0.54771954, 0.5696526999999999, 0.5709428000000001, 0.5709428000000001, 0.59549314, 0.62771094, 0.6406126999999999, 0.6406126999999999, 0.66383606, 0.66383606, 0.65183735, 0.61738944, 0.61738944, 0.61738944, 0.61738944, 0.6345919, 0.6406126999999999, 0.6040484, 0.5874956, 0.5709428000000001, 0.55642825, 0.51427794, 0.4780496, 0.46669596, 0.43160298, 0.41999129999999996, 0.40837967, 0.40837967, 0.38515636, 0.36483598, 0.36193305, 0.36193305, 0.33870974, 0.31631583, 0.31548643, 0.31548643, 0.31548643, 0.31548643, 0.3361991, 0.36338452, 0.3942934, 0.4407264, 0.47994536, 0.5244962, 0.54771954, 0.56895226, 0.60323775, 0.6406126999999999, 0.6590313, 0.6863556, 0.7102826999999999, 0.7102826999999999, 0.7255229999999999, 0.7769235, 0.82031685, 0.82639927, 0.82639927, 0.82639927, 0.82639927, 0.82639927, 0.82639927, 0.8031759, 0.8031759, 0.8031759, 0.8031759, 0.77995265, 0.745518, 0.73350596, 0.7102826999999999, 0.67625785, 0.6406126999999999, 0.6290011, 0.61738944, 0.59416616, 0.5905997, 0.5870333000000001, 0.5709849, 0.55760914, 0.5535253000000001, 0.54031366, 0.5309562, 0.53018475, 0.51894283, 0.5087136999999999, 0.51235676, 0.51376516, 0.5125369000000001, 0.5161661, 0.5186904, 0.5156891, 0.51731443, 0.52586234, 0.530055, 0.5344331, 0.56283236, 0.58346033, 0.60575473, 0.63199764, 0.64354557, 0.6440843, 0.65244377, 0.647734, 0.6330541999999999, 0.64557004, 0.6464186, 0.6282604, 0.62052935, 0.62936395, 0.6338720999999999, 0.6281669, 0.62791544, 0.6497932, 0.64961505, 0.6374974, 0.6301911, 0.6242948, 0.5971526, 0.5822937, 0.5855496, 0.58292466, 0.569465, 0.57617843, 0.56384, 0.55695117, 0.5573074, 0.5445585999999999, 0.5413418999999999, 0.5413905999999999, 0.53634834, 0.5294134, 0.53082806, 0.5126734000000001, 0.4917079000000001, 0.49429205, 0.49076468, 0.48919195, 0.50316215, 0.5239957000000001, 0.5366294, 0.539384, 0.5551262, 0.56886554, 0.5614929, 0.5749264000000001, 0.60672444, 0.61135244, 0.6175299, 0.6336457, 0.6417111, 0.61763823, 0.6026592, 0.5908485, 0.5799004, 0.57674867, 0.57674867, 0.5653425, 0.57705104, 0.5883603000000001, 0.5823659999999999, 0.57674867, 0.56606066, 0.557154, 0.54664433, 0.53878456, 0.5261969, 0.5175893, 0.51832753, 0.5117034, 0.4912719, 0.49115142, 0.48923898, 0.4824731, 0.48153308, 0.48399952, 0.47714540000000005, 0.4847358, 0.48132196, 0.47904202, 0.48940626, 0.49005485, 0.48215473, 0.47224376, 0.4828769, 0.48146346, 0.478512, 0.48535088, 0.5015925, 0.51042205, 0.5166751, 0.51909274, 0.5374883, 0.55181473, 0.55316246, 0.5619338, 0.5722906, 0.5773341, 0.5844328000000001, 0.58087564, 0.5623220999999999, 0.5585439, 0.5593312, 0.5539837, 0.556138, 0.56450593, 0.5763858000000001, 0.5628439000000001, 0.5562575, 0.5535253000000001, 0.5539828, 0.5403574999999999, 0.53919387, 0.54184204, 0.5353619000000001, 0.53264534, 0.53673965, 0.53407204, 0.52180064, 0.5160547999999999, 0.52438563, 0.51700217, 0.5128332999999999, 0.5197024, 0.5162984, 0.511039, 0.5143840999999999, 0.51584476, 0.5112401, 0.5169291, 0.5123476, 0.5067159000000001, 0.51085603, 0.5146649999999999, 0.5307071, 0.55182046, 0.562141, 0.5803473000000001, 0.60924256, 0.6298786999999999, 0.6349545999999999, 0.64205205, 0.66390306, 0.67506534, 0.6759510999999999, 0.6920464, 0.71587545, 0.7380515999999999, 0.7277001999999999, 0.7388857, 0.7444288, 0.73839027, 0.7342615, 0.7590515999999999, 0.76620543, 0.76749974, 0.75407994, 0.7326796, 0.72192717, 0.7111036999999999, 0.69775426, 0.67061657, 0.6490013000000001, 0.64242023, 0.6255092, 0.60374576, 0.6032152, 0.604846, 0.59109664, 0.59803665, 0.60340965, 0.5885282, 0.5881233, 0.59574956, 0.5835965, 0.5843786, 0.58593297, 0.5764895000000001, 0.57961285, 0.5857213000000001, 0.5778757, 0.5788562, 0.59426796, 0.606172, 0.6146491, 0.6384624, 0.6627415, 0.673266, 0.68606466, 0.7239714, 0.7517743, 0.7638608, 0.79741514, 0.8163615, 0.8303539000000001, 0.82397133, 0.81739354, 0.8477847, 0.8585280999999999, 0.8744434000000001, 0.8794113000000001, 0.8833835999999999, 0.8773039, 0.87118703, 0.863492, 0.83141744, 0.8098774999999999, 0.7934051, 0.7823319999999999, 0.7780866, 0.77384126, 0.76959586, 0.7653505, 0.7611051, 0.7568597, 0.7526143, 0.7483689, 0.7441234999999999, 0.7398781999999999, 0.7356328000000001, 0.7313874, 0.727142, 0.72289664, 0.71865124, 0.7144059, 0.71016043, 0.7059151, 0.7016697, 0.6974243, 0.69317895, 0.68893355, 0.68468815, 0.68044275, 0.67619735, 0.671952, 0.6677065999999999, 0.6637658000000001, 0.6598248999999999, 0.655884, 0.6519432, 0.6480023, 0.6440615, 0.6401207, 0.6361798000000001, 0.632239, 0.6282981, 0.6243573, 0.6204164000000001, 0.6164755999999999, 0.6125347, 0.6085938, 0.604653, 0.6007121999999999, 0.59677136, 0.5928305, 0.5888896, 0.5849488, 0.5810079, 0.5770670999999999, 0.5731261999999999, 0.5691853, 0.5652444999999999, 0.5567644, 0.5535253000000001, 0.55065364, 0.5352017, 0.53030205, 0.53042054, 0.51672393, 0.5131129, 0.51770073, 0.5105115, 0.49024183, 0.48385543, 0.48880112, 0.49374685, 0.49869254, 0.5036382, 0.5085839, 0.5135295999999999, 0.51847535, 0.52342105, 0.52836674, 0.5490483, 0.5897164, 0.61984265, 0.64962935, 0.6738643, 0.6896081000000001, 0.7053519, 0.7210956999999999, 0.7368395000000001, 0.7525833000000001, 0.7683270000000001, 0.78407085, 0.79981464, 0.81226474, 0.8205934000000001, 0.8183265000000001, 0.8030598000000001, 0.75507396, 0.7214149999999999, 0.69867104, 0.6676032, 0.6405310000000001, 0.6278901, 0.6029505999999999, 0.5683038, 0.5489678000000001, 0.53330505, 0.51053876, 0.49546707, 0.4941637, 0.48774323, 0.46688113, 0.44565920000000003, 0.44165775, 0.43825638, 0.42088065, 0.41494858, 0.4131641, 0.39725184, 0.37743583, 0.38718215, 0.39477226, 0.4082138, 0.42931579999999997, 0.46579793, 0.49500626, 0.50837356, 0.5199617, 0.5449705, 0.55682325, 0.56289023, 0.58342326, 0.6004118, 0.60790795, 0.60540795, 0.6318606999999999, 0.6537565, 0.65063065, 0.6720864000000001, 0.67914623, 0.6580752, 0.6496621, 0.6541707, 0.64698046, 0.6322484, 0.63305485, 0.6299264, 0.6112029, 0.6029095999999999, 0.58425, 0.5593312, 0.5483646]}],\n",
              "                        {\"legend\": {\"tracegroupgap\": 0}, \"margin\": {\"t\": 60}, \"template\": {\"data\": {\"bar\": [{\"error_x\": {\"color\": \"#2a3f5f\"}, \"error_y\": {\"color\": \"#2a3f5f\"}, \"marker\": {\"line\": {\"color\": \"#E5ECF6\", \"width\": 0.5}}, \"type\": \"bar\"}], \"barpolar\": [{\"marker\": {\"line\": {\"color\": \"#E5ECF6\", \"width\": 0.5}}, \"type\": \"barpolar\"}], \"carpet\": [{\"aaxis\": {\"endlinecolor\": \"#2a3f5f\", \"gridcolor\": \"white\", \"linecolor\": \"white\", \"minorgridcolor\": \"white\", \"startlinecolor\": \"#2a3f5f\"}, \"baxis\": {\"endlinecolor\": \"#2a3f5f\", \"gridcolor\": \"white\", \"linecolor\": \"white\", \"minorgridcolor\": \"white\", \"startlinecolor\": \"#2a3f5f\"}, \"type\": \"carpet\"}], \"choropleth\": [{\"colorbar\": {\"outlinewidth\": 0, \"ticks\": \"\"}, \"type\": \"choropleth\"}], \"contour\": [{\"colorbar\": {\"outlinewidth\": 0, \"ticks\": \"\"}, \"colorscale\": [[0.0, \"#0d0887\"], [0.1111111111111111, \"#46039f\"], [0.2222222222222222, \"#7201a8\"], [0.3333333333333333, \"#9c179e\"], [0.4444444444444444, \"#bd3786\"], [0.5555555555555556, \"#d8576b\"], [0.6666666666666666, \"#ed7953\"], [0.7777777777777778, \"#fb9f3a\"], [0.8888888888888888, \"#fdca26\"], [1.0, \"#f0f921\"]], \"type\": \"contour\"}], \"contourcarpet\": [{\"colorbar\": {\"outlinewidth\": 0, \"ticks\": \"\"}, \"type\": \"contourcarpet\"}], \"heatmap\": [{\"colorbar\": {\"outlinewidth\": 0, \"ticks\": \"\"}, \"colorscale\": [[0.0, \"#0d0887\"], [0.1111111111111111, \"#46039f\"], [0.2222222222222222, \"#7201a8\"], [0.3333333333333333, \"#9c179e\"], [0.4444444444444444, \"#bd3786\"], [0.5555555555555556, \"#d8576b\"], [0.6666666666666666, \"#ed7953\"], [0.7777777777777778, \"#fb9f3a\"], [0.8888888888888888, \"#fdca26\"], [1.0, \"#f0f921\"]], \"type\": \"heatmap\"}], \"heatmapgl\": [{\"colorbar\": {\"outlinewidth\": 0, \"ticks\": \"\"}, \"colorscale\": [[0.0, \"#0d0887\"], [0.1111111111111111, \"#46039f\"], [0.2222222222222222, \"#7201a8\"], [0.3333333333333333, \"#9c179e\"], [0.4444444444444444, \"#bd3786\"], [0.5555555555555556, \"#d8576b\"], [0.6666666666666666, \"#ed7953\"], [0.7777777777777778, \"#fb9f3a\"], [0.8888888888888888, \"#fdca26\"], [1.0, \"#f0f921\"]], \"type\": \"heatmapgl\"}], \"histogram\": [{\"marker\": {\"colorbar\": {\"outlinewidth\": 0, \"ticks\": \"\"}}, \"type\": \"histogram\"}], \"histogram2d\": [{\"colorbar\": {\"outlinewidth\": 0, \"ticks\": \"\"}, \"colorscale\": [[0.0, \"#0d0887\"], [0.1111111111111111, \"#46039f\"], [0.2222222222222222, \"#7201a8\"], [0.3333333333333333, \"#9c179e\"], [0.4444444444444444, \"#bd3786\"], [0.5555555555555556, \"#d8576b\"], [0.6666666666666666, \"#ed7953\"], [0.7777777777777778, \"#fb9f3a\"], [0.8888888888888888, \"#fdca26\"], [1.0, \"#f0f921\"]], \"type\": \"histogram2d\"}], \"histogram2dcontour\": [{\"colorbar\": {\"outlinewidth\": 0, \"ticks\": \"\"}, \"colorscale\": [[0.0, \"#0d0887\"], [0.1111111111111111, \"#46039f\"], [0.2222222222222222, \"#7201a8\"], [0.3333333333333333, \"#9c179e\"], [0.4444444444444444, \"#bd3786\"], [0.5555555555555556, \"#d8576b\"], [0.6666666666666666, \"#ed7953\"], [0.7777777777777778, \"#fb9f3a\"], [0.8888888888888888, \"#fdca26\"], [1.0, \"#f0f921\"]], \"type\": \"histogram2dcontour\"}], \"mesh3d\": [{\"colorbar\": {\"outlinewidth\": 0, \"ticks\": \"\"}, \"type\": \"mesh3d\"}], \"parcoords\": [{\"line\": {\"colorbar\": {\"outlinewidth\": 0, \"ticks\": \"\"}}, \"type\": \"parcoords\"}], \"pie\": [{\"automargin\": true, \"type\": \"pie\"}], \"scatter\": [{\"marker\": {\"colorbar\": {\"outlinewidth\": 0, \"ticks\": \"\"}}, \"type\": \"scatter\"}], \"scatter3d\": [{\"line\": {\"colorbar\": {\"outlinewidth\": 0, \"ticks\": \"\"}}, \"marker\": {\"colorbar\": {\"outlinewidth\": 0, \"ticks\": \"\"}}, \"type\": \"scatter3d\"}], \"scattercarpet\": [{\"marker\": {\"colorbar\": {\"outlinewidth\": 0, \"ticks\": \"\"}}, \"type\": \"scattercarpet\"}], \"scattergeo\": [{\"marker\": {\"colorbar\": {\"outlinewidth\": 0, \"ticks\": \"\"}}, \"type\": \"scattergeo\"}], \"scattergl\": [{\"marker\": {\"colorbar\": {\"outlinewidth\": 0, \"ticks\": \"\"}}, \"type\": \"scattergl\"}], \"scattermapbox\": [{\"marker\": {\"colorbar\": {\"outlinewidth\": 0, \"ticks\": \"\"}}, \"type\": \"scattermapbox\"}], \"scatterpolar\": [{\"marker\": {\"colorbar\": {\"outlinewidth\": 0, \"ticks\": \"\"}}, \"type\": \"scatterpolar\"}], \"scatterpolargl\": [{\"marker\": {\"colorbar\": {\"outlinewidth\": 0, \"ticks\": \"\"}}, \"type\": \"scatterpolargl\"}], \"scatterternary\": [{\"marker\": {\"colorbar\": {\"outlinewidth\": 0, \"ticks\": \"\"}}, \"type\": \"scatterternary\"}], \"surface\": [{\"colorbar\": {\"outlinewidth\": 0, \"ticks\": \"\"}, \"colorscale\": [[0.0, \"#0d0887\"], [0.1111111111111111, \"#46039f\"], [0.2222222222222222, \"#7201a8\"], [0.3333333333333333, \"#9c179e\"], [0.4444444444444444, \"#bd3786\"], [0.5555555555555556, \"#d8576b\"], [0.6666666666666666, \"#ed7953\"], [0.7777777777777778, \"#fb9f3a\"], [0.8888888888888888, \"#fdca26\"], [1.0, \"#f0f921\"]], \"type\": \"surface\"}], \"table\": [{\"cells\": {\"fill\": {\"color\": \"#EBF0F8\"}, \"line\": {\"color\": \"white\"}}, \"header\": {\"fill\": {\"color\": \"#C8D4E3\"}, \"line\": {\"color\": \"white\"}}, \"type\": \"table\"}]}, \"layout\": {\"annotationdefaults\": {\"arrowcolor\": \"#2a3f5f\", \"arrowhead\": 0, \"arrowwidth\": 1}, \"coloraxis\": {\"colorbar\": {\"outlinewidth\": 0, \"ticks\": \"\"}}, \"colorscale\": {\"diverging\": [[0, \"#8e0152\"], [0.1, \"#c51b7d\"], [0.2, \"#de77ae\"], [0.3, \"#f1b6da\"], [0.4, \"#fde0ef\"], [0.5, \"#f7f7f7\"], [0.6, \"#e6f5d0\"], [0.7, \"#b8e186\"], [0.8, \"#7fbc41\"], [0.9, \"#4d9221\"], [1, \"#276419\"]], \"sequential\": [[0.0, \"#0d0887\"], [0.1111111111111111, \"#46039f\"], [0.2222222222222222, \"#7201a8\"], [0.3333333333333333, \"#9c179e\"], [0.4444444444444444, \"#bd3786\"], [0.5555555555555556, \"#d8576b\"], [0.6666666666666666, \"#ed7953\"], [0.7777777777777778, \"#fb9f3a\"], [0.8888888888888888, \"#fdca26\"], [1.0, \"#f0f921\"]], \"sequentialminus\": [[0.0, \"#0d0887\"], [0.1111111111111111, \"#46039f\"], [0.2222222222222222, \"#7201a8\"], [0.3333333333333333, \"#9c179e\"], [0.4444444444444444, \"#bd3786\"], [0.5555555555555556, \"#d8576b\"], [0.6666666666666666, \"#ed7953\"], [0.7777777777777778, \"#fb9f3a\"], [0.8888888888888888, \"#fdca26\"], [1.0, \"#f0f921\"]]}, \"colorway\": [\"#636efa\", \"#EF553B\", \"#00cc96\", \"#ab63fa\", \"#FFA15A\", \"#19d3f3\", \"#FF6692\", \"#B6E880\", \"#FF97FF\", \"#FECB52\"], \"font\": {\"color\": \"#2a3f5f\"}, \"geo\": {\"bgcolor\": \"white\", \"lakecolor\": \"white\", \"landcolor\": \"#E5ECF6\", \"showlakes\": true, \"showland\": true, \"subunitcolor\": \"white\"}, \"hoverlabel\": {\"align\": \"left\"}, \"hovermode\": \"closest\", \"mapbox\": {\"style\": \"light\"}, \"paper_bgcolor\": \"white\", \"plot_bgcolor\": \"#E5ECF6\", \"polar\": {\"angularaxis\": {\"gridcolor\": \"white\", \"linecolor\": \"white\", \"ticks\": \"\"}, \"bgcolor\": \"#E5ECF6\", \"radialaxis\": {\"gridcolor\": \"white\", \"linecolor\": \"white\", \"ticks\": \"\"}}, \"scene\": {\"xaxis\": {\"backgroundcolor\": \"#E5ECF6\", \"gridcolor\": \"white\", \"gridwidth\": 2, \"linecolor\": \"white\", \"showbackground\": true, \"ticks\": \"\", \"zerolinecolor\": \"white\"}, \"yaxis\": {\"backgroundcolor\": \"#E5ECF6\", \"gridcolor\": \"white\", \"gridwidth\": 2, \"linecolor\": \"white\", \"showbackground\": true, \"ticks\": \"\", \"zerolinecolor\": \"white\"}, \"zaxis\": {\"backgroundcolor\": \"#E5ECF6\", \"gridcolor\": \"white\", \"gridwidth\": 2, \"linecolor\": \"white\", \"showbackground\": true, \"ticks\": \"\", \"zerolinecolor\": \"white\"}}, \"shapedefaults\": {\"line\": {\"color\": \"#2a3f5f\"}}, \"ternary\": {\"aaxis\": {\"gridcolor\": \"white\", \"linecolor\": \"white\", \"ticks\": \"\"}, \"baxis\": {\"gridcolor\": \"white\", \"linecolor\": \"white\", \"ticks\": \"\"}, \"bgcolor\": \"#E5ECF6\", \"caxis\": {\"gridcolor\": \"white\", \"linecolor\": \"white\", \"ticks\": \"\"}}, \"title\": {\"x\": 0.05}, \"xaxis\": {\"automargin\": true, \"gridcolor\": \"white\", \"linecolor\": \"white\", \"ticks\": \"\", \"title\": {\"standoff\": 15}, \"zerolinecolor\": \"white\", \"zerolinewidth\": 2}, \"yaxis\": {\"automargin\": true, \"gridcolor\": \"white\", \"linecolor\": \"white\", \"ticks\": \"\", \"title\": {\"standoff\": 15}, \"zerolinecolor\": \"white\", \"zerolinewidth\": 2}}}, \"xaxis\": {\"anchor\": \"y\", \"domain\": [0.0, 1.0], \"title\": {\"text\": \"TIME\"}}, \"yaxis\": {\"anchor\": \"x\", \"domain\": [0.0, 1.0], \"title\": {\"text\": \"FM1\"}}},\n",
              "                        {\"responsive\": true}\n",
              "                    ).then(function(){\n",
              "                            \n",
              "var gd = document.getElementById('3dcf81d2-42ce-4d94-bedc-00175533a16d');\n",
              "var x = new MutationObserver(function (mutations, observer) {{\n",
              "        var display = window.getComputedStyle(gd).display;\n",
              "        if (!display || display === 'none') {{\n",
              "            console.log([gd, 'removed!']);\n",
              "            Plotly.purge(gd);\n",
              "            observer.disconnect();\n",
              "        }}\n",
              "}});\n",
              "\n",
              "// Listen for the removal of the full notebook cells\n",
              "var notebookContainer = gd.closest('#notebook-container');\n",
              "if (notebookContainer) {{\n",
              "    x.observe(notebookContainer, {childList: true});\n",
              "}}\n",
              "\n",
              "// Listen for the clearing of the current output cell\n",
              "var outputEl = gd.closest('.output');\n",
              "if (outputEl) {{\n",
              "    x.observe(outputEl, {childList: true});\n",
              "}}\n",
              "\n",
              "                        })\n",
              "                };\n",
              "                \n",
              "            </script>\n",
              "        </div>\n",
              "</body>\n",
              "</html>"
            ]
          },
          "metadata": {
            "tags": []
          }
        }
      ]
    },
    {
      "cell_type": "markdown",
      "metadata": {
        "id": "OZHNWcSLWI4t"
      },
      "source": [
        "Looking at the `FM1` values will help decide whether or not to **weight the loss function**. It is clear that the majority of `FM1` values are between 0.2 and 0.6 so they should be easier to predict while the values closer to 1 will be harder given there are less examples. So a weighted loss function will be used in training."
      ]
    },
    {
      "cell_type": "code",
      "metadata": {
        "colab": {
          "base_uri": "https://localhost:8080/",
          "height": 542
        },
        "id": "Jn3fPW-2XgAg",
        "outputId": "4914cf92-d67f-4acd-8f8a-57760b908732"
      },
      "source": [
        "px.histogram(iot, x =\"FM1\", nbins = 200) # Each bin should be approximately 0.05 in size"
      ],
      "execution_count": 5,
      "outputs": [
        {
          "output_type": "display_data",
          "data": {
            "text/html": [
              "<html>\n",
              "<head><meta charset=\"utf-8\" /></head>\n",
              "<body>\n",
              "    <div>\n",
              "            <script src=\"https://cdnjs.cloudflare.com/ajax/libs/mathjax/2.7.5/MathJax.js?config=TeX-AMS-MML_SVG\"></script><script type=\"text/javascript\">if (window.MathJax) {MathJax.Hub.Config({SVG: {font: \"STIX-Web\"}});}</script>\n",
              "                <script type=\"text/javascript\">window.PlotlyConfig = {MathJaxConfig: 'local'};</script>\n",
              "        <script src=\"https://cdn.plot.ly/plotly-latest.min.js\"></script>    \n",
              "            <div id=\"0446187e-31f0-41f5-86bd-ee91391c4a58\" class=\"plotly-graph-div\" style=\"height:525px; width:100%;\"></div>\n",
              "            <script type=\"text/javascript\">\n",
              "                \n",
              "                    window.PLOTLYENV=window.PLOTLYENV || {};\n",
              "                    \n",
              "                if (document.getElementById(\"0446187e-31f0-41f5-86bd-ee91391c4a58\")) {\n",
              "                    Plotly.newPlot(\n",
              "                        '0446187e-31f0-41f5-86bd-ee91391c4a58',\n",
              "                        [{\"alignmentgroup\": \"True\", \"bingroup\": \"x\", \"hoverlabel\": {\"namelength\": 0}, \"hovertemplate\": \"FM1=%{x}<br>count=%{y}\", \"legendgroup\": \"\", \"marker\": {\"color\": \"#636efa\"}, \"name\": \"\", \"nbinsx\": 200, \"offsetgroup\": \"\", \"orientation\": \"v\", \"showlegend\": false, \"type\": \"histogram\", \"x\": [0.29184058, 0.29038382, 0.27945802, 0.28892702, 0.29961005, 0.2963323, 0.2741165, 0.27994359999999996, 0.2957051, 0.29681793, 0.27824405, 0.28504232, 0.29354015, 0.27628142, 0.27581608, 0.28751075, 0.28759167, 0.27798098, 0.29086940000000006, 0.30640832, 0.2973035, 0.27496627, 0.277111, 0.2816027, 0.29402575, 0.28722748, 0.27057570000000003, 0.27921522, 0.27751562, 0.26792517, 0.27897242, 0.27703005, 0.27096015, 0.28880559999999994, 0.27836540000000004, 0.27002943, 0.28176457, 0.27460209999999996, 0.26288718, 0.28127897, 0.27798098, 0.2676824, 0.26845124, 0.28309992, 0.28067195, 0.27314532, 0.29111218, 0.28164318, 0.2738737, 0.28471857, 0.2935199, 0.27787983, 0.28212875, 0.29693928, 0.27638257, 0.27520907, 0.29596812, 0.28892702, 0.26574000000000003, 0.27229553, 0.28285715, 0.29147637, 0.2583348, 0.26658982, 0.27484486, 0.27338812, 0.27096015, 0.28929123, 0.28977683, 0.2671968, 0.26513305, 0.27545187, 0.28577068, 0.268775, 0.26571977, 0.28309992, 0.27666584, 0.25930595, 0.26986757, 0.28394973, 0.27921522, 0.26175416, 0.27618024, 0.27593747, 0.26646844, 0.27927592, 0.28710607, 0.27023172, 0.28057963, 0.2875512, 0.26464745, 0.27800122, 0.0, 0.7071429, 0.81542975, 0.78289515, 0.7513316999999999, 0.70216554, 0.69773453, 0.6897829000000001, 0.6817707, 0.6539706000000001, 0.6335757, 0.62799144, 0.6350325, 0.6110564, 0.59302884, 0.5950926, 0.59090436, 0.5717842, 0.57057023, 0.57846105, 0.5711771999999999, 0.55448496, 0.5589767, 0.5558811, 0.5426486999999999, 0.5283237, 0.5334224, 0.53876394, 0.5273525, 0.5186119, 0.5153342000000001, 0.5176205, 0.49773145, 0.4934825, 0.49724585, 0.51047826, 0.5120564000000001, 0.49032617, 0.49044758, 0.49748865, 0.49311835, 0.47806498, 0.48996195, 0.48996195, 0.47284487, 0.47648679999999993, 0.47976455, 0.45973387, 0.46240464, 0.4717523, 0.45896503, 0.45817596, 0.46586448, 0.45722502, 0.4489295, 0.45936972, 0.4660465999999999, 0.44820109999999996, 0.44164562, 0.45160022, 0.4526928, 0.4353329000000001, 0.44443777, 0.44480196, 0.42671368, 0.44358796, 0.4297486, 0.42877743, 0.43800366, 0.4485653, 0.43545429999999996, 0.4296272, 0.4370325, 0.44540897, 0.42634946, 0.42683509999999997, 0.43339056, 0.42622808, 0.41032496, 0.42270753, 0.43181238, 0.41821579999999997, 0.40753278, 0.41712323, 0.42173636, 0.4009773, 0.40559042, 0.42161494, 0.4126315, 0.39769956, 0.40874678, 0.40692583, 0.39345062, 0.39709255, 0.40631880000000004, 0.39964193, 0.38993007, 0.4009773, 0.41335988, 0.4009773, 0.39017290000000004, 0.39794236, 0.40716863, 0.38823053, 0.37961125, 0.38689515, 0.39867076, 0.4004917, 0.38483140000000005, 0.37985405, 0.38555977, 0.39721397, 0.37912568, 0.38288903, 0.38920170000000004, 0.39733538, 0.38725936, 0.37402695, 0.4095966, 0.6211932, 0.5892654, 0.56219375, 0.5613439, 0.546412, 0.5181263, 0.52103984, 0.51448435, 0.49578905, 0.5116922, 0.4995524, 0.48097852, 0.4876554, 0.48194972, 0.46094787, 0.46216184, 0.4719951, 0.46896014, 0.44504476, 0.45135745, 0.45912692, 0.43861067, 0.43933904, 0.44832247, 0.43290493, 0.44116000000000005, 0.44188842, 0.42634946, 0.4240429, 0.44358796, 0.4314482, 0.41493806, 0.42634946, 0.42719924, 0.406683, 0.41554505, 0.42853463, 0.41578785, 0.40158427, 0.40376946, 0.41639486, 0.40996075, 0.39102270000000006, 0.39466462, 0.40401223, 0.40376946, 0.39102270000000006, 0.40583324, 0.417973, 0.4111747, 0.38653094, 0.39854935, 0.41166034, 0.4003703, 0.38386020000000004, 0.39915636, 0.40510482, 0.39442185, 0.3787615, 0.39757818, 0.39381483, 0.37366277, 0.3732986, 0.38665235, 0.38434577, 0.3658933, 0.36370814, 0.38058245, 0.36710727, 0.37475538, 0.38604537, 0.36989945, 0.35678846, 0.36735009999999996, 0.37706193, 0.3555745, 0.34780502, 0.35848805, 0.36977807, 0.35326794, 0.35933784, 0.36807847, 0.35096136, 0.34404168, 0.3488976, 0.35909504, 0.35181114, 0.33602944, 0.34477007, 0.35338932, 0.36249417, 0.34379888, 0.3445273, 0.34574124, 0.60855556, 0.6006769000000001, 0.57858247, 0.57093436, 0.5547885, 0.5342722, 0.5371858, 0.5286879, 0.5045297000000001, 0.5070791, 0.51594114, 0.50198036, 0.48219252, 0.48911220000000005, 0.48425627, 0.46956712, 0.46034090000000005, 0.45791292, 0.46908152, 0.46034090000000005, 0.44722992, 0.43836787, 0.4296272, 0.45050764, 0.44686570000000003, 0.431691, 0.42732066, 0.41056776, 0.43096260000000003, 0.4236787, 0.41663763, 0.41590926, 0.42537829999999993, 0.40619740000000004, 0.41105333, 0.42295033, 0.41178173, 0.3950288, 0.40741137, 0.40243408, 0.38993007, 0.3964856, 0.40194848, 0.38386020000000004, 0.38677374, 0.399644, 0.38361740000000005, 0.37357685, 1.0, 0.8507565999999999, 0.7882366999999999, 0.77160513, 0.73324347, 0.7089638, 0.7065359, 0.6926965, 0.6608903, 0.66052604, 0.65045, 0.62884116, 0.61330223, 0.6179154, 0.6054114, 0.5954568, 0.5956996, 0.57785404, 0.5624365, 0.5753047, 0.58295274, 0.5681423000000001, 0.5536959, 0.5532103, 0.5575806, 0.5417989000000001, 0.5309944999999999, 0.5376713000000001, 0.5341508, 0.51958305, 0.5212826, 0.5292949, 0.50792885, 0.5035586, 0.51484853, 0.5011306, 0.49809563, 0.4991882, 0.48668423, 0.49421093, 0.49506068, 0.48801962, 0.49251133, 0.49587929999999997, 0.4717523, 0.47223788, 0.48619866, 0.47333047, 0.46289027, 0.47333047, 0.47685102, 0.45111465, 0.46301165, 0.47551563, 0.46325442, 0.45062906, 0.45560637, 0.45657754, 0.42914164, 0.44225258, 0.44917226, 0.4342403, 0.43193376, 0.4486867, 0.43909624, 0.42768484, 0.44600642, 0.44152420000000003, 0.42707783, 0.43047702, 0.43581852, 0.42319313, 0.44055304, 0.4314482, 0.42137215, 0.43375474, 0.43496874, 0.41530228, 0.42501408, 0.43011279999999996, 0.41748744, 0.40983933, 0.41882282, 0.40474066, 0.40911096, 0.41979399999999994, 0.41578785, 0.40729, 0.41578785, 0.40486205, 0.40243408, 0.41287429999999997, 0.39782098, 0.4004917, 0.41105333, 0.40279827, 0.38118944, 0.38762352, 0.39733538, 0.39903495, 0.38349602, 0.39672840000000004, 0.38968733, 0.39150828, 0.39138687, 0.38118944, 0.3909013, 0.38191783, 0.37184182, 0.38058245, 0.37147759999999996, 0.37232742, 0.38725936, 0.39466462, 0.3775475, 0.38920170000000004, 0.39345062, 0.37985405, 0.36735009999999996, 0.36819986, 0.38774493, 0.39272225, 0.37669772, 0.38313179999999997, 0.38349602, 0.36953524, 0.37973267, 0.38701653, 0.36540774, 0.3599448, 0.37475538, 0.37706193, 0.36297977, 0.3658933, 0.36989945, 0.35933784, 0.35751686, 0.36977807, 0.3614016, 0.35059717, 0.3655291, 0.35436052, 0.35132557, 0.36115879999999995, 0.34986880000000004, 0.36310118, 0.36917105, 0.35788104, 0.37087062, 0.37111345, 0.35897362, 0.34962597, 0.35690987, 0.36832127, 0.35678846, 0.35217535, 0.36904964, 0.36455792, 0.35181114, 0.35314652, 0.36807847, 0.35351074, 0.3387002, 0.34052116, 0.36237276, 0.34901902, 0.34528688, 0.3369362, 0.33020234, 0.3482906, 0.34901902, 0.3445273, 0.3355438, 0.34450490000000006, 0.34513426, 0.33432984, 0.33008093, 0.34173512, 0.3423421, 0.33311588, 0.34464866, 0.34064254, 0.32777438, 0.34537706, 0.33760759999999995, 0.335301, 0.34161374, 0.3367578, 0.32607478, 0.3423421, 0.33153772, 0.31575596, 0.32668179999999997, 0.33954996, 0.32741016, 0.32595342, 0.34222072, 0.3374862, 0.31502759999999996, 0.32717007, 0.33469406, 0.32983813, 0.31709135, 0.33275170000000004, 0.3297167, 0.3261962, 0.32182586, 0.32765296, 0.3495046, 0.3442845, 0.34088534, 0.33481544, 0.32789576, 0.32182586, 0.31866953, 0.31017166, 0.30725813, 0.32291844, 0.32935256, 0.33032373, 0.31917027, 0.31917873, 0.31918716, 0.31919557, 0.31920403, 0.31921244, 0.31922087, 0.3192293, 0.31923774, 0.31924614, 0.3192546, 0.31926304, 0.31927145, 0.31927990000000006, 0.31928829999999997, 0.31929675, 0.31930518, 0.31931362, 0.31932202, 0.31933048, 0.31933890000000004, 0.31934732, 0.3193558, 0.31936420000000004, 0.31937262, 0.31938103, 0.3193895, 0.3193979, 0.31824020000000003, 0.31708246, 0.31592473, 0.314767, 0.3136093, 0.31245154, 0.31129384, 0.31013609999999997, 0.30897838, 0.30782068, 0.30666295, 0.30550525, 0.3043475, 0.30318978, 0.30203202, 0.30087432, 0.29971659999999994, 0.2985589, 0.29740113, 0.29624343, 0.29508567, 0.29392797, 0.29277024, 0.29161254, 0.29045479999999996, 0.28929707, 0.29946312, 0.29888168, 0.2841925, 0.29426855, 0.29924583, 0.28455672, 0.29256895, 0.29888168, 0.27957937, 0.28097853, 0.29982859999999995, 0.30222875, 0.30130383, 0.30037892, 0.29945397, 0.29852903, 0.2976041, 0.29667917, 0.29575422, 0.29482928, 0.29390433, 0.28965542, 0.27751562, 0.28285715, 0.29536113, 0.3037796, 0.30318072, 0.30258188, 0.301983, 0.30138412, 0.30078524, 0.3001864, 0.29958752, 0.29898864, 0.29329738, 0.28479952, 0.278851, 0.27715147, 0.30203800000000003, 0.29900306, 0.28358552, 0.2790938, 0.29621090000000005, 0.2803078, 0.26440462, 0.2844353, 0.2900196, 0.27278109999999994, 0.2922048, 0.27800122, 0.26440462, 0.26051992, 0.2715671, 0.28079337, 0.27824405, 0.27071735, 0.2851637, 0.27545187, 0.26938197, 0.27687475, 0.28749537, 0.26054677, 0.88134885, 0.81142366, 0.77621824, 0.72608095, 0.7037437, 0.6888118000000001, 0.674851, 0.64401597, 0.63721764, 0.6386744000000001, 0.6152446, 0.59582096, 0.5914507, 0.59667075, 0.57421213, 0.5390067, 0.5506609, 0.5428915, 0.53172284, 0.53682154, 0.5330581999999999, 0.51545554, 0.5086572, 0.5188547, 0.50792885, 0.49991660000000004, 0.50987124, 0.49469650000000004, 0.48304227, 0.49538246, 0.49513024], \"xaxis\": \"x\", \"yaxis\": \"y\"}],\n",
              "                        {\"barmode\": \"relative\", \"legend\": {\"tracegroupgap\": 0}, \"margin\": {\"t\": 60}, \"template\": {\"data\": {\"bar\": [{\"error_x\": {\"color\": \"#2a3f5f\"}, \"error_y\": {\"color\": \"#2a3f5f\"}, \"marker\": {\"line\": {\"color\": \"#E5ECF6\", \"width\": 0.5}}, \"type\": \"bar\"}], \"barpolar\": [{\"marker\": {\"line\": {\"color\": \"#E5ECF6\", \"width\": 0.5}}, \"type\": \"barpolar\"}], \"carpet\": [{\"aaxis\": {\"endlinecolor\": \"#2a3f5f\", \"gridcolor\": \"white\", \"linecolor\": \"white\", \"minorgridcolor\": \"white\", \"startlinecolor\": \"#2a3f5f\"}, \"baxis\": {\"endlinecolor\": \"#2a3f5f\", \"gridcolor\": \"white\", \"linecolor\": \"white\", \"minorgridcolor\": \"white\", \"startlinecolor\": \"#2a3f5f\"}, \"type\": \"carpet\"}], \"choropleth\": [{\"colorbar\": {\"outlinewidth\": 0, \"ticks\": \"\"}, \"type\": \"choropleth\"}], \"contour\": [{\"colorbar\": {\"outlinewidth\": 0, \"ticks\": \"\"}, \"colorscale\": [[0.0, \"#0d0887\"], [0.1111111111111111, \"#46039f\"], [0.2222222222222222, \"#7201a8\"], [0.3333333333333333, \"#9c179e\"], [0.4444444444444444, \"#bd3786\"], [0.5555555555555556, \"#d8576b\"], [0.6666666666666666, \"#ed7953\"], [0.7777777777777778, \"#fb9f3a\"], [0.8888888888888888, \"#fdca26\"], [1.0, \"#f0f921\"]], \"type\": \"contour\"}], \"contourcarpet\": [{\"colorbar\": {\"outlinewidth\": 0, \"ticks\": \"\"}, \"type\": \"contourcarpet\"}], \"heatmap\": [{\"colorbar\": {\"outlinewidth\": 0, \"ticks\": \"\"}, \"colorscale\": [[0.0, \"#0d0887\"], [0.1111111111111111, \"#46039f\"], [0.2222222222222222, \"#7201a8\"], [0.3333333333333333, \"#9c179e\"], [0.4444444444444444, \"#bd3786\"], [0.5555555555555556, \"#d8576b\"], [0.6666666666666666, \"#ed7953\"], [0.7777777777777778, \"#fb9f3a\"], [0.8888888888888888, \"#fdca26\"], [1.0, \"#f0f921\"]], \"type\": \"heatmap\"}], \"heatmapgl\": [{\"colorbar\": {\"outlinewidth\": 0, \"ticks\": \"\"}, \"colorscale\": [[0.0, \"#0d0887\"], [0.1111111111111111, \"#46039f\"], [0.2222222222222222, \"#7201a8\"], [0.3333333333333333, \"#9c179e\"], [0.4444444444444444, \"#bd3786\"], [0.5555555555555556, \"#d8576b\"], [0.6666666666666666, \"#ed7953\"], [0.7777777777777778, \"#fb9f3a\"], [0.8888888888888888, \"#fdca26\"], [1.0, \"#f0f921\"]], \"type\": \"heatmapgl\"}], \"histogram\": [{\"marker\": {\"colorbar\": {\"outlinewidth\": 0, \"ticks\": \"\"}}, \"type\": \"histogram\"}], \"histogram2d\": [{\"colorbar\": {\"outlinewidth\": 0, \"ticks\": \"\"}, \"colorscale\": [[0.0, \"#0d0887\"], [0.1111111111111111, \"#46039f\"], [0.2222222222222222, \"#7201a8\"], [0.3333333333333333, \"#9c179e\"], [0.4444444444444444, \"#bd3786\"], [0.5555555555555556, \"#d8576b\"], [0.6666666666666666, \"#ed7953\"], [0.7777777777777778, \"#fb9f3a\"], [0.8888888888888888, \"#fdca26\"], [1.0, \"#f0f921\"]], \"type\": \"histogram2d\"}], \"histogram2dcontour\": [{\"colorbar\": {\"outlinewidth\": 0, \"ticks\": \"\"}, \"colorscale\": [[0.0, \"#0d0887\"], [0.1111111111111111, \"#46039f\"], [0.2222222222222222, \"#7201a8\"], [0.3333333333333333, \"#9c179e\"], [0.4444444444444444, \"#bd3786\"], [0.5555555555555556, \"#d8576b\"], [0.6666666666666666, \"#ed7953\"], [0.7777777777777778, \"#fb9f3a\"], [0.8888888888888888, \"#fdca26\"], [1.0, \"#f0f921\"]], \"type\": \"histogram2dcontour\"}], \"mesh3d\": [{\"colorbar\": {\"outlinewidth\": 0, \"ticks\": \"\"}, \"type\": \"mesh3d\"}], \"parcoords\": [{\"line\": {\"colorbar\": {\"outlinewidth\": 0, \"ticks\": \"\"}}, \"type\": \"parcoords\"}], \"pie\": [{\"automargin\": true, \"type\": \"pie\"}], \"scatter\": [{\"marker\": {\"colorbar\": {\"outlinewidth\": 0, \"ticks\": \"\"}}, \"type\": \"scatter\"}], \"scatter3d\": [{\"line\": {\"colorbar\": {\"outlinewidth\": 0, \"ticks\": \"\"}}, \"marker\": {\"colorbar\": {\"outlinewidth\": 0, \"ticks\": \"\"}}, \"type\": \"scatter3d\"}], \"scattercarpet\": [{\"marker\": {\"colorbar\": {\"outlinewidth\": 0, \"ticks\": \"\"}}, \"type\": \"scattercarpet\"}], \"scattergeo\": [{\"marker\": {\"colorbar\": {\"outlinewidth\": 0, \"ticks\": \"\"}}, \"type\": \"scattergeo\"}], \"scattergl\": [{\"marker\": {\"colorbar\": {\"outlinewidth\": 0, \"ticks\": \"\"}}, \"type\": \"scattergl\"}], \"scattermapbox\": [{\"marker\": {\"colorbar\": {\"outlinewidth\": 0, \"ticks\": \"\"}}, \"type\": \"scattermapbox\"}], \"scatterpolar\": [{\"marker\": {\"colorbar\": {\"outlinewidth\": 0, \"ticks\": \"\"}}, \"type\": \"scatterpolar\"}], \"scatterpolargl\": [{\"marker\": {\"colorbar\": {\"outlinewidth\": 0, \"ticks\": \"\"}}, \"type\": \"scatterpolargl\"}], \"scatterternary\": [{\"marker\": {\"colorbar\": {\"outlinewidth\": 0, \"ticks\": \"\"}}, \"type\": \"scatterternary\"}], \"surface\": [{\"colorbar\": {\"outlinewidth\": 0, \"ticks\": \"\"}, \"colorscale\": [[0.0, \"#0d0887\"], [0.1111111111111111, \"#46039f\"], [0.2222222222222222, \"#7201a8\"], [0.3333333333333333, \"#9c179e\"], [0.4444444444444444, \"#bd3786\"], [0.5555555555555556, \"#d8576b\"], [0.6666666666666666, \"#ed7953\"], [0.7777777777777778, \"#fb9f3a\"], [0.8888888888888888, \"#fdca26\"], [1.0, \"#f0f921\"]], \"type\": \"surface\"}], \"table\": [{\"cells\": {\"fill\": {\"color\": \"#EBF0F8\"}, \"line\": {\"color\": \"white\"}}, \"header\": {\"fill\": {\"color\": \"#C8D4E3\"}, \"line\": {\"color\": \"white\"}}, \"type\": \"table\"}]}, \"layout\": {\"annotationdefaults\": {\"arrowcolor\": \"#2a3f5f\", \"arrowhead\": 0, \"arrowwidth\": 1}, \"coloraxis\": {\"colorbar\": {\"outlinewidth\": 0, \"ticks\": \"\"}}, \"colorscale\": {\"diverging\": [[0, \"#8e0152\"], [0.1, \"#c51b7d\"], [0.2, \"#de77ae\"], [0.3, \"#f1b6da\"], [0.4, \"#fde0ef\"], [0.5, \"#f7f7f7\"], [0.6, \"#e6f5d0\"], [0.7, \"#b8e186\"], [0.8, \"#7fbc41\"], [0.9, \"#4d9221\"], [1, \"#276419\"]], \"sequential\": [[0.0, \"#0d0887\"], [0.1111111111111111, \"#46039f\"], [0.2222222222222222, \"#7201a8\"], [0.3333333333333333, \"#9c179e\"], [0.4444444444444444, \"#bd3786\"], [0.5555555555555556, \"#d8576b\"], [0.6666666666666666, \"#ed7953\"], [0.7777777777777778, \"#fb9f3a\"], [0.8888888888888888, \"#fdca26\"], [1.0, \"#f0f921\"]], \"sequentialminus\": [[0.0, \"#0d0887\"], [0.1111111111111111, \"#46039f\"], [0.2222222222222222, \"#7201a8\"], [0.3333333333333333, \"#9c179e\"], [0.4444444444444444, \"#bd3786\"], [0.5555555555555556, \"#d8576b\"], [0.6666666666666666, \"#ed7953\"], [0.7777777777777778, \"#fb9f3a\"], [0.8888888888888888, \"#fdca26\"], [1.0, \"#f0f921\"]]}, \"colorway\": [\"#636efa\", \"#EF553B\", \"#00cc96\", \"#ab63fa\", \"#FFA15A\", \"#19d3f3\", \"#FF6692\", \"#B6E880\", \"#FF97FF\", \"#FECB52\"], \"font\": {\"color\": \"#2a3f5f\"}, \"geo\": {\"bgcolor\": \"white\", \"lakecolor\": \"white\", \"landcolor\": \"#E5ECF6\", \"showlakes\": true, \"showland\": true, \"subunitcolor\": \"white\"}, \"hoverlabel\": {\"align\": \"left\"}, \"hovermode\": \"closest\", \"mapbox\": {\"style\": \"light\"}, \"paper_bgcolor\": \"white\", \"plot_bgcolor\": \"#E5ECF6\", \"polar\": {\"angularaxis\": {\"gridcolor\": \"white\", \"linecolor\": \"white\", \"ticks\": \"\"}, \"bgcolor\": \"#E5ECF6\", \"radialaxis\": {\"gridcolor\": \"white\", \"linecolor\": \"white\", \"ticks\": \"\"}}, \"scene\": {\"xaxis\": {\"backgroundcolor\": \"#E5ECF6\", \"gridcolor\": \"white\", \"gridwidth\": 2, \"linecolor\": \"white\", \"showbackground\": true, \"ticks\": \"\", \"zerolinecolor\": \"white\"}, \"yaxis\": {\"backgroundcolor\": \"#E5ECF6\", \"gridcolor\": \"white\", \"gridwidth\": 2, \"linecolor\": \"white\", \"showbackground\": true, \"ticks\": \"\", \"zerolinecolor\": \"white\"}, \"zaxis\": {\"backgroundcolor\": \"#E5ECF6\", \"gridcolor\": \"white\", \"gridwidth\": 2, \"linecolor\": \"white\", \"showbackground\": true, \"ticks\": \"\", \"zerolinecolor\": \"white\"}}, \"shapedefaults\": {\"line\": {\"color\": \"#2a3f5f\"}}, \"ternary\": {\"aaxis\": {\"gridcolor\": \"white\", \"linecolor\": \"white\", \"ticks\": \"\"}, \"baxis\": {\"gridcolor\": \"white\", \"linecolor\": \"white\", \"ticks\": \"\"}, \"bgcolor\": \"#E5ECF6\", \"caxis\": {\"gridcolor\": \"white\", \"linecolor\": \"white\", \"ticks\": \"\"}}, \"title\": {\"x\": 0.05}, \"xaxis\": {\"automargin\": true, \"gridcolor\": \"white\", \"linecolor\": \"white\", \"ticks\": \"\", \"title\": {\"standoff\": 15}, \"zerolinecolor\": \"white\", \"zerolinewidth\": 2}, \"yaxis\": {\"automargin\": true, \"gridcolor\": \"white\", \"linecolor\": \"white\", \"ticks\": \"\", \"title\": {\"standoff\": 15}, \"zerolinecolor\": \"white\", \"zerolinewidth\": 2}}}, \"xaxis\": {\"anchor\": \"y\", \"domain\": [0.0, 1.0], \"title\": {\"text\": \"FM1\"}}, \"yaxis\": {\"anchor\": \"x\", \"domain\": [0.0, 1.0], \"title\": {\"text\": \"count\"}}},\n",
              "                        {\"responsive\": true}\n",
              "                    ).then(function(){\n",
              "                            \n",
              "var gd = document.getElementById('0446187e-31f0-41f5-86bd-ee91391c4a58');\n",
              "var x = new MutationObserver(function (mutations, observer) {{\n",
              "        var display = window.getComputedStyle(gd).display;\n",
              "        if (!display || display === 'none') {{\n",
              "            console.log([gd, 'removed!']);\n",
              "            Plotly.purge(gd);\n",
              "            observer.disconnect();\n",
              "        }}\n",
              "}});\n",
              "\n",
              "// Listen for the removal of the full notebook cells\n",
              "var notebookContainer = gd.closest('#notebook-container');\n",
              "if (notebookContainer) {{\n",
              "    x.observe(notebookContainer, {childList: true});\n",
              "}}\n",
              "\n",
              "// Listen for the clearing of the current output cell\n",
              "var outputEl = gd.closest('.output');\n",
              "if (outputEl) {{\n",
              "    x.observe(outputEl, {childList: true});\n",
              "}}\n",
              "\n",
              "                        })\n",
              "                };\n",
              "                \n",
              "            </script>\n",
              "        </div>\n",
              "</body>\n",
              "</html>"
            ]
          },
          "metadata": {
            "tags": []
          }
        }
      ]
    },
    {
      "cell_type": "markdown",
      "metadata": {
        "id": "UEfqTnyRLgHk"
      },
      "source": [
        "## **Setting up TSAI/the data**\r\n",
        "### **Sliding window**\r\n",
        "The way the data is being split is by using `SlidingWindow`. The way this works is by specifying\r\n",
        "* `window_len` - the length of a sequence (in this case 6 is used as we want to predict 3 hours in the future and each data point is 30 minutes)\r\n",
        "* `get_x` - the columns to use (indicies of columns used)\r\n",
        "* `get_y` - the target column (name used)\r\n",
        "* `stride` - how much to move the window by each time\r\n",
        "* `horizon` - how far from the last data point to predict (1 is saying to predict the next y after the 3 hour chunk)\r\n",
        "* `ascending` - sort by ascending order\r\n",
        "* `seq_first` - used as it's a dataframe\r\n",
        "\r\n",
        "\r\n",
        "Visually it is like this.\r\n",
        "\r\n",
        "![slidingwindow.PNG](data:image/png;base64,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)"
      ]
    },
    {
      "cell_type": "code",
      "metadata": {
        "colab": {
          "base_uri": "https://localhost:8080/"
        },
        "id": "D5vDQMisjne-",
        "outputId": "3affc6f7-014f-4e1b-cfbf-431006d84a66"
      },
      "source": [
        "X, y = SlidingWindow(window_len = 6, get_x = [2, 3, 4, 5, 6], get_y = \"FM1\", stride = 1, horizon = 1, sort_by = [\"TIME\"], ascending = True, seq_first = True)(iot) # Split into windows\r\n",
        "X[0:2], y[0:2] # Two examples of windows, notice Xs consist of multiple arrays as there are multiple Xs (each x is a sensor input)"
      ],
      "execution_count": 8,
      "outputs": [
        {
          "output_type": "execute_result",
          "data": {
            "text/plain": [
              "(array([[[0.9442119 , 0.94797057, 0.9441379 , 0.9503366 , 0.9502257 ,\n",
              "          0.94583863],\n",
              "         [0.9698446 , 0.97145903, 0.9689942 , 0.9762528 , 0.97574747,\n",
              "          0.97476155],\n",
              "         [0.9098173 , 0.91357595, 0.91251606, 0.9159912 , 0.9161884 ,\n",
              "          0.91490686],\n",
              "         [0.75287855, 0.75374126, 0.7531867 , 0.7566987 , 0.75656325,\n",
              "          0.7560704 ],\n",
              "         [0.12870277, 0.11757235, 0.11124238, 0.10246424, 0.0932012 ,\n",
              "          0.09090909]],\n",
              " \n",
              "        [[0.94797057, 0.9441379 , 0.9503366 , 0.9502257 , 0.94583863,\n",
              "          0.9464547 ],\n",
              "         [0.97145903, 0.9689942 , 0.9762528 , 0.97574747, 0.97476155,\n",
              "          0.97091264],\n",
              "         [0.91357595, 0.91251606, 0.9159912 , 0.9161884 , 0.91490686,\n",
              "          0.9119636 ],\n",
              "         [0.75374126, 0.7531867 , 0.7566987 , 0.75656325, 0.7560704 ,\n",
              "          0.7520776 ],\n",
              "         [0.11757235, 0.11124238, 0.10246424, 0.0932012 , 0.09090909,\n",
              "          0.091888  ]]]), array([0.2741165, 0.2799436]))"
            ]
          },
          "metadata": {
            "tags": []
          },
          "execution_count": 8
        }
      ]
    },
    {
      "cell_type": "markdown",
      "metadata": {
        "id": "LztkxIRjz_OO"
      },
      "source": [
        "### **Splits**\r\n",
        "With the data in \"windows\" it can now be split into training and validation datasets. It is important to not shuffle the data as the aim is to forecast the future."
      ]
    },
    {
      "cell_type": "code",
      "metadata": {
        "colab": {
          "base_uri": "https://localhost:8080/",
          "height": 91
        },
        "id": "6N9XAkiWpD1u",
        "outputId": "56165a1f-f22f-4b0b-af85-3a4056c0edd5"
      },
      "source": [
        "splits = get_splits(y, valid_size = .3, random_state = 23, shuffle = False) # Split"
      ],
      "execution_count": 9,
      "outputs": [
        {
          "output_type": "display_data",
          "data": {
            "image/png": "[encoded data removed]",
            "text/plain": [
              "<Figure size 1152x36 with 1 Axes>"
            ]
          },
          "metadata": {
            "tags": [],
            "needs_background": "light"
          }
        }
      ]
    },
    {
      "cell_type": "markdown",
      "metadata": {
        "id": "kvzCCT3nYrWl"
      },
      "source": [
        "### **Dataloaders**"
      ]
    },
    {
      "cell_type": "markdown",
      "metadata": {
        "id": "wDIAUuox0US4"
      },
      "source": [
        "After splitting the data, dataloaders can now be created. `TSForecasting` must be declared given the task is to forecast `FM1`. Interestingly `shuffle_train` is set to `True`. The reason for this is because it means the training data is shuffled  there isn't any data leakage when the training data is shuffled"
      ]
    },
    {
      "cell_type": "code",
      "metadata": {
        "id": "wxny3rh5pnaF"
      },
      "source": [
        "tfms  = [None, TSForecasting()]\r\n",
        "dls = get_ts_dls(X, y, tfms = tfms, splits = splits, bs = 4, shuffle_train = True, device = default_device(use_cuda = True), inplace = True)"
      ],
      "execution_count": 10,
      "outputs": []
    },
    {
      "cell_type": "markdown",
      "metadata": {
        "id": "0EzRzMeQKKS0"
      },
      "source": [
        "Check if the training and validation data is being shuffled appropriately (it is)."
      ]
    },
    {
      "cell_type": "code",
      "metadata": {
        "colab": {
          "base_uri": "https://localhost:8080/"
        },
        "id": "dxillDs4I1jJ",
        "outputId": "18398938-826f-4139-df0e-791e3d5aea86"
      },
      "source": [
        "dls.train.shuffle, dls.valid.shuffle"
      ],
      "execution_count": 11,
      "outputs": [
        {
          "output_type": "execute_result",
          "data": {
            "text/plain": [
              "(True, False)"
            ]
          },
          "metadata": {
            "tags": []
          },
          "execution_count": 11
        }
      ]
    },
    {
      "cell_type": "markdown",
      "metadata": {
        "id": "Dsd6Yy5_KJCc"
      },
      "source": [
        "Check can be done to see if it is a single input (what is required) before creating a model (it is)."
      ]
    },
    {
      "cell_type": "code",
      "metadata": {
        "colab": {
          "base_uri": "https://localhost:8080/"
        },
        "id": "-qsQirggl-Sm",
        "outputId": "3e4b576b-3620-4a1a-8a73-646300bffc20"
      },
      "source": [
        "dls.c"
      ],
      "execution_count": 12,
      "outputs": [
        {
          "output_type": "execute_result",
          "data": {
            "text/plain": [
              "1"
            ]
          },
          "metadata": {
            "tags": []
          },
          "execution_count": 12
        }
      ]
    },
    {
      "cell_type": "code",
      "metadata": {
        "colab": {
          "base_uri": "https://localhost:8080/",
          "height": 328
        },
        "id": "fBdt_rR2qaGO",
        "outputId": "d5b38f2c-bbc7-43c9-b5b8-1e4270c1b316"
      },
      "source": [
        "dls.show(dls.one_batch()) # Example of a batch"
      ],
      "execution_count": 13,
      "outputs": [
        {
          "output_type": "execute_result",
          "data": {
            "text/plain": [
              "<matplotlib.axes._subplots.AxesSubplot at 0x7f8c4eb10ed0>"
            ]
          },
          "metadata": {
            "tags": []
          },
          "execution_count": 13
        },
        {
          "output_type": "display_data",
          "data": {
            "image/png": "[encoded data removed]",
            "text/plain": [
              "<Figure size 432x288 with 1 Axes>"
            ]
          },
          "metadata": {
            "tags": [],
            "needs_background": "light"
          }
        }
      ]
    },
    {
      "cell_type": "markdown",
      "metadata": {
        "id": "om-oMi0wYwwD"
      },
      "source": [
        "### **Weighted loss function**"
      ]
    },
    {
      "cell_type": "code",
      "metadata": {
        "id": "BwmCExviZM1z"
      },
      "source": [
        "def weighted_l1_loss(inp, targ, weight_fn=None):\r\n",
        "    if weight_fn is not None:\r\n",
        "        return (F.l1_loss(*flatten_check(inp,targ), reduction='none') * weight_fn(targ)).mean()\r\n",
        "    else:\r\n",
        "        return F.l1_loss(*flatten_check(inp,targ))\r\n",
        "\r\n",
        "def weight_fn(targ, min=0, max=10):\r\n",
        "    targ = TensorBase(targ.contiguous()).view(-1)\r\n",
        "    weight = 1 + torch.clamp((targ - min)/(max - min), 0, 1)\r\n",
        "    return weight\r\n",
        "\r\n",
        "loss_func = partial(weighted_l1_loss, weight_fn= weight_fn)"
      ],
      "execution_count": 37,
      "outputs": []
    },
    {
      "cell_type": "markdown",
      "metadata": {
        "id": "ZOBu-_S_SqVc"
      },
      "source": [
        "## **Baseline model**\r\n",
        "With everything setup a `ts_learner` can be created with inputs:\r\n",
        "* The dataloaders - `dls`\r\n",
        "* Model architecture - `InceptionTime` (used here as it is often a model architecture used for time series regression/forecasting)\r\n",
        "* Metrics - `mae` (important here as y's are between 0 and 1)\r\n",
        "* Device - set to use gpu\r\n",
        "\r\n",
        "`InceptionTime` is a model architecture that is commonly used for time series given it's high performance. The architecture has been implemented in `tsai` and is the preferred method for this task. "
      ]
    },
    {
      "cell_type": "code",
      "metadata": {
        "id": "KIqZ9Ca-qwqM"
      },
      "source": [
        "learn = ts_learner(dls, InceptionTime, metrics = mae, device = default_device(use_cuda = True), loss_func = loss_func)"
      ],
      "execution_count": 48,
      "outputs": []
    },
    {
      "cell_type": "code",
      "metadata": {
        "colab": {
          "base_uri": "https://localhost:8080/",
          "height": 301
        },
        "id": "RuiAFc2arC7-",
        "outputId": "3d482e29-f2ad-4fd9-a3f1-6ef783b016a3"
      },
      "source": [
        "learn.lr_find() # Find suitable lr"
      ],
      "execution_count": 49,
      "outputs": [
        {
          "output_type": "display_data",
          "data": {
            "text/html": [
              ""
            ],
            "text/plain": [
              "<IPython.core.display.HTML object>"
            ]
          },
          "metadata": {
            "tags": []
          }
        },
        {
          "output_type": "execute_result",
          "data": {
            "text/plain": [
              "SuggestedLRs(lr_min=0.003981071710586548, lr_steep=2.2908675418875646e-06)"
            ]
          },
          "metadata": {
            "tags": []
          },
          "execution_count": 49
        },
        {
          "output_type": "display_data",
          "data": {
            "image/png": "[encoded data removed]",
            "text/plain": [
              "<Figure size 432x288 with 1 Axes>"
            ]
          },
          "metadata": {
            "tags": [],
            "needs_background": "light"
          }
        }
      ]
    },
    {
      "cell_type": "code",
      "metadata": {
        "colab": {
          "base_uri": "https://localhost:8080/",
          "height": 1000
        },
        "id": "YIqcX5MnrI_I",
        "outputId": "8b3aefd9-9096-4a3a-b717-f96fae29e841"
      },
      "source": [
        "# Training loop\r\n",
        "# - Fit for 50 epochs\r\n",
        "# - Learning rate at 1e-5\r\n",
        "# - Use PredictionDynamics callback to see the predictions after each epoch/at the end of training\r\n",
        "# - Add a tiny bit of weight decay to lessen overfitting\r\n",
        "learn.fine_tune(50, 1e-4, cbs = [PredictionDynamics], wd = 0.01)"
      ],
      "execution_count": 50,
      "outputs": [
        {
          "output_type": "display_data",
          "data": {
            "text/html": [
              "<table border=\"1\" class=\"dataframe\">\n",
              "  <thead>\n",
              "    <tr style=\"text-align: left;\">\n",
              "      <th>epoch</th>\n",
              "      <th>train_loss</th>\n",
              "      <th>valid_loss</th>\n",
              "      <th>mae</th>\n",
              "      <th>time</th>\n",
              "    </tr>\n",
              "  </thead>\n",
              "  <tbody>\n",
              "    <tr>\n",
              "      <td>0</td>\n",
              "      <td>0.148998</td>\n",
              "      <td>0.245389</td>\n",
              "      <td>0.234933</td>\n",
              "      <td>00:03</td>\n",
              "    </tr>\n",
              "  </tbody>\n",
              "</table>"
            ],
            "text/plain": [
              "<IPython.core.display.HTML object>"
            ]
          },
          "metadata": {
            "tags": []
          }
        },
        {
          "output_type": "display_data",
          "data": {
            "image/png": "[encoded data removed]",
            "text/plain": [
              "<Figure size 432x432 with 1 Axes>"
            ]
          },
          "metadata": {
            "tags": []
          }
        },
        {
          "output_type": "display_data",
          "data": {
            "text/html": [
              "<div>\n",
              "<style scoped>\n",
              "    .dataframe tbody tr th:only-of-type {\n",
              "        vertical-align: middle;\n",
              "    }\n",
              "\n",
              "    .dataframe tbody tr th {\n",
              "        vertical-align: top;\n",
              "    }\n",
              "\n",
              "    .dataframe thead th {\n",
              "        text-align: right;\n",
              "    }\n",
              "</style>\n",
              "<table border=\"1\" class=\"dataframe\">\n",
              "  <thead>\n",
              "    <tr style=\"text-align: right;\">\n",
              "      <th></th>\n",
              "      <th>train_loss</th>\n",
              "      <th>valid_loss</th>\n",
              "      <th>mae</th>\n",
              "    </tr>\n",
              "  </thead>\n",
              "  <tbody>\n",
              "    <tr>\n",
              "      <th>0</th>\n",
              "      <td>0.148998</td>\n",
              "      <td>0.245389</td>\n",
              "      <td>0.234933</td>\n",
              "    </tr>\n",
              "  </tbody>\n",
              "</table>\n",
              "</div>"
            ],
            "text/plain": [
              "   train_loss  valid_loss       mae\n",
              "0    0.148998    0.245389  0.234933"
            ]
          },
          "metadata": {
            "tags": []
          }
        },
        {
          "output_type": "display_data",
          "data": {
            "text/html": [
              "\n",
              "    <div>\n",
              "        <style>\n",
              "            /* Turns off some styling */\n",
              "            progress {\n",
              "                /* gets rid of default border in Firefox and Opera. */\n",
              "                border: none;\n",
              "                /* Needs to be in here for Safari polyfill so background images work as expected. */\n",
              "                background-size: auto;\n",
              "            }\n",
              "            .progress-bar-interrupted, .progress-bar-interrupted::-webkit-progress-bar {\n",
              "                background: #F44336;\n",
              "            }\n",
              "        </style>\n",
              "      <progress value='14' class='' max='50' style='width:300px; height:20px; vertical-align: middle;'></progress>\n",
              "      28.00% [14/50 00:52<02:14]\n",
              "    </div>\n",
              "    \n",
              "<table border=\"1\" class=\"dataframe\">\n",
              "  <thead>\n",
              "    <tr style=\"text-align: left;\">\n",
              "      <th>epoch</th>\n",
              "      <th>train_loss</th>\n",
              "      <th>valid_loss</th>\n",
              "      <th>mae</th>\n",
              "      <th>time</th>\n",
              "    </tr>\n",
              "  </thead>\n",
              "  <tbody>\n",
              "    <tr>\n",
              "      <td>0</td>\n",
              "      <td>0.089030</td>\n",
              "      <td>0.277270</td>\n",
              "      <td>0.264677</td>\n",
              "      <td>00:03</td>\n",
              "    </tr>\n",
              "    <tr>\n",
              "      <td>1</td>\n",
              "      <td>0.082847</td>\n",
              "      <td>0.263777</td>\n",
              "      <td>0.251894</td>\n",
              "      <td>00:03</td>\n",
              "    </tr>\n",
              "    <tr>\n",
              "      <td>2</td>\n",
              "      <td>0.077206</td>\n",
              "      <td>0.155077</td>\n",
              "      <td>0.148359</td>\n",
              "      <td>00:03</td>\n",
              "    </tr>\n",
              "    <tr>\n",
              "      <td>3</td>\n",
              "      <td>0.079082</td>\n",
              "      <td>0.123844</td>\n",
              "      <td>0.118519</td>\n",
              "      <td>00:03</td>\n",
              "    </tr>\n",
              "    <tr>\n",
              "      <td>4</td>\n",
              "      <td>0.077829</td>\n",
              "      <td>0.221466</td>\n",
              "      <td>0.212538</td>\n",
              "      <td>00:03</td>\n",
              "    </tr>\n",
              "    <tr>\n",
              "      <td>5</td>\n",
              "      <td>0.075090</td>\n",
              "      <td>0.269090</td>\n",
              "      <td>0.258833</td>\n",
              "      <td>00:03</td>\n",
              "    </tr>\n",
              "    <tr>\n",
              "      <td>6</td>\n",
              "      <td>0.076728</td>\n",
              "      <td>0.170107</td>\n",
              "      <td>0.163608</td>\n",
              "      <td>00:03</td>\n",
              "    </tr>\n",
              "    <tr>\n",
              "      <td>7</td>\n",
              "      <td>0.070922</td>\n",
              "      <td>0.269859</td>\n",
              "      <td>0.257603</td>\n",
              "      <td>00:03</td>\n",
              "    </tr>\n",
              "    <tr>\n",
              "      <td>8</td>\n",
              "      <td>0.072913</td>\n",
              "      <td>0.111982</td>\n",
              "      <td>0.107226</td>\n",
              "      <td>00:03</td>\n",
              "    </tr>\n",
              "    <tr>\n",
              "      <td>9</td>\n",
              "      <td>0.073145</td>\n",
              "      <td>0.177355</td>\n",
              "      <td>0.170287</td>\n",
              "      <td>00:03</td>\n",
              "    </tr>\n",
              "    <tr>\n",
              "      <td>10</td>\n",
              "      <td>0.072966</td>\n",
              "      <td>0.171402</td>\n",
              "      <td>0.163806</td>\n",
              "      <td>00:03</td>\n",
              "    </tr>\n",
              "    <tr>\n",
              "      <td>11</td>\n",
              "      <td>0.071582</td>\n",
              "      <td>0.205917</td>\n",
              "      <td>0.198006</td>\n",
              "      <td>00:03</td>\n",
              "    </tr>\n",
              "    <tr>\n",
              "      <td>12</td>\n",
              "      <td>0.075102</td>\n",
              "      <td>0.136738</td>\n",
              "      <td>0.131113</td>\n",
              "      <td>00:03</td>\n",
              "    </tr>\n",
              "    <tr>\n",
              "      <td>13</td>\n",
              "      <td>0.072078</td>\n",
              "      <td>0.171523</td>\n",
              "      <td>0.164566</td>\n",
              "      <td>00:03</td>\n",
              "    </tr>\n",
              "  </tbody>\n",
              "</table><p>\n",
              "\n",
              "    <div>\n",
              "        <style>\n",
              "            /* Turns off some styling */\n",
              "            progress {\n",
              "                /* gets rid of default border in Firefox and Opera. */\n",
              "                border: none;\n",
              "                /* Needs to be in here for Safari polyfill so background images work as expected. */\n",
              "                background-size: auto;\n",
              "            }\n",
              "            .progress-bar-interrupted, .progress-bar-interrupted::-webkit-progress-bar {\n",
              "                background: #F44336;\n",
              "            }\n",
              "        </style>\n",
              "      <progress value='49' class='' max='125' style='width:300px; height:20px; vertical-align: middle;'></progress>\n",
              "      39.20% [49/125 00:01<00:01 0.0820]\n",
              "    </div>\n",
              "    "
            ],
            "text/plain": [
              "<IPython.core.display.HTML object>"
            ]
          },
          "metadata": {
            "tags": []
          }
        },
        {
          "output_type": "display_data",
          "data": {
            "image/png": "[encoded data removed]",
            "text/plain": [
              "<Figure size 432x432 with 1 Axes>"
            ]
          },
          "metadata": {
            "tags": []
          }
        },
        {
          "output_type": "display_data",
          "data": {
            "text/html": [
              "<div>\n",
              "<style scoped>\n",
              "    .dataframe tbody tr th:only-of-type {\n",
              "        vertical-align: middle;\n",
              "    }\n",
              "\n",
              "    .dataframe tbody tr th {\n",
              "        vertical-align: top;\n",
              "    }\n",
              "\n",
              "    .dataframe thead th {\n",
              "        text-align: right;\n",
              "    }\n",
              "</style>\n",
              "<table border=\"1\" class=\"dataframe\">\n",
              "  <thead>\n",
              "    <tr style=\"text-align: right;\">\n",
              "      <th></th>\n",
              "      <th>train_loss</th>\n",
              "      <th>valid_loss</th>\n",
              "      <th>mae</th>\n",
              "    </tr>\n",
              "  </thead>\n",
              "  <tbody>\n",
              "    <tr>\n",
              "      <th>13</th>\n",
              "      <td>0.072078</td>\n",
              "      <td>0.171523</td>\n",
              "      <td>0.164566</td>\n",
              "    </tr>\n",
              "  </tbody>\n",
              "</table>\n",
              "</div>"
            ],
            "text/plain": [
              "    train_loss  valid_loss       mae\n",
              "13    0.072078    0.171523  0.164566"
            ]
          },
          "metadata": {
            "tags": []
          }
        },
        {
          "output_type": "error",
          "ename": "KeyboardInterrupt",
          "evalue": "ignored",
          "traceback": [
            "\u001b[0;31m---------------------------------------------------------------------------\u001b[0m",
            "\u001b[0;31mKeyboardInterrupt\u001b[0m                         Traceback (most recent call last)",
            "\u001b[0;32m<ipython-input-50-b5a421760e23>\u001b[0m in \u001b[0;36m<module>\u001b[0;34m()\u001b[0m\n\u001b[1;32m      4\u001b[0m \u001b[0;31m# - Use PredictionDynamics callback to see the predictions after each epoch/at the end of training\u001b[0m\u001b[0;34m\u001b[0m\u001b[0;34m\u001b[0m\u001b[0;34m\u001b[0m\u001b[0m\n\u001b[1;32m      5\u001b[0m \u001b[0;31m# - Add a tiny bit of weight decay to lessen overfitting\u001b[0m\u001b[0;34m\u001b[0m\u001b[0;34m\u001b[0m\u001b[0;34m\u001b[0m\u001b[0m\n\u001b[0;32m----> 6\u001b[0;31m \u001b[0mlearn\u001b[0m\u001b[0;34m.\u001b[0m\u001b[0mfine_tune\u001b[0m\u001b[0;34m(\u001b[0m\u001b[0;36m50\u001b[0m\u001b[0;34m,\u001b[0m \u001b[0;36m1e-4\u001b[0m\u001b[0;34m,\u001b[0m \u001b[0mcbs\u001b[0m \u001b[0;34m=\u001b[0m \u001b[0;34m[\u001b[0m\u001b[0mPredictionDynamics\u001b[0m\u001b[0;34m]\u001b[0m\u001b[0;34m,\u001b[0m \u001b[0mwd\u001b[0m \u001b[0;34m=\u001b[0m \u001b[0;36m0.01\u001b[0m\u001b[0;34m)\u001b[0m\u001b[0;34m\u001b[0m\u001b[0;34m\u001b[0m\u001b[0m\n\u001b[0m",
            "\u001b[0;32m/usr/local/lib/python3.7/dist-packages/fastai/callback/schedule.py\u001b[0m in \u001b[0;36mfine_tune\u001b[0;34m(self, epochs, base_lr, freeze_epochs, lr_mult, pct_start, div, **kwargs)\u001b[0m\n\u001b[1;32m    158\u001b[0m     \u001b[0mbase_lr\u001b[0m \u001b[0;34m/=\u001b[0m \u001b[0;36m2\u001b[0m\u001b[0;34m\u001b[0m\u001b[0;34m\u001b[0m\u001b[0m\n\u001b[1;32m    159\u001b[0m     \u001b[0mself\u001b[0m\u001b[0;34m.\u001b[0m\u001b[0munfreeze\u001b[0m\u001b[0;34m(\u001b[0m\u001b[0;34m)\u001b[0m\u001b[0;34m\u001b[0m\u001b[0;34m\u001b[0m\u001b[0m\n\u001b[0;32m--> 160\u001b[0;31m     \u001b[0mself\u001b[0m\u001b[0;34m.\u001b[0m\u001b[0mfit_one_cycle\u001b[0m\u001b[0;34m(\u001b[0m\u001b[0mepochs\u001b[0m\u001b[0;34m,\u001b[0m \u001b[0mslice\u001b[0m\u001b[0;34m(\u001b[0m\u001b[0mbase_lr\u001b[0m\u001b[0;34m/\u001b[0m\u001b[0mlr_mult\u001b[0m\u001b[0;34m,\u001b[0m \u001b[0mbase_lr\u001b[0m\u001b[0;34m)\u001b[0m\u001b[0;34m,\u001b[0m \u001b[0mpct_start\u001b[0m\u001b[0;34m=\u001b[0m\u001b[0mpct_start\u001b[0m\u001b[0;34m,\u001b[0m \u001b[0mdiv\u001b[0m\u001b[0;34m=\u001b[0m\u001b[0mdiv\u001b[0m\u001b[0;34m,\u001b[0m \u001b[0;34m**\u001b[0m\u001b[0mkwargs\u001b[0m\u001b[0;34m)\u001b[0m\u001b[0;34m\u001b[0m\u001b[0;34m\u001b[0m\u001b[0m\n\u001b[0m\u001b[1;32m    161\u001b[0m \u001b[0;34m\u001b[0m\u001b[0m\n\u001b[1;32m    162\u001b[0m \u001b[0;31m# Cell\u001b[0m\u001b[0;34m\u001b[0m\u001b[0;34m\u001b[0m\u001b[0;34m\u001b[0m\u001b[0m\n",
            "\u001b[0;32m/usr/local/lib/python3.7/dist-packages/fastai/callback/schedule.py\u001b[0m in \u001b[0;36mfit_one_cycle\u001b[0;34m(self, n_epoch, lr_max, div, div_final, pct_start, wd, moms, cbs, reset_opt)\u001b[0m\n\u001b[1;32m    110\u001b[0m     scheds = {'lr': combined_cos(pct_start, lr_max/div, lr_max, lr_max/div_final),\n\u001b[1;32m    111\u001b[0m               'mom': combined_cos(pct_start, *(self.moms if moms is None else moms))}\n\u001b[0;32m--> 112\u001b[0;31m     \u001b[0mself\u001b[0m\u001b[0;34m.\u001b[0m\u001b[0mfit\u001b[0m\u001b[0;34m(\u001b[0m\u001b[0mn_epoch\u001b[0m\u001b[0;34m,\u001b[0m \u001b[0mcbs\u001b[0m\u001b[0;34m=\u001b[0m\u001b[0mParamScheduler\u001b[0m\u001b[0;34m(\u001b[0m\u001b[0mscheds\u001b[0m\u001b[0;34m)\u001b[0m\u001b[0;34m+\u001b[0m\u001b[0mL\u001b[0m\u001b[0;34m(\u001b[0m\u001b[0mcbs\u001b[0m\u001b[0;34m)\u001b[0m\u001b[0;34m,\u001b[0m \u001b[0mreset_opt\u001b[0m\u001b[0;34m=\u001b[0m\u001b[0mreset_opt\u001b[0m\u001b[0;34m,\u001b[0m \u001b[0mwd\u001b[0m\u001b[0;34m=\u001b[0m\u001b[0mwd\u001b[0m\u001b[0;34m)\u001b[0m\u001b[0;34m\u001b[0m\u001b[0;34m\u001b[0m\u001b[0m\n\u001b[0m\u001b[1;32m    113\u001b[0m \u001b[0;34m\u001b[0m\u001b[0m\n\u001b[1;32m    114\u001b[0m \u001b[0;31m# Cell\u001b[0m\u001b[0;34m\u001b[0m\u001b[0;34m\u001b[0m\u001b[0;34m\u001b[0m\u001b[0m\n",
            "\u001b[0;32m/usr/local/lib/python3.7/dist-packages/fastai/learner.py\u001b[0m in \u001b[0;36mfit\u001b[0;34m(self, n_epoch, lr, wd, cbs, reset_opt)\u001b[0m\n\u001b[1;32m    209\u001b[0m             \u001b[0mself\u001b[0m\u001b[0;34m.\u001b[0m\u001b[0mopt\u001b[0m\u001b[0;34m.\u001b[0m\u001b[0mset_hypers\u001b[0m\u001b[0;34m(\u001b[0m\u001b[0mlr\u001b[0m\u001b[0;34m=\u001b[0m\u001b[0mself\u001b[0m\u001b[0;34m.\u001b[0m\u001b[0mlr\u001b[0m \u001b[0;32mif\u001b[0m \u001b[0mlr\u001b[0m \u001b[0;32mis\u001b[0m \u001b[0;32mNone\u001b[0m \u001b[0;32melse\u001b[0m \u001b[0mlr\u001b[0m\u001b[0;34m)\u001b[0m\u001b[0;34m\u001b[0m\u001b[0;34m\u001b[0m\u001b[0m\n\u001b[1;32m    210\u001b[0m             \u001b[0mself\u001b[0m\u001b[0;34m.\u001b[0m\u001b[0mn_epoch\u001b[0m \u001b[0;34m=\u001b[0m \u001b[0mn_epoch\u001b[0m\u001b[0;34m\u001b[0m\u001b[0;34m\u001b[0m\u001b[0m\n\u001b[0;32m--> 211\u001b[0;31m             \u001b[0mself\u001b[0m\u001b[0;34m.\u001b[0m\u001b[0m_with_events\u001b[0m\u001b[0;34m(\u001b[0m\u001b[0mself\u001b[0m\u001b[0;34m.\u001b[0m\u001b[0m_do_fit\u001b[0m\u001b[0;34m,\u001b[0m \u001b[0;34m'fit'\u001b[0m\u001b[0;34m,\u001b[0m \u001b[0mCancelFitException\u001b[0m\u001b[0;34m,\u001b[0m \u001b[0mself\u001b[0m\u001b[0;34m.\u001b[0m\u001b[0m_end_cleanup\u001b[0m\u001b[0;34m)\u001b[0m\u001b[0;34m\u001b[0m\u001b[0;34m\u001b[0m\u001b[0m\n\u001b[0m\u001b[1;32m    212\u001b[0m \u001b[0;34m\u001b[0m\u001b[0m\n\u001b[1;32m    213\u001b[0m     \u001b[0;32mdef\u001b[0m \u001b[0m_end_cleanup\u001b[0m\u001b[0;34m(\u001b[0m\u001b[0mself\u001b[0m\u001b[0;34m)\u001b[0m\u001b[0;34m:\u001b[0m \u001b[0mself\u001b[0m\u001b[0;34m.\u001b[0m\u001b[0mdl\u001b[0m\u001b[0;34m,\u001b[0m\u001b[0mself\u001b[0m\u001b[0;34m.\u001b[0m\u001b[0mxb\u001b[0m\u001b[0;34m,\u001b[0m\u001b[0mself\u001b[0m\u001b[0;34m.\u001b[0m\u001b[0myb\u001b[0m\u001b[0;34m,\u001b[0m\u001b[0mself\u001b[0m\u001b[0;34m.\u001b[0m\u001b[0mpred\u001b[0m\u001b[0;34m,\u001b[0m\u001b[0mself\u001b[0m\u001b[0;34m.\u001b[0m\u001b[0mloss\u001b[0m \u001b[0;34m=\u001b[0m \u001b[0;32mNone\u001b[0m\u001b[0;34m,\u001b[0m\u001b[0;34m(\u001b[0m\u001b[0;32mNone\u001b[0m\u001b[0;34m,\u001b[0m\u001b[0;34m)\u001b[0m\u001b[0;34m,\u001b[0m\u001b[0;34m(\u001b[0m\u001b[0;32mNone\u001b[0m\u001b[0;34m,\u001b[0m\u001b[0;34m)\u001b[0m\u001b[0;34m,\u001b[0m\u001b[0;32mNone\u001b[0m\u001b[0;34m,\u001b[0m\u001b[0;32mNone\u001b[0m\u001b[0;34m\u001b[0m\u001b[0;34m\u001b[0m\u001b[0m\n",
            "\u001b[0;32m/usr/local/lib/python3.7/dist-packages/fastai/learner.py\u001b[0m in \u001b[0;36m_with_events\u001b[0;34m(self, f, event_type, ex, final)\u001b[0m\n\u001b[1;32m    158\u001b[0m \u001b[0;34m\u001b[0m\u001b[0m\n\u001b[1;32m    159\u001b[0m     \u001b[0;32mdef\u001b[0m \u001b[0m_with_events\u001b[0m\u001b[0;34m(\u001b[0m\u001b[0mself\u001b[0m\u001b[0;34m,\u001b[0m \u001b[0mf\u001b[0m\u001b[0;34m,\u001b[0m \u001b[0mevent_type\u001b[0m\u001b[0;34m,\u001b[0m \u001b[0mex\u001b[0m\u001b[0;34m,\u001b[0m \u001b[0mfinal\u001b[0m\u001b[0;34m=\u001b[0m\u001b[0mnoop\u001b[0m\u001b[0;34m)\u001b[0m\u001b[0;34m:\u001b[0m\u001b[0;34m\u001b[0m\u001b[0;34m\u001b[0m\u001b[0m\n\u001b[0;32m--> 160\u001b[0;31m         \u001b[0;32mtry\u001b[0m\u001b[0;34m:\u001b[0m \u001b[0mself\u001b[0m\u001b[0;34m(\u001b[0m\u001b[0;34mf'before_{event_type}'\u001b[0m\u001b[0;34m)\u001b[0m\u001b[0;34m;\u001b[0m  \u001b[0mf\u001b[0m\u001b[0;34m(\u001b[0m\u001b[0;34m)\u001b[0m\u001b[0;34m\u001b[0m\u001b[0;34m\u001b[0m\u001b[0m\n\u001b[0m\u001b[1;32m    161\u001b[0m         \u001b[0;32mexcept\u001b[0m \u001b[0mex\u001b[0m\u001b[0;34m:\u001b[0m \u001b[0mself\u001b[0m\u001b[0;34m(\u001b[0m\u001b[0;34mf'after_cancel_{event_type}'\u001b[0m\u001b[0;34m)\u001b[0m\u001b[0;34m\u001b[0m\u001b[0;34m\u001b[0m\u001b[0m\n\u001b[1;32m    162\u001b[0m         \u001b[0mself\u001b[0m\u001b[0;34m(\u001b[0m\u001b[0;34mf'after_{event_type}'\u001b[0m\u001b[0;34m)\u001b[0m\u001b[0;34m;\u001b[0m  \u001b[0mfinal\u001b[0m\u001b[0;34m(\u001b[0m\u001b[0;34m)\u001b[0m\u001b[0;34m\u001b[0m\u001b[0;34m\u001b[0m\u001b[0m\n",
            "\u001b[0;32m/usr/local/lib/python3.7/dist-packages/fastai/learner.py\u001b[0m in \u001b[0;36m_do_fit\u001b[0;34m(self)\u001b[0m\n\u001b[1;32m    200\u001b[0m         \u001b[0;32mfor\u001b[0m \u001b[0mepoch\u001b[0m \u001b[0;32min\u001b[0m \u001b[0mrange\u001b[0m\u001b[0;34m(\u001b[0m\u001b[0mself\u001b[0m\u001b[0;34m.\u001b[0m\u001b[0mn_epoch\u001b[0m\u001b[0;34m)\u001b[0m\u001b[0;34m:\u001b[0m\u001b[0;34m\u001b[0m\u001b[0;34m\u001b[0m\u001b[0m\n\u001b[1;32m    201\u001b[0m             \u001b[0mself\u001b[0m\u001b[0;34m.\u001b[0m\u001b[0mepoch\u001b[0m\u001b[0;34m=\u001b[0m\u001b[0mepoch\u001b[0m\u001b[0;34m\u001b[0m\u001b[0;34m\u001b[0m\u001b[0m\n\u001b[0;32m--> 202\u001b[0;31m             \u001b[0mself\u001b[0m\u001b[0;34m.\u001b[0m\u001b[0m_with_events\u001b[0m\u001b[0;34m(\u001b[0m\u001b[0mself\u001b[0m\u001b[0;34m.\u001b[0m\u001b[0m_do_epoch\u001b[0m\u001b[0;34m,\u001b[0m \u001b[0;34m'epoch'\u001b[0m\u001b[0;34m,\u001b[0m \u001b[0mCancelEpochException\u001b[0m\u001b[0;34m)\u001b[0m\u001b[0;34m\u001b[0m\u001b[0;34m\u001b[0m\u001b[0m\n\u001b[0m\u001b[1;32m    203\u001b[0m \u001b[0;34m\u001b[0m\u001b[0m\n\u001b[1;32m    204\u001b[0m     \u001b[0;32mdef\u001b[0m \u001b[0mfit\u001b[0m\u001b[0;34m(\u001b[0m\u001b[0mself\u001b[0m\u001b[0;34m,\u001b[0m \u001b[0mn_epoch\u001b[0m\u001b[0;34m,\u001b[0m \u001b[0mlr\u001b[0m\u001b[0;34m=\u001b[0m\u001b[0;32mNone\u001b[0m\u001b[0;34m,\u001b[0m \u001b[0mwd\u001b[0m\u001b[0;34m=\u001b[0m\u001b[0;32mNone\u001b[0m\u001b[0;34m,\u001b[0m \u001b[0mcbs\u001b[0m\u001b[0;34m=\u001b[0m\u001b[0;32mNone\u001b[0m\u001b[0;34m,\u001b[0m \u001b[0mreset_opt\u001b[0m\u001b[0;34m=\u001b[0m\u001b[0;32mFalse\u001b[0m\u001b[0;34m)\u001b[0m\u001b[0;34m:\u001b[0m\u001b[0;34m\u001b[0m\u001b[0;34m\u001b[0m\u001b[0m\n",
            "\u001b[0;32m/usr/local/lib/python3.7/dist-packages/fastai/learner.py\u001b[0m in \u001b[0;36m_with_events\u001b[0;34m(self, f, event_type, ex, final)\u001b[0m\n\u001b[1;32m    158\u001b[0m \u001b[0;34m\u001b[0m\u001b[0m\n\u001b[1;32m    159\u001b[0m     \u001b[0;32mdef\u001b[0m \u001b[0m_with_events\u001b[0m\u001b[0;34m(\u001b[0m\u001b[0mself\u001b[0m\u001b[0;34m,\u001b[0m \u001b[0mf\u001b[0m\u001b[0;34m,\u001b[0m \u001b[0mevent_type\u001b[0m\u001b[0;34m,\u001b[0m \u001b[0mex\u001b[0m\u001b[0;34m,\u001b[0m \u001b[0mfinal\u001b[0m\u001b[0;34m=\u001b[0m\u001b[0mnoop\u001b[0m\u001b[0;34m)\u001b[0m\u001b[0;34m:\u001b[0m\u001b[0;34m\u001b[0m\u001b[0;34m\u001b[0m\u001b[0m\n\u001b[0;32m--> 160\u001b[0;31m         \u001b[0;32mtry\u001b[0m\u001b[0;34m:\u001b[0m \u001b[0mself\u001b[0m\u001b[0;34m(\u001b[0m\u001b[0;34mf'before_{event_type}'\u001b[0m\u001b[0;34m)\u001b[0m\u001b[0;34m;\u001b[0m  \u001b[0mf\u001b[0m\u001b[0;34m(\u001b[0m\u001b[0;34m)\u001b[0m\u001b[0;34m\u001b[0m\u001b[0;34m\u001b[0m\u001b[0m\n\u001b[0m\u001b[1;32m    161\u001b[0m         \u001b[0;32mexcept\u001b[0m \u001b[0mex\u001b[0m\u001b[0;34m:\u001b[0m \u001b[0mself\u001b[0m\u001b[0;34m(\u001b[0m\u001b[0;34mf'after_cancel_{event_type}'\u001b[0m\u001b[0;34m)\u001b[0m\u001b[0;34m\u001b[0m\u001b[0;34m\u001b[0m\u001b[0m\n\u001b[1;32m    162\u001b[0m         \u001b[0mself\u001b[0m\u001b[0;34m(\u001b[0m\u001b[0;34mf'after_{event_type}'\u001b[0m\u001b[0;34m)\u001b[0m\u001b[0;34m;\u001b[0m  \u001b[0mfinal\u001b[0m\u001b[0;34m(\u001b[0m\u001b[0;34m)\u001b[0m\u001b[0;34m\u001b[0m\u001b[0;34m\u001b[0m\u001b[0m\n",
            "\u001b[0;32m/usr/local/lib/python3.7/dist-packages/fastai/learner.py\u001b[0m in \u001b[0;36m_do_epoch\u001b[0;34m(self)\u001b[0m\n\u001b[1;32m    194\u001b[0m \u001b[0;34m\u001b[0m\u001b[0m\n\u001b[1;32m    195\u001b[0m     \u001b[0;32mdef\u001b[0m \u001b[0m_do_epoch\u001b[0m\u001b[0;34m(\u001b[0m\u001b[0mself\u001b[0m\u001b[0;34m)\u001b[0m\u001b[0;34m:\u001b[0m\u001b[0;34m\u001b[0m\u001b[0;34m\u001b[0m\u001b[0m\n\u001b[0;32m--> 196\u001b[0;31m         \u001b[0mself\u001b[0m\u001b[0;34m.\u001b[0m\u001b[0m_do_epoch_train\u001b[0m\u001b[0;34m(\u001b[0m\u001b[0;34m)\u001b[0m\u001b[0;34m\u001b[0m\u001b[0;34m\u001b[0m\u001b[0m\n\u001b[0m\u001b[1;32m    197\u001b[0m         \u001b[0mself\u001b[0m\u001b[0;34m.\u001b[0m\u001b[0m_do_epoch_validate\u001b[0m\u001b[0;34m(\u001b[0m\u001b[0;34m)\u001b[0m\u001b[0;34m\u001b[0m\u001b[0;34m\u001b[0m\u001b[0m\n\u001b[1;32m    198\u001b[0m \u001b[0;34m\u001b[0m\u001b[0m\n",
            "\u001b[0;32m/usr/local/lib/python3.7/dist-packages/fastai/learner.py\u001b[0m in \u001b[0;36m_do_epoch_train\u001b[0;34m(self)\u001b[0m\n\u001b[1;32m    186\u001b[0m     \u001b[0;32mdef\u001b[0m \u001b[0m_do_epoch_train\u001b[0m\u001b[0;34m(\u001b[0m\u001b[0mself\u001b[0m\u001b[0;34m)\u001b[0m\u001b[0;34m:\u001b[0m\u001b[0;34m\u001b[0m\u001b[0;34m\u001b[0m\u001b[0m\n\u001b[1;32m    187\u001b[0m         \u001b[0mself\u001b[0m\u001b[0;34m.\u001b[0m\u001b[0mdl\u001b[0m \u001b[0;34m=\u001b[0m \u001b[0mself\u001b[0m\u001b[0;34m.\u001b[0m\u001b[0mdls\u001b[0m\u001b[0;34m.\u001b[0m\u001b[0mtrain\u001b[0m\u001b[0;34m\u001b[0m\u001b[0;34m\u001b[0m\u001b[0m\n\u001b[0;32m--> 188\u001b[0;31m         \u001b[0mself\u001b[0m\u001b[0;34m.\u001b[0m\u001b[0m_with_events\u001b[0m\u001b[0;34m(\u001b[0m\u001b[0mself\u001b[0m\u001b[0;34m.\u001b[0m\u001b[0mall_batches\u001b[0m\u001b[0;34m,\u001b[0m \u001b[0;34m'train'\u001b[0m\u001b[0;34m,\u001b[0m \u001b[0mCancelTrainException\u001b[0m\u001b[0;34m)\u001b[0m\u001b[0;34m\u001b[0m\u001b[0;34m\u001b[0m\u001b[0m\n\u001b[0m\u001b[1;32m    189\u001b[0m \u001b[0;34m\u001b[0m\u001b[0m\n\u001b[1;32m    190\u001b[0m     \u001b[0;32mdef\u001b[0m \u001b[0m_do_epoch_validate\u001b[0m\u001b[0;34m(\u001b[0m\u001b[0mself\u001b[0m\u001b[0;34m,\u001b[0m \u001b[0mds_idx\u001b[0m\u001b[0;34m=\u001b[0m\u001b[0;36m1\u001b[0m\u001b[0;34m,\u001b[0m \u001b[0mdl\u001b[0m\u001b[0;34m=\u001b[0m\u001b[0;32mNone\u001b[0m\u001b[0;34m)\u001b[0m\u001b[0;34m:\u001b[0m\u001b[0;34m\u001b[0m\u001b[0;34m\u001b[0m\u001b[0m\n",
            "\u001b[0;32m/usr/local/lib/python3.7/dist-packages/fastai/learner.py\u001b[0m in \u001b[0;36m_with_events\u001b[0;34m(self, f, event_type, ex, final)\u001b[0m\n\u001b[1;32m    158\u001b[0m \u001b[0;34m\u001b[0m\u001b[0m\n\u001b[1;32m    159\u001b[0m     \u001b[0;32mdef\u001b[0m \u001b[0m_with_events\u001b[0m\u001b[0;34m(\u001b[0m\u001b[0mself\u001b[0m\u001b[0;34m,\u001b[0m \u001b[0mf\u001b[0m\u001b[0;34m,\u001b[0m \u001b[0mevent_type\u001b[0m\u001b[0;34m,\u001b[0m \u001b[0mex\u001b[0m\u001b[0;34m,\u001b[0m \u001b[0mfinal\u001b[0m\u001b[0;34m=\u001b[0m\u001b[0mnoop\u001b[0m\u001b[0;34m)\u001b[0m\u001b[0;34m:\u001b[0m\u001b[0;34m\u001b[0m\u001b[0;34m\u001b[0m\u001b[0m\n\u001b[0;32m--> 160\u001b[0;31m         \u001b[0;32mtry\u001b[0m\u001b[0;34m:\u001b[0m \u001b[0mself\u001b[0m\u001b[0;34m(\u001b[0m\u001b[0;34mf'before_{event_type}'\u001b[0m\u001b[0;34m)\u001b[0m\u001b[0;34m;\u001b[0m  \u001b[0mf\u001b[0m\u001b[0;34m(\u001b[0m\u001b[0;34m)\u001b[0m\u001b[0;34m\u001b[0m\u001b[0;34m\u001b[0m\u001b[0m\n\u001b[0m\u001b[1;32m    161\u001b[0m         \u001b[0;32mexcept\u001b[0m \u001b[0mex\u001b[0m\u001b[0;34m:\u001b[0m \u001b[0mself\u001b[0m\u001b[0;34m(\u001b[0m\u001b[0;34mf'after_cancel_{event_type}'\u001b[0m\u001b[0;34m)\u001b[0m\u001b[0;34m\u001b[0m\u001b[0;34m\u001b[0m\u001b[0m\n\u001b[1;32m    162\u001b[0m         \u001b[0mself\u001b[0m\u001b[0;34m(\u001b[0m\u001b[0;34mf'after_{event_type}'\u001b[0m\u001b[0;34m)\u001b[0m\u001b[0;34m;\u001b[0m  \u001b[0mfinal\u001b[0m\u001b[0;34m(\u001b[0m\u001b[0;34m)\u001b[0m\u001b[0;34m\u001b[0m\u001b[0;34m\u001b[0m\u001b[0m\n",
            "\u001b[0;32m/usr/local/lib/python3.7/dist-packages/fastai/learner.py\u001b[0m in \u001b[0;36mall_batches\u001b[0;34m(self)\u001b[0m\n\u001b[1;32m    164\u001b[0m     \u001b[0;32mdef\u001b[0m \u001b[0mall_batches\u001b[0m\u001b[0;34m(\u001b[0m\u001b[0mself\u001b[0m\u001b[0;34m)\u001b[0m\u001b[0;34m:\u001b[0m\u001b[0;34m\u001b[0m\u001b[0;34m\u001b[0m\u001b[0m\n\u001b[1;32m    165\u001b[0m         \u001b[0mself\u001b[0m\u001b[0;34m.\u001b[0m\u001b[0mn_iter\u001b[0m \u001b[0;34m=\u001b[0m \u001b[0mlen\u001b[0m\u001b[0;34m(\u001b[0m\u001b[0mself\u001b[0m\u001b[0;34m.\u001b[0m\u001b[0mdl\u001b[0m\u001b[0;34m)\u001b[0m\u001b[0;34m\u001b[0m\u001b[0;34m\u001b[0m\u001b[0m\n\u001b[0;32m--> 166\u001b[0;31m         \u001b[0;32mfor\u001b[0m \u001b[0mo\u001b[0m \u001b[0;32min\u001b[0m \u001b[0menumerate\u001b[0m\u001b[0;34m(\u001b[0m\u001b[0mself\u001b[0m\u001b[0;34m.\u001b[0m\u001b[0mdl\u001b[0m\u001b[0;34m)\u001b[0m\u001b[0;34m:\u001b[0m \u001b[0mself\u001b[0m\u001b[0;34m.\u001b[0m\u001b[0mone_batch\u001b[0m\u001b[0;34m(\u001b[0m\u001b[0;34m*\u001b[0m\u001b[0mo\u001b[0m\u001b[0;34m)\u001b[0m\u001b[0;34m\u001b[0m\u001b[0;34m\u001b[0m\u001b[0m\n\u001b[0m\u001b[1;32m    167\u001b[0m \u001b[0;34m\u001b[0m\u001b[0m\n\u001b[1;32m    168\u001b[0m     \u001b[0;32mdef\u001b[0m \u001b[0m_do_one_batch\u001b[0m\u001b[0;34m(\u001b[0m\u001b[0mself\u001b[0m\u001b[0;34m)\u001b[0m\u001b[0;34m:\u001b[0m\u001b[0;34m\u001b[0m\u001b[0;34m\u001b[0m\u001b[0m\n",
            "\u001b[0;32m/usr/local/lib/python3.7/dist-packages/fastai/learner.py\u001b[0m in \u001b[0;36mone_batch\u001b[0;34m(self, i, b)\u001b[0m\n\u001b[1;32m    182\u001b[0m         \u001b[0mself\u001b[0m\u001b[0;34m.\u001b[0m\u001b[0miter\u001b[0m \u001b[0;34m=\u001b[0m \u001b[0mi\u001b[0m\u001b[0;34m\u001b[0m\u001b[0;34m\u001b[0m\u001b[0m\n\u001b[1;32m    183\u001b[0m         \u001b[0mself\u001b[0m\u001b[0;34m.\u001b[0m\u001b[0m_split\u001b[0m\u001b[0;34m(\u001b[0m\u001b[0mb\u001b[0m\u001b[0;34m)\u001b[0m\u001b[0;34m\u001b[0m\u001b[0;34m\u001b[0m\u001b[0m\n\u001b[0;32m--> 184\u001b[0;31m         \u001b[0mself\u001b[0m\u001b[0;34m.\u001b[0m\u001b[0m_with_events\u001b[0m\u001b[0;34m(\u001b[0m\u001b[0mself\u001b[0m\u001b[0;34m.\u001b[0m\u001b[0m_do_one_batch\u001b[0m\u001b[0;34m,\u001b[0m \u001b[0;34m'batch'\u001b[0m\u001b[0;34m,\u001b[0m \u001b[0mCancelBatchException\u001b[0m\u001b[0;34m)\u001b[0m\u001b[0;34m\u001b[0m\u001b[0;34m\u001b[0m\u001b[0m\n\u001b[0m\u001b[1;32m    185\u001b[0m \u001b[0;34m\u001b[0m\u001b[0m\n\u001b[1;32m    186\u001b[0m     \u001b[0;32mdef\u001b[0m \u001b[0m_do_epoch_train\u001b[0m\u001b[0;34m(\u001b[0m\u001b[0mself\u001b[0m\u001b[0;34m)\u001b[0m\u001b[0;34m:\u001b[0m\u001b[0;34m\u001b[0m\u001b[0;34m\u001b[0m\u001b[0m\n",
            "\u001b[0;32m/usr/local/lib/python3.7/dist-packages/fastai/learner.py\u001b[0m in \u001b[0;36m_with_events\u001b[0;34m(self, f, event_type, ex, final)\u001b[0m\n\u001b[1;32m    158\u001b[0m \u001b[0;34m\u001b[0m\u001b[0m\n\u001b[1;32m    159\u001b[0m     \u001b[0;32mdef\u001b[0m \u001b[0m_with_events\u001b[0m\u001b[0;34m(\u001b[0m\u001b[0mself\u001b[0m\u001b[0;34m,\u001b[0m \u001b[0mf\u001b[0m\u001b[0;34m,\u001b[0m \u001b[0mevent_type\u001b[0m\u001b[0;34m,\u001b[0m \u001b[0mex\u001b[0m\u001b[0;34m,\u001b[0m \u001b[0mfinal\u001b[0m\u001b[0;34m=\u001b[0m\u001b[0mnoop\u001b[0m\u001b[0;34m)\u001b[0m\u001b[0;34m:\u001b[0m\u001b[0;34m\u001b[0m\u001b[0;34m\u001b[0m\u001b[0m\n\u001b[0;32m--> 160\u001b[0;31m         \u001b[0;32mtry\u001b[0m\u001b[0;34m:\u001b[0m \u001b[0mself\u001b[0m\u001b[0;34m(\u001b[0m\u001b[0;34mf'before_{event_type}'\u001b[0m\u001b[0;34m)\u001b[0m\u001b[0;34m;\u001b[0m  \u001b[0mf\u001b[0m\u001b[0;34m(\u001b[0m\u001b[0;34m)\u001b[0m\u001b[0;34m\u001b[0m\u001b[0;34m\u001b[0m\u001b[0m\n\u001b[0m\u001b[1;32m    161\u001b[0m         \u001b[0;32mexcept\u001b[0m \u001b[0mex\u001b[0m\u001b[0;34m:\u001b[0m \u001b[0mself\u001b[0m\u001b[0;34m(\u001b[0m\u001b[0;34mf'after_cancel_{event_type}'\u001b[0m\u001b[0;34m)\u001b[0m\u001b[0;34m\u001b[0m\u001b[0;34m\u001b[0m\u001b[0m\n\u001b[1;32m    162\u001b[0m         \u001b[0mself\u001b[0m\u001b[0;34m(\u001b[0m\u001b[0;34mf'after_{event_type}'\u001b[0m\u001b[0;34m)\u001b[0m\u001b[0;34m;\u001b[0m  \u001b[0mfinal\u001b[0m\u001b[0;34m(\u001b[0m\u001b[0;34m)\u001b[0m\u001b[0;34m\u001b[0m\u001b[0;34m\u001b[0m\u001b[0m\n",
            "\u001b[0;32m/usr/local/lib/python3.7/dist-packages/fastai/learner.py\u001b[0m in \u001b[0;36m_do_one_batch\u001b[0;34m(self)\u001b[0m\n\u001b[1;32m    175\u001b[0m         \u001b[0;32mif\u001b[0m \u001b[0;32mnot\u001b[0m \u001b[0mself\u001b[0m\u001b[0;34m.\u001b[0m\u001b[0mtraining\u001b[0m \u001b[0;32mor\u001b[0m \u001b[0;32mnot\u001b[0m \u001b[0mlen\u001b[0m\u001b[0;34m(\u001b[0m\u001b[0mself\u001b[0m\u001b[0;34m.\u001b[0m\u001b[0myb\u001b[0m\u001b[0;34m)\u001b[0m\u001b[0;34m:\u001b[0m \u001b[0;32mreturn\u001b[0m\u001b[0;34m\u001b[0m\u001b[0;34m\u001b[0m\u001b[0m\n\u001b[1;32m    176\u001b[0m         \u001b[0mself\u001b[0m\u001b[0;34m(\u001b[0m\u001b[0;34m'before_backward'\u001b[0m\u001b[0;34m)\u001b[0m\u001b[0;34m\u001b[0m\u001b[0;34m\u001b[0m\u001b[0m\n\u001b[0;32m--> 177\u001b[0;31m         \u001b[0mself\u001b[0m\u001b[0;34m.\u001b[0m\u001b[0mloss_grad\u001b[0m\u001b[0;34m.\u001b[0m\u001b[0mbackward\u001b[0m\u001b[0;34m(\u001b[0m\u001b[0;34m)\u001b[0m\u001b[0;34m\u001b[0m\u001b[0;34m\u001b[0m\u001b[0m\n\u001b[0m\u001b[1;32m    178\u001b[0m         \u001b[0mself\u001b[0m\u001b[0;34m.\u001b[0m\u001b[0m_with_events\u001b[0m\u001b[0;34m(\u001b[0m\u001b[0mself\u001b[0m\u001b[0;34m.\u001b[0m\u001b[0mopt\u001b[0m\u001b[0;34m.\u001b[0m\u001b[0mstep\u001b[0m\u001b[0;34m,\u001b[0m \u001b[0;34m'step'\u001b[0m\u001b[0;34m,\u001b[0m \u001b[0mCancelStepException\u001b[0m\u001b[0;34m)\u001b[0m\u001b[0;34m\u001b[0m\u001b[0;34m\u001b[0m\u001b[0m\n\u001b[1;32m    179\u001b[0m         \u001b[0mself\u001b[0m\u001b[0;34m.\u001b[0m\u001b[0mopt\u001b[0m\u001b[0;34m.\u001b[0m\u001b[0mzero_grad\u001b[0m\u001b[0;34m(\u001b[0m\u001b[0;34m)\u001b[0m\u001b[0;34m\u001b[0m\u001b[0;34m\u001b[0m\u001b[0m\n",
            "\u001b[0;32m/usr/local/lib/python3.7/dist-packages/torch/tensor.py\u001b[0m in \u001b[0;36mbackward\u001b[0;34m(self, gradient, retain_graph, create_graph)\u001b[0m\n\u001b[1;32m    218\u001b[0m                 \u001b[0mgradient\u001b[0m\u001b[0;34m=\u001b[0m\u001b[0mgradient\u001b[0m\u001b[0;34m,\u001b[0m\u001b[0;34m\u001b[0m\u001b[0;34m\u001b[0m\u001b[0m\n\u001b[1;32m    219\u001b[0m                 \u001b[0mretain_graph\u001b[0m\u001b[0;34m=\u001b[0m\u001b[0mretain_graph\u001b[0m\u001b[0;34m,\u001b[0m\u001b[0;34m\u001b[0m\u001b[0;34m\u001b[0m\u001b[0m\n\u001b[0;32m--> 220\u001b[0;31m                 create_graph=create_graph)\n\u001b[0m\u001b[1;32m    221\u001b[0m         \u001b[0mtorch\u001b[0m\u001b[0;34m.\u001b[0m\u001b[0mautograd\u001b[0m\u001b[0;34m.\u001b[0m\u001b[0mbackward\u001b[0m\u001b[0;34m(\u001b[0m\u001b[0mself\u001b[0m\u001b[0;34m,\u001b[0m \u001b[0mgradient\u001b[0m\u001b[0;34m,\u001b[0m \u001b[0mretain_graph\u001b[0m\u001b[0;34m,\u001b[0m \u001b[0mcreate_graph\u001b[0m\u001b[0;34m)\u001b[0m\u001b[0;34m\u001b[0m\u001b[0;34m\u001b[0m\u001b[0m\n\u001b[1;32m    222\u001b[0m \u001b[0;34m\u001b[0m\u001b[0m\n",
            "\u001b[0;32m/usr/local/lib/python3.7/dist-packages/torch/overrides.py\u001b[0m in \u001b[0;36mhandle_torch_function\u001b[0;34m(public_api, relevant_args, *args, **kwargs)\u001b[0m\n\u001b[1;32m   1061\u001b[0m         \u001b[0;31m# Use `public_api` instead of `implementation` so __torch_function__\u001b[0m\u001b[0;34m\u001b[0m\u001b[0;34m\u001b[0m\u001b[0;34m\u001b[0m\u001b[0m\n\u001b[1;32m   1062\u001b[0m         \u001b[0;31m# implementations can do equality/identity comparisons.\u001b[0m\u001b[0;34m\u001b[0m\u001b[0;34m\u001b[0m\u001b[0;34m\u001b[0m\u001b[0m\n\u001b[0;32m-> 1063\u001b[0;31m         \u001b[0mresult\u001b[0m \u001b[0;34m=\u001b[0m \u001b[0moverloaded_arg\u001b[0m\u001b[0;34m.\u001b[0m\u001b[0m__torch_function__\u001b[0m\u001b[0;34m(\u001b[0m\u001b[0mpublic_api\u001b[0m\u001b[0;34m,\u001b[0m \u001b[0mtypes\u001b[0m\u001b[0;34m,\u001b[0m \u001b[0margs\u001b[0m\u001b[0;34m,\u001b[0m \u001b[0mkwargs\u001b[0m\u001b[0;34m)\u001b[0m\u001b[0;34m\u001b[0m\u001b[0;34m\u001b[0m\u001b[0m\n\u001b[0m\u001b[1;32m   1064\u001b[0m \u001b[0;34m\u001b[0m\u001b[0m\n\u001b[1;32m   1065\u001b[0m         \u001b[0;32mif\u001b[0m \u001b[0mresult\u001b[0m \u001b[0;32mis\u001b[0m \u001b[0;32mnot\u001b[0m \u001b[0mNotImplemented\u001b[0m\u001b[0;34m:\u001b[0m\u001b[0;34m\u001b[0m\u001b[0;34m\u001b[0m\u001b[0m\n",
            "\u001b[0;32m/usr/local/lib/python3.7/dist-packages/fastai/torch_core.py\u001b[0m in \u001b[0;36m__torch_function__\u001b[0;34m(self, func, types, args, kwargs)\u001b[0m\n\u001b[1;32m    327\u001b[0m         \u001b[0mconvert\u001b[0m\u001b[0;34m=\u001b[0m\u001b[0;32mFalse\u001b[0m\u001b[0;34m\u001b[0m\u001b[0;34m\u001b[0m\u001b[0m\n\u001b[1;32m    328\u001b[0m         \u001b[0;32mif\u001b[0m \u001b[0m_torch_handled\u001b[0m\u001b[0;34m(\u001b[0m\u001b[0margs\u001b[0m\u001b[0;34m,\u001b[0m \u001b[0mself\u001b[0m\u001b[0;34m.\u001b[0m\u001b[0m_opt\u001b[0m\u001b[0;34m,\u001b[0m \u001b[0mfunc\u001b[0m\u001b[0;34m)\u001b[0m\u001b[0;34m:\u001b[0m \u001b[0mconvert\u001b[0m\u001b[0;34m,\u001b[0m\u001b[0mtypes\u001b[0m \u001b[0;34m=\u001b[0m \u001b[0mtype\u001b[0m\u001b[0;34m(\u001b[0m\u001b[0mself\u001b[0m\u001b[0;34m)\u001b[0m\u001b[0;34m,\u001b[0m\u001b[0;34m(\u001b[0m\u001b[0mtorch\u001b[0m\u001b[0;34m.\u001b[0m\u001b[0mTensor\u001b[0m\u001b[0;34m,\u001b[0m\u001b[0;34m)\u001b[0m\u001b[0;34m\u001b[0m\u001b[0;34m\u001b[0m\u001b[0m\n\u001b[0;32m--> 329\u001b[0;31m         \u001b[0mres\u001b[0m \u001b[0;34m=\u001b[0m \u001b[0msuper\u001b[0m\u001b[0;34m(\u001b[0m\u001b[0;34m)\u001b[0m\u001b[0;34m.\u001b[0m\u001b[0m__torch_function__\u001b[0m\u001b[0;34m(\u001b[0m\u001b[0mfunc\u001b[0m\u001b[0;34m,\u001b[0m \u001b[0mtypes\u001b[0m\u001b[0;34m,\u001b[0m \u001b[0margs\u001b[0m\u001b[0;34m=\u001b[0m\u001b[0margs\u001b[0m\u001b[0;34m,\u001b[0m \u001b[0mkwargs\u001b[0m\u001b[0;34m=\u001b[0m\u001b[0mkwargs\u001b[0m\u001b[0;34m)\u001b[0m\u001b[0;34m\u001b[0m\u001b[0;34m\u001b[0m\u001b[0m\n\u001b[0m\u001b[1;32m    330\u001b[0m         \u001b[0;32mif\u001b[0m \u001b[0mconvert\u001b[0m\u001b[0;34m:\u001b[0m \u001b[0mres\u001b[0m \u001b[0;34m=\u001b[0m \u001b[0mconvert\u001b[0m\u001b[0;34m(\u001b[0m\u001b[0mres\u001b[0m\u001b[0;34m)\u001b[0m\u001b[0;34m\u001b[0m\u001b[0;34m\u001b[0m\u001b[0m\n\u001b[1;32m    331\u001b[0m         \u001b[0;32mif\u001b[0m \u001b[0misinstance\u001b[0m\u001b[0;34m(\u001b[0m\u001b[0mres\u001b[0m\u001b[0;34m,\u001b[0m \u001b[0mTensorBase\u001b[0m\u001b[0;34m)\u001b[0m\u001b[0;34m:\u001b[0m \u001b[0mres\u001b[0m\u001b[0;34m.\u001b[0m\u001b[0mset_meta\u001b[0m\u001b[0;34m(\u001b[0m\u001b[0mself\u001b[0m\u001b[0;34m,\u001b[0m \u001b[0mas_copy\u001b[0m\u001b[0;34m=\u001b[0m\u001b[0;32mTrue\u001b[0m\u001b[0;34m)\u001b[0m\u001b[0;34m\u001b[0m\u001b[0;34m\u001b[0m\u001b[0m\n",
            "\u001b[0;32m/usr/local/lib/python3.7/dist-packages/torch/tensor.py\u001b[0m in \u001b[0;36m__torch_function__\u001b[0;34m(cls, func, types, args, kwargs)\u001b[0m\n\u001b[1;32m    993\u001b[0m \u001b[0;34m\u001b[0m\u001b[0m\n\u001b[1;32m    994\u001b[0m         \u001b[0;32mwith\u001b[0m \u001b[0m_C\u001b[0m\u001b[0;34m.\u001b[0m\u001b[0mDisableTorchFunction\u001b[0m\u001b[0;34m(\u001b[0m\u001b[0;34m)\u001b[0m\u001b[0;34m:\u001b[0m\u001b[0;34m\u001b[0m\u001b[0;34m\u001b[0m\u001b[0m\n\u001b[0;32m--> 995\u001b[0;31m             \u001b[0mret\u001b[0m \u001b[0;34m=\u001b[0m \u001b[0mfunc\u001b[0m\u001b[0;34m(\u001b[0m\u001b[0;34m*\u001b[0m\u001b[0margs\u001b[0m\u001b[0;34m,\u001b[0m \u001b[0;34m**\u001b[0m\u001b[0mkwargs\u001b[0m\u001b[0;34m)\u001b[0m\u001b[0;34m\u001b[0m\u001b[0;34m\u001b[0m\u001b[0m\n\u001b[0m\u001b[1;32m    996\u001b[0m             \u001b[0;32mreturn\u001b[0m \u001b[0m_convert\u001b[0m\u001b[0;34m(\u001b[0m\u001b[0mret\u001b[0m\u001b[0;34m,\u001b[0m \u001b[0mcls\u001b[0m\u001b[0;34m)\u001b[0m\u001b[0;34m\u001b[0m\u001b[0;34m\u001b[0m\u001b[0m\n\u001b[1;32m    997\u001b[0m \u001b[0;34m\u001b[0m\u001b[0m\n",
            "\u001b[0;32m/usr/local/lib/python3.7/dist-packages/torch/tensor.py\u001b[0m in \u001b[0;36mbackward\u001b[0;34m(self, gradient, retain_graph, create_graph)\u001b[0m\n\u001b[1;32m    219\u001b[0m                 \u001b[0mretain_graph\u001b[0m\u001b[0;34m=\u001b[0m\u001b[0mretain_graph\u001b[0m\u001b[0;34m,\u001b[0m\u001b[0;34m\u001b[0m\u001b[0;34m\u001b[0m\u001b[0m\n\u001b[1;32m    220\u001b[0m                 create_graph=create_graph)\n\u001b[0;32m--> 221\u001b[0;31m         \u001b[0mtorch\u001b[0m\u001b[0;34m.\u001b[0m\u001b[0mautograd\u001b[0m\u001b[0;34m.\u001b[0m\u001b[0mbackward\u001b[0m\u001b[0;34m(\u001b[0m\u001b[0mself\u001b[0m\u001b[0;34m,\u001b[0m \u001b[0mgradient\u001b[0m\u001b[0;34m,\u001b[0m \u001b[0mretain_graph\u001b[0m\u001b[0;34m,\u001b[0m \u001b[0mcreate_graph\u001b[0m\u001b[0;34m)\u001b[0m\u001b[0;34m\u001b[0m\u001b[0;34m\u001b[0m\u001b[0m\n\u001b[0m\u001b[1;32m    222\u001b[0m \u001b[0;34m\u001b[0m\u001b[0m\n\u001b[1;32m    223\u001b[0m     \u001b[0;32mdef\u001b[0m \u001b[0mregister_hook\u001b[0m\u001b[0;34m(\u001b[0m\u001b[0mself\u001b[0m\u001b[0;34m,\u001b[0m \u001b[0mhook\u001b[0m\u001b[0;34m)\u001b[0m\u001b[0;34m:\u001b[0m\u001b[0;34m\u001b[0m\u001b[0;34m\u001b[0m\u001b[0m\n",
            "\u001b[0;32m/usr/local/lib/python3.7/dist-packages/torch/autograd/__init__.py\u001b[0m in \u001b[0;36mbackward\u001b[0;34m(tensors, grad_tensors, retain_graph, create_graph, grad_variables)\u001b[0m\n\u001b[1;32m    130\u001b[0m     Variable._execution_engine.run_backward(\n\u001b[1;32m    131\u001b[0m         \u001b[0mtensors\u001b[0m\u001b[0;34m,\u001b[0m \u001b[0mgrad_tensors_\u001b[0m\u001b[0;34m,\u001b[0m \u001b[0mretain_graph\u001b[0m\u001b[0;34m,\u001b[0m \u001b[0mcreate_graph\u001b[0m\u001b[0;34m,\u001b[0m\u001b[0;34m\u001b[0m\u001b[0;34m\u001b[0m\u001b[0m\n\u001b[0;32m--> 132\u001b[0;31m         allow_unreachable=True)  # allow_unreachable flag\n\u001b[0m\u001b[1;32m    133\u001b[0m \u001b[0;34m\u001b[0m\u001b[0m\n\u001b[1;32m    134\u001b[0m \u001b[0;34m\u001b[0m\u001b[0m\n",
            "\u001b[0;31mKeyboardInterrupt\u001b[0m: "
          ]
        },
        {
          "output_type": "display_data",
          "data": {
            "image/png": "[encoded data removed]",
            "text/plain": [
              "<Figure size 432x432 with 1 Axes>"
            ]
          },
          "metadata": {
            "tags": [],
            "needs_background": "light"
          }
        }
      ]
    },
    {
      "cell_type": "markdown",
      "metadata": {
        "id": "fpHEpTf6MfJg"
      },
      "source": [
        "So the final metrics look good but looking at the graph from the prediction dynamics there are some interesting results for the model.\r\n",
        "\r\n",
        "1. It predicts lower `FM1` more accurately\r\n",
        "2. It under predicts `FM1` in the mid range\r\n",
        "3. It over predicts `FM1` in the upper range\r\n",
        "\r\n",
        "In the context of the problem it is better to **over predict** `FM1` given we want to catch high flow rates before they get out of control. So the problematic area of predict in my opinion is point **2**. Point **3** I don't see it being as problematic as it may seem as it is over predicting but that would mean someone would look into it."
      ]
    },
    {
      "cell_type": "markdown",
      "metadata": {
        "id": "qmcw3KqVKn3Y"
      },
      "source": [
        "## **Comparing models**\r\n",
        "The baseline model doesn't have any hyperparameter tweaks. After experimenting with different hyperparameters the results can vary significantly for this particular problem. I do not want to spend time guessing hyperparameters so a mini grid search loop has been created to find potentially optimal values (bayesian optimisation could also be used but I want a more exhaustive search)."
      ]
    },
    {
      "cell_type": "code",
      "metadata": {
        "id": "SfcAVLFmn07b",
        "colab": {
          "base_uri": "https://localhost:8080/"
        },
        "outputId": "ee92ff43-7573-40f9-bc5a-f5c6eadee63c"
      },
      "source": [
        "archs = []\r\n",
        "\r\n",
        "# Create InceptionTime models with different hyperparameters\r\n",
        "for y in range(10, 14):\r\n",
        "  for x in range(1, 10):\r\n",
        "    archs.append((InceptionTime, {\"nf\" : y,\r\n",
        "                                  \"ks\" : x * 5}))\r\n",
        "\r\n",
        "archs[0:5]"
      ],
      "execution_count": 140,
      "outputs": [
        {
          "output_type": "execute_result",
          "data": {
            "text/plain": [
              "[(tsai.models.InceptionTime.InceptionTime, {'ks': 5, 'nf': 10}),\n",
              " (tsai.models.InceptionTime.InceptionTime, {'ks': 10, 'nf': 10}),\n",
              " (tsai.models.InceptionTime.InceptionTime, {'ks': 15, 'nf': 10}),\n",
              " (tsai.models.InceptionTime.InceptionTime, {'ks': 20, 'nf': 10}),\n",
              " (tsai.models.InceptionTime.InceptionTime, {'ks': 25, 'nf': 10})]"
            ]
          },
          "metadata": {
            "tags": []
          },
          "execution_count": 140
        }
      ]
    },
    {
      "cell_type": "markdown",
      "metadata": {
        "id": "nWUp6OVkKvjC"
      },
      "source": [
        "## Run the grid search"
      ]
    },
    {
      "cell_type": "code",
      "metadata": {
        "colab": {
          "base_uri": "https://localhost:8080/",
          "height": 1000
        },
        "id": "KnBANri2AQEi",
        "outputId": "5bbf0ee0-1e81-412f-c25e-147263f487ea"
      },
      "source": [
        "results = pd.DataFrame(columns=['arch', 'hyperparams', 'total params', 'train loss', 'valid loss', 'mae', 'time']) # Create dataframe for results\r\n",
        "\r\n",
        "for i, (arch, k) in enumerate(archs):\r\n",
        "    \r\n",
        "    # Initialise the model\r\n",
        "    model = create_model(arch, dls = dls, **k)\r\n",
        "    print(model.__class__.__name__)\r\n",
        "    \r\n",
        "    # Create the fastai/tsai learner\r\n",
        "    learn = Learner(dls, model,  metrics = mae, loss_func = loss_func)\r\n",
        "\r\n",
        "    # Initialise the start time\r\n",
        "    start = time.time()\r\n",
        "\r\n",
        "    # Fit for \r\n",
        "    # - 50 epochs\r\n",
        "    # - 1e-4 learning rate\r\n",
        "    # - 0.01 weight decay\r\n",
        "    # - Print the actual vs predicted graph using PredictionDynamics callback after each epoch\r\n",
        "    learn.fine_tune(50, 1e-4, cbs = PredictionDynamics, wd = 0.01)\r\n",
        "\r\n",
        "    # Calculate and store time taken\r\n",
        "    elapsed = time.time() - start\r\n",
        "    \r\n",
        "    # Take the results and store them in the results dataframe\r\n",
        "    vals = learn.recorder.values[-1]\r\n",
        "    results.loc[i] = [arch.__name__, k, total_params(model)[0], vals[0], vals[1], vals[2], int(elapsed)]\r\n",
        "    \r\n",
        "    # Sort the results by mae and display the current results\r\n",
        "    results.sort_values(by = 'mae', ascending = True, ignore_index = True, inplace = True)\r\n",
        "    clear_output()\r\n",
        "    display(results)"
      ],
      "execution_count": 141,
      "outputs": [
        {
          "output_type": "display_data",
          "data": {
            "text/html": [
              "<div>\n",
              "<style scoped>\n",
              "    .dataframe tbody tr th:only-of-type {\n",
              "        vertical-align: middle;\n",
              "    }\n",
              "\n",
              "    .dataframe tbody tr th {\n",
              "        vertical-align: top;\n",
              "    }\n",
              "\n",
              "    .dataframe thead th {\n",
              "        text-align: right;\n",
              "    }\n",
              "</style>\n",
              "<table border=\"1\" class=\"dataframe\">\n",
              "  <thead>\n",
              "    <tr style=\"text-align: right;\">\n",
              "      <th></th>\n",
              "      <th>arch</th>\n",
              "      <th>hyperparams</th>\n",
              "      <th>total params</th>\n",
              "      <th>train loss</th>\n",
              "      <th>valid loss</th>\n",
              "      <th>mae</th>\n",
              "      <th>time</th>\n",
              "    </tr>\n",
              "  </thead>\n",
              "  <tbody>\n",
              "    <tr>\n",
              "      <th>0</th>\n",
              "      <td>InceptionTime</td>\n",
              "      <td>{'nf': 12, 'ks': 45}</td>\n",
              "      <td>63001</td>\n",
              "      <td>0.024446</td>\n",
              "      <td>0.018491</td>\n",
              "      <td>0.017499</td>\n",
              "      <td>93</td>\n",
              "    </tr>\n",
              "    <tr>\n",
              "      <th>1</th>\n",
              "      <td>InceptionTime</td>\n",
              "      <td>{'nf': 12, 'ks': 40}</td>\n",
              "      <td>55681</td>\n",
              "      <td>0.021629</td>\n",
              "      <td>0.020440</td>\n",
              "      <td>0.019492</td>\n",
              "      <td>91</td>\n",
              "    </tr>\n",
              "    <tr>\n",
              "      <th>2</th>\n",
              "      <td>InceptionTime</td>\n",
              "      <td>{'nf': 11, 'ks': 30}</td>\n",
              "      <td>37060</td>\n",
              "      <td>0.031709</td>\n",
              "      <td>0.023301</td>\n",
              "      <td>0.022132</td>\n",
              "      <td>92</td>\n",
              "    </tr>\n",
              "    <tr>\n",
              "      <th>3</th>\n",
              "      <td>InceptionTime</td>\n",
              "      <td>{'nf': 12, 'ks': 35}</td>\n",
              "      <td>49825</td>\n",
              "      <td>0.025541</td>\n",
              "      <td>0.025425</td>\n",
              "      <td>0.024102</td>\n",
              "      <td>91</td>\n",
              "    </tr>\n",
              "    <tr>\n",
              "      <th>4</th>\n",
              "      <td>InceptionTime</td>\n",
              "      <td>{'nf': 10, 'ks': 30}</td>\n",
              "      <td>30741</td>\n",
              "      <td>0.024362</td>\n",
              "      <td>0.025716</td>\n",
              "      <td>0.024422</td>\n",
              "      <td>95</td>\n",
              "    </tr>\n",
              "    <tr>\n",
              "      <th>5</th>\n",
              "      <td>InceptionTime</td>\n",
              "      <td>{'nf': 11, 'ks': 20}</td>\n",
              "      <td>25972</td>\n",
              "      <td>0.026715</td>\n",
              "      <td>0.025581</td>\n",
              "      <td>0.024484</td>\n",
              "      <td>92</td>\n",
              "    </tr>\n",
              "    <tr>\n",
              "      <th>6</th>\n",
              "      <td>InceptionTime</td>\n",
              "      <td>{'nf': 12, 'ks': 25}</td>\n",
              "      <td>36649</td>\n",
              "      <td>0.024696</td>\n",
              "      <td>0.025941</td>\n",
              "      <td>0.024611</td>\n",
              "      <td>92</td>\n",
              "    </tr>\n",
              "    <tr>\n",
              "      <th>7</th>\n",
              "      <td>InceptionTime</td>\n",
              "      <td>{'nf': 11, 'ks': 45}</td>\n",
              "      <td>53076</td>\n",
              "      <td>0.027919</td>\n",
              "      <td>0.025915</td>\n",
              "      <td>0.024807</td>\n",
              "      <td>91</td>\n",
              "    </tr>\n",
              "    <tr>\n",
              "      <th>8</th>\n",
              "      <td>InceptionTime</td>\n",
              "      <td>{'nf': 13, 'ks': 20}</td>\n",
              "      <td>36024</td>\n",
              "      <td>0.026509</td>\n",
              "      <td>0.026893</td>\n",
              "      <td>0.025680</td>\n",
              "      <td>91</td>\n",
              "    </tr>\n",
              "    <tr>\n",
              "      <th>9</th>\n",
              "      <td>InceptionTime</td>\n",
              "      <td>{'nf': 10, 'ks': 45}</td>\n",
              "      <td>44001</td>\n",
              "      <td>0.024098</td>\n",
              "      <td>0.027741</td>\n",
              "      <td>0.026356</td>\n",
              "      <td>93</td>\n",
              "    </tr>\n",
              "    <tr>\n",
              "      <th>10</th>\n",
              "      <td>InceptionTime</td>\n",
              "      <td>{'nf': 13, 'ks': 10}</td>\n",
              "      <td>20580</td>\n",
              "      <td>0.030050</td>\n",
              "      <td>0.028427</td>\n",
              "      <td>0.026846</td>\n",
              "      <td>91</td>\n",
              "    </tr>\n",
              "    <tr>\n",
              "      <th>11</th>\n",
              "      <td>InceptionTime</td>\n",
              "      <td>{'nf': 10, 'ks': 20}</td>\n",
              "      <td>21561</td>\n",
              "      <td>0.026988</td>\n",
              "      <td>0.028416</td>\n",
              "      <td>0.026989</td>\n",
              "      <td>93</td>\n",
              "    </tr>\n",
              "    <tr>\n",
              "      <th>12</th>\n",
              "      <td>InceptionTime</td>\n",
              "      <td>{'nf': 13, 'ks': 15}</td>\n",
              "      <td>29160</td>\n",
              "      <td>0.026588</td>\n",
              "      <td>0.029272</td>\n",
              "      <td>0.027811</td>\n",
              "      <td>92</td>\n",
              "    </tr>\n",
              "    <tr>\n",
              "      <th>13</th>\n",
              "      <td>InceptionTime</td>\n",
              "      <td>{'nf': 13, 'ks': 35}</td>\n",
              "      <td>58332</td>\n",
              "      <td>0.023851</td>\n",
              "      <td>0.029663</td>\n",
              "      <td>0.028095</td>\n",
              "      <td>91</td>\n",
              "    </tr>\n",
              "    <tr>\n",
              "      <th>14</th>\n",
              "      <td>InceptionTime</td>\n",
              "      <td>{'nf': 12, 'ks': 30}</td>\n",
              "      <td>43969</td>\n",
              "      <td>0.025127</td>\n",
              "      <td>0.030010</td>\n",
              "      <td>0.028432</td>\n",
              "      <td>92</td>\n",
              "    </tr>\n",
              "    <tr>\n",
              "      <th>15</th>\n",
              "      <td>InceptionTime</td>\n",
              "      <td>{'nf': 11, 'ks': 25}</td>\n",
              "      <td>30900</td>\n",
              "      <td>0.027992</td>\n",
              "      <td>0.030567</td>\n",
              "      <td>0.029001</td>\n",
              "      <td>93</td>\n",
              "    </tr>\n",
              "    <tr>\n",
              "      <th>16</th>\n",
              "      <td>InceptionTime</td>\n",
              "      <td>{'nf': 10, 'ks': 35}</td>\n",
              "      <td>34821</td>\n",
              "      <td>0.024853</td>\n",
              "      <td>0.030825</td>\n",
              "      <td>0.029399</td>\n",
              "      <td>94</td>\n",
              "    </tr>\n",
              "    <tr>\n",
              "      <th>17</th>\n",
              "      <td>InceptionTime</td>\n",
              "      <td>{'nf': 10, 'ks': 15}</td>\n",
              "      <td>17481</td>\n",
              "      <td>0.033653</td>\n",
              "      <td>0.032685</td>\n",
              "      <td>0.031234</td>\n",
              "      <td>95</td>\n",
              "    </tr>\n",
              "    <tr>\n",
              "      <th>18</th>\n",
              "      <td>InceptionTime</td>\n",
              "      <td>{'nf': 11, 'ks': 5}</td>\n",
              "      <td>9956</td>\n",
              "      <td>0.033451</td>\n",
              "      <td>0.032898</td>\n",
              "      <td>0.031264</td>\n",
              "      <td>93</td>\n",
              "    </tr>\n",
              "    <tr>\n",
              "      <th>19</th>\n",
              "      <td>InceptionTime</td>\n",
              "      <td>{'nf': 10, 'ks': 10}</td>\n",
              "      <td>12381</td>\n",
              "      <td>0.036427</td>\n",
              "      <td>0.033642</td>\n",
              "      <td>0.031772</td>\n",
              "      <td>94</td>\n",
              "    </tr>\n",
              "    <tr>\n",
              "      <th>20</th>\n",
              "      <td>InceptionTime</td>\n",
              "      <td>{'nf': 12, 'ks': 20}</td>\n",
              "      <td>30793</td>\n",
              "      <td>0.024959</td>\n",
              "      <td>0.033497</td>\n",
              "      <td>0.031920</td>\n",
              "      <td>91</td>\n",
              "    </tr>\n",
              "    <tr>\n",
              "      <th>21</th>\n",
              "      <td>InceptionTime</td>\n",
              "      <td>{'nf': 13, 'ks': 40}</td>\n",
              "      <td>65196</td>\n",
              "      <td>0.024001</td>\n",
              "      <td>0.033441</td>\n",
              "      <td>0.032074</td>\n",
              "      <td>89</td>\n",
              "    </tr>\n",
              "    <tr>\n",
              "      <th>22</th>\n",
              "      <td>InceptionTime</td>\n",
              "      <td>{'nf': 11, 'ks': 35}</td>\n",
              "      <td>41988</td>\n",
              "      <td>0.026340</td>\n",
              "      <td>0.033934</td>\n",
              "      <td>0.032235</td>\n",
              "      <td>91</td>\n",
              "    </tr>\n",
              "    <tr>\n",
              "      <th>23</th>\n",
              "      <td>InceptionTime</td>\n",
              "      <td>{'nf': 13, 'ks': 25}</td>\n",
              "      <td>42888</td>\n",
              "      <td>0.023891</td>\n",
              "      <td>0.034341</td>\n",
              "      <td>0.032547</td>\n",
              "      <td>92</td>\n",
              "    </tr>\n",
              "    <tr>\n",
              "      <th>24</th>\n",
              "      <td>InceptionTime</td>\n",
              "      <td>{'nf': 10, 'ks': 25}</td>\n",
              "      <td>25641</td>\n",
              "      <td>0.031113</td>\n",
              "      <td>0.034572</td>\n",
              "      <td>0.032975</td>\n",
              "      <td>93</td>\n",
              "    </tr>\n",
              "    <tr>\n",
              "      <th>25</th>\n",
              "      <td>InceptionTime</td>\n",
              "      <td>{'nf': 11, 'ks': 15}</td>\n",
              "      <td>21044</td>\n",
              "      <td>0.026169</td>\n",
              "      <td>0.034868</td>\n",
              "      <td>0.033393</td>\n",
              "      <td>93</td>\n",
              "    </tr>\n",
              "    <tr>\n",
              "      <th>26</th>\n",
              "      <td>InceptionTime</td>\n",
              "      <td>{'nf': 11, 'ks': 10}</td>\n",
              "      <td>14884</td>\n",
              "      <td>0.030835</td>\n",
              "      <td>0.035509</td>\n",
              "      <td>0.033914</td>\n",
              "      <td>92</td>\n",
              "    </tr>\n",
              "    <tr>\n",
              "      <th>27</th>\n",
              "      <td>InceptionTime</td>\n",
              "      <td>{'nf': 12, 'ks': 5}</td>\n",
              "      <td>11761</td>\n",
              "      <td>0.037890</td>\n",
              "      <td>0.036444</td>\n",
              "      <td>0.034502</td>\n",
              "      <td>92</td>\n",
              "    </tr>\n",
              "    <tr>\n",
              "      <th>28</th>\n",
              "      <td>InceptionTime</td>\n",
              "      <td>{'nf': 10, 'ks': 5}</td>\n",
              "      <td>8301</td>\n",
              "      <td>0.035080</td>\n",
              "      <td>0.037058</td>\n",
              "      <td>0.035410</td>\n",
              "      <td>96</td>\n",
              "    </tr>\n",
              "    <tr>\n",
              "      <th>29</th>\n",
              "      <td>InceptionTime</td>\n",
              "      <td>{'nf': 13, 'ks': 30}</td>\n",
              "      <td>51468</td>\n",
              "      <td>0.025370</td>\n",
              "      <td>0.038461</td>\n",
              "      <td>0.036563</td>\n",
              "      <td>91</td>\n",
              "    </tr>\n",
              "    <tr>\n",
              "      <th>30</th>\n",
              "      <td>InceptionTime</td>\n",
              "      <td>{'nf': 10, 'ks': 40}</td>\n",
              "      <td>38901</td>\n",
              "      <td>0.028305</td>\n",
              "      <td>0.041362</td>\n",
              "      <td>0.039384</td>\n",
              "      <td>92</td>\n",
              "    </tr>\n",
              "    <tr>\n",
              "      <th>31</th>\n",
              "      <td>InceptionTime</td>\n",
              "      <td>{'nf': 12, 'ks': 10}</td>\n",
              "      <td>17617</td>\n",
              "      <td>0.029202</td>\n",
              "      <td>0.042344</td>\n",
              "      <td>0.040134</td>\n",
              "      <td>92</td>\n",
              "    </tr>\n",
              "    <tr>\n",
              "      <th>32</th>\n",
              "      <td>InceptionTime</td>\n",
              "      <td>{'nf': 12, 'ks': 15}</td>\n",
              "      <td>24937</td>\n",
              "      <td>0.026544</td>\n",
              "      <td>0.044125</td>\n",
              "      <td>0.042064</td>\n",
              "      <td>93</td>\n",
              "    </tr>\n",
              "    <tr>\n",
              "      <th>33</th>\n",
              "      <td>InceptionTime</td>\n",
              "      <td>{'nf': 13, 'ks': 45}</td>\n",
              "      <td>73776</td>\n",
              "      <td>0.025224</td>\n",
              "      <td>0.048061</td>\n",
              "      <td>0.046197</td>\n",
              "      <td>90</td>\n",
              "    </tr>\n",
              "    <tr>\n",
              "      <th>34</th>\n",
              "      <td>InceptionTime</td>\n",
              "      <td>{'nf': 11, 'ks': 40}</td>\n",
              "      <td>46916</td>\n",
              "      <td>0.027307</td>\n",
              "      <td>0.050719</td>\n",
              "      <td>0.048276</td>\n",
              "      <td>93</td>\n",
              "    </tr>\n",
              "    <tr>\n",
              "      <th>35</th>\n",
              "      <td>InceptionTime</td>\n",
              "      <td>{'nf': 13, 'ks': 5}</td>\n",
              "      <td>13716</td>\n",
              "      <td>0.032028</td>\n",
              "      <td>0.055291</td>\n",
              "      <td>0.052569</td>\n",
              "      <td>91</td>\n",
              "    </tr>\n",
              "  </tbody>\n",
              "</table>\n",
              "</div>"
            ],
            "text/plain": [
              "             arch           hyperparams total params  ...  valid loss       mae  time\n",
              "0   InceptionTime  {'nf': 12, 'ks': 45}        63001  ...    0.018491  0.017499    93\n",
              "1   InceptionTime  {'nf': 12, 'ks': 40}        55681  ...    0.020440  0.019492    91\n",
              "2   InceptionTime  {'nf': 11, 'ks': 30}        37060  ...    0.023301  0.022132    92\n",
              "3   InceptionTime  {'nf': 12, 'ks': 35}        49825  ...    0.025425  0.024102    91\n",
              "4   InceptionTime  {'nf': 10, 'ks': 30}        30741  ...    0.025716  0.024422    95\n",
              "5   InceptionTime  {'nf': 11, 'ks': 20}        25972  ...    0.025581  0.024484    92\n",
              "6   InceptionTime  {'nf': 12, 'ks': 25}        36649  ...    0.025941  0.024611    92\n",
              "7   InceptionTime  {'nf': 11, 'ks': 45}        53076  ...    0.025915  0.024807    91\n",
              "8   InceptionTime  {'nf': 13, 'ks': 20}        36024  ...    0.026893  0.025680    91\n",
              "9   InceptionTime  {'nf': 10, 'ks': 45}        44001  ...    0.027741  0.026356    93\n",
              "10  InceptionTime  {'nf': 13, 'ks': 10}        20580  ...    0.028427  0.026846    91\n",
              "11  InceptionTime  {'nf': 10, 'ks': 20}        21561  ...    0.028416  0.026989    93\n",
              "12  InceptionTime  {'nf': 13, 'ks': 15}        29160  ...    0.029272  0.027811    92\n",
              "13  InceptionTime  {'nf': 13, 'ks': 35}        58332  ...    0.029663  0.028095    91\n",
              "14  InceptionTime  {'nf': 12, 'ks': 30}        43969  ...    0.030010  0.028432    92\n",
              "15  InceptionTime  {'nf': 11, 'ks': 25}        30900  ...    0.030567  0.029001    93\n",
              "16  InceptionTime  {'nf': 10, 'ks': 35}        34821  ...    0.030825  0.029399    94\n",
              "17  InceptionTime  {'nf': 10, 'ks': 15}        17481  ...    0.032685  0.031234    95\n",
              "18  InceptionTime   {'nf': 11, 'ks': 5}         9956  ...    0.032898  0.031264    93\n",
              "19  InceptionTime  {'nf': 10, 'ks': 10}        12381  ...    0.033642  0.031772    94\n",
              "20  InceptionTime  {'nf': 12, 'ks': 20}        30793  ...    0.033497  0.031920    91\n",
              "21  InceptionTime  {'nf': 13, 'ks': 40}        65196  ...    0.033441  0.032074    89\n",
              "22  InceptionTime  {'nf': 11, 'ks': 35}        41988  ...    0.033934  0.032235    91\n",
              "23  InceptionTime  {'nf': 13, 'ks': 25}        42888  ...    0.034341  0.032547    92\n",
              "24  InceptionTime  {'nf': 10, 'ks': 25}        25641  ...    0.034572  0.032975    93\n",
              "25  InceptionTime  {'nf': 11, 'ks': 15}        21044  ...    0.034868  0.033393    93\n",
              "26  InceptionTime  {'nf': 11, 'ks': 10}        14884  ...    0.035509  0.033914    92\n",
              "27  InceptionTime   {'nf': 12, 'ks': 5}        11761  ...    0.036444  0.034502    92\n",
              "28  InceptionTime   {'nf': 10, 'ks': 5}         8301  ...    0.037058  0.035410    96\n",
              "29  InceptionTime  {'nf': 13, 'ks': 30}        51468  ...    0.038461  0.036563    91\n",
              "30  InceptionTime  {'nf': 10, 'ks': 40}        38901  ...    0.041362  0.039384    92\n",
              "31  InceptionTime  {'nf': 12, 'ks': 10}        17617  ...    0.042344  0.040134    92\n",
              "32  InceptionTime  {'nf': 12, 'ks': 15}        24937  ...    0.044125  0.042064    93\n",
              "33  InceptionTime  {'nf': 13, 'ks': 45}        73776  ...    0.048061  0.046197    90\n",
              "34  InceptionTime  {'nf': 11, 'ks': 40}        46916  ...    0.050719  0.048276    93\n",
              "35  InceptionTime   {'nf': 13, 'ks': 5}        13716  ...    0.055291  0.052569    91\n",
              "\n",
              "[36 rows x 7 columns]"
            ]
          },
          "metadata": {
            "tags": []
          }
        }
      ]
    },
    {
      "cell_type": "code",
      "metadata": {
        "id": "Or28J0vvFedT"
      },
      "source": [
        "learn = ts_learner(dls, InceptionTime, metrics = mae, device = default_device(use_cuda = True), loss_func = loss_func, nf = 12, ks = 45)"
      ],
      "execution_count": 142,
      "outputs": []
    },
    {
      "cell_type": "code",
      "metadata": {
        "colab": {
          "base_uri": "https://localhost:8080/",
          "height": 301
        },
        "id": "UUccWg1KFedT",
        "outputId": "b1dc8cbd-4707-4aed-f59f-1d186632c500"
      },
      "source": [
        "learn.lr_find()"
      ],
      "execution_count": 143,
      "outputs": [
        {
          "output_type": "display_data",
          "data": {
            "text/html": [
              ""
            ],
            "text/plain": [
              "<IPython.core.display.HTML object>"
            ]
          },
          "metadata": {
            "tags": []
          }
        },
        {
          "output_type": "execute_result",
          "data": {
            "text/plain": [
              "SuggestedLRs(lr_min=0.04365158379077912, lr_steep=0.0002754228771664202)"
            ]
          },
          "metadata": {
            "tags": []
          },
          "execution_count": 143
        },
        {
          "output_type": "display_data",
          "data": {
            "image/png": "[encoded data removed]",
            "text/plain": [
              "<Figure size 432x288 with 1 Axes>"
            ]
          },
          "metadata": {
            "tags": [],
            "needs_background": "light"
          }
        }
      ]
    },
    {
      "cell_type": "code",
      "metadata": {
        "colab": {
          "base_uri": "https://localhost:8080/",
          "height": 1000
        },
        "id": "3F4hOJ9ZFedU",
        "outputId": "18438110-7061-455a-a939-df62c1d33d57"
      },
      "source": [
        "learn.fine_tune(50, 5e-3, cbs = PredictionDynamics)"
      ],
      "execution_count": 144,
      "outputs": [
        {
          "output_type": "display_data",
          "data": {
            "text/html": [
              "<table border=\"1\" class=\"dataframe\">\n",
              "  <thead>\n",
              "    <tr style=\"text-align: left;\">\n",
              "      <th>epoch</th>\n",
              "      <th>train_loss</th>\n",
              "      <th>valid_loss</th>\n",
              "      <th>mae</th>\n",
              "      <th>time</th>\n",
              "    </tr>\n",
              "  </thead>\n",
              "  <tbody>\n",
              "    <tr>\n",
              "      <td>0</td>\n",
              "      <td>0.129903</td>\n",
              "      <td>0.253022</td>\n",
              "      <td>0.241644</td>\n",
              "      <td>00:01</td>\n",
              "    </tr>\n",
              "  </tbody>\n",
              "</table>"
            ],
            "text/plain": [
              "<IPython.core.display.HTML object>"
            ]
          },
          "metadata": {
            "tags": []
          }
        },
        {
          "output_type": "display_data",
          "data": {
            "image/png": "[encoded data removed]",
            "text/plain": [
              "<Figure size 432x432 with 1 Axes>"
            ]
          },
          "metadata": {
            "tags": []
          }
        },
        {
          "output_type": "display_data",
          "data": {
            "text/html": [
              "<div>\n",
              "<style scoped>\n",
              "    .dataframe tbody tr th:only-of-type {\n",
              "        vertical-align: middle;\n",
              "    }\n",
              "\n",
              "    .dataframe tbody tr th {\n",
              "        vertical-align: top;\n",
              "    }\n",
              "\n",
              "    .dataframe thead th {\n",
              "        text-align: right;\n",
              "    }\n",
              "</style>\n",
              "<table border=\"1\" class=\"dataframe\">\n",
              "  <thead>\n",
              "    <tr style=\"text-align: right;\">\n",
              "      <th></th>\n",
              "      <th>train_loss</th>\n",
              "      <th>valid_loss</th>\n",
              "      <th>mae</th>\n",
              "    </tr>\n",
              "  </thead>\n",
              "  <tbody>\n",
              "    <tr>\n",
              "      <th>0</th>\n",
              "      <td>0.129903</td>\n",
              "      <td>0.253022</td>\n",
              "      <td>0.241644</td>\n",
              "    </tr>\n",
              "  </tbody>\n",
              "</table>\n",
              "</div>"
            ],
            "text/plain": [
              "   train_loss  valid_loss       mae\n",
              "0    0.129903    0.253022  0.241644"
            ]
          },
          "metadata": {
            "tags": []
          }
        },
        {
          "output_type": "display_data",
          "data": {
            "text/html": [
              "<table border=\"1\" class=\"dataframe\">\n",
              "  <thead>\n",
              "    <tr style=\"text-align: left;\">\n",
              "      <th>epoch</th>\n",
              "      <th>train_loss</th>\n",
              "      <th>valid_loss</th>\n",
              "      <th>mae</th>\n",
              "      <th>time</th>\n",
              "    </tr>\n",
              "  </thead>\n",
              "  <tbody>\n",
              "    <tr>\n",
              "      <td>0</td>\n",
              "      <td>0.065447</td>\n",
              "      <td>0.049216</td>\n",
              "      <td>0.046951</td>\n",
              "      <td>00:01</td>\n",
              "    </tr>\n",
              "    <tr>\n",
              "      <td>1</td>\n",
              "      <td>0.055324</td>\n",
              "      <td>0.031637</td>\n",
              "      <td>0.029972</td>\n",
              "      <td>00:01</td>\n",
              "    </tr>\n",
              "    <tr>\n",
              "      <td>2</td>\n",
              "      <td>0.051002</td>\n",
              "      <td>0.038898</td>\n",
              "      <td>0.037258</td>\n",
              "      <td>00:01</td>\n",
              "    </tr>\n",
              "    <tr>\n",
              "      <td>3</td>\n",
              "      <td>0.045879</td>\n",
              "      <td>0.032003</td>\n",
              "      <td>0.030445</td>\n",
              "      <td>00:01</td>\n",
              "    </tr>\n",
              "    <tr>\n",
              "      <td>4</td>\n",
              "      <td>0.046218</td>\n",
              "      <td>0.021077</td>\n",
              "      <td>0.020108</td>\n",
              "      <td>00:01</td>\n",
              "    </tr>\n",
              "    <tr>\n",
              "      <td>5</td>\n",
              "      <td>0.050475</td>\n",
              "      <td>0.031797</td>\n",
              "      <td>0.030524</td>\n",
              "      <td>00:01</td>\n",
              "    </tr>\n",
              "    <tr>\n",
              "      <td>6</td>\n",
              "      <td>0.049498</td>\n",
              "      <td>0.050575</td>\n",
              "      <td>0.047917</td>\n",
              "      <td>00:01</td>\n",
              "    </tr>\n",
              "    <tr>\n",
              "      <td>7</td>\n",
              "      <td>0.054552</td>\n",
              "      <td>0.030746</td>\n",
              "      <td>0.029209</td>\n",
              "      <td>00:01</td>\n",
              "    </tr>\n",
              "    <tr>\n",
              "      <td>8</td>\n",
              "      <td>0.053687</td>\n",
              "      <td>0.037071</td>\n",
              "      <td>0.035637</td>\n",
              "      <td>00:01</td>\n",
              "    </tr>\n",
              "    <tr>\n",
              "      <td>9</td>\n",
              "      <td>0.047871</td>\n",
              "      <td>0.036786</td>\n",
              "      <td>0.035229</td>\n",
              "      <td>00:01</td>\n",
              "    </tr>\n",
              "    <tr>\n",
              "      <td>10</td>\n",
              "      <td>0.054589</td>\n",
              "      <td>0.044467</td>\n",
              "      <td>0.041931</td>\n",
              "      <td>00:01</td>\n",
              "    </tr>\n",
              "    <tr>\n",
              "      <td>11</td>\n",
              "      <td>0.048142</td>\n",
              "      <td>0.036849</td>\n",
              "      <td>0.034955</td>\n",
              "      <td>00:01</td>\n",
              "    </tr>\n",
              "    <tr>\n",
              "      <td>12</td>\n",
              "      <td>0.045664</td>\n",
              "      <td>0.063816</td>\n",
              "      <td>0.061409</td>\n",
              "      <td>00:01</td>\n",
              "    </tr>\n",
              "    <tr>\n",
              "      <td>13</td>\n",
              "      <td>0.048496</td>\n",
              "      <td>0.076222</td>\n",
              "      <td>0.072056</td>\n",
              "      <td>00:01</td>\n",
              "    </tr>\n",
              "    <tr>\n",
              "      <td>14</td>\n",
              "      <td>0.048156</td>\n",
              "      <td>0.035707</td>\n",
              "      <td>0.033863</td>\n",
              "      <td>00:01</td>\n",
              "    </tr>\n",
              "    <tr>\n",
              "      <td>15</td>\n",
              "      <td>0.049784</td>\n",
              "      <td>0.081836</td>\n",
              "      <td>0.079030</td>\n",
              "      <td>00:01</td>\n",
              "    </tr>\n",
              "    <tr>\n",
              "      <td>16</td>\n",
              "      <td>0.050884</td>\n",
              "      <td>0.027472</td>\n",
              "      <td>0.026242</td>\n",
              "      <td>00:01</td>\n",
              "    </tr>\n",
              "    <tr>\n",
              "      <td>17</td>\n",
              "      <td>0.055058</td>\n",
              "      <td>0.029243</td>\n",
              "      <td>0.027764</td>\n",
              "      <td>00:01</td>\n",
              "    </tr>\n",
              "    <tr>\n",
              "      <td>18</td>\n",
              "      <td>0.051868</td>\n",
              "      <td>0.059541</td>\n",
              "      <td>0.056790</td>\n",
              "      <td>00:01</td>\n",
              "    </tr>\n",
              "    <tr>\n",
              "      <td>19</td>\n",
              "      <td>0.049971</td>\n",
              "      <td>0.060058</td>\n",
              "      <td>0.056944</td>\n",
              "      <td>00:01</td>\n",
              "    </tr>\n",
              "    <tr>\n",
              "      <td>20</td>\n",
              "      <td>0.045935</td>\n",
              "      <td>0.034209</td>\n",
              "      <td>0.032403</td>\n",
              "      <td>00:01</td>\n",
              "    </tr>\n",
              "    <tr>\n",
              "      <td>21</td>\n",
              "      <td>0.055504</td>\n",
              "      <td>0.054216</td>\n",
              "      <td>0.051481</td>\n",
              "      <td>00:01</td>\n",
              "    </tr>\n",
              "    <tr>\n",
              "      <td>22</td>\n",
              "      <td>0.052135</td>\n",
              "      <td>0.022283</td>\n",
              "      <td>0.021304</td>\n",
              "      <td>00:01</td>\n",
              "    </tr>\n",
              "    <tr>\n",
              "      <td>23</td>\n",
              "      <td>0.046775</td>\n",
              "      <td>0.040127</td>\n",
              "      <td>0.038156</td>\n",
              "      <td>00:01</td>\n",
              "    </tr>\n",
              "    <tr>\n",
              "      <td>24</td>\n",
              "      <td>0.045088</td>\n",
              "      <td>0.102931</td>\n",
              "      <td>0.098498</td>\n",
              "      <td>00:01</td>\n",
              "    </tr>\n",
              "    <tr>\n",
              "      <td>25</td>\n",
              "      <td>0.047608</td>\n",
              "      <td>0.035521</td>\n",
              "      <td>0.034020</td>\n",
              "      <td>00:01</td>\n",
              "    </tr>\n",
              "    <tr>\n",
              "      <td>26</td>\n",
              "      <td>0.045751</td>\n",
              "      <td>0.020411</td>\n",
              "      <td>0.019390</td>\n",
              "      <td>00:01</td>\n",
              "    </tr>\n",
              "    <tr>\n",
              "      <td>27</td>\n",
              "      <td>0.041914</td>\n",
              "      <td>0.028108</td>\n",
              "      <td>0.026619</td>\n",
              "      <td>00:01</td>\n",
              "    </tr>\n",
              "    <tr>\n",
              "      <td>28</td>\n",
              "      <td>0.038792</td>\n",
              "      <td>0.062628</td>\n",
              "      <td>0.060498</td>\n",
              "      <td>00:01</td>\n",
              "    </tr>\n",
              "    <tr>\n",
              "      <td>29</td>\n",
              "      <td>0.036769</td>\n",
              "      <td>0.030448</td>\n",
              "      <td>0.029187</td>\n",
              "      <td>00:01</td>\n",
              "    </tr>\n",
              "    <tr>\n",
              "      <td>30</td>\n",
              "      <td>0.041529</td>\n",
              "      <td>0.036424</td>\n",
              "      <td>0.035025</td>\n",
              "      <td>00:01</td>\n",
              "    </tr>\n",
              "    <tr>\n",
              "      <td>31</td>\n",
              "      <td>0.036548</td>\n",
              "      <td>0.039142</td>\n",
              "      <td>0.037493</td>\n",
              "      <td>00:01</td>\n",
              "    </tr>\n",
              "    <tr>\n",
              "      <td>32</td>\n",
              "      <td>0.036720</td>\n",
              "      <td>0.042351</td>\n",
              "      <td>0.040703</td>\n",
              "      <td>00:01</td>\n",
              "    </tr>\n",
              "    <tr>\n",
              "      <td>33</td>\n",
              "      <td>0.036384</td>\n",
              "      <td>0.034121</td>\n",
              "      <td>0.032765</td>\n",
              "      <td>00:01</td>\n",
              "    </tr>\n",
              "    <tr>\n",
              "      <td>34</td>\n",
              "      <td>0.037837</td>\n",
              "      <td>0.042644</td>\n",
              "      <td>0.040917</td>\n",
              "      <td>00:01</td>\n",
              "    </tr>\n",
              "    <tr>\n",
              "      <td>35</td>\n",
              "      <td>0.035373</td>\n",
              "      <td>0.023597</td>\n",
              "      <td>0.022545</td>\n",
              "      <td>00:01</td>\n",
              "    </tr>\n",
              "    <tr>\n",
              "      <td>36</td>\n",
              "      <td>0.032076</td>\n",
              "      <td>0.035758</td>\n",
              "      <td>0.034330</td>\n",
              "      <td>00:01</td>\n",
              "    </tr>\n",
              "    <tr>\n",
              "      <td>37</td>\n",
              "      <td>0.031673</td>\n",
              "      <td>0.025813</td>\n",
              "      <td>0.024781</td>\n",
              "      <td>00:01</td>\n",
              "    </tr>\n",
              "    <tr>\n",
              "      <td>38</td>\n",
              "      <td>0.034568</td>\n",
              "      <td>0.031001</td>\n",
              "      <td>0.029670</td>\n",
              "      <td>00:01</td>\n",
              "    </tr>\n",
              "    <tr>\n",
              "      <td>39</td>\n",
              "      <td>0.036793</td>\n",
              "      <td>0.037471</td>\n",
              "      <td>0.036010</td>\n",
              "      <td>00:01</td>\n",
              "    </tr>\n",
              "    <tr>\n",
              "      <td>40</td>\n",
              "      <td>0.031366</td>\n",
              "      <td>0.036288</td>\n",
              "      <td>0.034922</td>\n",
              "      <td>00:01</td>\n",
              "    </tr>\n",
              "    <tr>\n",
              "      <td>41</td>\n",
              "      <td>0.031251</td>\n",
              "      <td>0.035134</td>\n",
              "      <td>0.033817</td>\n",
              "      <td>00:01</td>\n",
              "    </tr>\n",
              "    <tr>\n",
              "      <td>42</td>\n",
              "      <td>0.031543</td>\n",
              "      <td>0.041359</td>\n",
              "      <td>0.039859</td>\n",
              "      <td>00:01</td>\n",
              "    </tr>\n",
              "    <tr>\n",
              "      <td>43</td>\n",
              "      <td>0.030875</td>\n",
              "      <td>0.030663</td>\n",
              "      <td>0.029344</td>\n",
              "      <td>00:01</td>\n",
              "    </tr>\n",
              "    <tr>\n",
              "      <td>44</td>\n",
              "      <td>0.030280</td>\n",
              "      <td>0.033600</td>\n",
              "      <td>0.032251</td>\n",
              "      <td>00:01</td>\n",
              "    </tr>\n",
              "    <tr>\n",
              "      <td>45</td>\n",
              "      <td>0.029309</td>\n",
              "      <td>0.033460</td>\n",
              "      <td>0.032027</td>\n",
              "      <td>00:01</td>\n",
              "    </tr>\n",
              "    <tr>\n",
              "      <td>46</td>\n",
              "      <td>0.030621</td>\n",
              "      <td>0.027935</td>\n",
              "      <td>0.026785</td>\n",
              "      <td>00:01</td>\n",
              "    </tr>\n",
              "    <tr>\n",
              "      <td>47</td>\n",
              "      <td>0.031256</td>\n",
              "      <td>0.024538</td>\n",
              "      <td>0.023431</td>\n",
              "      <td>00:01</td>\n",
              "    </tr>\n",
              "    <tr>\n",
              "      <td>48</td>\n",
              "      <td>0.025347</td>\n",
              "      <td>0.023964</td>\n",
              "      <td>0.022913</td>\n",
              "      <td>00:01</td>\n",
              "    </tr>\n",
              "    <tr>\n",
              "      <td>49</td>\n",
              "      <td>0.024847</td>\n",
              "      <td>0.033212</td>\n",
              "      <td>0.031925</td>\n",
              "      <td>00:01</td>\n",
              "    </tr>\n",
              "  </tbody>\n",
              "</table>"
            ],
            "text/plain": [
              "<IPython.core.display.HTML object>"
            ]
          },
          "metadata": {
            "tags": []
          }
        },
        {
          "output_type": "display_data",
          "data": {
            "image/png": "[encoded data removed]",
            "text/plain": [
              "<Figure size 432x432 with 1 Axes>"
            ]
          },
          "metadata": {
            "tags": []
          }
        },
        {
          "output_type": "display_data",
          "data": {
            "text/html": [
              "<div>\n",
              "<style scoped>\n",
              "    .dataframe tbody tr th:only-of-type {\n",
              "        vertical-align: middle;\n",
              "    }\n",
              "\n",
              "    .dataframe tbody tr th {\n",
              "        vertical-align: top;\n",
              "    }\n",
              "\n",
              "    .dataframe thead th {\n",
              "        text-align: right;\n",
              "    }\n",
              "</style>\n",
              "<table border=\"1\" class=\"dataframe\">\n",
              "  <thead>\n",
              "    <tr style=\"text-align: right;\">\n",
              "      <th></th>\n",
              "      <th>train_loss</th>\n",
              "      <th>valid_loss</th>\n",
              "      <th>mae</th>\n",
              "    </tr>\n",
              "  </thead>\n",
              "  <tbody>\n",
              "    <tr>\n",
              "      <th>49</th>\n",
              "      <td>0.024847</td>\n",
              "      <td>0.033212</td>\n",
              "      <td>0.031925</td>\n",
              "    </tr>\n",
              "  </tbody>\n",
              "</table>\n",
              "</div>"
            ],
            "text/plain": [
              "    train_loss  valid_loss       mae\n",
              "49    0.024847    0.033212  0.031925"
            ]
          },
          "metadata": {
            "tags": []
          }
        }
      ]
    },
    {
      "cell_type": "markdown",
      "metadata": {
        "id": "LQYJ7FzAFedV"
      },
      "source": [
        "## **Residual check**"
      ]
    },
    {
      "cell_type": "code",
      "metadata": {
        "colab": {
          "base_uri": "https://localhost:8080/",
          "height": 888
        },
        "id": "emOPBx71FedV",
        "outputId": "ffb6ad32-5a66-4387-b7db-eccf9282f89c"
      },
      "source": [
        "valid_preds, valid_targets = learn.get_preds(ds_idx = 1, dl = dls.valid)\r\n",
        "valid_preds.flatten().data, valid_targets.data"
      ],
      "execution_count": 145,
      "outputs": [
        {
          "output_type": "stream",
          "text": [
            "Could not do one pass in your dataloader, there is something wrong in it\n"
          ],
          "name": "stdout"
        },
        {
          "output_type": "display_data",
          "data": {
            "text/html": [
              ""
            ],
            "text/plain": [
              "<IPython.core.display.HTML object>"
            ]
          },
          "metadata": {
            "tags": []
          }
        },
        {
          "output_type": "execute_result",
          "data": {
            "text/plain": [
              "(tensor([0.3497, 0.3494, 0.3425, 0.3476, 0.3492, 0.3412, 0.3470, 0.3489, 0.3462,\n",
              "         0.3400, 0.3435, 0.3368, 0.3327, 0.3245, 0.3304, 0.3224, 0.3163, 0.3279,\n",
              "         0.3173, 0.3155, 0.3180, 0.3183, 0.3214, 0.3154, 0.3138, 0.3102, 0.3080,\n",
              "         0.3057, 0.3112, 0.3045, 0.3052, 0.3160, 0.3026, 0.3071, 0.3123, 0.3009,\n",
              "         0.3055, 0.3089, 0.2977, 0.2966, 0.3046, 0.2938, 0.2923, 0.2970, 0.2999,\n",
              "         0.2926, 0.2951, 0.3037, 0.2945, 0.2922, 0.2950, 0.2955, 0.2897, 0.2912,\n",
              "         0.2955, 0.2898, 0.3012, 0.2983, 0.3064, 0.3109, 0.3054, 0.3099, 0.2996,\n",
              "         0.2902, 0.2849, 0.2871, 0.2833, 0.2859, 0.2876, 0.2869, 0.2887, 0.2857,\n",
              "         0.2880, 0.2854, 0.2854, 0.2854, 0.2854, 0.2855, 0.2855, 0.2855, 0.2855,\n",
              "         0.2855, 0.2855, 0.2855, 0.2855, 0.2855, 0.2855, 0.2855, 0.2855, 0.2855,\n",
              "         0.2856, 0.2856, 0.2856, 0.2856, 0.2856, 0.2856, 0.2852, 0.2849, 0.2844,\n",
              "         0.2833, 0.2825, 0.2814, 0.2803, 0.2791, 0.2779, 0.2768, 0.2756, 0.2744,\n",
              "         0.2732, 0.2720, 0.2708, 0.2696, 0.2682, 0.2669, 0.2655, 0.2642, 0.2630,\n",
              "         0.2618, 0.2607, 0.2596, 0.2586, 0.2577, 0.2620, 0.2591, 0.2556, 0.2658,\n",
              "         0.2592, 0.2526, 0.2645, 0.2597, 0.2509, 0.2599, 0.2619, 0.2514, 0.2606,\n",
              "         0.2653, 0.2618, 0.2654, 0.2653, 0.2643, 0.2632, 0.2622, 0.2613, 0.2591,\n",
              "         0.2575, 0.2580, 0.2570, 0.2553, 0.2597, 0.2632, 0.2655, 0.2663, 0.2682,\n",
              "         0.2676, 0.2668, 0.2662, 0.2634, 0.2600, 0.2596, 0.2561, 0.2602, 0.2525,\n",
              "         0.2502, 0.2601, 0.2570, 0.2489, 0.2539, 0.2579, 0.2450, 0.2456, 0.2566,\n",
              "         0.2447, 0.2476, 0.2539, 0.2442, 0.2446, 0.2402, 0.2427, 0.2452, 0.2443,\n",
              "         0.2460, 0.2507, 0.2434, 0.2451, 0.8503, 0.8271, 0.8133, 0.7760, 0.7841,\n",
              "         0.7206, 0.6696, 0.6331, 0.6035, 0.5891, 0.5768, 0.5697, 0.5591, 0.5505,\n",
              "         0.5432, 0.5370, 0.5282, 0.5096, 0.5170, 0.5164, 0.5072, 0.5049, 0.5022,\n",
              "         0.4990, 0.4943, 0.4974, 0.4925, 0.4752, 0.4812, 0.4707]),\n",
              " tensor([0.3683, 0.3568, 0.3522, 0.3690, 0.3646, 0.3518, 0.3531, 0.3681, 0.3535,\n",
              "         0.3387, 0.3405, 0.3624, 0.3490, 0.3453, 0.3369, 0.3302, 0.3483, 0.3490,\n",
              "         0.3445, 0.3355, 0.3445, 0.3451, 0.3343, 0.3301, 0.3417, 0.3423, 0.3331,\n",
              "         0.3446, 0.3406, 0.3278, 0.3454, 0.3376, 0.3353, 0.3416, 0.3368, 0.3261,\n",
              "         0.3423, 0.3315, 0.3158, 0.3267, 0.3395, 0.3274, 0.3260, 0.3422, 0.3375,\n",
              "         0.3150, 0.3272, 0.3347, 0.3298, 0.3171, 0.3328, 0.3297, 0.3262, 0.3218,\n",
              "         0.3277, 0.3495, 0.3443, 0.3409, 0.3348, 0.3279, 0.3218, 0.3187, 0.3102,\n",
              "         0.3073, 0.3229, 0.3294, 0.3303, 0.3192, 0.3192, 0.3192, 0.3192, 0.3192,\n",
              "         0.3192, 0.3192, 0.3192, 0.3192, 0.3192, 0.3193, 0.3193, 0.3193, 0.3193,\n",
              "         0.3193, 0.3193, 0.3193, 0.3193, 0.3193, 0.3193, 0.3193, 0.3193, 0.3194,\n",
              "         0.3194, 0.3194, 0.3194, 0.3194, 0.3194, 0.3182, 0.3171, 0.3159, 0.3148,\n",
              "         0.3136, 0.3125, 0.3113, 0.3101, 0.3090, 0.3078, 0.3067, 0.3055, 0.3043,\n",
              "         0.3032, 0.3020, 0.3009, 0.2997, 0.2986, 0.2974, 0.2962, 0.2951, 0.2939,\n",
              "         0.2928, 0.2916, 0.2905, 0.2893, 0.2995, 0.2989, 0.2842, 0.2943, 0.2992,\n",
              "         0.2846, 0.2926, 0.2989, 0.2796, 0.2810, 0.2998, 0.3022, 0.3013, 0.3004,\n",
              "         0.2995, 0.2985, 0.2976, 0.2967, 0.2958, 0.2948, 0.2939, 0.2897, 0.2775,\n",
              "         0.2829, 0.2954, 0.3038, 0.3032, 0.3026, 0.3020, 0.3014, 0.3008, 0.3002,\n",
              "         0.2996, 0.2990, 0.2933, 0.2848, 0.2789, 0.2772, 0.3020, 0.2990, 0.2836,\n",
              "         0.2791, 0.2962, 0.2803, 0.2644, 0.2844, 0.2900, 0.2728, 0.2922, 0.2780,\n",
              "         0.2644, 0.2605, 0.2716, 0.2808, 0.2782, 0.2707, 0.2852, 0.2755, 0.2694,\n",
              "         0.2769, 0.2875, 0.2605, 0.8813, 0.8114, 0.7762, 0.7261, 0.7037, 0.6888,\n",
              "         0.6749, 0.6440, 0.6372, 0.6387, 0.6152, 0.5958, 0.5915, 0.5967, 0.5742,\n",
              "         0.5390, 0.5507, 0.5429, 0.5317, 0.5368, 0.5331, 0.5155, 0.5087, 0.5189,\n",
              "         0.5079, 0.4999, 0.5099, 0.4947, 0.4830, 0.4954, 0.4951]))"
            ]
          },
          "metadata": {
            "tags": []
          },
          "execution_count": 145
        }
      ]
    },
    {
      "cell_type": "code",
      "metadata": {
        "id": "ymMz-6-eFedV"
      },
      "source": [
        "results = pd.DataFrame({\"actual\" : valid_targets.flatten().tolist(), \r\n",
        "                        \"pred\" : valid_preds.flatten().tolist()})\r\n",
        "\r\n",
        "results[\"residual\"] = results[\"actual\"] - results[\"pred\"]"
      ],
      "execution_count": 146,
      "outputs": []
    },
    {
      "cell_type": "code",
      "metadata": {
        "colab": {
          "base_uri": "https://localhost:8080/",
          "height": 542
        },
        "id": "HcODPAyrFedV",
        "outputId": "7892b423-beab-41a2-eba1-571662330315"
      },
      "source": [
        "fig = px.scatter(results, x = \"actual\", y = \"residual\")\r\n",
        "fig.add_shape(type = 'line',\r\n",
        "              x0 = 0,\r\n",
        "              y0 = 0,\r\n",
        "              x1 = 1,\r\n",
        "              y1 = 0,\r\n",
        "              line = dict(color = 'Red'),\r\n",
        "              opacity = 0.5)"
      ],
      "execution_count": 147,
      "outputs": [
        {
          "output_type": "display_data",
          "data": {
            "text/html": [
              "<html>\n",
              "<head><meta charset=\"utf-8\" /></head>\n",
              "<body>\n",
              "    <div>\n",
              "            <script src=\"https://cdnjs.cloudflare.com/ajax/libs/mathjax/2.7.5/MathJax.js?config=TeX-AMS-MML_SVG\"></script><script type=\"text/javascript\">if (window.MathJax) {MathJax.Hub.Config({SVG: {font: \"STIX-Web\"}});}</script>\n",
              "                <script type=\"text/javascript\">window.PlotlyConfig = {MathJaxConfig: 'local'};</script>\n",
              "        <script src=\"https://cdn.plot.ly/plotly-latest.min.js\"></script>    \n",
              "            <div id=\"8004debb-2155-4761-b1a0-3dd86d9a276d\" class=\"plotly-graph-div\" style=\"height:525px; width:100%;\"></div>\n",
              "            <script type=\"text/javascript\">\n",
              "                \n",
              "                    window.PLOTLYENV=window.PLOTLYENV || {};\n",
              "                    \n",
              "                if (document.getElementById(\"8004debb-2155-4761-b1a0-3dd86d9a276d\")) {\n",
              "                    Plotly.newPlot(\n",
              "                        '8004debb-2155-4761-b1a0-3dd86d9a276d',\n",
              "                        [{\"hoverlabel\": {\"namelength\": 0}, \"hovertemplate\": \"actual=%{x}<br>residual=%{y}\", \"legendgroup\": \"\", \"marker\": {\"color\": \"#636efa\", \"symbol\": \"circle\"}, \"mode\": \"markers\", \"name\": \"\", \"showlegend\": false, \"type\": \"scatter\", \"x\": [0.3683212697505951, 0.3567884564399719, 0.35217535495758057, 0.36904963850975037, 0.3645579218864441, 0.35181114077568054, 0.3531465232372284, 0.36807847023010254, 0.3535107374191284, 0.33870020508766174, 0.3405211567878723, 0.3623727560043335, 0.34901902079582214, 0.34528687596321106, 0.33693620562553406, 0.3302023410797119, 0.3482905924320221, 0.34901902079582214, 0.34452730417251587, 0.33554381132125854, 0.3445048928260803, 0.34513425827026367, 0.33432984352111816, 0.33008092641830444, 0.3417351245880127, 0.3423421084880829, 0.3331158757209778, 0.34464865922927856, 0.3406425416469574, 0.32777437567710876, 0.3453770577907562, 0.33760759234428406, 0.335301011800766, 0.3416137397289276, 0.3367578089237213, 0.3260747790336609, 0.3423421084880829, 0.33153772354125977, 0.3157559633255005, 0.32668179273605347, 0.3395499587059021, 0.32741016149520874, 0.3259534239768982, 0.3422207236289978, 0.337486207485199, 0.3150275945663452, 0.32717007398605347, 0.3346940577030182, 0.3298381268978119, 0.31709134578704834, 0.33275169134140015, 0.3297167122364044, 0.32619619369506836, 0.32182586193084717, 0.3276529610157013, 0.34950459003448486, 0.3442845046520233, 0.34088534116744995, 0.33481544256210327, 0.32789576053619385, 0.32182586193084717, 0.31866952776908875, 0.3101716637611389, 0.30725812911987305, 0.32291844487190247, 0.32935255765914917, 0.330323725938797, 0.3191702663898468, 0.3191787302494049, 0.3191871643066406, 0.31919556856155396, 0.31920403242111206, 0.3192124366760254, 0.3192208707332611, 0.3192293047904968, 0.31923773884773254, 0.3192461431026459, 0.319254606962204, 0.3192630410194397, 0.319271445274353, 0.31927990913391113, 0.31928831338882446, 0.3192967474460602, 0.3193051815032959, 0.3193136155605316, 0.31932201981544495, 0.31933048367500305, 0.3193388879299164, 0.3193473219871521, 0.3193557858467102, 0.31936419010162354, 0.31937262415885925, 0.3193810284137726, 0.3193894922733307, 0.319397896528244, 0.3182401955127716, 0.3170824646949768, 0.315924733877182, 0.3147670030593872, 0.3136093020439148, 0.3124515414237976, 0.3112938404083252, 0.3101361095905304, 0.3089783787727356, 0.3078206777572632, 0.3066629469394684, 0.30550524592399597, 0.3043474853038788, 0.30318978428840637, 0.3020320236682892, 0.3008743226528168, 0.299716591835022, 0.29855889081954956, 0.2974011301994324, 0.29624342918395996, 0.2950856685638428, 0.29392796754837036, 0.29277023673057556, 0.29161253571510315, 0.29045480489730835, 0.28929707407951355, 0.2994631230831146, 0.2988816797733307, 0.2841925024986267, 0.29426854848861694, 0.29924583435058594, 0.28455671668052673, 0.29256895184516907, 0.2988816797733307, 0.27957937121391296, 0.2809785306453705, 0.29982858896255493, 0.30222874879837036, 0.30130383372306824, 0.3003789186477661, 0.2994539737701416, 0.2985290288925171, 0.29760411381721497, 0.29667916893959045, 0.29575422406196594, 0.29482927918434143, 0.2939043343067169, 0.2896554172039032, 0.27751561999320984, 0.28285714983940125, 0.29536113142967224, 0.30377960205078125, 0.3031807243824005, 0.30258187651634216, 0.3019829988479614, 0.3013841211795807, 0.30078524351119995, 0.3001863956451416, 0.29958751797676086, 0.2989886403083801, 0.2932973802089691, 0.2847995162010193, 0.2788510024547577, 0.2771514654159546, 0.3020380139350891, 0.29900306463241577, 0.2835855185985565, 0.27909380197525024, 0.296210914850235, 0.280307799577713, 0.26440462470054626, 0.28443530201911926, 0.29001960158348083, 0.272781103849411, 0.2922047972679138, 0.27800121903419495, 0.26440462470054626, 0.26051992177963257, 0.27156710624694824, 0.28079336881637573, 0.2782440483570099, 0.2707173526287079, 0.2851637005805969, 0.2754518687725067, 0.26938197016716003, 0.27687475085258484, 0.28749537467956543, 0.2605467736721039, 0.8813488483428955, 0.811423659324646, 0.7762182354927063, 0.7260809540748596, 0.7037436962127686, 0.6888117790222168, 0.6748510003089905, 0.6440159678459167, 0.63721764087677, 0.6386743783950806, 0.6152446269989014, 0.595820963382721, 0.5914506912231445, 0.5966707468032837, 0.5742121338844299, 0.5390067100524902, 0.5506609082221985, 0.5428915023803711, 0.5317228436470032, 0.5368215441703796, 0.533058226108551, 0.5154555439949036, 0.5086572170257568, 0.5188546776771545, 0.5079288482666016, 0.49991661310195923, 0.509871244430542, 0.4946964979171753, 0.48304226994514465, 0.4953824579715729, 0.4951302409172058], \"xaxis\": \"x\", \"y\": [0.018623024225234985, 0.007406651973724365, 0.009648263454437256, 0.021410971879959106, 0.015328943729400635, 0.010642856359481812, 0.006194502115249634, 0.01918405294418335, 0.007334291934967041, -0.0013106763362884521, -0.002962470054626465, 0.025604069232940674, 0.016339868307113647, 0.02082154154777527, 0.0065270960330963135, 0.007777869701385498, 0.031992822885513306, 0.02115723490715027, 0.02726459503173828, 0.0200461745262146, 0.026463985443115234, 0.02686828374862671, 0.012938976287841797, 0.014709234237670898, 0.027915537357330322, 0.03214564919471741, 0.02507328987121582, 0.03893840312957764, 0.029437988996505737, 0.023316115140914917, 0.04021546244621277, 0.02157685160636902, 0.03273889422416687, 0.034497231245040894, 0.02442607283592224, 0.025142371654510498, 0.036836475133895874, 0.022636115550994873, 0.018079519271850586, 0.03010040521621704, 0.03494054079055786, 0.033618152141571045, 0.03366035223007202, 0.04526185989379883, 0.037623465061187744, 0.022476673126220703, 0.03208643198013306, 0.031043916940689087, 0.03531274199485779, 0.024842023849487305, 0.037778615951538086, 0.03417167067527771, 0.03645527362823486, 0.030642271041870117, 0.03214094042778015, 0.05972522497177124, 0.04306134581565857, 0.04257798194885254, 0.028433501720428467, 0.017015397548675537, 0.016381800174713135, 0.00873151421546936, 0.010558545589447021, 0.017068088054656982, 0.03804555535316467, 0.04220706224441528, 0.04706129431724548, 0.03331217169761658, 0.0315803587436676, 0.03227609395980835, 0.030519187450408936, 0.03348284959793091, 0.03119480609893799, 0.033798664808273315, 0.03379935026168823, 0.0338001549243927, 0.033800870180130005, 0.03380158543586731, 0.03380239009857178, 0.03380310535430908, 0.03380388021469116, 0.03380453586578369, 0.03380534052848816, 0.03380608558654785, 0.033806830644607544, 0.03380754590034485, 0.033808380365371704, 0.03380903601646423, 0.033809781074523926, 0.033810555934906006, 0.033811330795288086, 0.03381207585334778, 0.03381273150444031, 0.03381350636482239, 0.03381428122520447, 0.032648831605911255, 0.03190040588378906, 0.03105732798576355, 0.030413568019866943, 0.030272960662841797, 0.029942691326141357, 0.029893815517425537, 0.02984607219696045, 0.02986389398574829, 0.02988302707672119, 0.029898792505264282, 0.029909878969192505, 0.02992349863052368, 0.029962807893753052, 0.03001531958580017, 0.03008177876472473, 0.030161768198013306, 0.03032970428466797, 0.03051668405532837, 0.03071051836013794, 0.030843496322631836, 0.030966967344284058, 0.031016916036605835, 0.030937612056732178, 0.030834197998046875, 0.030735641717910767, 0.04180106520652771, 0.03692325949668884, 0.02507537603378296, 0.038628220558166504, 0.033431291580200195, 0.025354593992233276, 0.040006428956985474, 0.03435400128364563, 0.019911974668502808, 0.03005346655845642, 0.03993427753448486, 0.040318459272384644, 0.04990103840827942, 0.03982645273208618, 0.03416058421134949, 0.03671848773956299, 0.03215572237968445, 0.03140708804130554, 0.031503498554229736, 0.03160235285758972, 0.03169336915016174, 0.028348058462142944, 0.01843234896659851, 0.025356978178024292, 0.03738895058631897, 0.04675006866455078, 0.047854065895080566, 0.042923539876937866, 0.03881269693374634, 0.03586199879646301, 0.034468889236450195, 0.031938910484313965, 0.03203707933425903, 0.03213942050933838, 0.027144044637680054, 0.021359920501708984, 0.0188121497631073, 0.017582684755325317, 0.04593890905380249, 0.03875410556793213, 0.031102865934371948, 0.028923451900482178, 0.036121517419815063, 0.023335903882980347, 0.015508592128753662, 0.030527561902999878, 0.032142847776412964, 0.0277567058801651, 0.04659415781497955, 0.021401256322860718, 0.01968279480934143, 0.012915685772895813, 0.01764744520187378, 0.0365871787071228, 0.03367243707180023, 0.030482038855552673, 0.042474597692489624, 0.030228614807128906, 0.025052040815353394, 0.030908167362213135, 0.0368342399597168, 0.01717682182788849, 0.6362537741661072, -0.038857996463775635, -0.050863683223724365, -0.08722162246704102, -0.07222634553909302, -0.09532082080841064, -0.045726656913757324, -0.02556741237640381, 0.004150569438934326, 0.03513646125793457, 0.02610790729522705, 0.019048750400543213, 0.021726131439208984, 0.03752392530441284, 0.023677706718444824, -0.004217624664306641, 0.013709187507629395, 0.014686405658721924, 0.02216702699661255, 0.019828319549560547, 0.016617298126220703, 0.008286356925964355, 0.0037380456924438477, 0.016697287559509277, 0.008962810039520264, 0.005588948726654053, 0.012474298477172852, 0.0021892786026000977, 0.007872670888900757, 0.014190465211868286, 0.024427175521850586], \"yaxis\": \"y\"}],\n",
              "                        {\"legend\": {\"tracegroupgap\": 0}, \"margin\": {\"t\": 60}, \"shapes\": [{\"line\": {\"color\": \"Red\"}, \"opacity\": 0.5, \"type\": \"line\", \"x0\": 0, \"x1\": 1, \"y0\": 0, \"y1\": 0}], \"template\": {\"data\": {\"bar\": [{\"error_x\": {\"color\": \"#2a3f5f\"}, \"error_y\": {\"color\": \"#2a3f5f\"}, \"marker\": {\"line\": {\"color\": \"#E5ECF6\", \"width\": 0.5}}, \"type\": \"bar\"}], \"barpolar\": [{\"marker\": {\"line\": {\"color\": \"#E5ECF6\", \"width\": 0.5}}, \"type\": \"barpolar\"}], \"carpet\": [{\"aaxis\": {\"endlinecolor\": \"#2a3f5f\", \"gridcolor\": \"white\", \"linecolor\": \"white\", \"minorgridcolor\": \"white\", \"startlinecolor\": \"#2a3f5f\"}, \"baxis\": {\"endlinecolor\": \"#2a3f5f\", \"gridcolor\": \"white\", \"linecolor\": \"white\", \"minorgridcolor\": \"white\", \"startlinecolor\": \"#2a3f5f\"}, \"type\": \"carpet\"}], \"choropleth\": [{\"colorbar\": {\"outlinewidth\": 0, \"ticks\": \"\"}, \"type\": \"choropleth\"}], \"contour\": [{\"colorbar\": {\"outlinewidth\": 0, \"ticks\": \"\"}, \"colorscale\": [[0.0, \"#0d0887\"], [0.1111111111111111, \"#46039f\"], [0.2222222222222222, \"#7201a8\"], [0.3333333333333333, \"#9c179e\"], [0.4444444444444444, \"#bd3786\"], [0.5555555555555556, \"#d8576b\"], [0.6666666666666666, \"#ed7953\"], [0.7777777777777778, \"#fb9f3a\"], [0.8888888888888888, \"#fdca26\"], [1.0, \"#f0f921\"]], \"type\": \"contour\"}], \"contourcarpet\": [{\"colorbar\": {\"outlinewidth\": 0, \"ticks\": \"\"}, \"type\": \"contourcarpet\"}], \"heatmap\": [{\"colorbar\": {\"outlinewidth\": 0, \"ticks\": \"\"}, \"colorscale\": [[0.0, \"#0d0887\"], [0.1111111111111111, \"#46039f\"], [0.2222222222222222, \"#7201a8\"], [0.3333333333333333, \"#9c179e\"], [0.4444444444444444, \"#bd3786\"], [0.5555555555555556, \"#d8576b\"], [0.6666666666666666, \"#ed7953\"], [0.7777777777777778, \"#fb9f3a\"], [0.8888888888888888, \"#fdca26\"], [1.0, \"#f0f921\"]], \"type\": \"heatmap\"}], \"heatmapgl\": [{\"colorbar\": {\"outlinewidth\": 0, \"ticks\": \"\"}, \"colorscale\": [[0.0, \"#0d0887\"], [0.1111111111111111, \"#46039f\"], [0.2222222222222222, \"#7201a8\"], [0.3333333333333333, \"#9c179e\"], [0.4444444444444444, \"#bd3786\"], [0.5555555555555556, \"#d8576b\"], [0.6666666666666666, \"#ed7953\"], [0.7777777777777778, \"#fb9f3a\"], [0.8888888888888888, \"#fdca26\"], [1.0, \"#f0f921\"]], \"type\": \"heatmapgl\"}], \"histogram\": [{\"marker\": {\"colorbar\": {\"outlinewidth\": 0, \"ticks\": \"\"}}, \"type\": \"histogram\"}], \"histogram2d\": [{\"colorbar\": {\"outlinewidth\": 0, \"ticks\": \"\"}, \"colorscale\": [[0.0, \"#0d0887\"], [0.1111111111111111, \"#46039f\"], [0.2222222222222222, \"#7201a8\"], [0.3333333333333333, \"#9c179e\"], [0.4444444444444444, \"#bd3786\"], [0.5555555555555556, \"#d8576b\"], [0.6666666666666666, \"#ed7953\"], [0.7777777777777778, \"#fb9f3a\"], [0.8888888888888888, \"#fdca26\"], [1.0, \"#f0f921\"]], \"type\": \"histogram2d\"}], \"histogram2dcontour\": [{\"colorbar\": {\"outlinewidth\": 0, \"ticks\": \"\"}, \"colorscale\": [[0.0, \"#0d0887\"], [0.1111111111111111, \"#46039f\"], [0.2222222222222222, \"#7201a8\"], [0.3333333333333333, \"#9c179e\"], [0.4444444444444444, \"#bd3786\"], [0.5555555555555556, \"#d8576b\"], [0.6666666666666666, \"#ed7953\"], [0.7777777777777778, \"#fb9f3a\"], [0.8888888888888888, \"#fdca26\"], [1.0, \"#f0f921\"]], \"type\": \"histogram2dcontour\"}], \"mesh3d\": [{\"colorbar\": {\"outlinewidth\": 0, \"ticks\": \"\"}, \"type\": \"mesh3d\"}], \"parcoords\": [{\"line\": {\"colorbar\": {\"outlinewidth\": 0, \"ticks\": \"\"}}, \"type\": \"parcoords\"}], \"pie\": [{\"automargin\": true, \"type\": \"pie\"}], \"scatter\": [{\"marker\": {\"colorbar\": {\"outlinewidth\": 0, \"ticks\": \"\"}}, \"type\": \"scatter\"}], \"scatter3d\": [{\"line\": {\"colorbar\": {\"outlinewidth\": 0, \"ticks\": \"\"}}, \"marker\": {\"colorbar\": {\"outlinewidth\": 0, \"ticks\": \"\"}}, \"type\": \"scatter3d\"}], \"scattercarpet\": [{\"marker\": {\"colorbar\": {\"outlinewidth\": 0, \"ticks\": \"\"}}, \"type\": \"scattercarpet\"}], \"scattergeo\": [{\"marker\": {\"colorbar\": {\"outlinewidth\": 0, \"ticks\": \"\"}}, \"type\": \"scattergeo\"}], \"scattergl\": [{\"marker\": {\"colorbar\": {\"outlinewidth\": 0, \"ticks\": \"\"}}, \"type\": \"scattergl\"}], \"scattermapbox\": [{\"marker\": {\"colorbar\": {\"outlinewidth\": 0, \"ticks\": \"\"}}, \"type\": \"scattermapbox\"}], \"scatterpolar\": [{\"marker\": {\"colorbar\": {\"outlinewidth\": 0, \"ticks\": \"\"}}, \"type\": \"scatterpolar\"}], \"scatterpolargl\": [{\"marker\": {\"colorbar\": {\"outlinewidth\": 0, \"ticks\": \"\"}}, \"type\": \"scatterpolargl\"}], \"scatterternary\": [{\"marker\": {\"colorbar\": {\"outlinewidth\": 0, \"ticks\": \"\"}}, \"type\": \"scatterternary\"}], \"surface\": [{\"colorbar\": {\"outlinewidth\": 0, \"ticks\": \"\"}, \"colorscale\": [[0.0, \"#0d0887\"], [0.1111111111111111, \"#46039f\"], [0.2222222222222222, \"#7201a8\"], [0.3333333333333333, \"#9c179e\"], [0.4444444444444444, \"#bd3786\"], [0.5555555555555556, \"#d8576b\"], [0.6666666666666666, \"#ed7953\"], [0.7777777777777778, \"#fb9f3a\"], [0.8888888888888888, \"#fdca26\"], [1.0, \"#f0f921\"]], \"type\": \"surface\"}], \"table\": [{\"cells\": {\"fill\": {\"color\": \"#EBF0F8\"}, \"line\": {\"color\": \"white\"}}, \"header\": {\"fill\": {\"color\": \"#C8D4E3\"}, \"line\": {\"color\": \"white\"}}, \"type\": \"table\"}]}, \"layout\": {\"annotationdefaults\": {\"arrowcolor\": \"#2a3f5f\", \"arrowhead\": 0, \"arrowwidth\": 1}, \"coloraxis\": {\"colorbar\": {\"outlinewidth\": 0, \"ticks\": \"\"}}, \"colorscale\": {\"diverging\": [[0, \"#8e0152\"], [0.1, \"#c51b7d\"], [0.2, \"#de77ae\"], [0.3, \"#f1b6da\"], [0.4, \"#fde0ef\"], [0.5, \"#f7f7f7\"], [0.6, \"#e6f5d0\"], [0.7, \"#b8e186\"], [0.8, \"#7fbc41\"], [0.9, \"#4d9221\"], [1, \"#276419\"]], \"sequential\": [[0.0, \"#0d0887\"], [0.1111111111111111, \"#46039f\"], [0.2222222222222222, \"#7201a8\"], [0.3333333333333333, \"#9c179e\"], [0.4444444444444444, \"#bd3786\"], [0.5555555555555556, \"#d8576b\"], [0.6666666666666666, \"#ed7953\"], [0.7777777777777778, \"#fb9f3a\"], [0.8888888888888888, \"#fdca26\"], [1.0, \"#f0f921\"]], \"sequentialminus\": [[0.0, \"#0d0887\"], [0.1111111111111111, \"#46039f\"], [0.2222222222222222, \"#7201a8\"], [0.3333333333333333, \"#9c179e\"], [0.4444444444444444, \"#bd3786\"], [0.5555555555555556, \"#d8576b\"], [0.6666666666666666, \"#ed7953\"], [0.7777777777777778, \"#fb9f3a\"], [0.8888888888888888, \"#fdca26\"], [1.0, \"#f0f921\"]]}, \"colorway\": [\"#636efa\", \"#EF553B\", \"#00cc96\", \"#ab63fa\", \"#FFA15A\", \"#19d3f3\", \"#FF6692\", \"#B6E880\", \"#FF97FF\", \"#FECB52\"], \"font\": {\"color\": \"#2a3f5f\"}, \"geo\": {\"bgcolor\": \"white\", \"lakecolor\": \"white\", \"landcolor\": \"#E5ECF6\", \"showlakes\": true, \"showland\": true, \"subunitcolor\": \"white\"}, \"hoverlabel\": {\"align\": \"left\"}, \"hovermode\": \"closest\", \"mapbox\": {\"style\": \"light\"}, \"paper_bgcolor\": \"white\", \"plot_bgcolor\": \"#E5ECF6\", \"polar\": {\"angularaxis\": {\"gridcolor\": \"white\", \"linecolor\": \"white\", \"ticks\": \"\"}, \"bgcolor\": \"#E5ECF6\", \"radialaxis\": {\"gridcolor\": \"white\", \"linecolor\": \"white\", \"ticks\": \"\"}}, \"scene\": {\"xaxis\": {\"backgroundcolor\": \"#E5ECF6\", \"gridcolor\": \"white\", \"gridwidth\": 2, \"linecolor\": \"white\", \"showbackground\": true, \"ticks\": \"\", \"zerolinecolor\": \"white\"}, \"yaxis\": {\"backgroundcolor\": \"#E5ECF6\", \"gridcolor\": \"white\", \"gridwidth\": 2, \"linecolor\": \"white\", \"showbackground\": true, \"ticks\": \"\", \"zerolinecolor\": \"white\"}, \"zaxis\": {\"backgroundcolor\": \"#E5ECF6\", \"gridcolor\": \"white\", \"gridwidth\": 2, \"linecolor\": \"white\", \"showbackground\": true, \"ticks\": \"\", \"zerolinecolor\": \"white\"}}, \"shapedefaults\": {\"line\": {\"color\": \"#2a3f5f\"}}, \"ternary\": {\"aaxis\": {\"gridcolor\": \"white\", \"linecolor\": \"white\", \"ticks\": \"\"}, \"baxis\": {\"gridcolor\": \"white\", \"linecolor\": \"white\", \"ticks\": \"\"}, \"bgcolor\": \"#E5ECF6\", \"caxis\": {\"gridcolor\": \"white\", \"linecolor\": \"white\", \"ticks\": \"\"}}, \"title\": {\"x\": 0.05}, \"xaxis\": {\"automargin\": true, \"gridcolor\": \"white\", \"linecolor\": \"white\", \"ticks\": \"\", \"title\": {\"standoff\": 15}, \"zerolinecolor\": \"white\", \"zerolinewidth\": 2}, \"yaxis\": {\"automargin\": true, \"gridcolor\": \"white\", \"linecolor\": \"white\", \"ticks\": \"\", \"title\": {\"standoff\": 15}, \"zerolinecolor\": \"white\", \"zerolinewidth\": 2}}}, \"xaxis\": {\"anchor\": \"y\", \"domain\": [0.0, 1.0], \"title\": {\"text\": \"actual\"}}, \"yaxis\": {\"anchor\": \"x\", \"domain\": [0.0, 1.0], \"title\": {\"text\": \"residual\"}}},\n",
              "                        {\"responsive\": true}\n",
              "                    ).then(function(){\n",
              "                            \n",
              "var gd = document.getElementById('8004debb-2155-4761-b1a0-3dd86d9a276d');\n",
              "var x = new MutationObserver(function (mutations, observer) {{\n",
              "        var display = window.getComputedStyle(gd).display;\n",
              "        if (!display || display === 'none') {{\n",
              "            console.log([gd, 'removed!']);\n",
              "            Plotly.purge(gd);\n",
              "            observer.disconnect();\n",
              "        }}\n",
              "}});\n",
              "\n",
              "// Listen for the removal of the full notebook cells\n",
              "var notebookContainer = gd.closest('#notebook-container');\n",
              "if (notebookContainer) {{\n",
              "    x.observe(notebookContainer, {childList: true});\n",
              "}}\n",
              "\n",
              "// Listen for the clearing of the current output cell\n",
              "var outputEl = gd.closest('.output');\n",
              "if (outputEl) {{\n",
              "    x.observe(outputEl, {childList: true});\n",
              "}}\n",
              "\n",
              "                        })\n",
              "                };\n",
              "                \n",
              "            </script>\n",
              "        </div>\n",
              "</body>\n",
              "</html>"
            ]
          },
          "metadata": {
            "tags": []
          }
        }
      ]
    },
    {
      "cell_type": "markdown",
      "metadata": {
        "id": "FYY0SwspOXjd"
      },
      "source": [
        "## **Test with using previous flow rate to predict flow rate**\r\n",
        "Rather than using other sensory inputs an alternative approach can be to use previous flow rates to predict the next flow rate. This can be done by replacing `get_x` with `FM1` and making sure horizon is set to 0+. Again splits and dataloaders can be created."
      ]
    },
    {
      "cell_type": "code",
      "metadata": {
        "colab": {
          "base_uri": "https://localhost:8080/"
        },
        "id": "LjiqR3gNOb7P",
        "outputId": "66f2449e-764c-4054-e9f9-7fedbd7f04ed"
      },
      "source": [
        "X, y = SlidingWindow(window_len = 6, get_x = \"FM1\", get_y = \"FM1\", stride = 1, horizon = 1, sort_by = [\"TIME\"], ascending = True, seq_first = True)(iot) # Split into windows\r\n",
        "X[0:2], y[0:2] # Two examples of windows, notice Xs consist of multiple arrays as there are multiple Xs (each x is a sensor input)"
      ],
      "execution_count": 80,
      "outputs": [
        {
          "output_type": "execute_result",
          "data": {
            "text/plain": [
              "(array([[[0.29184058, 0.29038382, 0.27945802, 0.28892702, 0.29961005,\n",
              "          0.2963323 ]],\n",
              " \n",
              "        [[0.29038382, 0.27945802, 0.28892702, 0.29961005, 0.2963323 ,\n",
              "          0.2741165 ]]]), array([0.2741165, 0.2799436]))"
            ]
          },
          "metadata": {
            "tags": []
          },
          "execution_count": 80
        }
      ]
    },
    {
      "cell_type": "code",
      "metadata": {
        "colab": {
          "base_uri": "https://localhost:8080/",
          "height": 91
        },
        "id": "TjHxZAOfOb7S",
        "outputId": "3b671bcc-bb04-4144-8c48-4cc84783a390"
      },
      "source": [
        "splits = get_splits(y, valid_size = .3, random_state = 23, shuffle = False) # Split"
      ],
      "execution_count": 81,
      "outputs": [
        {
          "output_type": "display_data",
          "data": {
            "image/png": "[encoded data removed]",
            "text/plain": [
              "<Figure size 1152x36 with 1 Axes>"
            ]
          },
          "metadata": {
            "tags": [],
            "needs_background": "light"
          }
        }
      ]
    },
    {
      "cell_type": "code",
      "metadata": {
        "id": "T_kjbFO5Ob7U"
      },
      "source": [
        "tfms  = [None, TSForecasting()]\r\n",
        "dls = get_ts_dls(X, y, tfms = tfms, splits = splits, bs = 8, shuffle_train = True, device = default_device(use_cuda = True), inplace = True)"
      ],
      "execution_count": 82,
      "outputs": []
    },
    {
      "cell_type": "markdown",
      "metadata": {
        "id": "3yD13AlBey6P"
      },
      "source": [
        "## Grid search loop"
      ]
    },
    {
      "cell_type": "code",
      "metadata": {
        "colab": {
          "base_uri": "https://localhost:8080/"
        },
        "id": "8IlX4VuxPZfr",
        "outputId": "32d72e67-d827-40af-8608-092fe43e36e0"
      },
      "source": [
        "archs = []\r\n",
        "\r\n",
        "# Create InceptionTime models with different hyperparameters\r\n",
        "for y in range(10, 14):\r\n",
        "  for x in range(1, 10):\r\n",
        "    archs.append((InceptionTime, {\"nf\" : y,\r\n",
        "                                  \"ks\" : x * 5}))\r\n",
        "\r\n",
        "archs[0:5]"
      ],
      "execution_count": 138,
      "outputs": [
        {
          "output_type": "execute_result",
          "data": {
            "text/plain": [
              "[(tsai.models.InceptionTime.InceptionTime, {'ks': 5, 'nf': 10}),\n",
              " (tsai.models.InceptionTime.InceptionTime, {'ks': 10, 'nf': 10}),\n",
              " (tsai.models.InceptionTime.InceptionTime, {'ks': 15, 'nf': 10}),\n",
              " (tsai.models.InceptionTime.InceptionTime, {'ks': 20, 'nf': 10}),\n",
              " (tsai.models.InceptionTime.InceptionTime, {'ks': 25, 'nf': 10})]"
            ]
          },
          "metadata": {
            "tags": []
          },
          "execution_count": 138
        }
      ]
    },
    {
      "cell_type": "code",
      "metadata": {
        "colab": {
          "base_uri": "https://localhost:8080/",
          "height": 1000
        },
        "id": "BDq9FJEIPZf8",
        "outputId": "e48ba103-f6ea-4683-dd1d-670f293947d0"
      },
      "source": [
        "results = pd.DataFrame(columns=['arch', 'hyperparams', 'total params', 'train loss', 'valid loss', 'mae', 'time']) # Create dataframe for results\r\n",
        "\r\n",
        "for i, (arch, k) in enumerate(archs):\r\n",
        "    \r\n",
        "    # Initialise the model\r\n",
        "    model = create_model(arch, dls = dls, **k)\r\n",
        "    print(model.__class__.__name__)\r\n",
        "    \r\n",
        "    # Create the fastai/tsai learner\r\n",
        "    learn = Learner(dls, model,  metrics = mae, cbs = TrackerCallback(monitor = \"mae\"), loss_func = loss_func)\r\n",
        "\r\n",
        "    # Initialise the start time\r\n",
        "    start = time.time()\r\n",
        "\r\n",
        "    # Fit for \r\n",
        "    # - 50 epochs\r\n",
        "    # - 1e-3 learning rate\r\n",
        "    # - 0.01 weight decay\r\n",
        "    # - Print the actual vs predicted graph using PredictionDynamics callback after each epoch\r\n",
        "    learn.fine_tune(50, 1e-3, cbs = [PredictionDynamics], wd = 0.01)\r\n",
        "\r\n",
        "    # Calculate and store time taken\r\n",
        "    elapsed = time.time() - start\r\n",
        "    \r\n",
        "    # Take the results and store them in the results dataframe\r\n",
        "    vals = learn.recorder.values[-1]\r\n",
        "    results.loc[i] = [arch.__name__, k, total_params(model)[0], vals[0], vals[1], vals[2], int(elapsed)]\r\n",
        "    \r\n",
        "    # Sort the results by mae and display the current results\r\n",
        "    results.sort_values(by = 'mae', ascending = True, ignore_index = True, inplace = True)\r\n",
        "    clear_output()\r\n",
        "    display(results)"
      ],
      "execution_count": 139,
      "outputs": [
        {
          "output_type": "display_data",
          "data": {
            "text/html": [
              "<div>\n",
              "<style scoped>\n",
              "    .dataframe tbody tr th:only-of-type {\n",
              "        vertical-align: middle;\n",
              "    }\n",
              "\n",
              "    .dataframe tbody tr th {\n",
              "        vertical-align: top;\n",
              "    }\n",
              "\n",
              "    .dataframe thead th {\n",
              "        text-align: right;\n",
              "    }\n",
              "</style>\n",
              "<table border=\"1\" class=\"dataframe\">\n",
              "  <thead>\n",
              "    <tr style=\"text-align: right;\">\n",
              "      <th></th>\n",
              "      <th>arch</th>\n",
              "      <th>hyperparams</th>\n",
              "      <th>total params</th>\n",
              "      <th>train loss</th>\n",
              "      <th>valid loss</th>\n",
              "      <th>mae</th>\n",
              "      <th>time</th>\n",
              "    </tr>\n",
              "  </thead>\n",
              "  <tbody>\n",
              "    <tr>\n",
              "      <th>0</th>\n",
              "      <td>InceptionTime</td>\n",
              "      <td>{'nf': 12, 'ks': 20}</td>\n",
              "      <td>30793</td>\n",
              "      <td>0.021047</td>\n",
              "      <td>0.012876</td>\n",
              "      <td>0.012242</td>\n",
              "      <td>96</td>\n",
              "    </tr>\n",
              "    <tr>\n",
              "      <th>1</th>\n",
              "      <td>InceptionTime</td>\n",
              "      <td>{'nf': 13, 'ks': 20}</td>\n",
              "      <td>36024</td>\n",
              "      <td>0.022022</td>\n",
              "      <td>0.013460</td>\n",
              "      <td>0.012807</td>\n",
              "      <td>92</td>\n",
              "    </tr>\n",
              "    <tr>\n",
              "      <th>2</th>\n",
              "      <td>InceptionTime</td>\n",
              "      <td>{'nf': 10, 'ks': 45}</td>\n",
              "      <td>44001</td>\n",
              "      <td>0.022497</td>\n",
              "      <td>0.013624</td>\n",
              "      <td>0.012928</td>\n",
              "      <td>102</td>\n",
              "    </tr>\n",
              "    <tr>\n",
              "      <th>3</th>\n",
              "      <td>InceptionTime</td>\n",
              "      <td>{'nf': 13, 'ks': 15}</td>\n",
              "      <td>29160</td>\n",
              "      <td>0.022083</td>\n",
              "      <td>0.013798</td>\n",
              "      <td>0.013120</td>\n",
              "      <td>91</td>\n",
              "    </tr>\n",
              "    <tr>\n",
              "      <th>4</th>\n",
              "      <td>InceptionTime</td>\n",
              "      <td>{'nf': 12, 'ks': 15}</td>\n",
              "      <td>24937</td>\n",
              "      <td>0.021919</td>\n",
              "      <td>0.014242</td>\n",
              "      <td>0.013537</td>\n",
              "      <td>98</td>\n",
              "    </tr>\n",
              "    <tr>\n",
              "      <th>5</th>\n",
              "      <td>InceptionTime</td>\n",
              "      <td>{'nf': 12, 'ks': 25}</td>\n",
              "      <td>36649</td>\n",
              "      <td>0.021323</td>\n",
              "      <td>0.014452</td>\n",
              "      <td>0.013730</td>\n",
              "      <td>97</td>\n",
              "    </tr>\n",
              "    <tr>\n",
              "      <th>6</th>\n",
              "      <td>InceptionTime</td>\n",
              "      <td>{'nf': 10, 'ks': 35}</td>\n",
              "      <td>34821</td>\n",
              "      <td>0.018352</td>\n",
              "      <td>0.015050</td>\n",
              "      <td>0.014366</td>\n",
              "      <td>101</td>\n",
              "    </tr>\n",
              "    <tr>\n",
              "      <th>7</th>\n",
              "      <td>InceptionTime</td>\n",
              "      <td>{'nf': 13, 'ks': 25}</td>\n",
              "      <td>42888</td>\n",
              "      <td>0.024036</td>\n",
              "      <td>0.015368</td>\n",
              "      <td>0.014656</td>\n",
              "      <td>93</td>\n",
              "    </tr>\n",
              "    <tr>\n",
              "      <th>8</th>\n",
              "      <td>InceptionTime</td>\n",
              "      <td>{'nf': 12, 'ks': 35}</td>\n",
              "      <td>49825</td>\n",
              "      <td>0.022090</td>\n",
              "      <td>0.015356</td>\n",
              "      <td>0.014673</td>\n",
              "      <td>96</td>\n",
              "    </tr>\n",
              "    <tr>\n",
              "      <th>9</th>\n",
              "      <td>InceptionTime</td>\n",
              "      <td>{'nf': 11, 'ks': 35}</td>\n",
              "      <td>41988</td>\n",
              "      <td>0.020701</td>\n",
              "      <td>0.015398</td>\n",
              "      <td>0.014687</td>\n",
              "      <td>96</td>\n",
              "    </tr>\n",
              "    <tr>\n",
              "      <th>10</th>\n",
              "      <td>InceptionTime</td>\n",
              "      <td>{'nf': 13, 'ks': 45}</td>\n",
              "      <td>73776</td>\n",
              "      <td>0.023799</td>\n",
              "      <td>0.015642</td>\n",
              "      <td>0.014846</td>\n",
              "      <td>95</td>\n",
              "    </tr>\n",
              "    <tr>\n",
              "      <th>11</th>\n",
              "      <td>InceptionTime</td>\n",
              "      <td>{'nf': 10, 'ks': 30}</td>\n",
              "      <td>30741</td>\n",
              "      <td>0.022154</td>\n",
              "      <td>0.015848</td>\n",
              "      <td>0.015132</td>\n",
              "      <td>101</td>\n",
              "    </tr>\n",
              "    <tr>\n",
              "      <th>12</th>\n",
              "      <td>InceptionTime</td>\n",
              "      <td>{'nf': 12, 'ks': 10}</td>\n",
              "      <td>17617</td>\n",
              "      <td>0.022395</td>\n",
              "      <td>0.016683</td>\n",
              "      <td>0.015862</td>\n",
              "      <td>97</td>\n",
              "    </tr>\n",
              "    <tr>\n",
              "      <th>13</th>\n",
              "      <td>InceptionTime</td>\n",
              "      <td>{'nf': 11, 'ks': 40}</td>\n",
              "      <td>46916</td>\n",
              "      <td>0.021379</td>\n",
              "      <td>0.017072</td>\n",
              "      <td>0.016197</td>\n",
              "      <td>97</td>\n",
              "    </tr>\n",
              "    <tr>\n",
              "      <th>14</th>\n",
              "      <td>InceptionTime</td>\n",
              "      <td>{'nf': 12, 'ks': 45}</td>\n",
              "      <td>63001</td>\n",
              "      <td>0.023193</td>\n",
              "      <td>0.017889</td>\n",
              "      <td>0.017032</td>\n",
              "      <td>95</td>\n",
              "    </tr>\n",
              "    <tr>\n",
              "      <th>15</th>\n",
              "      <td>InceptionTime</td>\n",
              "      <td>{'nf': 13, 'ks': 40}</td>\n",
              "      <td>65196</td>\n",
              "      <td>0.025004</td>\n",
              "      <td>0.017986</td>\n",
              "      <td>0.017077</td>\n",
              "      <td>95</td>\n",
              "    </tr>\n",
              "    <tr>\n",
              "      <th>16</th>\n",
              "      <td>InceptionTime</td>\n",
              "      <td>{'nf': 13, 'ks': 30}</td>\n",
              "      <td>51468</td>\n",
              "      <td>0.020786</td>\n",
              "      <td>0.018723</td>\n",
              "      <td>0.017875</td>\n",
              "      <td>97</td>\n",
              "    </tr>\n",
              "    <tr>\n",
              "      <th>17</th>\n",
              "      <td>InceptionTime</td>\n",
              "      <td>{'nf': 10, 'ks': 25}</td>\n",
              "      <td>25641</td>\n",
              "      <td>0.021017</td>\n",
              "      <td>0.019525</td>\n",
              "      <td>0.018649</td>\n",
              "      <td>101</td>\n",
              "    </tr>\n",
              "    <tr>\n",
              "      <th>18</th>\n",
              "      <td>InceptionTime</td>\n",
              "      <td>{'nf': 10, 'ks': 20}</td>\n",
              "      <td>21561</td>\n",
              "      <td>0.024725</td>\n",
              "      <td>0.019721</td>\n",
              "      <td>0.018863</td>\n",
              "      <td>101</td>\n",
              "    </tr>\n",
              "    <tr>\n",
              "      <th>19</th>\n",
              "      <td>InceptionTime</td>\n",
              "      <td>{'nf': 13, 'ks': 10}</td>\n",
              "      <td>20580</td>\n",
              "      <td>0.021403</td>\n",
              "      <td>0.019933</td>\n",
              "      <td>0.018887</td>\n",
              "      <td>92</td>\n",
              "    </tr>\n",
              "    <tr>\n",
              "      <th>20</th>\n",
              "      <td>InceptionTime</td>\n",
              "      <td>{'nf': 13, 'ks': 35}</td>\n",
              "      <td>58332</td>\n",
              "      <td>0.022482</td>\n",
              "      <td>0.019992</td>\n",
              "      <td>0.019115</td>\n",
              "      <td>95</td>\n",
              "    </tr>\n",
              "    <tr>\n",
              "      <th>21</th>\n",
              "      <td>InceptionTime</td>\n",
              "      <td>{'nf': 10, 'ks': 15}</td>\n",
              "      <td>17481</td>\n",
              "      <td>0.022615</td>\n",
              "      <td>0.020644</td>\n",
              "      <td>0.019614</td>\n",
              "      <td>103</td>\n",
              "    </tr>\n",
              "    <tr>\n",
              "      <th>22</th>\n",
              "      <td>InceptionTime</td>\n",
              "      <td>{'nf': 11, 'ks': 5}</td>\n",
              "      <td>9956</td>\n",
              "      <td>0.023800</td>\n",
              "      <td>0.020862</td>\n",
              "      <td>0.019894</td>\n",
              "      <td>99</td>\n",
              "    </tr>\n",
              "    <tr>\n",
              "      <th>23</th>\n",
              "      <td>InceptionTime</td>\n",
              "      <td>{'nf': 11, 'ks': 15}</td>\n",
              "      <td>21044</td>\n",
              "      <td>0.021880</td>\n",
              "      <td>0.021023</td>\n",
              "      <td>0.020081</td>\n",
              "      <td>99</td>\n",
              "    </tr>\n",
              "    <tr>\n",
              "      <th>24</th>\n",
              "      <td>InceptionTime</td>\n",
              "      <td>{'nf': 10, 'ks': 5}</td>\n",
              "      <td>8301</td>\n",
              "      <td>0.027366</td>\n",
              "      <td>0.022863</td>\n",
              "      <td>0.021836</td>\n",
              "      <td>101</td>\n",
              "    </tr>\n",
              "    <tr>\n",
              "      <th>25</th>\n",
              "      <td>InceptionTime</td>\n",
              "      <td>{'nf': 12, 'ks': 40}</td>\n",
              "      <td>55681</td>\n",
              "      <td>0.022915</td>\n",
              "      <td>0.023773</td>\n",
              "      <td>0.022791</td>\n",
              "      <td>95</td>\n",
              "    </tr>\n",
              "    <tr>\n",
              "      <th>26</th>\n",
              "      <td>InceptionTime</td>\n",
              "      <td>{'nf': 11, 'ks': 20}</td>\n",
              "      <td>25972</td>\n",
              "      <td>0.024181</td>\n",
              "      <td>0.023917</td>\n",
              "      <td>0.022914</td>\n",
              "      <td>97</td>\n",
              "    </tr>\n",
              "    <tr>\n",
              "      <th>27</th>\n",
              "      <td>InceptionTime</td>\n",
              "      <td>{'nf': 10, 'ks': 10}</td>\n",
              "      <td>12381</td>\n",
              "      <td>0.024022</td>\n",
              "      <td>0.026026</td>\n",
              "      <td>0.024800</td>\n",
              "      <td>102</td>\n",
              "    </tr>\n",
              "    <tr>\n",
              "      <th>28</th>\n",
              "      <td>InceptionTime</td>\n",
              "      <td>{'nf': 11, 'ks': 10}</td>\n",
              "      <td>14884</td>\n",
              "      <td>0.019686</td>\n",
              "      <td>0.026468</td>\n",
              "      <td>0.025395</td>\n",
              "      <td>99</td>\n",
              "    </tr>\n",
              "    <tr>\n",
              "      <th>29</th>\n",
              "      <td>InceptionTime</td>\n",
              "      <td>{'nf': 13, 'ks': 5}</td>\n",
              "      <td>13716</td>\n",
              "      <td>0.023926</td>\n",
              "      <td>0.026761</td>\n",
              "      <td>0.025648</td>\n",
              "      <td>94</td>\n",
              "    </tr>\n",
              "    <tr>\n",
              "      <th>30</th>\n",
              "      <td>InceptionTime</td>\n",
              "      <td>{'nf': 12, 'ks': 30}</td>\n",
              "      <td>43969</td>\n",
              "      <td>0.022969</td>\n",
              "      <td>0.026859</td>\n",
              "      <td>0.025747</td>\n",
              "      <td>96</td>\n",
              "    </tr>\n",
              "    <tr>\n",
              "      <th>31</th>\n",
              "      <td>InceptionTime</td>\n",
              "      <td>{'nf': 10, 'ks': 40}</td>\n",
              "      <td>38901</td>\n",
              "      <td>0.022972</td>\n",
              "      <td>0.027540</td>\n",
              "      <td>0.026407</td>\n",
              "      <td>100</td>\n",
              "    </tr>\n",
              "    <tr>\n",
              "      <th>32</th>\n",
              "      <td>InceptionTime</td>\n",
              "      <td>{'nf': 11, 'ks': 30}</td>\n",
              "      <td>37060</td>\n",
              "      <td>0.020176</td>\n",
              "      <td>0.028046</td>\n",
              "      <td>0.026920</td>\n",
              "      <td>97</td>\n",
              "    </tr>\n",
              "    <tr>\n",
              "      <th>33</th>\n",
              "      <td>InceptionTime</td>\n",
              "      <td>{'nf': 12, 'ks': 5}</td>\n",
              "      <td>11761</td>\n",
              "      <td>0.022950</td>\n",
              "      <td>0.028553</td>\n",
              "      <td>0.027132</td>\n",
              "      <td>98</td>\n",
              "    </tr>\n",
              "    <tr>\n",
              "      <th>34</th>\n",
              "      <td>InceptionTime</td>\n",
              "      <td>{'nf': 11, 'ks': 45}</td>\n",
              "      <td>53076</td>\n",
              "      <td>0.023777</td>\n",
              "      <td>0.030356</td>\n",
              "      <td>0.029102</td>\n",
              "      <td>97</td>\n",
              "    </tr>\n",
              "    <tr>\n",
              "      <th>35</th>\n",
              "      <td>InceptionTime</td>\n",
              "      <td>{'nf': 11, 'ks': 25}</td>\n",
              "      <td>30900</td>\n",
              "      <td>0.023297</td>\n",
              "      <td>0.033801</td>\n",
              "      <td>0.032500</td>\n",
              "      <td>96</td>\n",
              "    </tr>\n",
              "  </tbody>\n",
              "</table>\n",
              "</div>"
            ],
            "text/plain": [
              "             arch           hyperparams total params  ...  valid loss       mae  time\n",
              "0   InceptionTime  {'nf': 12, 'ks': 20}        30793  ...    0.012876  0.012242    96\n",
              "1   InceptionTime  {'nf': 13, 'ks': 20}        36024  ...    0.013460  0.012807    92\n",
              "2   InceptionTime  {'nf': 10, 'ks': 45}        44001  ...    0.013624  0.012928   102\n",
              "3   InceptionTime  {'nf': 13, 'ks': 15}        29160  ...    0.013798  0.013120    91\n",
              "4   InceptionTime  {'nf': 12, 'ks': 15}        24937  ...    0.014242  0.013537    98\n",
              "5   InceptionTime  {'nf': 12, 'ks': 25}        36649  ...    0.014452  0.013730    97\n",
              "6   InceptionTime  {'nf': 10, 'ks': 35}        34821  ...    0.015050  0.014366   101\n",
              "7   InceptionTime  {'nf': 13, 'ks': 25}        42888  ...    0.015368  0.014656    93\n",
              "8   InceptionTime  {'nf': 12, 'ks': 35}        49825  ...    0.015356  0.014673    96\n",
              "9   InceptionTime  {'nf': 11, 'ks': 35}        41988  ...    0.015398  0.014687    96\n",
              "10  InceptionTime  {'nf': 13, 'ks': 45}        73776  ...    0.015642  0.014846    95\n",
              "11  InceptionTime  {'nf': 10, 'ks': 30}        30741  ...    0.015848  0.015132   101\n",
              "12  InceptionTime  {'nf': 12, 'ks': 10}        17617  ...    0.016683  0.015862    97\n",
              "13  InceptionTime  {'nf': 11, 'ks': 40}        46916  ...    0.017072  0.016197    97\n",
              "14  InceptionTime  {'nf': 12, 'ks': 45}        63001  ...    0.017889  0.017032    95\n",
              "15  InceptionTime  {'nf': 13, 'ks': 40}        65196  ...    0.017986  0.017077    95\n",
              "16  InceptionTime  {'nf': 13, 'ks': 30}        51468  ...    0.018723  0.017875    97\n",
              "17  InceptionTime  {'nf': 10, 'ks': 25}        25641  ...    0.019525  0.018649   101\n",
              "18  InceptionTime  {'nf': 10, 'ks': 20}        21561  ...    0.019721  0.018863   101\n",
              "19  InceptionTime  {'nf': 13, 'ks': 10}        20580  ...    0.019933  0.018887    92\n",
              "20  InceptionTime  {'nf': 13, 'ks': 35}        58332  ...    0.019992  0.019115    95\n",
              "21  InceptionTime  {'nf': 10, 'ks': 15}        17481  ...    0.020644  0.019614   103\n",
              "22  InceptionTime   {'nf': 11, 'ks': 5}         9956  ...    0.020862  0.019894    99\n",
              "23  InceptionTime  {'nf': 11, 'ks': 15}        21044  ...    0.021023  0.020081    99\n",
              "24  InceptionTime   {'nf': 10, 'ks': 5}         8301  ...    0.022863  0.021836   101\n",
              "25  InceptionTime  {'nf': 12, 'ks': 40}        55681  ...    0.023773  0.022791    95\n",
              "26  InceptionTime  {'nf': 11, 'ks': 20}        25972  ...    0.023917  0.022914    97\n",
              "27  InceptionTime  {'nf': 10, 'ks': 10}        12381  ...    0.026026  0.024800   102\n",
              "28  InceptionTime  {'nf': 11, 'ks': 10}        14884  ...    0.026468  0.025395    99\n",
              "29  InceptionTime   {'nf': 13, 'ks': 5}        13716  ...    0.026761  0.025648    94\n",
              "30  InceptionTime  {'nf': 12, 'ks': 30}        43969  ...    0.026859  0.025747    96\n",
              "31  InceptionTime  {'nf': 10, 'ks': 40}        38901  ...    0.027540  0.026407   100\n",
              "32  InceptionTime  {'nf': 11, 'ks': 30}        37060  ...    0.028046  0.026920    97\n",
              "33  InceptionTime   {'nf': 12, 'ks': 5}        11761  ...    0.028553  0.027132    98\n",
              "34  InceptionTime  {'nf': 11, 'ks': 45}        53076  ...    0.030356  0.029102    97\n",
              "35  InceptionTime  {'nf': 11, 'ks': 25}        30900  ...    0.033801  0.032500    96\n",
              "\n",
              "[36 rows x 7 columns]"
            ]
          },
          "metadata": {
            "tags": []
          }
        }
      ]
    },
    {
      "cell_type": "code",
      "metadata": {
        "id": "7PbUJLHxO03A"
      },
      "source": [
        "learn = ts_learner(dls, LSTM_FCN, metrics = mae, device = default_device(use_cuda = True), loss_func = loss_func)"
      ],
      "execution_count": 132,
      "outputs": []
    },
    {
      "cell_type": "code",
      "metadata": {
        "colab": {
          "base_uri": "https://localhost:8080/",
          "height": 301
        },
        "id": "UO5WYWpY-J20",
        "outputId": "57818137-9c37-4f9d-dfaa-c6407feb956e"
      },
      "source": [
        "learn.lr_find()"
      ],
      "execution_count": 133,
      "outputs": [
        {
          "output_type": "display_data",
          "data": {
            "text/html": [
              ""
            ],
            "text/plain": [
              "<IPython.core.display.HTML object>"
            ]
          },
          "metadata": {
            "tags": []
          }
        },
        {
          "output_type": "execute_result",
          "data": {
            "text/plain": [
              "SuggestedLRs(lr_min=0.006918309628963471, lr_steep=0.0005754399462603033)"
            ]
          },
          "metadata": {
            "tags": []
          },
          "execution_count": 133
        },
        {
          "output_type": "display_data",
          "data": {
            "image/png": "[encoded data removed]",
            "text/plain": [
              "<Figure size 432x288 with 1 Axes>"
            ]
          },
          "metadata": {
            "tags": [],
            "needs_background": "light"
          }
        }
      ]
    },
    {
      "cell_type": "code",
      "metadata": {
        "colab": {
          "base_uri": "https://localhost:8080/",
          "height": 1000
        },
        "id": "VfbJkMXU-KrR",
        "outputId": "f8e3464a-fe1b-4f59-904a-3e4af14e4f77"
      },
      "source": [
        "learn.fine_tune(50, 5e-3, cbs = PredictionDynamics)"
      ],
      "execution_count": 134,
      "outputs": [
        {
          "output_type": "display_data",
          "data": {
            "text/html": [
              "<table border=\"1\" class=\"dataframe\">\n",
              "  <thead>\n",
              "    <tr style=\"text-align: left;\">\n",
              "      <th>epoch</th>\n",
              "      <th>train_loss</th>\n",
              "      <th>valid_loss</th>\n",
              "      <th>mae</th>\n",
              "      <th>time</th>\n",
              "    </tr>\n",
              "  </thead>\n",
              "  <tbody>\n",
              "    <tr>\n",
              "      <td>0</td>\n",
              "      <td>0.101300</td>\n",
              "      <td>0.040465</td>\n",
              "      <td>0.038543</td>\n",
              "      <td>00:00</td>\n",
              "    </tr>\n",
              "  </tbody>\n",
              "</table>"
            ],
            "text/plain": [
              "<IPython.core.display.HTML object>"
            ]
          },
          "metadata": {
            "tags": []
          }
        },
        {
          "output_type": "display_data",
          "data": {
            "image/png": "[encoded data removed]",
            "text/plain": [
              "<Figure size 432x432 with 1 Axes>"
            ]
          },
          "metadata": {
            "tags": []
          }
        },
        {
          "output_type": "display_data",
          "data": {
            "text/html": [
              "<div>\n",
              "<style scoped>\n",
              "    .dataframe tbody tr th:only-of-type {\n",
              "        vertical-align: middle;\n",
              "    }\n",
              "\n",
              "    .dataframe tbody tr th {\n",
              "        vertical-align: top;\n",
              "    }\n",
              "\n",
              "    .dataframe thead th {\n",
              "        text-align: right;\n",
              "    }\n",
              "</style>\n",
              "<table border=\"1\" class=\"dataframe\">\n",
              "  <thead>\n",
              "    <tr style=\"text-align: right;\">\n",
              "      <th></th>\n",
              "      <th>train_loss</th>\n",
              "      <th>valid_loss</th>\n",
              "      <th>mae</th>\n",
              "    </tr>\n",
              "  </thead>\n",
              "  <tbody>\n",
              "    <tr>\n",
              "      <th>0</th>\n",
              "      <td>0.1013</td>\n",
              "      <td>0.040465</td>\n",
              "      <td>0.038543</td>\n",
              "    </tr>\n",
              "  </tbody>\n",
              "</table>\n",
              "</div>"
            ],
            "text/plain": [
              "   train_loss  valid_loss       mae\n",
              "0      0.1013    0.040465  0.038543"
            ]
          },
          "metadata": {
            "tags": []
          }
        },
        {
          "output_type": "display_data",
          "data": {
            "text/html": [
              "<table border=\"1\" class=\"dataframe\">\n",
              "  <thead>\n",
              "    <tr style=\"text-align: left;\">\n",
              "      <th>epoch</th>\n",
              "      <th>train_loss</th>\n",
              "      <th>valid_loss</th>\n",
              "      <th>mae</th>\n",
              "      <th>time</th>\n",
              "    </tr>\n",
              "  </thead>\n",
              "  <tbody>\n",
              "    <tr>\n",
              "      <td>0</td>\n",
              "      <td>0.044002</td>\n",
              "      <td>0.031529</td>\n",
              "      <td>0.030109</td>\n",
              "      <td>00:00</td>\n",
              "    </tr>\n",
              "    <tr>\n",
              "      <td>1</td>\n",
              "      <td>0.043784</td>\n",
              "      <td>0.017456</td>\n",
              "      <td>0.016741</td>\n",
              "      <td>00:00</td>\n",
              "    </tr>\n",
              "    <tr>\n",
              "      <td>2</td>\n",
              "      <td>0.040126</td>\n",
              "      <td>0.032076</td>\n",
              "      <td>0.030620</td>\n",
              "      <td>00:00</td>\n",
              "    </tr>\n",
              "    <tr>\n",
              "      <td>3</td>\n",
              "      <td>0.040724</td>\n",
              "      <td>0.032053</td>\n",
              "      <td>0.030662</td>\n",
              "      <td>00:00</td>\n",
              "    </tr>\n",
              "    <tr>\n",
              "      <td>4</td>\n",
              "      <td>0.043565</td>\n",
              "      <td>0.031567</td>\n",
              "      <td>0.030345</td>\n",
              "      <td>00:00</td>\n",
              "    </tr>\n",
              "    <tr>\n",
              "      <td>5</td>\n",
              "      <td>0.041002</td>\n",
              "      <td>0.019834</td>\n",
              "      <td>0.018996</td>\n",
              "      <td>00:00</td>\n",
              "    </tr>\n",
              "    <tr>\n",
              "      <td>6</td>\n",
              "      <td>0.044537</td>\n",
              "      <td>0.038307</td>\n",
              "      <td>0.036708</td>\n",
              "      <td>00:00</td>\n",
              "    </tr>\n",
              "    <tr>\n",
              "      <td>7</td>\n",
              "      <td>0.052941</td>\n",
              "      <td>0.019907</td>\n",
              "      <td>0.018942</td>\n",
              "      <td>00:00</td>\n",
              "    </tr>\n",
              "    <tr>\n",
              "      <td>8</td>\n",
              "      <td>0.056790</td>\n",
              "      <td>0.015180</td>\n",
              "      <td>0.014462</td>\n",
              "      <td>00:00</td>\n",
              "    </tr>\n",
              "    <tr>\n",
              "      <td>9</td>\n",
              "      <td>0.057210</td>\n",
              "      <td>0.017588</td>\n",
              "      <td>0.016833</td>\n",
              "      <td>00:00</td>\n",
              "    </tr>\n",
              "    <tr>\n",
              "      <td>10</td>\n",
              "      <td>0.050868</td>\n",
              "      <td>0.056474</td>\n",
              "      <td>0.054346</td>\n",
              "      <td>00:00</td>\n",
              "    </tr>\n",
              "    <tr>\n",
              "      <td>11</td>\n",
              "      <td>0.043876</td>\n",
              "      <td>0.148810</td>\n",
              "      <td>0.143229</td>\n",
              "      <td>00:00</td>\n",
              "    </tr>\n",
              "    <tr>\n",
              "      <td>12</td>\n",
              "      <td>0.057031</td>\n",
              "      <td>0.101285</td>\n",
              "      <td>0.097522</td>\n",
              "      <td>00:00</td>\n",
              "    </tr>\n",
              "    <tr>\n",
              "      <td>13</td>\n",
              "      <td>0.050803</td>\n",
              "      <td>0.080764</td>\n",
              "      <td>0.077680</td>\n",
              "      <td>00:00</td>\n",
              "    </tr>\n",
              "    <tr>\n",
              "      <td>14</td>\n",
              "      <td>0.057966</td>\n",
              "      <td>0.025946</td>\n",
              "      <td>0.024776</td>\n",
              "      <td>00:00</td>\n",
              "    </tr>\n",
              "    <tr>\n",
              "      <td>15</td>\n",
              "      <td>0.057839</td>\n",
              "      <td>0.022999</td>\n",
              "      <td>0.021949</td>\n",
              "      <td>00:00</td>\n",
              "    </tr>\n",
              "    <tr>\n",
              "      <td>16</td>\n",
              "      <td>0.051829</td>\n",
              "      <td>0.130280</td>\n",
              "      <td>0.125337</td>\n",
              "      <td>00:00</td>\n",
              "    </tr>\n",
              "    <tr>\n",
              "      <td>17</td>\n",
              "      <td>0.046948</td>\n",
              "      <td>0.018022</td>\n",
              "      <td>0.017129</td>\n",
              "      <td>00:00</td>\n",
              "    </tr>\n",
              "    <tr>\n",
              "      <td>18</td>\n",
              "      <td>0.044316</td>\n",
              "      <td>0.016937</td>\n",
              "      <td>0.016179</td>\n",
              "      <td>00:00</td>\n",
              "    </tr>\n",
              "    <tr>\n",
              "      <td>19</td>\n",
              "      <td>0.045365</td>\n",
              "      <td>0.070193</td>\n",
              "      <td>0.067570</td>\n",
              "      <td>00:00</td>\n",
              "    </tr>\n",
              "    <tr>\n",
              "      <td>20</td>\n",
              "      <td>0.045676</td>\n",
              "      <td>0.038159</td>\n",
              "      <td>0.036648</td>\n",
              "      <td>00:00</td>\n",
              "    </tr>\n",
              "    <tr>\n",
              "      <td>21</td>\n",
              "      <td>0.047976</td>\n",
              "      <td>0.046325</td>\n",
              "      <td>0.044499</td>\n",
              "      <td>00:00</td>\n",
              "    </tr>\n",
              "    <tr>\n",
              "      <td>22</td>\n",
              "      <td>0.048979</td>\n",
              "      <td>0.039611</td>\n",
              "      <td>0.038050</td>\n",
              "      <td>00:00</td>\n",
              "    </tr>\n",
              "    <tr>\n",
              "      <td>23</td>\n",
              "      <td>0.040607</td>\n",
              "      <td>0.022229</td>\n",
              "      <td>0.021297</td>\n",
              "      <td>00:00</td>\n",
              "    </tr>\n",
              "    <tr>\n",
              "      <td>24</td>\n",
              "      <td>0.042148</td>\n",
              "      <td>0.031353</td>\n",
              "      <td>0.030053</td>\n",
              "      <td>00:00</td>\n",
              "    </tr>\n",
              "    <tr>\n",
              "      <td>25</td>\n",
              "      <td>0.034612</td>\n",
              "      <td>0.023357</td>\n",
              "      <td>0.022307</td>\n",
              "      <td>00:00</td>\n",
              "    </tr>\n",
              "    <tr>\n",
              "      <td>26</td>\n",
              "      <td>0.031912</td>\n",
              "      <td>0.013068</td>\n",
              "      <td>0.012434</td>\n",
              "      <td>00:00</td>\n",
              "    </tr>\n",
              "    <tr>\n",
              "      <td>27</td>\n",
              "      <td>0.033880</td>\n",
              "      <td>0.018225</td>\n",
              "      <td>0.017345</td>\n",
              "      <td>00:00</td>\n",
              "    </tr>\n",
              "    <tr>\n",
              "      <td>28</td>\n",
              "      <td>0.033026</td>\n",
              "      <td>0.013226</td>\n",
              "      <td>0.012551</td>\n",
              "      <td>00:00</td>\n",
              "    </tr>\n",
              "    <tr>\n",
              "      <td>29</td>\n",
              "      <td>0.033078</td>\n",
              "      <td>0.022956</td>\n",
              "      <td>0.022002</td>\n",
              "      <td>00:00</td>\n",
              "    </tr>\n",
              "    <tr>\n",
              "      <td>30</td>\n",
              "      <td>0.030992</td>\n",
              "      <td>0.020192</td>\n",
              "      <td>0.019275</td>\n",
              "      <td>00:00</td>\n",
              "    </tr>\n",
              "    <tr>\n",
              "      <td>31</td>\n",
              "      <td>0.033296</td>\n",
              "      <td>0.030917</td>\n",
              "      <td>0.029674</td>\n",
              "      <td>00:00</td>\n",
              "    </tr>\n",
              "    <tr>\n",
              "      <td>32</td>\n",
              "      <td>0.032825</td>\n",
              "      <td>0.012184</td>\n",
              "      <td>0.011523</td>\n",
              "      <td>00:00</td>\n",
              "    </tr>\n",
              "    <tr>\n",
              "      <td>33</td>\n",
              "      <td>0.029268</td>\n",
              "      <td>0.010275</td>\n",
              "      <td>0.009754</td>\n",
              "      <td>00:00</td>\n",
              "    </tr>\n",
              "    <tr>\n",
              "      <td>34</td>\n",
              "      <td>0.030953</td>\n",
              "      <td>0.036612</td>\n",
              "      <td>0.035141</td>\n",
              "      <td>00:00</td>\n",
              "    </tr>\n",
              "    <tr>\n",
              "      <td>35</td>\n",
              "      <td>0.028238</td>\n",
              "      <td>0.015891</td>\n",
              "      <td>0.015139</td>\n",
              "      <td>00:00</td>\n",
              "    </tr>\n",
              "    <tr>\n",
              "      <td>36</td>\n",
              "      <td>0.026470</td>\n",
              "      <td>0.013724</td>\n",
              "      <td>0.013000</td>\n",
              "      <td>00:00</td>\n",
              "    </tr>\n",
              "    <tr>\n",
              "      <td>37</td>\n",
              "      <td>0.028134</td>\n",
              "      <td>0.016126</td>\n",
              "      <td>0.015307</td>\n",
              "      <td>00:00</td>\n",
              "    </tr>\n",
              "    <tr>\n",
              "      <td>38</td>\n",
              "      <td>0.024589</td>\n",
              "      <td>0.012425</td>\n",
              "      <td>0.011807</td>\n",
              "      <td>00:00</td>\n",
              "    </tr>\n",
              "    <tr>\n",
              "      <td>39</td>\n",
              "      <td>0.022321</td>\n",
              "      <td>0.013940</td>\n",
              "      <td>0.013280</td>\n",
              "      <td>00:00</td>\n",
              "    </tr>\n",
              "    <tr>\n",
              "      <td>40</td>\n",
              "      <td>0.021490</td>\n",
              "      <td>0.010714</td>\n",
              "      <td>0.010152</td>\n",
              "      <td>00:00</td>\n",
              "    </tr>\n",
              "    <tr>\n",
              "      <td>41</td>\n",
              "      <td>0.022522</td>\n",
              "      <td>0.016774</td>\n",
              "      <td>0.016019</td>\n",
              "      <td>00:00</td>\n",
              "    </tr>\n",
              "    <tr>\n",
              "      <td>42</td>\n",
              "      <td>0.022714</td>\n",
              "      <td>0.016120</td>\n",
              "      <td>0.015379</td>\n",
              "      <td>00:00</td>\n",
              "    </tr>\n",
              "    <tr>\n",
              "      <td>43</td>\n",
              "      <td>0.021938</td>\n",
              "      <td>0.010823</td>\n",
              "      <td>0.010247</td>\n",
              "      <td>00:00</td>\n",
              "    </tr>\n",
              "    <tr>\n",
              "      <td>44</td>\n",
              "      <td>0.020511</td>\n",
              "      <td>0.010785</td>\n",
              "      <td>0.010200</td>\n",
              "      <td>00:00</td>\n",
              "    </tr>\n",
              "    <tr>\n",
              "      <td>45</td>\n",
              "      <td>0.021317</td>\n",
              "      <td>0.012608</td>\n",
              "      <td>0.011980</td>\n",
              "      <td>00:00</td>\n",
              "    </tr>\n",
              "    <tr>\n",
              "      <td>46</td>\n",
              "      <td>0.020487</td>\n",
              "      <td>0.014987</td>\n",
              "      <td>0.014283</td>\n",
              "      <td>00:00</td>\n",
              "    </tr>\n",
              "    <tr>\n",
              "      <td>47</td>\n",
              "      <td>0.019464</td>\n",
              "      <td>0.011131</td>\n",
              "      <td>0.010536</td>\n",
              "      <td>00:00</td>\n",
              "    </tr>\n",
              "    <tr>\n",
              "      <td>48</td>\n",
              "      <td>0.020873</td>\n",
              "      <td>0.015427</td>\n",
              "      <td>0.014711</td>\n",
              "      <td>00:00</td>\n",
              "    </tr>\n",
              "    <tr>\n",
              "      <td>49</td>\n",
              "      <td>0.021237</td>\n",
              "      <td>0.012711</td>\n",
              "      <td>0.012069</td>\n",
              "      <td>00:00</td>\n",
              "    </tr>\n",
              "  </tbody>\n",
              "</table>"
            ],
            "text/plain": [
              "<IPython.core.display.HTML object>"
            ]
          },
          "metadata": {
            "tags": []
          }
        },
        {
          "output_type": "display_data",
          "data": {
            "image/png": "[encoded data removed]",
            "text/plain": [
              "<Figure size 432x432 with 1 Axes>"
            ]
          },
          "metadata": {
            "tags": []
          }
        },
        {
          "output_type": "display_data",
          "data": {
            "text/html": [
              "<div>\n",
              "<style scoped>\n",
              "    .dataframe tbody tr th:only-of-type {\n",
              "        vertical-align: middle;\n",
              "    }\n",
              "\n",
              "    .dataframe tbody tr th {\n",
              "        vertical-align: top;\n",
              "    }\n",
              "\n",
              "    .dataframe thead th {\n",
              "        text-align: right;\n",
              "    }\n",
              "</style>\n",
              "<table border=\"1\" class=\"dataframe\">\n",
              "  <thead>\n",
              "    <tr style=\"text-align: right;\">\n",
              "      <th></th>\n",
              "      <th>train_loss</th>\n",
              "      <th>valid_loss</th>\n",
              "      <th>mae</th>\n",
              "    </tr>\n",
              "  </thead>\n",
              "  <tbody>\n",
              "    <tr>\n",
              "      <th>49</th>\n",
              "      <td>0.021237</td>\n",
              "      <td>0.012711</td>\n",
              "      <td>0.012069</td>\n",
              "    </tr>\n",
              "  </tbody>\n",
              "</table>\n",
              "</div>"
            ],
            "text/plain": [
              "    train_loss  valid_loss       mae\n",
              "49    0.021237    0.012711  0.012069"
            ]
          },
          "metadata": {
            "tags": []
          }
        }
      ]
    },
    {
      "cell_type": "markdown",
      "metadata": {
        "id": "aEvdrozHd1dI"
      },
      "source": [
        "## **Residual check**"
      ]
    },
    {
      "cell_type": "code",
      "metadata": {
        "colab": {
          "base_uri": "https://localhost:8080/",
          "height": 887
        },
        "id": "x5h1QHjFQxbl",
        "outputId": "b78ce770-3875-4260-e21a-1b6fb8f7598f"
      },
      "source": [
        "valid_preds, valid_targets = learn.get_preds(ds_idx = 1, dl = dls.valid)\r\n",
        "valid_preds.flatten().data, valid_targets.data"
      ],
      "execution_count": 135,
      "outputs": [
        {
          "output_type": "stream",
          "text": [
            "Could not do one pass in your dataloader, there is something wrong in it\n"
          ],
          "name": "stdout"
        },
        {
          "output_type": "display_data",
          "data": {
            "text/html": [
              ""
            ],
            "text/plain": [
              "<IPython.core.display.HTML object>"
            ]
          },
          "metadata": {
            "tags": []
          }
        },
        {
          "output_type": "execute_result",
          "data": {
            "text/plain": [
              "(tensor([0.3555, 0.3537, 0.3468, 0.3537, 0.3593, 0.3483, 0.3512, 0.3557, 0.3554,\n",
              "         0.3436, 0.3470, 0.3470, 0.3477, 0.3348, 0.3463, 0.3397, 0.3335, 0.3424,\n",
              "         0.3322, 0.3366, 0.3365, 0.3407, 0.3350, 0.3317, 0.3343, 0.3357, 0.3295,\n",
              "         0.3294, 0.3397, 0.3298, 0.3284, 0.3419, 0.3254, 0.3328, 0.3366, 0.3283,\n",
              "         0.3281, 0.3379, 0.3217, 0.3222, 0.3300, 0.3234, 0.3171, 0.3271, 0.3315,\n",
              "         0.3222, 0.3202, 0.3324, 0.3215, 0.3196, 0.3201, 0.3288, 0.3172, 0.3215,\n",
              "         0.3217, 0.3223, 0.3310, 0.3241, 0.3347, 0.3339, 0.3293, 0.3263, 0.3214,\n",
              "         0.3134, 0.3109, 0.3147, 0.3104, 0.3162, 0.3155, 0.3196, 0.3160, 0.3142,\n",
              "         0.3145, 0.3136, 0.3136, 0.3136, 0.3136, 0.3137, 0.3137, 0.3137, 0.3137,\n",
              "         0.3137, 0.3137, 0.3137, 0.3137, 0.3137, 0.3137, 0.3137, 0.3138, 0.3138,\n",
              "         0.3138, 0.3138, 0.3138, 0.3138, 0.3138, 0.3138, 0.3132, 0.3129, 0.3120,\n",
              "         0.3109, 0.3097, 0.3085, 0.3072, 0.3060, 0.3047, 0.3035, 0.3022, 0.3009,\n",
              "         0.2996, 0.2983, 0.2970, 0.2957, 0.2944, 0.2931, 0.2917, 0.2905, 0.2892,\n",
              "         0.2880, 0.2868, 0.2856, 0.2844, 0.2832, 0.2875, 0.2839, 0.2815, 0.2914,\n",
              "         0.2844, 0.2790, 0.2904, 0.2844, 0.2756, 0.2856, 0.2852, 0.2793, 0.2885,\n",
              "         0.2917, 0.2913, 0.2922, 0.2915, 0.2905, 0.2895, 0.2885, 0.2875, 0.2850,\n",
              "         0.2797, 0.2826, 0.2804, 0.2821, 0.2867, 0.2920, 0.2936, 0.2943, 0.2945,\n",
              "         0.2938, 0.2931, 0.2924, 0.2892, 0.2861, 0.2824, 0.2778, 0.2855, 0.2758,\n",
              "         0.2791, 0.2837, 0.2851, 0.2708, 0.2737, 0.2811, 0.2684, 0.2666, 0.2854,\n",
              "         0.2659, 0.2697, 0.2688, 0.2645, 0.2644, 0.2633, 0.2652, 0.2740, 0.2633,\n",
              "         0.2683, 0.2714, 0.2695, 0.2580, 0.9131, 0.8237, 0.8480, 0.7268, 0.6992,\n",
              "         0.6753, 0.6503, 0.6280, 0.6186, 0.6062, 0.5877, 0.5814, 0.5720, 0.5645,\n",
              "         0.5495, 0.5367, 0.5401, 0.5164, 0.5135, 0.5165, 0.5056, 0.4993, 0.4988,\n",
              "         0.4964, 0.4841, 0.4863, 0.4888, 0.4735, 0.4754, 0.4787]),\n",
              " tensor([0.3683, 0.3568, 0.3522, 0.3690, 0.3646, 0.3518, 0.3531, 0.3681, 0.3535,\n",
              "         0.3387, 0.3405, 0.3624, 0.3490, 0.3453, 0.3369, 0.3302, 0.3483, 0.3490,\n",
              "         0.3445, 0.3355, 0.3445, 0.3451, 0.3343, 0.3301, 0.3417, 0.3423, 0.3331,\n",
              "         0.3446, 0.3406, 0.3278, 0.3454, 0.3376, 0.3353, 0.3416, 0.3368, 0.3261,\n",
              "         0.3423, 0.3315, 0.3158, 0.3267, 0.3395, 0.3274, 0.3260, 0.3422, 0.3375,\n",
              "         0.3150, 0.3272, 0.3347, 0.3298, 0.3171, 0.3328, 0.3297, 0.3262, 0.3218,\n",
              "         0.3277, 0.3495, 0.3443, 0.3409, 0.3348, 0.3279, 0.3218, 0.3187, 0.3102,\n",
              "         0.3073, 0.3229, 0.3294, 0.3303, 0.3192, 0.3192, 0.3192, 0.3192, 0.3192,\n",
              "         0.3192, 0.3192, 0.3192, 0.3192, 0.3192, 0.3193, 0.3193, 0.3193, 0.3193,\n",
              "         0.3193, 0.3193, 0.3193, 0.3193, 0.3193, 0.3193, 0.3193, 0.3193, 0.3194,\n",
              "         0.3194, 0.3194, 0.3194, 0.3194, 0.3194, 0.3182, 0.3171, 0.3159, 0.3148,\n",
              "         0.3136, 0.3125, 0.3113, 0.3101, 0.3090, 0.3078, 0.3067, 0.3055, 0.3043,\n",
              "         0.3032, 0.3020, 0.3009, 0.2997, 0.2986, 0.2974, 0.2962, 0.2951, 0.2939,\n",
              "         0.2928, 0.2916, 0.2905, 0.2893, 0.2995, 0.2989, 0.2842, 0.2943, 0.2992,\n",
              "         0.2846, 0.2926, 0.2989, 0.2796, 0.2810, 0.2998, 0.3022, 0.3013, 0.3004,\n",
              "         0.2995, 0.2985, 0.2976, 0.2967, 0.2958, 0.2948, 0.2939, 0.2897, 0.2775,\n",
              "         0.2829, 0.2954, 0.3038, 0.3032, 0.3026, 0.3020, 0.3014, 0.3008, 0.3002,\n",
              "         0.2996, 0.2990, 0.2933, 0.2848, 0.2789, 0.2772, 0.3020, 0.2990, 0.2836,\n",
              "         0.2791, 0.2962, 0.2803, 0.2644, 0.2844, 0.2900, 0.2728, 0.2922, 0.2780,\n",
              "         0.2644, 0.2605, 0.2716, 0.2808, 0.2782, 0.2707, 0.2852, 0.2755, 0.2694,\n",
              "         0.2769, 0.2875, 0.2605, 0.8813, 0.8114, 0.7762, 0.7261, 0.7037, 0.6888,\n",
              "         0.6749, 0.6440, 0.6372, 0.6387, 0.6152, 0.5958, 0.5915, 0.5967, 0.5742,\n",
              "         0.5390, 0.5507, 0.5429, 0.5317, 0.5368, 0.5331, 0.5155, 0.5087, 0.5189,\n",
              "         0.5079, 0.4999, 0.5099, 0.4947, 0.4830, 0.4954, 0.4951]))"
            ]
          },
          "metadata": {
            "tags": []
          },
          "execution_count": 135
        }
      ]
    },
    {
      "cell_type": "code",
      "metadata": {
        "id": "LIIjQeJAb5t8"
      },
      "source": [
        "results = pd.DataFrame({\"actual\" : valid_targets.flatten().tolist(), \r\n",
        "                        \"pred\" : valid_preds.flatten().tolist()})\r\n",
        "\r\n",
        "results[\"residual\"] = results[\"actual\"] - results[\"pred\"]"
      ],
      "execution_count": 136,
      "outputs": []
    },
    {
      "cell_type": "code",
      "metadata": {
        "colab": {
          "base_uri": "https://localhost:8080/",
          "height": 542
        },
        "id": "tfCdmbXudN-_",
        "outputId": "beb108e0-6539-485d-9ee4-c2228701d727"
      },
      "source": [
        "fig = px.scatter(results, x = \"actual\", y = \"residual\")\r\n",
        "fig.add_shape(type = 'line',\r\n",
        "              x0 = 0,\r\n",
        "              y0 = 0,\r\n",
        "              x1 = 1,\r\n",
        "              y1 = 0,\r\n",
        "              line = dict(color = 'Red'),\r\n",
        "              opacity = 0.5)"
      ],
      "execution_count": 137,
      "outputs": [
        {
          "output_type": "display_data",
          "data": {
            "text/html": [
              "<html>\n",
              "<head><meta charset=\"utf-8\" /></head>\n",
              "<body>\n",
              "    <div>\n",
              "            <script src=\"https://cdnjs.cloudflare.com/ajax/libs/mathjax/2.7.5/MathJax.js?config=TeX-AMS-MML_SVG\"></script><script type=\"text/javascript\">if (window.MathJax) {MathJax.Hub.Config({SVG: {font: \"STIX-Web\"}});}</script>\n",
              "                <script type=\"text/javascript\">window.PlotlyConfig = {MathJaxConfig: 'local'};</script>\n",
              "        <script src=\"https://cdn.plot.ly/plotly-latest.min.js\"></script>    \n",
              "            <div id=\"9b67699a-b2e0-468b-9876-a0a46f442c8d\" class=\"plotly-graph-div\" style=\"height:525px; width:100%;\"></div>\n",
              "            <script type=\"text/javascript\">\n",
              "                \n",
              "                    window.PLOTLYENV=window.PLOTLYENV || {};\n",
              "                    \n",
              "                if (document.getElementById(\"9b67699a-b2e0-468b-9876-a0a46f442c8d\")) {\n",
              "                    Plotly.newPlot(\n",
              "                        '9b67699a-b2e0-468b-9876-a0a46f442c8d',\n",
              "                        [{\"hoverlabel\": {\"namelength\": 0}, \"hovertemplate\": \"actual=%{x}<br>residual=%{y}\", \"legendgroup\": \"\", \"marker\": {\"color\": \"#636efa\", \"symbol\": \"circle\"}, \"mode\": \"markers\", \"name\": \"\", \"showlegend\": false, \"type\": \"scatter\", \"x\": [0.3683212697505951, 0.3567884564399719, 0.35217535495758057, 0.36904963850975037, 0.3645579218864441, 0.35181114077568054, 0.3531465232372284, 0.36807847023010254, 0.3535107374191284, 0.33870020508766174, 0.3405211567878723, 0.3623727560043335, 0.34901902079582214, 0.34528687596321106, 0.33693620562553406, 0.3302023410797119, 0.3482905924320221, 0.34901902079582214, 0.34452730417251587, 0.33554381132125854, 0.3445048928260803, 0.34513425827026367, 0.33432984352111816, 0.33008092641830444, 0.3417351245880127, 0.3423421084880829, 0.3331158757209778, 0.34464865922927856, 0.3406425416469574, 0.32777437567710876, 0.3453770577907562, 0.33760759234428406, 0.335301011800766, 0.3416137397289276, 0.3367578089237213, 0.3260747790336609, 0.3423421084880829, 0.33153772354125977, 0.3157559633255005, 0.32668179273605347, 0.3395499587059021, 0.32741016149520874, 0.3259534239768982, 0.3422207236289978, 0.337486207485199, 0.3150275945663452, 0.32717007398605347, 0.3346940577030182, 0.3298381268978119, 0.31709134578704834, 0.33275169134140015, 0.3297167122364044, 0.32619619369506836, 0.32182586193084717, 0.3276529610157013, 0.34950459003448486, 0.3442845046520233, 0.34088534116744995, 0.33481544256210327, 0.32789576053619385, 0.32182586193084717, 0.31866952776908875, 0.3101716637611389, 0.30725812911987305, 0.32291844487190247, 0.32935255765914917, 0.330323725938797, 0.3191702663898468, 0.3191787302494049, 0.3191871643066406, 0.31919556856155396, 0.31920403242111206, 0.3192124366760254, 0.3192208707332611, 0.3192293047904968, 0.31923773884773254, 0.3192461431026459, 0.319254606962204, 0.3192630410194397, 0.319271445274353, 0.31927990913391113, 0.31928831338882446, 0.3192967474460602, 0.3193051815032959, 0.3193136155605316, 0.31932201981544495, 0.31933048367500305, 0.3193388879299164, 0.3193473219871521, 0.3193557858467102, 0.31936419010162354, 0.31937262415885925, 0.3193810284137726, 0.3193894922733307, 0.319397896528244, 0.3182401955127716, 0.3170824646949768, 0.315924733877182, 0.3147670030593872, 0.3136093020439148, 0.3124515414237976, 0.3112938404083252, 0.3101361095905304, 0.3089783787727356, 0.3078206777572632, 0.3066629469394684, 0.30550524592399597, 0.3043474853038788, 0.30318978428840637, 0.3020320236682892, 0.3008743226528168, 0.299716591835022, 0.29855889081954956, 0.2974011301994324, 0.29624342918395996, 0.2950856685638428, 0.29392796754837036, 0.29277023673057556, 0.29161253571510315, 0.29045480489730835, 0.28929707407951355, 0.2994631230831146, 0.2988816797733307, 0.2841925024986267, 0.29426854848861694, 0.29924583435058594, 0.28455671668052673, 0.29256895184516907, 0.2988816797733307, 0.27957937121391296, 0.2809785306453705, 0.29982858896255493, 0.30222874879837036, 0.30130383372306824, 0.3003789186477661, 0.2994539737701416, 0.2985290288925171, 0.29760411381721497, 0.29667916893959045, 0.29575422406196594, 0.29482927918434143, 0.2939043343067169, 0.2896554172039032, 0.27751561999320984, 0.28285714983940125, 0.29536113142967224, 0.30377960205078125, 0.3031807243824005, 0.30258187651634216, 0.3019829988479614, 0.3013841211795807, 0.30078524351119995, 0.3001863956451416, 0.29958751797676086, 0.2989886403083801, 0.2932973802089691, 0.2847995162010193, 0.2788510024547577, 0.2771514654159546, 0.3020380139350891, 0.29900306463241577, 0.2835855185985565, 0.27909380197525024, 0.296210914850235, 0.280307799577713, 0.26440462470054626, 0.28443530201911926, 0.29001960158348083, 0.272781103849411, 0.2922047972679138, 0.27800121903419495, 0.26440462470054626, 0.26051992177963257, 0.27156710624694824, 0.28079336881637573, 0.2782440483570099, 0.2707173526287079, 0.2851637005805969, 0.2754518687725067, 0.26938197016716003, 0.27687475085258484, 0.28749537467956543, 0.2605467736721039, 0.8813488483428955, 0.811423659324646, 0.7762182354927063, 0.7260809540748596, 0.7037436962127686, 0.6888117790222168, 0.6748510003089905, 0.6440159678459167, 0.63721764087677, 0.6386743783950806, 0.6152446269989014, 0.595820963382721, 0.5914506912231445, 0.5966707468032837, 0.5742121338844299, 0.5390067100524902, 0.5506609082221985, 0.5428915023803711, 0.5317228436470032, 0.5368215441703796, 0.533058226108551, 0.5154555439949036, 0.5086572170257568, 0.5188546776771545, 0.5079288482666016, 0.49991661310195923, 0.509871244430542, 0.4946964979171753, 0.48304226994514465, 0.4953824579715729, 0.4951302409172058], \"xaxis\": \"x\", \"y\": [0.012824922800064087, 0.003056079149246216, 0.005341947078704834, 0.015388965606689453, 0.00528988242149353, 0.003519594669342041, 0.0019482970237731934, 0.012406915426254272, -0.0018875598907470703, -0.004852265119552612, -0.006521373987197876, 0.015373915433883667, 0.0013447403907775879, 0.010534524917602539, -0.00932273268699646, -0.00944933295249939, 0.014760047197341919, 0.006649613380432129, 0.012354999780654907, -0.001083284616470337, 0.008025318384170532, 0.00446927547454834, -0.000705718994140625, -0.0016262233257293701, 0.007409483194351196, 0.006592780351638794, 0.0035958290100097656, 0.015247523784637451, 0.0008953511714935303, -0.0020645856857299805, 0.016937702894210815, -0.004261910915374756, 0.009913861751556396, 0.008815914392471313, 0.0001634657382965088, -0.0022456347942352295, 0.01422739028930664, -0.006405770778656006, -0.005929619073867798, 0.004517048597335815, 0.009560346603393555, 0.004052698612213135, 0.008873581886291504, 0.01511073112487793, 0.0060002803802490234, -0.0072161853313446045, 0.007017791271209717, 0.0023055076599121094, 0.008359640836715698, -0.002471834421157837, 0.0126609206199646, 0.000910639762878418, 0.009030789136886597, 0.0003218650817871094, 0.005948424339294434, 0.0271722674369812, 0.01323634386062622, 0.016744554042816162, 6.902217864990234e-05, -0.0059888362884521484, -0.007434040307998657, -0.0076559484004974365, -0.011277347803115845, -0.006139934062957764, 0.012052416801452637, 0.014642983675003052, 0.019877701997756958, 0.003001302480697632, 0.0036457180976867676, -0.00045558810234069824, 0.0032205283641815186, 0.004978179931640625, 0.00469738245010376, 0.0056008100509643555, 0.005600452423095703, 0.005600035190582275, 0.005599707365036011, 0.005599379539489746, 0.005598992109298706, 0.005598634481430054, 0.005598306655883789, 0.005597889423370361, 0.005597561597824097, 0.005597203969955444, 0.005596846342086792, 0.005596458911895752, 0.005596131086349487, 0.00559571385383606, 0.005595386028289795, 0.00559505820274353, 0.00559467077255249, 0.005594342947006226, 0.00559389591217041, 0.005593627691268921, 0.0055931806564331055, 0.004426747560501099, 0.003881901502609253, 0.0030428171157836914, 0.0027608871459960938, 0.0027343332767486572, 0.0027135908603668213, 0.002799898386001587, 0.002894103527069092, 0.0029978156089782715, 0.0031047165393829346, 0.0032113194465637207, 0.003323376178741455, 0.0034440159797668457, 0.0035696029663085938, 0.0037081241607666016, 0.0038596391677856445, 0.004018872976303101, 0.004182726144790649, 0.004348546266555786, 0.004493683576583862, 0.00458940863609314, 0.004687964916229248, 0.004780709743499756, 0.004816591739654541, 0.004854142665863037, 0.004892230033874512, 0.0162486732006073, 0.011408746242523193, 0.00027438998222351074, 0.01277691125869751, 0.00788608193397522, 0.00016123056411743164, 0.013565152883529663, 0.008504688739776611, -0.004856139421463013, 0.005390793085098267, 0.014200031757354736, 0.01699209213256836, 0.021977752447128296, 0.01184701919555664, 0.007772892713546753, 0.007211238145828247, 0.005374103784561157, 0.005154728889465332, 0.005231916904449463, 0.005309998989105225, 0.0053863525390625, 0.0021342039108276367, -0.0075241923332214355, 0.003110438585281372, 0.012717604637145996, 0.02337464690208435, 0.021111398935317993, 0.01588842272758484, 0.009950131177902222, 0.007735520601272583, 0.0065295398235321045, 0.005688309669494629, 0.0057738423347473145, 0.005859792232513428, 0.0008509457111358643, -0.004398375749588013, -0.007261186838150024, -0.005296111106872559, 0.024232715368270874, 0.013549000024795532, 0.007830440998077393, 7.450580596923828e-07, 0.012514770030975342, -0.004791378974914551, -0.006428420543670654, 0.010693132877349854, 0.008877784013748169, 0.004382520914077759, 0.02562689781188965, -0.007350027561187744, -0.0015121996402740479, -0.009217828512191772, 0.0027998685836791992, 0.016289204359054565, 0.013865143060684204, 0.007372736930847168, 0.019916445016860962, 0.0014290809631347656, 0.006111890077590942, 0.008582085371017456, 0.016123324632644653, -0.008980214595794678, 0.623336523771286, -0.10166728496551514, -0.04743945598602295, -0.12187814712524414, -0.023048698902130127, -0.010420083999633789, -0.0004163980484008789, -0.006322622299194336, 0.009259402751922607, 0.02008640766143799, 0.0090254545211792, 0.00816422700881958, 0.010087192058563232, 0.024669885635375977, 0.009681940078735352, -0.010470211505889893, 0.01397031545639038, 0.002757132053375244, 0.015333414077758789, 0.023335516452789307, 0.016519665718078613, 0.009851396083831787, 0.009373724460601807, 0.020068377256393433, 0.011571794748306274, 0.01582467555999756, 0.02358222007751465, 0.0059316158294677734, 0.009586989879608154, 0.020021677017211914, 0.016446977853775024], \"yaxis\": \"y\"}],\n",
              "                        {\"legend\": {\"tracegroupgap\": 0}, \"margin\": {\"t\": 60}, \"shapes\": [{\"line\": {\"color\": \"Red\"}, \"opacity\": 0.5, \"type\": \"line\", \"x0\": 0, \"x1\": 1, \"y0\": 0, \"y1\": 0}], \"template\": {\"data\": {\"bar\": [{\"error_x\": {\"color\": \"#2a3f5f\"}, \"error_y\": {\"color\": \"#2a3f5f\"}, \"marker\": {\"line\": {\"color\": \"#E5ECF6\", \"width\": 0.5}}, \"type\": \"bar\"}], \"barpolar\": [{\"marker\": {\"line\": {\"color\": \"#E5ECF6\", \"width\": 0.5}}, \"type\": \"barpolar\"}], \"carpet\": [{\"aaxis\": {\"endlinecolor\": \"#2a3f5f\", \"gridcolor\": \"white\", \"linecolor\": \"white\", \"minorgridcolor\": \"white\", \"startlinecolor\": \"#2a3f5f\"}, \"baxis\": {\"endlinecolor\": \"#2a3f5f\", \"gridcolor\": \"white\", \"linecolor\": \"white\", \"minorgridcolor\": \"white\", \"startlinecolor\": \"#2a3f5f\"}, \"type\": \"carpet\"}], \"choropleth\": [{\"colorbar\": {\"outlinewidth\": 0, \"ticks\": \"\"}, \"type\": \"choropleth\"}], \"contour\": [{\"colorbar\": {\"outlinewidth\": 0, \"ticks\": \"\"}, \"colorscale\": [[0.0, \"#0d0887\"], [0.1111111111111111, \"#46039f\"], [0.2222222222222222, \"#7201a8\"], [0.3333333333333333, \"#9c179e\"], [0.4444444444444444, \"#bd3786\"], [0.5555555555555556, \"#d8576b\"], [0.6666666666666666, \"#ed7953\"], [0.7777777777777778, \"#fb9f3a\"], [0.8888888888888888, \"#fdca26\"], [1.0, \"#f0f921\"]], \"type\": \"contour\"}], \"contourcarpet\": [{\"colorbar\": {\"outlinewidth\": 0, \"ticks\": \"\"}, \"type\": \"contourcarpet\"}], \"heatmap\": [{\"colorbar\": {\"outlinewidth\": 0, \"ticks\": \"\"}, \"colorscale\": [[0.0, \"#0d0887\"], [0.1111111111111111, \"#46039f\"], [0.2222222222222222, \"#7201a8\"], [0.3333333333333333, \"#9c179e\"], [0.4444444444444444, \"#bd3786\"], [0.5555555555555556, \"#d8576b\"], [0.6666666666666666, \"#ed7953\"], [0.7777777777777778, \"#fb9f3a\"], [0.8888888888888888, \"#fdca26\"], [1.0, \"#f0f921\"]], \"type\": \"heatmap\"}], \"heatmapgl\": [{\"colorbar\": {\"outlinewidth\": 0, \"ticks\": \"\"}, \"colorscale\": [[0.0, \"#0d0887\"], [0.1111111111111111, \"#46039f\"], [0.2222222222222222, \"#7201a8\"], [0.3333333333333333, \"#9c179e\"], [0.4444444444444444, \"#bd3786\"], [0.5555555555555556, \"#d8576b\"], [0.6666666666666666, \"#ed7953\"], [0.7777777777777778, \"#fb9f3a\"], [0.8888888888888888, \"#fdca26\"], [1.0, \"#f0f921\"]], \"type\": \"heatmapgl\"}], \"histogram\": [{\"marker\": {\"colorbar\": {\"outlinewidth\": 0, \"ticks\": \"\"}}, \"type\": \"histogram\"}], \"histogram2d\": [{\"colorbar\": {\"outlinewidth\": 0, \"ticks\": \"\"}, \"colorscale\": [[0.0, \"#0d0887\"], [0.1111111111111111, \"#46039f\"], [0.2222222222222222, \"#7201a8\"], [0.3333333333333333, \"#9c179e\"], [0.4444444444444444, \"#bd3786\"], [0.5555555555555556, \"#d8576b\"], [0.6666666666666666, \"#ed7953\"], [0.7777777777777778, \"#fb9f3a\"], [0.8888888888888888, \"#fdca26\"], [1.0, \"#f0f921\"]], \"type\": \"histogram2d\"}], \"histogram2dcontour\": [{\"colorbar\": {\"outlinewidth\": 0, \"ticks\": \"\"}, \"colorscale\": [[0.0, \"#0d0887\"], [0.1111111111111111, \"#46039f\"], [0.2222222222222222, \"#7201a8\"], [0.3333333333333333, \"#9c179e\"], [0.4444444444444444, \"#bd3786\"], [0.5555555555555556, \"#d8576b\"], [0.6666666666666666, \"#ed7953\"], [0.7777777777777778, \"#fb9f3a\"], [0.8888888888888888, \"#fdca26\"], [1.0, \"#f0f921\"]], \"type\": \"histogram2dcontour\"}], \"mesh3d\": [{\"colorbar\": {\"outlinewidth\": 0, \"ticks\": \"\"}, \"type\": \"mesh3d\"}], \"parcoords\": [{\"line\": {\"colorbar\": {\"outlinewidth\": 0, \"ticks\": \"\"}}, \"type\": \"parcoords\"}], \"pie\": [{\"automargin\": true, \"type\": \"pie\"}], \"scatter\": [{\"marker\": {\"colorbar\": {\"outlinewidth\": 0, \"ticks\": \"\"}}, \"type\": \"scatter\"}], \"scatter3d\": [{\"line\": {\"colorbar\": {\"outlinewidth\": 0, \"ticks\": \"\"}}, \"marker\": {\"colorbar\": {\"outlinewidth\": 0, \"ticks\": \"\"}}, \"type\": \"scatter3d\"}], \"scattercarpet\": [{\"marker\": {\"colorbar\": {\"outlinewidth\": 0, \"ticks\": \"\"}}, \"type\": \"scattercarpet\"}], \"scattergeo\": [{\"marker\": {\"colorbar\": {\"outlinewidth\": 0, \"ticks\": \"\"}}, \"type\": \"scattergeo\"}], \"scattergl\": [{\"marker\": {\"colorbar\": {\"outlinewidth\": 0, \"ticks\": \"\"}}, \"type\": \"scattergl\"}], \"scattermapbox\": [{\"marker\": {\"colorbar\": {\"outlinewidth\": 0, \"ticks\": \"\"}}, \"type\": \"scattermapbox\"}], \"scatterpolar\": [{\"marker\": {\"colorbar\": {\"outlinewidth\": 0, \"ticks\": \"\"}}, \"type\": \"scatterpolar\"}], \"scatterpolargl\": [{\"marker\": {\"colorbar\": {\"outlinewidth\": 0, \"ticks\": \"\"}}, \"type\": \"scatterpolargl\"}], \"scatterternary\": [{\"marker\": {\"colorbar\": {\"outlinewidth\": 0, \"ticks\": \"\"}}, \"type\": \"scatterternary\"}], \"surface\": [{\"colorbar\": {\"outlinewidth\": 0, \"ticks\": \"\"}, \"colorscale\": [[0.0, \"#0d0887\"], [0.1111111111111111, \"#46039f\"], [0.2222222222222222, \"#7201a8\"], [0.3333333333333333, \"#9c179e\"], [0.4444444444444444, \"#bd3786\"], [0.5555555555555556, \"#d8576b\"], [0.6666666666666666, \"#ed7953\"], [0.7777777777777778, \"#fb9f3a\"], [0.8888888888888888, \"#fdca26\"], [1.0, \"#f0f921\"]], \"type\": \"surface\"}], \"table\": [{\"cells\": {\"fill\": {\"color\": \"#EBF0F8\"}, \"line\": {\"color\": \"white\"}}, \"header\": {\"fill\": {\"color\": \"#C8D4E3\"}, \"line\": {\"color\": \"white\"}}, \"type\": \"table\"}]}, \"layout\": {\"annotationdefaults\": {\"arrowcolor\": \"#2a3f5f\", \"arrowhead\": 0, \"arrowwidth\": 1}, \"coloraxis\": {\"colorbar\": {\"outlinewidth\": 0, \"ticks\": \"\"}}, \"colorscale\": {\"diverging\": [[0, \"#8e0152\"], [0.1, \"#c51b7d\"], [0.2, \"#de77ae\"], [0.3, \"#f1b6da\"], [0.4, \"#fde0ef\"], [0.5, \"#f7f7f7\"], [0.6, \"#e6f5d0\"], [0.7, \"#b8e186\"], [0.8, \"#7fbc41\"], [0.9, \"#4d9221\"], [1, \"#276419\"]], \"sequential\": [[0.0, \"#0d0887\"], [0.1111111111111111, \"#46039f\"], [0.2222222222222222, \"#7201a8\"], [0.3333333333333333, \"#9c179e\"], [0.4444444444444444, \"#bd3786\"], [0.5555555555555556, \"#d8576b\"], [0.6666666666666666, \"#ed7953\"], [0.7777777777777778, \"#fb9f3a\"], [0.8888888888888888, \"#fdca26\"], [1.0, \"#f0f921\"]], \"sequentialminus\": [[0.0, \"#0d0887\"], [0.1111111111111111, \"#46039f\"], [0.2222222222222222, \"#7201a8\"], [0.3333333333333333, \"#9c179e\"], [0.4444444444444444, \"#bd3786\"], [0.5555555555555556, \"#d8576b\"], [0.6666666666666666, \"#ed7953\"], [0.7777777777777778, \"#fb9f3a\"], [0.8888888888888888, \"#fdca26\"], [1.0, \"#f0f921\"]]}, \"colorway\": [\"#636efa\", \"#EF553B\", \"#00cc96\", \"#ab63fa\", \"#FFA15A\", \"#19d3f3\", \"#FF6692\", \"#B6E880\", \"#FF97FF\", \"#FECB52\"], \"font\": {\"color\": \"#2a3f5f\"}, \"geo\": {\"bgcolor\": \"white\", \"lakecolor\": \"white\", \"landcolor\": \"#E5ECF6\", \"showlakes\": true, \"showland\": true, \"subunitcolor\": \"white\"}, \"hoverlabel\": {\"align\": \"left\"}, \"hovermode\": \"closest\", \"mapbox\": {\"style\": \"light\"}, \"paper_bgcolor\": \"white\", \"plot_bgcolor\": \"#E5ECF6\", \"polar\": {\"angularaxis\": {\"gridcolor\": \"white\", \"linecolor\": \"white\", \"ticks\": \"\"}, \"bgcolor\": \"#E5ECF6\", \"radialaxis\": {\"gridcolor\": \"white\", \"linecolor\": \"white\", \"ticks\": \"\"}}, \"scene\": {\"xaxis\": {\"backgroundcolor\": \"#E5ECF6\", \"gridcolor\": \"white\", \"gridwidth\": 2, \"linecolor\": \"white\", \"showbackground\": true, \"ticks\": \"\", \"zerolinecolor\": \"white\"}, \"yaxis\": {\"backgroundcolor\": \"#E5ECF6\", \"gridcolor\": \"white\", \"gridwidth\": 2, \"linecolor\": \"white\", \"showbackground\": true, \"ticks\": \"\", \"zerolinecolor\": \"white\"}, \"zaxis\": {\"backgroundcolor\": \"#E5ECF6\", \"gridcolor\": \"white\", \"gridwidth\": 2, \"linecolor\": \"white\", \"showbackground\": true, \"ticks\": \"\", \"zerolinecolor\": \"white\"}}, \"shapedefaults\": {\"line\": {\"color\": \"#2a3f5f\"}}, \"ternary\": {\"aaxis\": {\"gridcolor\": \"white\", \"linecolor\": \"white\", \"ticks\": \"\"}, \"baxis\": {\"gridcolor\": \"white\", \"linecolor\": \"white\", \"ticks\": \"\"}, \"bgcolor\": \"#E5ECF6\", \"caxis\": {\"gridcolor\": \"white\", \"linecolor\": \"white\", \"ticks\": \"\"}}, \"title\": {\"x\": 0.05}, \"xaxis\": {\"automargin\": true, \"gridcolor\": \"white\", \"linecolor\": \"white\", \"ticks\": \"\", \"title\": {\"standoff\": 15}, \"zerolinecolor\": \"white\", \"zerolinewidth\": 2}, \"yaxis\": {\"automargin\": true, \"gridcolor\": \"white\", \"linecolor\": \"white\", \"ticks\": \"\", \"title\": {\"standoff\": 15}, \"zerolinecolor\": \"white\", \"zerolinewidth\": 2}}}, \"xaxis\": {\"anchor\": \"y\", \"domain\": [0.0, 1.0], \"title\": {\"text\": \"actual\"}}, \"yaxis\": {\"anchor\": \"x\", \"domain\": [0.0, 1.0], \"title\": {\"text\": \"residual\"}}},\n",
              "                        {\"responsive\": true}\n",
              "                    ).then(function(){\n",
              "                            \n",
              "var gd = document.getElementById('9b67699a-b2e0-468b-9876-a0a46f442c8d');\n",
              "var x = new MutationObserver(function (mutations, observer) {{\n",
              "        var display = window.getComputedStyle(gd).display;\n",
              "        if (!display || display === 'none') {{\n",
              "            console.log([gd, 'removed!']);\n",
              "            Plotly.purge(gd);\n",
              "            observer.disconnect();\n",
              "        }}\n",
              "}});\n",
              "\n",
              "// Listen for the removal of the full notebook cells\n",
              "var notebookContainer = gd.closest('#notebook-container');\n",
              "if (notebookContainer) {{\n",
              "    x.observe(notebookContainer, {childList: true});\n",
              "}}\n",
              "\n",
              "// Listen for the clearing of the current output cell\n",
              "var outputEl = gd.closest('.output');\n",
              "if (outputEl) {{\n",
              "    x.observe(outputEl, {childList: true});\n",
              "}}\n",
              "\n",
              "                        })\n",
              "                };\n",
              "                \n",
              "            </script>\n",
              "        </div>\n",
              "</body>\n",
              "</html>"
            ]
          },
          "metadata": {
            "tags": []
          }
        }
      ]
    },
    {
      "cell_type": "code",
      "metadata": {
        "id": "DSj2TcX0ivr_"
      },
      "source": [
        ""
      ],
      "execution_count": null,
      "outputs": []
    }
  ]
}